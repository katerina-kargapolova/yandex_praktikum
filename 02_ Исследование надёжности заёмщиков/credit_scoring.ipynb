{
 "cells": [
  {
   "cell_type": "markdown",
   "id": "cdde8669",
   "metadata": {},
   "source": [
    "# Исследование надежности заемщиков."
   ]
  },
  {
   "cell_type": "markdown",
   "id": "da1e5f8f",
   "metadata": {},
   "source": [
    "**Описание проекта**\n",
    "\n",
    "При принятии решения о выдаче кредита одной из наиболее важных характеристик для банка является способность заёмщика вернуть кредит. Необходимо исследовать влияет ли семейное положение и количество детей клиента на факт погашения кредита в срок.\n",
    "\n",
    "**Проверим следующие гипотезы:**\n",
    " - Если клиент состоит в браке, то вероятность возврата кредита в срок увеличивается.\n",
    " - Если в семье есть ребенок, вероятность возврата кредита в срок увеличивается, при этом количество детей не влияет на этот показатель.\n",
    " - Чем выше уровень дохода, тем меньше срок возврата кредита.\n",
    "\n",
    "**Ход исследования:**\n",
    " - Обзор данных\n",
    " - Предобработка данных\n",
    " - Проверка гипотез\n",
    " "
   ]
  },
  {
   "cell_type": "markdown",
   "id": "96cee6ad",
   "metadata": {},
   "source": [
    "# Шаг 1. Обзор данных"
   ]
  },
  {
   "cell_type": "markdown",
   "id": "db2819c2",
   "metadata": {},
   "source": [
    "Составим первое представление о данных платёжеспособности клиентов:"
   ]
  },
  {
   "cell_type": "code",
   "execution_count": 1,
   "id": "3b75df99",
   "metadata": {},
   "outputs": [
    {
     "data": {
      "text/html": [
       "<div>\n",
       "<style scoped>\n",
       "    .dataframe tbody tr th:only-of-type {\n",
       "        vertical-align: middle;\n",
       "    }\n",
       "\n",
       "    .dataframe tbody tr th {\n",
       "        vertical-align: top;\n",
       "    }\n",
       "\n",
       "    .dataframe thead th {\n",
       "        text-align: right;\n",
       "    }\n",
       "</style>\n",
       "<table border=\"1\" class=\"dataframe\">\n",
       "  <thead>\n",
       "    <tr style=\"text-align: right;\">\n",
       "      <th></th>\n",
       "      <th>children</th>\n",
       "      <th>days_employed</th>\n",
       "      <th>dob_years</th>\n",
       "      <th>education</th>\n",
       "      <th>education_id</th>\n",
       "      <th>family_status</th>\n",
       "      <th>family_status_id</th>\n",
       "      <th>gender</th>\n",
       "      <th>income_type</th>\n",
       "      <th>debt</th>\n",
       "      <th>total_income</th>\n",
       "      <th>purpose</th>\n",
       "    </tr>\n",
       "  </thead>\n",
       "  <tbody>\n",
       "    <tr>\n",
       "      <th>0</th>\n",
       "      <td>1</td>\n",
       "      <td>-8437.673028</td>\n",
       "      <td>42</td>\n",
       "      <td>высшее</td>\n",
       "      <td>0</td>\n",
       "      <td>женат / замужем</td>\n",
       "      <td>0</td>\n",
       "      <td>F</td>\n",
       "      <td>сотрудник</td>\n",
       "      <td>0</td>\n",
       "      <td>253875.639453</td>\n",
       "      <td>покупка жилья</td>\n",
       "    </tr>\n",
       "    <tr>\n",
       "      <th>1</th>\n",
       "      <td>1</td>\n",
       "      <td>-4024.803754</td>\n",
       "      <td>36</td>\n",
       "      <td>среднее</td>\n",
       "      <td>1</td>\n",
       "      <td>женат / замужем</td>\n",
       "      <td>0</td>\n",
       "      <td>F</td>\n",
       "      <td>сотрудник</td>\n",
       "      <td>0</td>\n",
       "      <td>112080.014102</td>\n",
       "      <td>приобретение автомобиля</td>\n",
       "    </tr>\n",
       "    <tr>\n",
       "      <th>2</th>\n",
       "      <td>0</td>\n",
       "      <td>-5623.422610</td>\n",
       "      <td>33</td>\n",
       "      <td>Среднее</td>\n",
       "      <td>1</td>\n",
       "      <td>женат / замужем</td>\n",
       "      <td>0</td>\n",
       "      <td>M</td>\n",
       "      <td>сотрудник</td>\n",
       "      <td>0</td>\n",
       "      <td>145885.952297</td>\n",
       "      <td>покупка жилья</td>\n",
       "    </tr>\n",
       "    <tr>\n",
       "      <th>3</th>\n",
       "      <td>3</td>\n",
       "      <td>-4124.747207</td>\n",
       "      <td>32</td>\n",
       "      <td>среднее</td>\n",
       "      <td>1</td>\n",
       "      <td>женат / замужем</td>\n",
       "      <td>0</td>\n",
       "      <td>M</td>\n",
       "      <td>сотрудник</td>\n",
       "      <td>0</td>\n",
       "      <td>267628.550329</td>\n",
       "      <td>дополнительное образование</td>\n",
       "    </tr>\n",
       "    <tr>\n",
       "      <th>4</th>\n",
       "      <td>0</td>\n",
       "      <td>340266.072047</td>\n",
       "      <td>53</td>\n",
       "      <td>среднее</td>\n",
       "      <td>1</td>\n",
       "      <td>гражданский брак</td>\n",
       "      <td>1</td>\n",
       "      <td>F</td>\n",
       "      <td>пенсионер</td>\n",
       "      <td>0</td>\n",
       "      <td>158616.077870</td>\n",
       "      <td>сыграть свадьбу</td>\n",
       "    </tr>\n",
       "    <tr>\n",
       "      <th>5</th>\n",
       "      <td>0</td>\n",
       "      <td>-926.185831</td>\n",
       "      <td>27</td>\n",
       "      <td>высшее</td>\n",
       "      <td>0</td>\n",
       "      <td>гражданский брак</td>\n",
       "      <td>1</td>\n",
       "      <td>M</td>\n",
       "      <td>компаньон</td>\n",
       "      <td>0</td>\n",
       "      <td>255763.565419</td>\n",
       "      <td>покупка жилья</td>\n",
       "    </tr>\n",
       "    <tr>\n",
       "      <th>6</th>\n",
       "      <td>0</td>\n",
       "      <td>-2879.202052</td>\n",
       "      <td>43</td>\n",
       "      <td>высшее</td>\n",
       "      <td>0</td>\n",
       "      <td>женат / замужем</td>\n",
       "      <td>0</td>\n",
       "      <td>F</td>\n",
       "      <td>компаньон</td>\n",
       "      <td>0</td>\n",
       "      <td>240525.971920</td>\n",
       "      <td>операции с жильем</td>\n",
       "    </tr>\n",
       "    <tr>\n",
       "      <th>7</th>\n",
       "      <td>0</td>\n",
       "      <td>-152.779569</td>\n",
       "      <td>50</td>\n",
       "      <td>СРЕДНЕЕ</td>\n",
       "      <td>1</td>\n",
       "      <td>женат / замужем</td>\n",
       "      <td>0</td>\n",
       "      <td>M</td>\n",
       "      <td>сотрудник</td>\n",
       "      <td>0</td>\n",
       "      <td>135823.934197</td>\n",
       "      <td>образование</td>\n",
       "    </tr>\n",
       "    <tr>\n",
       "      <th>8</th>\n",
       "      <td>2</td>\n",
       "      <td>-6929.865299</td>\n",
       "      <td>35</td>\n",
       "      <td>ВЫСШЕЕ</td>\n",
       "      <td>0</td>\n",
       "      <td>гражданский брак</td>\n",
       "      <td>1</td>\n",
       "      <td>F</td>\n",
       "      <td>сотрудник</td>\n",
       "      <td>0</td>\n",
       "      <td>95856.832424</td>\n",
       "      <td>на проведение свадьбы</td>\n",
       "    </tr>\n",
       "    <tr>\n",
       "      <th>9</th>\n",
       "      <td>0</td>\n",
       "      <td>-2188.756445</td>\n",
       "      <td>41</td>\n",
       "      <td>среднее</td>\n",
       "      <td>1</td>\n",
       "      <td>женат / замужем</td>\n",
       "      <td>0</td>\n",
       "      <td>M</td>\n",
       "      <td>сотрудник</td>\n",
       "      <td>0</td>\n",
       "      <td>144425.938277</td>\n",
       "      <td>покупка жилья для семьи</td>\n",
       "    </tr>\n",
       "  </tbody>\n",
       "</table>\n",
       "</div>"
      ],
      "text/plain": [
       "   children  days_employed  dob_years education  education_id  \\\n",
       "0         1   -8437.673028         42    высшее             0   \n",
       "1         1   -4024.803754         36   среднее             1   \n",
       "2         0   -5623.422610         33   Среднее             1   \n",
       "3         3   -4124.747207         32   среднее             1   \n",
       "4         0  340266.072047         53   среднее             1   \n",
       "5         0    -926.185831         27    высшее             0   \n",
       "6         0   -2879.202052         43    высшее             0   \n",
       "7         0    -152.779569         50   СРЕДНЕЕ             1   \n",
       "8         2   -6929.865299         35    ВЫСШЕЕ             0   \n",
       "9         0   -2188.756445         41   среднее             1   \n",
       "\n",
       "      family_status  family_status_id gender income_type  debt   total_income  \\\n",
       "0   женат / замужем                 0      F   сотрудник     0  253875.639453   \n",
       "1   женат / замужем                 0      F   сотрудник     0  112080.014102   \n",
       "2   женат / замужем                 0      M   сотрудник     0  145885.952297   \n",
       "3   женат / замужем                 0      M   сотрудник     0  267628.550329   \n",
       "4  гражданский брак                 1      F   пенсионер     0  158616.077870   \n",
       "5  гражданский брак                 1      M   компаньон     0  255763.565419   \n",
       "6   женат / замужем                 0      F   компаньон     0  240525.971920   \n",
       "7   женат / замужем                 0      M   сотрудник     0  135823.934197   \n",
       "8  гражданский брак                 1      F   сотрудник     0   95856.832424   \n",
       "9   женат / замужем                 0      M   сотрудник     0  144425.938277   \n",
       "\n",
       "                      purpose  \n",
       "0               покупка жилья  \n",
       "1     приобретение автомобиля  \n",
       "2               покупка жилья  \n",
       "3  дополнительное образование  \n",
       "4             сыграть свадьбу  \n",
       "5               покупка жилья  \n",
       "6           операции с жильем  \n",
       "7                 образование  \n",
       "8       на проведение свадьбы  \n",
       "9     покупка жилья для семьи  "
      ]
     },
     "execution_count": 1,
     "metadata": {},
     "output_type": "execute_result"
    }
   ],
   "source": [
    "import pandas as pd\n",
    "df = pd.read_csv('/datasets/data.csv')\n",
    "df.head(10)"
   ]
  },
  {
   "cell_type": "markdown",
   "id": "a5832cef",
   "metadata": {},
   "source": [
    "Получим общую информацию о таблице:"
   ]
  },
  {
   "cell_type": "code",
   "execution_count": 2,
   "id": "e1f7fbb2",
   "metadata": {},
   "outputs": [
    {
     "name": "stdout",
     "output_type": "stream",
     "text": [
      "<class 'pandas.core.frame.DataFrame'>\n",
      "RangeIndex: 21525 entries, 0 to 21524\n",
      "Data columns (total 12 columns):\n",
      " #   Column            Non-Null Count  Dtype  \n",
      "---  ------            --------------  -----  \n",
      " 0   children          21525 non-null  int64  \n",
      " 1   days_employed     19351 non-null  float64\n",
      " 2   dob_years         21525 non-null  int64  \n",
      " 3   education         21525 non-null  object \n",
      " 4   education_id      21525 non-null  int64  \n",
      " 5   family_status     21525 non-null  object \n",
      " 6   family_status_id  21525 non-null  int64  \n",
      " 7   gender            21525 non-null  object \n",
      " 8   income_type       21525 non-null  object \n",
      " 9   debt              21525 non-null  int64  \n",
      " 10  total_income      19351 non-null  float64\n",
      " 11  purpose           21525 non-null  object \n",
      "dtypes: float64(2), int64(5), object(5)\n",
      "memory usage: 2.0+ MB\n"
     ]
    }
   ],
   "source": [
    "df.info()"
   ]
  },
  {
   "cell_type": "markdown",
   "id": "d32f8bf7",
   "metadata": {},
   "source": [
    "В таблице 11 столбцов и 3 типа данных: float, int, object\n",
    "\n",
    "Согласно документации:\n",
    " - `children` — количество детей в семье\n",
    " - `days_employed` — общий трудовой стаж в днях\n",
    " - `dob_years` — возраст клиента в годах\n",
    " - `education` — уровень образования клиента\n",
    " - `education_id` — идентификатор уровня образования\n",
    " - `family_status` — семейное положение\n",
    " - `family_status_id` — идентификатор семейного положения\n",
    " - `gender` — пол клиента\n",
    " - `income_type` — тип занятости\n",
    " - `debt` — имел ли задолженность по возврату кредитов\n",
    " - `total_income` — ежемесячный доход\n",
    " - `purpose` — цель получения кредита\n",
    " \n",
    "Стиль названия колонок корректный. В кололонках days_employed и total_income есть пропуски данных.\n",
    "В столбце days_employed есть положительные и отрицательные значения, необходимо исправить данные на положительное значения. Данные в колонке education имеют разный регистр - необходимо привести данные к единому стилю. \n",
    " "
   ]
  },
  {
   "cell_type": "markdown",
   "id": "fd40f342",
   "metadata": {},
   "source": [
    "**Выводы**\n",
    "\n",
    "В таблице представлена информация о клиентах банка, на первый взгляд данной информации будет достаточно для проверки гипотез, но сначала необходимо устранить проблемы в данных. "
   ]
  },
  {
   "cell_type": "markdown",
   "id": "e255e219",
   "metadata": {},
   "source": [
    "# Шаг 2.1 Заполнение пропусков"
   ]
  },
  {
   "cell_type": "markdown",
   "id": "42ed6408",
   "metadata": {},
   "source": [
    "В столбцах `days_employed` и `total_income` пропущены количественные данные. Из возможных причин пропусков можно выделить:\n",
    " - человеческий фактор\n",
    " - технические неполадки\n",
    " - некорректное объединение\n",
    "\n",
    "В обоих столбцах незаполненными остались 2174 строки, что составляет 10,09% - это достаточно значительно, поэтому просто удалить данные сроки нельзя, так как это может привести к некорректным выводам. В данном случае лучший вариант - заполнить пропуски характерными значениями, для этого подойдёт среднее арифметическое или медиана.\n",
    "\n",
    "Для начала заполним пропуски в столбце `total_income`, так как в нём данные не содержат аномалий. Предполагаем, что ежемесячный доход будет зависеть от типа занятости, поэтому пропуски будем заполнять медианным значением по каждой категории из столбца `income_type`."
   ]
  },
  {
   "cell_type": "markdown",
   "id": "fce8a4d4",
   "metadata": {},
   "source": [
    "Узнаем какие категории есть в столбце `income_type`"
   ]
  },
  {
   "cell_type": "code",
   "execution_count": 3,
   "id": "d99b5935",
   "metadata": {},
   "outputs": [
    {
     "data": {
      "text/plain": [
       "сотрудник          11119\n",
       "компаньон           5085\n",
       "пенсионер           3856\n",
       "госслужащий         1459\n",
       "предприниматель        2\n",
       "безработный            2\n",
       "в декрете              1\n",
       "студент                1\n",
       "Name: income_type, dtype: int64"
      ]
     },
     "execution_count": 3,
     "metadata": {},
     "output_type": "execute_result"
    }
   ],
   "source": [
    "df['income_type'].value_counts()"
   ]
  },
  {
   "cell_type": "markdown",
   "id": "6aa6ab8f",
   "metadata": {},
   "source": [
    "Всего в столбце 8 категорий, количество клиентов в них распределено неравномерно. \n",
    "Посчитаем медианный ежемесячный доход для каждой категории:"
   ]
  },
  {
   "cell_type": "code",
   "execution_count": 4,
   "id": "6bf027a1",
   "metadata": {},
   "outputs": [
    {
     "data": {
      "text/plain": [
       "income_type\n",
       "безработный        131339.751676\n",
       "в декрете           53829.130729\n",
       "госслужащий        150447.935283\n",
       "компаньон          172357.950966\n",
       "пенсионер          118514.486412\n",
       "предприниматель    499163.144947\n",
       "сотрудник          142594.396847\n",
       "студент             98201.625314\n",
       "Name: total_income, dtype: float64"
      ]
     },
     "execution_count": 4,
     "metadata": {},
     "output_type": "execute_result"
    }
   ],
   "source": [
    "df.groupby('income_type')['total_income'].median()"
   ]
  },
  {
   "cell_type": "markdown",
   "id": "d8cf0588",
   "metadata": {},
   "source": [
    "Мы видим, что медианный доход сильно отличается, так есть группы с низким доходом - \"студенты\" и \"в декрете\" и высоким доходом - \"предприниматель\". \n",
    "Узнаем в каких категориях есть пропуски и заполним их медианным доходом по группе."
   ]
  },
  {
   "cell_type": "code",
   "execution_count": 5,
   "id": "51cdd9d8",
   "metadata": {
    "scrolled": true
   },
   "outputs": [
    {
     "data": {
      "text/plain": [
       "income_type\n",
       "безработный           0\n",
       "в декрете             0\n",
       "госслужащий         147\n",
       "компаньон           508\n",
       "пенсионер           413\n",
       "предприниматель       1\n",
       "сотрудник          1105\n",
       "студент               0\n",
       "Name: total_income, dtype: int64"
      ]
     },
     "execution_count": 5,
     "metadata": {},
     "output_type": "execute_result"
    }
   ],
   "source": [
    "df.groupby('income_type')['total_income'].apply(lambda x: x.isna().sum())"
   ]
  },
  {
   "cell_type": "code",
   "execution_count": 6,
   "id": "9125e19f",
   "metadata": {},
   "outputs": [
    {
     "data": {
      "text/plain": [
       "income_type\n",
       "безработный        0\n",
       "в декрете          0\n",
       "госслужащий        0\n",
       "компаньон          0\n",
       "пенсионер          0\n",
       "предприниматель    0\n",
       "сотрудник          0\n",
       "студент            0\n",
       "Name: total_income, dtype: int64"
      ]
     },
     "execution_count": 6,
     "metadata": {},
     "output_type": "execute_result"
    }
   ],
   "source": [
    "# Заполняем пропуски медианным доходом по каждой группе\n",
    "income_type_median = df.groupby(['income_type'])\n",
    "df['total_income'] = income_type_median.total_income.apply(lambda x: x.fillna(x.median()))\n",
    "# Проверяем, что все пустые значения заполнены\n",
    "df.groupby('income_type')['total_income'].apply(lambda x: x.isna().sum())"
   ]
  },
  {
   "cell_type": "code",
   "execution_count": 7,
   "id": "128e63f6",
   "metadata": {},
   "outputs": [
    {
     "data": {
      "text/plain": [
       "income_type\n",
       "безработный        131339.751676\n",
       "в декрете           53829.130729\n",
       "госслужащий        150447.935283\n",
       "компаньон          172357.950966\n",
       "пенсионер          118514.486412\n",
       "предприниматель    499163.144947\n",
       "сотрудник          142594.396847\n",
       "студент             98201.625314\n",
       "Name: total_income, dtype: float64"
      ]
     },
     "execution_count": 7,
     "metadata": {},
     "output_type": "execute_result"
    }
   ],
   "source": [
    "# Проверяем, что все значения заполнены верно - медиана по каждой группе не должна измениться\n",
    "df.groupby('income_type')['total_income'].median()"
   ]
  },
  {
   "cell_type": "markdown",
   "id": "d1024b61",
   "metadata": {},
   "source": [
    "# Шаг 2.2 Проверка данных на аномалии и исправления."
   ]
  },
  {
   "cell_type": "markdown",
   "id": "e85a152e",
   "metadata": {},
   "source": [
    "Получим общую информацию по столбцу `days_employed` с помощью метода describe()"
   ]
  },
  {
   "cell_type": "code",
   "execution_count": 8,
   "id": "94efa5c2",
   "metadata": {},
   "outputs": [
    {
     "data": {
      "text/plain": [
       "count     19351.000000\n",
       "mean      63046.497661\n",
       "std      140827.311974\n",
       "min      -18388.949901\n",
       "25%       -2747.423625\n",
       "50%       -1203.369529\n",
       "75%        -291.095954\n",
       "max      401755.400475\n",
       "Name: days_employed, dtype: float64"
      ]
     },
     "execution_count": 8,
     "metadata": {},
     "output_type": "execute_result"
    }
   ],
   "source": [
    "df['days_employed'].describe()"
   ]
  },
  {
   "cell_type": "markdown",
   "id": "aac09eb9",
   "metadata": {},
   "source": [
    "75% данных имеют отрицательное значение, но согласно документации в этом столбце содержатся данные об общем трудовом стаже в днях, что по своей сути не может быть отрицательным числом. Заменим отрицательные значения на положительные."
   ]
  },
  {
   "cell_type": "code",
   "execution_count": 9,
   "id": "3ba1614b",
   "metadata": {},
   "outputs": [
    {
     "data": {
      "text/plain": [
       "count     19351.000000\n",
       "mean      66914.728907\n",
       "std      139030.880527\n",
       "min          24.141633\n",
       "25%         927.009265\n",
       "50%        2194.220567\n",
       "75%        5537.882441\n",
       "max      401755.400475\n",
       "Name: days_employed, dtype: float64"
      ]
     },
     "execution_count": 9,
     "metadata": {},
     "output_type": "execute_result"
    }
   ],
   "source": [
    "df['days_employed'] = df['days_employed'].abs()\n",
    "df['days_employed'].describe()"
   ]
  },
  {
   "cell_type": "markdown",
   "id": "33723416",
   "metadata": {},
   "source": [
    "Найдем медиану по каждой группе и заполним пропуски "
   ]
  },
  {
   "cell_type": "code",
   "execution_count": 10,
   "id": "51e37c66",
   "metadata": {},
   "outputs": [
    {
     "data": {
      "text/plain": [
       "income_type\n",
       "безработный        366413.652744\n",
       "в декрете            3296.759962\n",
       "госслужащий          2689.368353\n",
       "компаньон            1547.382223\n",
       "пенсионер          365213.306266\n",
       "предприниматель       520.848083\n",
       "сотрудник            1574.202821\n",
       "студент               578.751554\n",
       "Name: days_employed, dtype: float64"
      ]
     },
     "execution_count": 10,
     "metadata": {},
     "output_type": "execute_result"
    }
   ],
   "source": [
    "df.groupby('income_type')['days_employed'].median()"
   ]
  },
  {
   "cell_type": "code",
   "execution_count": 11,
   "id": "cd66eeb0",
   "metadata": {},
   "outputs": [
    {
     "data": {
      "text/plain": [
       "income_type\n",
       "безработный        0\n",
       "в декрете          0\n",
       "госслужащий        0\n",
       "компаньон          0\n",
       "пенсионер          0\n",
       "предприниматель    0\n",
       "сотрудник          0\n",
       "студент            0\n",
       "Name: days_employed, dtype: int64"
      ]
     },
     "execution_count": 11,
     "metadata": {},
     "output_type": "execute_result"
    }
   ],
   "source": [
    "# Заполняем пропуски медианным значением по каждой группе\n",
    "days_employed_median = df.groupby(['income_type'])\n",
    "df['days_employed'] = days_employed_median.days_employed.apply(lambda x: x.fillna(x.median()))\n",
    "# Проверяем, что все пустые значения заполнены\n",
    "df.groupby('income_type')['days_employed'].apply(lambda x: x.isna().sum())"
   ]
  },
  {
   "cell_type": "markdown",
   "id": "d3491d20",
   "metadata": {},
   "source": [
    "Также важно отметить, что в столбце `days_employed` есть аномальные значения: максимальное значение равно 401755 дней (1100 лет), что является невозможным. Так как данные по количеству дней не будут использоваться в исследовании, оставим значения как есть."
   ]
  },
  {
   "cell_type": "markdown",
   "id": "ed484495",
   "metadata": {},
   "source": [
    "Проверим также на аномалии столбец `children`"
   ]
  },
  {
   "cell_type": "code",
   "execution_count": 12,
   "id": "f3d93690",
   "metadata": {},
   "outputs": [
    {
     "data": {
      "text/plain": [
       " 0     14149\n",
       " 1      4818\n",
       " 2      2055\n",
       " 3       330\n",
       " 20       76\n",
       "-1        47\n",
       " 4        41\n",
       " 5         9\n",
       "Name: children, dtype: int64"
      ]
     },
     "execution_count": 12,
     "metadata": {},
     "output_type": "execute_result"
    }
   ],
   "source": [
    "df['children'].value_counts()"
   ]
  },
  {
   "cell_type": "markdown",
   "id": "82f56b95",
   "metadata": {},
   "source": [
    "В столбце с данными по количеству детей встречаются аномальные значения: -1 и 20, но так как таких строк менее 1%, мы может их просто удалить.\n",
    "</div>"
   ]
  },
  {
   "cell_type": "code",
   "execution_count": 13,
   "id": "7516c257",
   "metadata": {},
   "outputs": [
    {
     "data": {
      "text/plain": [
       "0    14149\n",
       "1     4818\n",
       "2     2055\n",
       "3      330\n",
       "4       41\n",
       "5        9\n",
       "Name: children, dtype: int64"
      ]
     },
     "execution_count": 13,
     "metadata": {},
     "output_type": "execute_result"
    }
   ],
   "source": [
    "df = df.loc[(df['children'] != -1) & (df['children'] != 20)] \n",
    "df['children'].value_counts()"
   ]
  },
  {
   "cell_type": "markdown",
   "id": "29bf46d6",
   "metadata": {},
   "source": [
    "Проверим на аномалии также столбцы `dob_years` и `gender`"
   ]
  },
  {
   "cell_type": "code",
   "execution_count": 14,
   "id": "2bc6d8bb",
   "metadata": {
    "scrolled": true
   },
   "outputs": [
    {
     "data": {
      "text/plain": [
       "35    614\n",
       "40    603\n",
       "41    603\n",
       "34    597\n",
       "38    595\n",
       "42    592\n",
       "33    577\n",
       "39    572\n",
       "31    556\n",
       "36    553\n",
       "29    543\n",
       "44    543\n",
       "48    536\n",
       "30    536\n",
       "37    531\n",
       "43    510\n",
       "50    509\n",
       "32    506\n",
       "49    505\n",
       "28    501\n",
       "45    494\n",
       "27    490\n",
       "52    483\n",
       "56    482\n",
       "47    480\n",
       "54    476\n",
       "46    469\n",
       "58    461\n",
       "53    457\n",
       "57    457\n",
       "51    446\n",
       "59    441\n",
       "55    441\n",
       "26    406\n",
       "60    376\n",
       "25    356\n",
       "61    353\n",
       "62    351\n",
       "63    268\n",
       "24    263\n",
       "64    263\n",
       "23    252\n",
       "65    194\n",
       "66    183\n",
       "22    183\n",
       "67    167\n",
       "21    110\n",
       "0     100\n",
       "68     99\n",
       "69     83\n",
       "70     65\n",
       "71     58\n",
       "20     51\n",
       "72     33\n",
       "19     14\n",
       "73      8\n",
       "74      6\n",
       "75      1\n",
       "Name: dob_years, dtype: int64"
      ]
     },
     "execution_count": 14,
     "metadata": {},
     "output_type": "execute_result"
    }
   ],
   "source": [
    "df['dob_years'].value_counts()"
   ]
  },
  {
   "cell_type": "markdown",
   "id": "25600e33",
   "metadata": {},
   "source": [
    "Мы видим, что в датасете есть 100 строк, где возраст клиентов равен 0, что является невозможным, но так как эти данные не будут в дальнейшем использоваться в исследовании - оставим их как есть."
   ]
  },
  {
   "cell_type": "code",
   "execution_count": 15,
   "id": "3aeb536d",
   "metadata": {},
   "outputs": [
    {
     "data": {
      "text/plain": [
       "F      14154\n",
       "M       7247\n",
       "XNA        1\n",
       "Name: gender, dtype: int64"
      ]
     },
     "execution_count": 15,
     "metadata": {},
     "output_type": "execute_result"
    }
   ],
   "source": [
    "df['gender'].value_counts()"
   ]
  },
  {
   "cell_type": "markdown",
   "id": "0a08ab23",
   "metadata": {},
   "source": [
    "Есть одна строка, где не указан пол клиента, но мы не будем использовать эти данные при дальнейшем исследовании, поэтому оставим столбец без изменений."
   ]
  },
  {
   "cell_type": "markdown",
   "id": "01b27e78",
   "metadata": {},
   "source": [
    "# Шаг 2.3. Изменение типов данных."
   ]
  },
  {
   "cell_type": "markdown",
   "id": "1ac0c5cc",
   "metadata": {},
   "source": [
    "Данные в столбце `days_employed` имеют тип float64, но количество дней корректнее представлять в целочисленном виде, изменим тип данных на int."
   ]
  },
  {
   "cell_type": "code",
   "execution_count": 16,
   "id": "d10be82c",
   "metadata": {},
   "outputs": [
    {
     "name": "stdout",
     "output_type": "stream",
     "text": [
      "<class 'pandas.core.frame.DataFrame'>\n",
      "Int64Index: 21402 entries, 0 to 21524\n",
      "Data columns (total 12 columns):\n",
      " #   Column            Non-Null Count  Dtype  \n",
      "---  ------            --------------  -----  \n",
      " 0   children          21402 non-null  int64  \n",
      " 1   days_employed     21402 non-null  int64  \n",
      " 2   dob_years         21402 non-null  int64  \n",
      " 3   education         21402 non-null  object \n",
      " 4   education_id      21402 non-null  int64  \n",
      " 5   family_status     21402 non-null  object \n",
      " 6   family_status_id  21402 non-null  int64  \n",
      " 7   gender            21402 non-null  object \n",
      " 8   income_type       21402 non-null  object \n",
      " 9   debt              21402 non-null  int64  \n",
      " 10  total_income      21402 non-null  float64\n",
      " 11  purpose           21402 non-null  object \n",
      "dtypes: float64(1), int64(6), object(5)\n",
      "memory usage: 2.1+ MB\n"
     ]
    }
   ],
   "source": [
    "import warnings\n",
    "warnings.filterwarnings('ignore')\n",
    "\n",
    "df['days_employed'] = df['days_employed'].astype(int)\n",
    "df.info()"
   ]
  },
  {
   "cell_type": "markdown",
   "id": "769a04a4",
   "metadata": {},
   "source": [
    "# Шаг 2.4. Удаление дубликатов."
   ]
  },
  {
   "cell_type": "code",
   "execution_count": 17,
   "id": "722b442b",
   "metadata": {},
   "outputs": [
    {
     "data": {
      "text/plain": [
       "54"
      ]
     },
     "execution_count": 17,
     "metadata": {},
     "output_type": "execute_result"
    }
   ],
   "source": [
    "# Найдём явные дубликаты\n",
    "df.duplicated().sum()"
   ]
  },
  {
   "cell_type": "code",
   "execution_count": 18,
   "id": "6ba588c4",
   "metadata": {},
   "outputs": [
    {
     "data": {
      "text/plain": [
       "0"
      ]
     },
     "execution_count": 18,
     "metadata": {},
     "output_type": "execute_result"
    }
   ],
   "source": [
    "# Удалим явные дубликаты\n",
    "df = df.drop_duplicates().reset_index(drop=True)\n",
    "df.duplicated().sum()"
   ]
  },
  {
   "cell_type": "code",
   "execution_count": 19,
   "id": "c91a3574",
   "metadata": {},
   "outputs": [
    {
     "data": {
      "text/plain": [
       "array(['ВЫСШЕЕ', 'Высшее', 'НАЧАЛЬНОЕ', 'НЕОКОНЧЕННОЕ ВЫСШЕЕ',\n",
       "       'Начальное', 'Неоконченное высшее', 'СРЕДНЕЕ', 'Среднее',\n",
       "       'УЧЕНАЯ СТЕПЕНЬ', 'Ученая степень', 'высшее', 'начальное',\n",
       "       'неоконченное высшее', 'среднее', 'ученая степень'], dtype=object)"
      ]
     },
     "execution_count": 19,
     "metadata": {},
     "output_type": "execute_result"
    }
   ],
   "source": [
    "# Найдем неявные дубликаты\n",
    "df['education'].sort_values().unique()"
   ]
  },
  {
   "cell_type": "code",
   "execution_count": 20,
   "id": "3a1795a4",
   "metadata": {},
   "outputs": [
    {
     "data": {
      "text/plain": [
       "array(['высшее', 'начальное', 'неоконченное высшее', 'среднее',\n",
       "       'ученая степень'], dtype=object)"
      ]
     },
     "execution_count": 20,
     "metadata": {},
     "output_type": "execute_result"
    }
   ],
   "source": [
    "# Так как все дубликаты отличаются только регистром, приведем данные к единому виду с помощью метода str.lower().\n",
    "df['education'] = df['education'].str.lower()\n",
    "df['education'].sort_values().unique()"
   ]
  },
  {
   "cell_type": "code",
   "execution_count": 21,
   "id": "cfc0283b",
   "metadata": {},
   "outputs": [
    {
     "data": {
      "text/plain": [
       "array(['Не женат / не замужем', 'в разводе', 'вдовец / вдова',\n",
       "       'гражданский брак', 'женат / замужем'], dtype=object)"
      ]
     },
     "execution_count": 21,
     "metadata": {},
     "output_type": "execute_result"
    }
   ],
   "source": [
    "#Проверим другие столбцы датасета\n",
    "df['family_status'].sort_values().unique()"
   ]
  },
  {
   "cell_type": "code",
   "execution_count": 22,
   "id": "869eff56",
   "metadata": {},
   "outputs": [
    {
     "data": {
      "text/plain": [
       "array(['безработный', 'в декрете', 'госслужащий', 'компаньон',\n",
       "       'пенсионер', 'предприниматель', 'сотрудник', 'студент'],\n",
       "      dtype=object)"
      ]
     },
     "execution_count": 22,
     "metadata": {},
     "output_type": "execute_result"
    }
   ],
   "source": [
    "df['income_type'].sort_values().unique()"
   ]
  },
  {
   "cell_type": "code",
   "execution_count": 23,
   "id": "c5c5e21c",
   "metadata": {},
   "outputs": [
    {
     "data": {
      "text/plain": [
       "array(['автомобили', 'автомобиль', 'высшее образование',\n",
       "       'дополнительное образование', 'жилье',\n",
       "       'заняться высшим образованием', 'заняться образованием',\n",
       "       'на покупку автомобиля', 'на покупку подержанного автомобиля',\n",
       "       'на покупку своего автомобиля', 'на проведение свадьбы',\n",
       "       'недвижимость', 'образование', 'операции с жильем',\n",
       "       'операции с коммерческой недвижимостью',\n",
       "       'операции с недвижимостью', 'операции со своей недвижимостью',\n",
       "       'покупка жилой недвижимости', 'покупка жилья',\n",
       "       'покупка жилья для сдачи', 'покупка жилья для семьи',\n",
       "       'покупка коммерческой недвижимости', 'покупка недвижимости',\n",
       "       'покупка своего жилья', 'получение высшего образования',\n",
       "       'получение дополнительного образования', 'получение образования',\n",
       "       'приобретение автомобиля', 'профильное образование',\n",
       "       'ремонт жилью', 'свадьба', 'свой автомобиль',\n",
       "       'сделка с автомобилем', 'сделка с подержанным автомобилем',\n",
       "       'строительство жилой недвижимости', 'строительство недвижимости',\n",
       "       'строительство собственной недвижимости', 'сыграть свадьбу'],\n",
       "      dtype=object)"
      ]
     },
     "execution_count": 23,
     "metadata": {},
     "output_type": "execute_result"
    }
   ],
   "source": [
    "df['purpose'].sort_values().unique()"
   ]
  },
  {
   "cell_type": "markdown",
   "id": "24847e8d",
   "metadata": {},
   "source": [
    "По сути все цели получения кредита можно разделить на 4 большие группы (операции с автомобилем, операции с недвижимостью, проведение свадьбы, получение образования), но в данном случае мы не будем рассматривать цели как дубликаты."
   ]
  },
  {
   "cell_type": "code",
   "execution_count": 24,
   "id": "f320bf14",
   "metadata": {},
   "outputs": [
    {
     "data": {
      "text/plain": [
       "17"
      ]
     },
     "execution_count": 24,
     "metadata": {},
     "output_type": "execute_result"
    }
   ],
   "source": [
    "# После обработки неявных дубликатов ещё раз проверим явные дубликаты \n",
    "df.duplicated().sum()"
   ]
  },
  {
   "cell_type": "code",
   "execution_count": 25,
   "id": "05b4cffb",
   "metadata": {},
   "outputs": [
    {
     "data": {
      "text/plain": [
       "0"
      ]
     },
     "execution_count": 25,
     "metadata": {},
     "output_type": "execute_result"
    }
   ],
   "source": [
    "# Удалим явные дубликаты\n",
    "df = df.drop_duplicates().reset_index(drop=True)\n",
    "df.duplicated().sum()"
   ]
  },
  {
   "cell_type": "markdown",
   "id": "a8fa1103",
   "metadata": {},
   "source": [
    "**Вывод:**\n",
    "Дубликаты могут возникнуть в датасете по разным причинам, основными из них являются:\n",
    " - человеческий фактор\n",
    " - некорректное объединение данных из разных источников\n",
    " - некорректная предобработка данных\n",
    " - выгрузка одинаковых данных\n",
    " \n",
    " Выбор метода обработки дубликатов зависит от их категории: \n",
    " - если дубликаты входят в группу явных дубликатов (т.е. строчки полностью повторятся) - используем метод `drop_duplicates()`, который полностью удаляет задублированные строки.\n",
    " - если дубликаты относятся к группе неявных - используем метод `unique()` для их нахождения и метод `str.lower()` для замены.\n",
    " "
   ]
  },
  {
   "cell_type": "markdown",
   "id": "3947761e",
   "metadata": {},
   "source": [
    "# Шаг 2.5. Формирование дополнительных датафреймов словарей, декомпозиция исходного датафрейма."
   ]
  },
  {
   "cell_type": "code",
   "execution_count": 26,
   "id": "ffe28c4c",
   "metadata": {},
   "outputs": [
    {
     "data": {
      "text/html": [
       "<div>\n",
       "<style scoped>\n",
       "    .dataframe tbody tr th:only-of-type {\n",
       "        vertical-align: middle;\n",
       "    }\n",
       "\n",
       "    .dataframe tbody tr th {\n",
       "        vertical-align: top;\n",
       "    }\n",
       "\n",
       "    .dataframe thead th {\n",
       "        text-align: right;\n",
       "    }\n",
       "</style>\n",
       "<table border=\"1\" class=\"dataframe\">\n",
       "  <thead>\n",
       "    <tr style=\"text-align: right;\">\n",
       "      <th></th>\n",
       "      <th>education</th>\n",
       "      <th>education_id</th>\n",
       "    </tr>\n",
       "  </thead>\n",
       "  <tbody>\n",
       "    <tr>\n",
       "      <th>0</th>\n",
       "      <td>высшее</td>\n",
       "      <td>0</td>\n",
       "    </tr>\n",
       "    <tr>\n",
       "      <th>1</th>\n",
       "      <td>среднее</td>\n",
       "      <td>1</td>\n",
       "    </tr>\n",
       "    <tr>\n",
       "      <th>2</th>\n",
       "      <td>неоконченное высшее</td>\n",
       "      <td>2</td>\n",
       "    </tr>\n",
       "    <tr>\n",
       "      <th>3</th>\n",
       "      <td>начальное</td>\n",
       "      <td>3</td>\n",
       "    </tr>\n",
       "    <tr>\n",
       "      <th>4</th>\n",
       "      <td>ученая степень</td>\n",
       "      <td>4</td>\n",
       "    </tr>\n",
       "  </tbody>\n",
       "</table>\n",
       "</div>"
      ],
      "text/plain": [
       "             education  education_id\n",
       "0               высшее             0\n",
       "1              среднее             1\n",
       "2  неоконченное высшее             2\n",
       "3            начальное             3\n",
       "4       ученая степень             4"
      ]
     },
     "execution_count": 26,
     "metadata": {},
     "output_type": "execute_result"
    }
   ],
   "source": [
    "# Создадим 2 новых дотафрейма\n",
    "education = df[['education','education_id']]\n",
    "education = education.drop_duplicates().reset_index(drop = True) # удаляем дубликаты => получаем список уникальных значений\n",
    "education"
   ]
  },
  {
   "cell_type": "code",
   "execution_count": 27,
   "id": "42ce41c9",
   "metadata": {},
   "outputs": [
    {
     "data": {
      "text/html": [
       "<div>\n",
       "<style scoped>\n",
       "    .dataframe tbody tr th:only-of-type {\n",
       "        vertical-align: middle;\n",
       "    }\n",
       "\n",
       "    .dataframe tbody tr th {\n",
       "        vertical-align: top;\n",
       "    }\n",
       "\n",
       "    .dataframe thead th {\n",
       "        text-align: right;\n",
       "    }\n",
       "</style>\n",
       "<table border=\"1\" class=\"dataframe\">\n",
       "  <thead>\n",
       "    <tr style=\"text-align: right;\">\n",
       "      <th></th>\n",
       "      <th>family_status</th>\n",
       "      <th>family_status_id</th>\n",
       "    </tr>\n",
       "  </thead>\n",
       "  <tbody>\n",
       "    <tr>\n",
       "      <th>0</th>\n",
       "      <td>женат / замужем</td>\n",
       "      <td>0</td>\n",
       "    </tr>\n",
       "    <tr>\n",
       "      <th>1</th>\n",
       "      <td>гражданский брак</td>\n",
       "      <td>1</td>\n",
       "    </tr>\n",
       "    <tr>\n",
       "      <th>2</th>\n",
       "      <td>вдовец / вдова</td>\n",
       "      <td>2</td>\n",
       "    </tr>\n",
       "    <tr>\n",
       "      <th>3</th>\n",
       "      <td>в разводе</td>\n",
       "      <td>3</td>\n",
       "    </tr>\n",
       "    <tr>\n",
       "      <th>4</th>\n",
       "      <td>Не женат / не замужем</td>\n",
       "      <td>4</td>\n",
       "    </tr>\n",
       "  </tbody>\n",
       "</table>\n",
       "</div>"
      ],
      "text/plain": [
       "           family_status  family_status_id\n",
       "0        женат / замужем                 0\n",
       "1       гражданский брак                 1\n",
       "2         вдовец / вдова                 2\n",
       "3              в разводе                 3\n",
       "4  Не женат / не замужем                 4"
      ]
     },
     "execution_count": 27,
     "metadata": {},
     "output_type": "execute_result"
    }
   ],
   "source": [
    "family_status = df[['family_status','family_status_id']]\n",
    "family_status = family_status.drop_duplicates().reset_index(drop = True) # удаляем дубликаты => получаем список уникальных значений\n",
    "family_status"
   ]
  },
  {
   "cell_type": "code",
   "execution_count": 28,
   "id": "ea660bf2",
   "metadata": {},
   "outputs": [
    {
     "data": {
      "text/html": [
       "<div>\n",
       "<style scoped>\n",
       "    .dataframe tbody tr th:only-of-type {\n",
       "        vertical-align: middle;\n",
       "    }\n",
       "\n",
       "    .dataframe tbody tr th {\n",
       "        vertical-align: top;\n",
       "    }\n",
       "\n",
       "    .dataframe thead th {\n",
       "        text-align: right;\n",
       "    }\n",
       "</style>\n",
       "<table border=\"1\" class=\"dataframe\">\n",
       "  <thead>\n",
       "    <tr style=\"text-align: right;\">\n",
       "      <th></th>\n",
       "      <th>children</th>\n",
       "      <th>days_employed</th>\n",
       "      <th>dob_years</th>\n",
       "      <th>education_id</th>\n",
       "      <th>family_status_id</th>\n",
       "      <th>gender</th>\n",
       "      <th>income_type</th>\n",
       "      <th>debt</th>\n",
       "      <th>total_income</th>\n",
       "      <th>purpose</th>\n",
       "    </tr>\n",
       "  </thead>\n",
       "  <tbody>\n",
       "    <tr>\n",
       "      <th>0</th>\n",
       "      <td>1</td>\n",
       "      <td>8437</td>\n",
       "      <td>42</td>\n",
       "      <td>0</td>\n",
       "      <td>0</td>\n",
       "      <td>F</td>\n",
       "      <td>сотрудник</td>\n",
       "      <td>0</td>\n",
       "      <td>253875.639453</td>\n",
       "      <td>покупка жилья</td>\n",
       "    </tr>\n",
       "    <tr>\n",
       "      <th>1</th>\n",
       "      <td>1</td>\n",
       "      <td>4024</td>\n",
       "      <td>36</td>\n",
       "      <td>1</td>\n",
       "      <td>0</td>\n",
       "      <td>F</td>\n",
       "      <td>сотрудник</td>\n",
       "      <td>0</td>\n",
       "      <td>112080.014102</td>\n",
       "      <td>приобретение автомобиля</td>\n",
       "    </tr>\n",
       "    <tr>\n",
       "      <th>2</th>\n",
       "      <td>0</td>\n",
       "      <td>5623</td>\n",
       "      <td>33</td>\n",
       "      <td>1</td>\n",
       "      <td>0</td>\n",
       "      <td>M</td>\n",
       "      <td>сотрудник</td>\n",
       "      <td>0</td>\n",
       "      <td>145885.952297</td>\n",
       "      <td>покупка жилья</td>\n",
       "    </tr>\n",
       "    <tr>\n",
       "      <th>3</th>\n",
       "      <td>3</td>\n",
       "      <td>4124</td>\n",
       "      <td>32</td>\n",
       "      <td>1</td>\n",
       "      <td>0</td>\n",
       "      <td>M</td>\n",
       "      <td>сотрудник</td>\n",
       "      <td>0</td>\n",
       "      <td>267628.550329</td>\n",
       "      <td>дополнительное образование</td>\n",
       "    </tr>\n",
       "    <tr>\n",
       "      <th>4</th>\n",
       "      <td>0</td>\n",
       "      <td>340266</td>\n",
       "      <td>53</td>\n",
       "      <td>1</td>\n",
       "      <td>1</td>\n",
       "      <td>F</td>\n",
       "      <td>пенсионер</td>\n",
       "      <td>0</td>\n",
       "      <td>158616.077870</td>\n",
       "      <td>сыграть свадьбу</td>\n",
       "    </tr>\n",
       "    <tr>\n",
       "      <th>5</th>\n",
       "      <td>0</td>\n",
       "      <td>926</td>\n",
       "      <td>27</td>\n",
       "      <td>0</td>\n",
       "      <td>1</td>\n",
       "      <td>M</td>\n",
       "      <td>компаньон</td>\n",
       "      <td>0</td>\n",
       "      <td>255763.565419</td>\n",
       "      <td>покупка жилья</td>\n",
       "    </tr>\n",
       "    <tr>\n",
       "      <th>6</th>\n",
       "      <td>0</td>\n",
       "      <td>2879</td>\n",
       "      <td>43</td>\n",
       "      <td>0</td>\n",
       "      <td>0</td>\n",
       "      <td>F</td>\n",
       "      <td>компаньон</td>\n",
       "      <td>0</td>\n",
       "      <td>240525.971920</td>\n",
       "      <td>операции с жильем</td>\n",
       "    </tr>\n",
       "    <tr>\n",
       "      <th>7</th>\n",
       "      <td>0</td>\n",
       "      <td>152</td>\n",
       "      <td>50</td>\n",
       "      <td>1</td>\n",
       "      <td>0</td>\n",
       "      <td>M</td>\n",
       "      <td>сотрудник</td>\n",
       "      <td>0</td>\n",
       "      <td>135823.934197</td>\n",
       "      <td>образование</td>\n",
       "    </tr>\n",
       "    <tr>\n",
       "      <th>8</th>\n",
       "      <td>2</td>\n",
       "      <td>6929</td>\n",
       "      <td>35</td>\n",
       "      <td>0</td>\n",
       "      <td>1</td>\n",
       "      <td>F</td>\n",
       "      <td>сотрудник</td>\n",
       "      <td>0</td>\n",
       "      <td>95856.832424</td>\n",
       "      <td>на проведение свадьбы</td>\n",
       "    </tr>\n",
       "    <tr>\n",
       "      <th>9</th>\n",
       "      <td>0</td>\n",
       "      <td>2188</td>\n",
       "      <td>41</td>\n",
       "      <td>1</td>\n",
       "      <td>0</td>\n",
       "      <td>M</td>\n",
       "      <td>сотрудник</td>\n",
       "      <td>0</td>\n",
       "      <td>144425.938277</td>\n",
       "      <td>покупка жилья для семьи</td>\n",
       "    </tr>\n",
       "  </tbody>\n",
       "</table>\n",
       "</div>"
      ],
      "text/plain": [
       "   children  days_employed  dob_years  education_id  family_status_id gender  \\\n",
       "0         1           8437         42             0                 0      F   \n",
       "1         1           4024         36             1                 0      F   \n",
       "2         0           5623         33             1                 0      M   \n",
       "3         3           4124         32             1                 0      M   \n",
       "4         0         340266         53             1                 1      F   \n",
       "5         0            926         27             0                 1      M   \n",
       "6         0           2879         43             0                 0      F   \n",
       "7         0            152         50             1                 0      M   \n",
       "8         2           6929         35             0                 1      F   \n",
       "9         0           2188         41             1                 0      M   \n",
       "\n",
       "  income_type  debt   total_income                     purpose  \n",
       "0   сотрудник     0  253875.639453               покупка жилья  \n",
       "1   сотрудник     0  112080.014102     приобретение автомобиля  \n",
       "2   сотрудник     0  145885.952297               покупка жилья  \n",
       "3   сотрудник     0  267628.550329  дополнительное образование  \n",
       "4   пенсионер     0  158616.077870             сыграть свадьбу  \n",
       "5   компаньон     0  255763.565419               покупка жилья  \n",
       "6   компаньон     0  240525.971920           операции с жильем  \n",
       "7   сотрудник     0  135823.934197                 образование  \n",
       "8   сотрудник     0   95856.832424       на проведение свадьбы  \n",
       "9   сотрудник     0  144425.938277     покупка жилья для семьи  "
      ]
     },
     "execution_count": 28,
     "metadata": {},
     "output_type": "execute_result"
    }
   ],
   "source": [
    "# Удалим столбцы education и family_status\n",
    "df = df.drop(['education','family_status'],axis = 1)\n",
    "df.head(10)"
   ]
  },
  {
   "cell_type": "markdown",
   "id": "1c5893cf",
   "metadata": {},
   "source": [
    "# Шаг 2.6. Категоризация дохода."
   ]
  },
  {
   "cell_type": "code",
   "execution_count": 29,
   "id": "ba5220bd",
   "metadata": {},
   "outputs": [
    {
     "data": {
      "text/html": [
       "<div>\n",
       "<style scoped>\n",
       "    .dataframe tbody tr th:only-of-type {\n",
       "        vertical-align: middle;\n",
       "    }\n",
       "\n",
       "    .dataframe tbody tr th {\n",
       "        vertical-align: top;\n",
       "    }\n",
       "\n",
       "    .dataframe thead th {\n",
       "        text-align: right;\n",
       "    }\n",
       "</style>\n",
       "<table border=\"1\" class=\"dataframe\">\n",
       "  <thead>\n",
       "    <tr style=\"text-align: right;\">\n",
       "      <th></th>\n",
       "      <th>children</th>\n",
       "      <th>days_employed</th>\n",
       "      <th>dob_years</th>\n",
       "      <th>education_id</th>\n",
       "      <th>family_status_id</th>\n",
       "      <th>gender</th>\n",
       "      <th>income_type</th>\n",
       "      <th>debt</th>\n",
       "      <th>total_income</th>\n",
       "      <th>purpose</th>\n",
       "      <th>total_income_category</th>\n",
       "    </tr>\n",
       "  </thead>\n",
       "  <tbody>\n",
       "    <tr>\n",
       "      <th>0</th>\n",
       "      <td>1</td>\n",
       "      <td>8437</td>\n",
       "      <td>42</td>\n",
       "      <td>0</td>\n",
       "      <td>0</td>\n",
       "      <td>F</td>\n",
       "      <td>сотрудник</td>\n",
       "      <td>0</td>\n",
       "      <td>253875.639453</td>\n",
       "      <td>покупка жилья</td>\n",
       "      <td>B</td>\n",
       "    </tr>\n",
       "    <tr>\n",
       "      <th>1</th>\n",
       "      <td>1</td>\n",
       "      <td>4024</td>\n",
       "      <td>36</td>\n",
       "      <td>1</td>\n",
       "      <td>0</td>\n",
       "      <td>F</td>\n",
       "      <td>сотрудник</td>\n",
       "      <td>0</td>\n",
       "      <td>112080.014102</td>\n",
       "      <td>приобретение автомобиля</td>\n",
       "      <td>C</td>\n",
       "    </tr>\n",
       "    <tr>\n",
       "      <th>2</th>\n",
       "      <td>0</td>\n",
       "      <td>5623</td>\n",
       "      <td>33</td>\n",
       "      <td>1</td>\n",
       "      <td>0</td>\n",
       "      <td>M</td>\n",
       "      <td>сотрудник</td>\n",
       "      <td>0</td>\n",
       "      <td>145885.952297</td>\n",
       "      <td>покупка жилья</td>\n",
       "      <td>C</td>\n",
       "    </tr>\n",
       "    <tr>\n",
       "      <th>3</th>\n",
       "      <td>3</td>\n",
       "      <td>4124</td>\n",
       "      <td>32</td>\n",
       "      <td>1</td>\n",
       "      <td>0</td>\n",
       "      <td>M</td>\n",
       "      <td>сотрудник</td>\n",
       "      <td>0</td>\n",
       "      <td>267628.550329</td>\n",
       "      <td>дополнительное образование</td>\n",
       "      <td>B</td>\n",
       "    </tr>\n",
       "    <tr>\n",
       "      <th>4</th>\n",
       "      <td>0</td>\n",
       "      <td>340266</td>\n",
       "      <td>53</td>\n",
       "      <td>1</td>\n",
       "      <td>1</td>\n",
       "      <td>F</td>\n",
       "      <td>пенсионер</td>\n",
       "      <td>0</td>\n",
       "      <td>158616.077870</td>\n",
       "      <td>сыграть свадьбу</td>\n",
       "      <td>C</td>\n",
       "    </tr>\n",
       "    <tr>\n",
       "      <th>5</th>\n",
       "      <td>0</td>\n",
       "      <td>926</td>\n",
       "      <td>27</td>\n",
       "      <td>0</td>\n",
       "      <td>1</td>\n",
       "      <td>M</td>\n",
       "      <td>компаньон</td>\n",
       "      <td>0</td>\n",
       "      <td>255763.565419</td>\n",
       "      <td>покупка жилья</td>\n",
       "      <td>B</td>\n",
       "    </tr>\n",
       "    <tr>\n",
       "      <th>6</th>\n",
       "      <td>0</td>\n",
       "      <td>2879</td>\n",
       "      <td>43</td>\n",
       "      <td>0</td>\n",
       "      <td>0</td>\n",
       "      <td>F</td>\n",
       "      <td>компаньон</td>\n",
       "      <td>0</td>\n",
       "      <td>240525.971920</td>\n",
       "      <td>операции с жильем</td>\n",
       "      <td>B</td>\n",
       "    </tr>\n",
       "    <tr>\n",
       "      <th>7</th>\n",
       "      <td>0</td>\n",
       "      <td>152</td>\n",
       "      <td>50</td>\n",
       "      <td>1</td>\n",
       "      <td>0</td>\n",
       "      <td>M</td>\n",
       "      <td>сотрудник</td>\n",
       "      <td>0</td>\n",
       "      <td>135823.934197</td>\n",
       "      <td>образование</td>\n",
       "      <td>C</td>\n",
       "    </tr>\n",
       "    <tr>\n",
       "      <th>8</th>\n",
       "      <td>2</td>\n",
       "      <td>6929</td>\n",
       "      <td>35</td>\n",
       "      <td>0</td>\n",
       "      <td>1</td>\n",
       "      <td>F</td>\n",
       "      <td>сотрудник</td>\n",
       "      <td>0</td>\n",
       "      <td>95856.832424</td>\n",
       "      <td>на проведение свадьбы</td>\n",
       "      <td>C</td>\n",
       "    </tr>\n",
       "    <tr>\n",
       "      <th>9</th>\n",
       "      <td>0</td>\n",
       "      <td>2188</td>\n",
       "      <td>41</td>\n",
       "      <td>1</td>\n",
       "      <td>0</td>\n",
       "      <td>M</td>\n",
       "      <td>сотрудник</td>\n",
       "      <td>0</td>\n",
       "      <td>144425.938277</td>\n",
       "      <td>покупка жилья для семьи</td>\n",
       "      <td>C</td>\n",
       "    </tr>\n",
       "  </tbody>\n",
       "</table>\n",
       "</div>"
      ],
      "text/plain": [
       "   children  days_employed  dob_years  education_id  family_status_id gender  \\\n",
       "0         1           8437         42             0                 0      F   \n",
       "1         1           4024         36             1                 0      F   \n",
       "2         0           5623         33             1                 0      M   \n",
       "3         3           4124         32             1                 0      M   \n",
       "4         0         340266         53             1                 1      F   \n",
       "5         0            926         27             0                 1      M   \n",
       "6         0           2879         43             0                 0      F   \n",
       "7         0            152         50             1                 0      M   \n",
       "8         2           6929         35             0                 1      F   \n",
       "9         0           2188         41             1                 0      M   \n",
       "\n",
       "  income_type  debt   total_income                     purpose  \\\n",
       "0   сотрудник     0  253875.639453               покупка жилья   \n",
       "1   сотрудник     0  112080.014102     приобретение автомобиля   \n",
       "2   сотрудник     0  145885.952297               покупка жилья   \n",
       "3   сотрудник     0  267628.550329  дополнительное образование   \n",
       "4   пенсионер     0  158616.077870             сыграть свадьбу   \n",
       "5   компаньон     0  255763.565419               покупка жилья   \n",
       "6   компаньон     0  240525.971920           операции с жильем   \n",
       "7   сотрудник     0  135823.934197                 образование   \n",
       "8   сотрудник     0   95856.832424       на проведение свадьбы   \n",
       "9   сотрудник     0  144425.938277     покупка жилья для семьи   \n",
       "\n",
       "  total_income_category  \n",
       "0                     B  \n",
       "1                     C  \n",
       "2                     C  \n",
       "3                     B  \n",
       "4                     C  \n",
       "5                     B  \n",
       "6                     B  \n",
       "7                     C  \n",
       "8                     C  \n",
       "9                     C  "
      ]
     },
     "execution_count": 29,
     "metadata": {},
     "output_type": "execute_result"
    }
   ],
   "source": [
    "# Объявим функцию, которая распределит доход кредитополучателей по категориям\n",
    "def income_category (income):\n",
    "    if income <= 30000:\n",
    "        return 'E'\n",
    "    if income >= 30001 and income <= 50000:\n",
    "        return 'D'\n",
    "    if income >= 50000 and income <= 200000:\n",
    "        return 'C'\n",
    "    if income >= 200001 and income <= 1000000:\n",
    "        return 'B'\n",
    "    return 'A'\n",
    "\n",
    "# Добавим столбец с категорией дохода в датафрейм\n",
    "df['total_income_category'] = df['total_income'].apply(income_category)\n",
    "df.head(10)"
   ]
  },
  {
   "cell_type": "markdown",
   "id": "9ab70fe4",
   "metadata": {},
   "source": [
    "# Шаг 2.7. Категоризация целей кредита."
   ]
  },
  {
   "cell_type": "markdown",
   "id": "9bf11532",
   "metadata": {},
   "source": [
    "Ранее мы выяснили, что цели кредита можно разделить на 4 большие группы, с помощью функции распределим данные и создадим новый столбец - `purpose_category`"
   ]
  },
  {
   "cell_type": "code",
   "execution_count": 30,
   "id": "ed357308",
   "metadata": {},
   "outputs": [
    {
     "data": {
      "text/html": [
       "<div>\n",
       "<style scoped>\n",
       "    .dataframe tbody tr th:only-of-type {\n",
       "        vertical-align: middle;\n",
       "    }\n",
       "\n",
       "    .dataframe tbody tr th {\n",
       "        vertical-align: top;\n",
       "    }\n",
       "\n",
       "    .dataframe thead th {\n",
       "        text-align: right;\n",
       "    }\n",
       "</style>\n",
       "<table border=\"1\" class=\"dataframe\">\n",
       "  <thead>\n",
       "    <tr style=\"text-align: right;\">\n",
       "      <th></th>\n",
       "      <th>children</th>\n",
       "      <th>days_employed</th>\n",
       "      <th>dob_years</th>\n",
       "      <th>education_id</th>\n",
       "      <th>family_status_id</th>\n",
       "      <th>gender</th>\n",
       "      <th>income_type</th>\n",
       "      <th>debt</th>\n",
       "      <th>total_income</th>\n",
       "      <th>purpose</th>\n",
       "      <th>total_income_category</th>\n",
       "      <th>purpose_category</th>\n",
       "    </tr>\n",
       "  </thead>\n",
       "  <tbody>\n",
       "    <tr>\n",
       "      <th>0</th>\n",
       "      <td>1</td>\n",
       "      <td>8437</td>\n",
       "      <td>42</td>\n",
       "      <td>0</td>\n",
       "      <td>0</td>\n",
       "      <td>F</td>\n",
       "      <td>сотрудник</td>\n",
       "      <td>0</td>\n",
       "      <td>253875.639453</td>\n",
       "      <td>покупка жилья</td>\n",
       "      <td>B</td>\n",
       "      <td>операции с недвижимостью</td>\n",
       "    </tr>\n",
       "    <tr>\n",
       "      <th>1</th>\n",
       "      <td>1</td>\n",
       "      <td>4024</td>\n",
       "      <td>36</td>\n",
       "      <td>1</td>\n",
       "      <td>0</td>\n",
       "      <td>F</td>\n",
       "      <td>сотрудник</td>\n",
       "      <td>0</td>\n",
       "      <td>112080.014102</td>\n",
       "      <td>приобретение автомобиля</td>\n",
       "      <td>C</td>\n",
       "      <td>операции с автомобилем</td>\n",
       "    </tr>\n",
       "    <tr>\n",
       "      <th>2</th>\n",
       "      <td>0</td>\n",
       "      <td>5623</td>\n",
       "      <td>33</td>\n",
       "      <td>1</td>\n",
       "      <td>0</td>\n",
       "      <td>M</td>\n",
       "      <td>сотрудник</td>\n",
       "      <td>0</td>\n",
       "      <td>145885.952297</td>\n",
       "      <td>покупка жилья</td>\n",
       "      <td>C</td>\n",
       "      <td>операции с недвижимостью</td>\n",
       "    </tr>\n",
       "    <tr>\n",
       "      <th>3</th>\n",
       "      <td>3</td>\n",
       "      <td>4124</td>\n",
       "      <td>32</td>\n",
       "      <td>1</td>\n",
       "      <td>0</td>\n",
       "      <td>M</td>\n",
       "      <td>сотрудник</td>\n",
       "      <td>0</td>\n",
       "      <td>267628.550329</td>\n",
       "      <td>дополнительное образование</td>\n",
       "      <td>B</td>\n",
       "      <td>получение образования</td>\n",
       "    </tr>\n",
       "    <tr>\n",
       "      <th>4</th>\n",
       "      <td>0</td>\n",
       "      <td>340266</td>\n",
       "      <td>53</td>\n",
       "      <td>1</td>\n",
       "      <td>1</td>\n",
       "      <td>F</td>\n",
       "      <td>пенсионер</td>\n",
       "      <td>0</td>\n",
       "      <td>158616.077870</td>\n",
       "      <td>сыграть свадьбу</td>\n",
       "      <td>C</td>\n",
       "      <td>проведение свадьбы</td>\n",
       "    </tr>\n",
       "    <tr>\n",
       "      <th>5</th>\n",
       "      <td>0</td>\n",
       "      <td>926</td>\n",
       "      <td>27</td>\n",
       "      <td>0</td>\n",
       "      <td>1</td>\n",
       "      <td>M</td>\n",
       "      <td>компаньон</td>\n",
       "      <td>0</td>\n",
       "      <td>255763.565419</td>\n",
       "      <td>покупка жилья</td>\n",
       "      <td>B</td>\n",
       "      <td>операции с недвижимостью</td>\n",
       "    </tr>\n",
       "    <tr>\n",
       "      <th>6</th>\n",
       "      <td>0</td>\n",
       "      <td>2879</td>\n",
       "      <td>43</td>\n",
       "      <td>0</td>\n",
       "      <td>0</td>\n",
       "      <td>F</td>\n",
       "      <td>компаньон</td>\n",
       "      <td>0</td>\n",
       "      <td>240525.971920</td>\n",
       "      <td>операции с жильем</td>\n",
       "      <td>B</td>\n",
       "      <td>операции с недвижимостью</td>\n",
       "    </tr>\n",
       "    <tr>\n",
       "      <th>7</th>\n",
       "      <td>0</td>\n",
       "      <td>152</td>\n",
       "      <td>50</td>\n",
       "      <td>1</td>\n",
       "      <td>0</td>\n",
       "      <td>M</td>\n",
       "      <td>сотрудник</td>\n",
       "      <td>0</td>\n",
       "      <td>135823.934197</td>\n",
       "      <td>образование</td>\n",
       "      <td>C</td>\n",
       "      <td>получение образования</td>\n",
       "    </tr>\n",
       "    <tr>\n",
       "      <th>8</th>\n",
       "      <td>2</td>\n",
       "      <td>6929</td>\n",
       "      <td>35</td>\n",
       "      <td>0</td>\n",
       "      <td>1</td>\n",
       "      <td>F</td>\n",
       "      <td>сотрудник</td>\n",
       "      <td>0</td>\n",
       "      <td>95856.832424</td>\n",
       "      <td>на проведение свадьбы</td>\n",
       "      <td>C</td>\n",
       "      <td>проведение свадьбы</td>\n",
       "    </tr>\n",
       "    <tr>\n",
       "      <th>9</th>\n",
       "      <td>0</td>\n",
       "      <td>2188</td>\n",
       "      <td>41</td>\n",
       "      <td>1</td>\n",
       "      <td>0</td>\n",
       "      <td>M</td>\n",
       "      <td>сотрудник</td>\n",
       "      <td>0</td>\n",
       "      <td>144425.938277</td>\n",
       "      <td>покупка жилья для семьи</td>\n",
       "      <td>C</td>\n",
       "      <td>операции с недвижимостью</td>\n",
       "    </tr>\n",
       "  </tbody>\n",
       "</table>\n",
       "</div>"
      ],
      "text/plain": [
       "   children  days_employed  dob_years  education_id  family_status_id gender  \\\n",
       "0         1           8437         42             0                 0      F   \n",
       "1         1           4024         36             1                 0      F   \n",
       "2         0           5623         33             1                 0      M   \n",
       "3         3           4124         32             1                 0      M   \n",
       "4         0         340266         53             1                 1      F   \n",
       "5         0            926         27             0                 1      M   \n",
       "6         0           2879         43             0                 0      F   \n",
       "7         0            152         50             1                 0      M   \n",
       "8         2           6929         35             0                 1      F   \n",
       "9         0           2188         41             1                 0      M   \n",
       "\n",
       "  income_type  debt   total_income                     purpose  \\\n",
       "0   сотрудник     0  253875.639453               покупка жилья   \n",
       "1   сотрудник     0  112080.014102     приобретение автомобиля   \n",
       "2   сотрудник     0  145885.952297               покупка жилья   \n",
       "3   сотрудник     0  267628.550329  дополнительное образование   \n",
       "4   пенсионер     0  158616.077870             сыграть свадьбу   \n",
       "5   компаньон     0  255763.565419               покупка жилья   \n",
       "6   компаньон     0  240525.971920           операции с жильем   \n",
       "7   сотрудник     0  135823.934197                 образование   \n",
       "8   сотрудник     0   95856.832424       на проведение свадьбы   \n",
       "9   сотрудник     0  144425.938277     покупка жилья для семьи   \n",
       "\n",
       "  total_income_category          purpose_category  \n",
       "0                     B  операции с недвижимостью  \n",
       "1                     C    операции с автомобилем  \n",
       "2                     C  операции с недвижимостью  \n",
       "3                     B     получение образования  \n",
       "4                     C        проведение свадьбы  \n",
       "5                     B  операции с недвижимостью  \n",
       "6                     B  операции с недвижимостью  \n",
       "7                     C     получение образования  \n",
       "8                     C        проведение свадьбы  \n",
       "9                     C  операции с недвижимостью  "
      ]
     },
     "execution_count": 30,
     "metadata": {},
     "output_type": "execute_result"
    }
   ],
   "source": [
    "def purpose_group (purpose):\n",
    "    if 'авто' in purpose:\n",
    "        return 'операции с автомобилем'\n",
    "    if 'образован' in purpose:\n",
    "        return 'получение образования'\n",
    "    if 'недвиж' in purpose or 'жиль' in purpose:\n",
    "        return 'операции с недвижимостью'\n",
    "    if 'свадьб' in purpose:\n",
    "        return 'проведение свадьбы'\n",
    "\n",
    "df['purpose_category'] = df['purpose'].apply(purpose_group)\n",
    "df.head(10)"
   ]
  },
  {
   "cell_type": "markdown",
   "id": "b575df2d",
   "metadata": {},
   "source": [
    "# Ответы на вопросы."
   ]
  },
  {
   "cell_type": "markdown",
   "id": "ab6bdd7f",
   "metadata": {},
   "source": [
    "# Вопрос 1: Есть ли зависимость между количеством детей и возвратом кредита в срок?"
   ]
  },
  {
   "cell_type": "code",
   "execution_count": 31,
   "id": "2ade2078",
   "metadata": {},
   "outputs": [
    {
     "data": {
      "text/html": [
       "<div>\n",
       "<style scoped>\n",
       "    .dataframe tbody tr th:only-of-type {\n",
       "        vertical-align: middle;\n",
       "    }\n",
       "\n",
       "    .dataframe tbody tr th {\n",
       "        vertical-align: top;\n",
       "    }\n",
       "\n",
       "    .dataframe thead tr th {\n",
       "        text-align: left;\n",
       "    }\n",
       "\n",
       "    .dataframe thead tr:last-of-type th {\n",
       "        text-align: right;\n",
       "    }\n",
       "</style>\n",
       "<table border=\"1\" class=\"dataframe\">\n",
       "  <thead>\n",
       "    <tr>\n",
       "      <th></th>\n",
       "      <th>count</th>\n",
       "      <th>sum</th>\n",
       "      <th>mean</th>\n",
       "    </tr>\n",
       "    <tr>\n",
       "      <th></th>\n",
       "      <th>debt</th>\n",
       "      <th>debt</th>\n",
       "      <th>debt</th>\n",
       "    </tr>\n",
       "    <tr>\n",
       "      <th>children</th>\n",
       "      <th></th>\n",
       "      <th></th>\n",
       "      <th></th>\n",
       "    </tr>\n",
       "  </thead>\n",
       "  <tbody>\n",
       "    <tr>\n",
       "      <th>0</th>\n",
       "      <td>14091</td>\n",
       "      <td>1063</td>\n",
       "      <td>7.543822</td>\n",
       "    </tr>\n",
       "    <tr>\n",
       "      <th>1</th>\n",
       "      <td>4808</td>\n",
       "      <td>444</td>\n",
       "      <td>9.234609</td>\n",
       "    </tr>\n",
       "    <tr>\n",
       "      <th>2</th>\n",
       "      <td>2052</td>\n",
       "      <td>194</td>\n",
       "      <td>9.454191</td>\n",
       "    </tr>\n",
       "    <tr>\n",
       "      <th>3</th>\n",
       "      <td>330</td>\n",
       "      <td>27</td>\n",
       "      <td>8.181818</td>\n",
       "    </tr>\n",
       "    <tr>\n",
       "      <th>4</th>\n",
       "      <td>41</td>\n",
       "      <td>4</td>\n",
       "      <td>9.756098</td>\n",
       "    </tr>\n",
       "    <tr>\n",
       "      <th>5</th>\n",
       "      <td>9</td>\n",
       "      <td>0</td>\n",
       "      <td>0.000000</td>\n",
       "    </tr>\n",
       "  </tbody>\n",
       "</table>\n",
       "</div>"
      ],
      "text/plain": [
       "          count   sum      mean\n",
       "           debt  debt      debt\n",
       "children                       \n",
       "0         14091  1063  7.543822\n",
       "1          4808   444  9.234609\n",
       "2          2052   194  9.454191\n",
       "3           330    27  8.181818\n",
       "4            41     4  9.756098\n",
       "5             9     0  0.000000"
      ]
     },
     "execution_count": 31,
     "metadata": {},
     "output_type": "execute_result"
    }
   ],
   "source": [
    "children_pivot = df.pivot_table(index = ['children'], values= 'debt', aggfunc = ['count','sum','mean'])\n",
    "children_pivot['mean'] = children_pivot['mean']*100\n",
    "children_pivot"
   ]
  },
  {
   "cell_type": "markdown",
   "id": "35777005",
   "metadata": {},
   "source": [
    "Согласно данным клиенты с детьми возвращают кредит в срок премерно на 2% больше, чем клиенты без детей, при этом количество детей (1,2,3 или более) особо не влияет на % возврата кредита, среднее значение составляет 9,5%.\n",
    "\n",
    "Важно отметить, что клиенты, у которых в семье 5 детей, ни разу не возвращали кредит в срок, но таких всего лишь 9 чел., что является очень малой выборкой, поэтому мы исключили эти данные из анализа."
   ]
  },
  {
   "cell_type": "markdown",
   "id": "37cf5391",
   "metadata": {},
   "source": [
    "# Вопрос 2: Есть ли зависимость между семейным положением и возвратом кредита в срок?"
   ]
  },
  {
   "cell_type": "code",
   "execution_count": 32,
   "id": "8caa60f5",
   "metadata": {},
   "outputs": [
    {
     "data": {
      "text/html": [
       "<div>\n",
       "<style scoped>\n",
       "    .dataframe tbody tr th:only-of-type {\n",
       "        vertical-align: middle;\n",
       "    }\n",
       "\n",
       "    .dataframe tbody tr th {\n",
       "        vertical-align: top;\n",
       "    }\n",
       "\n",
       "    .dataframe thead th {\n",
       "        text-align: right;\n",
       "    }\n",
       "</style>\n",
       "<table border=\"1\" class=\"dataframe\">\n",
       "  <thead>\n",
       "    <tr style=\"text-align: right;\">\n",
       "      <th></th>\n",
       "      <th>family_status</th>\n",
       "      <th>family_status_id</th>\n",
       "      <th>(count, debt)</th>\n",
       "      <th>(sum, debt)</th>\n",
       "      <th>(mean, debt)</th>\n",
       "    </tr>\n",
       "  </thead>\n",
       "  <tbody>\n",
       "    <tr>\n",
       "      <th>0</th>\n",
       "      <td>женат / замужем</td>\n",
       "      <td>0</td>\n",
       "      <td>12261</td>\n",
       "      <td>927</td>\n",
       "      <td>7.560558</td>\n",
       "    </tr>\n",
       "    <tr>\n",
       "      <th>1</th>\n",
       "      <td>гражданский брак</td>\n",
       "      <td>1</td>\n",
       "      <td>4134</td>\n",
       "      <td>385</td>\n",
       "      <td>9.313014</td>\n",
       "    </tr>\n",
       "    <tr>\n",
       "      <th>2</th>\n",
       "      <td>вдовец / вдова</td>\n",
       "      <td>2</td>\n",
       "      <td>951</td>\n",
       "      <td>63</td>\n",
       "      <td>6.624606</td>\n",
       "    </tr>\n",
       "    <tr>\n",
       "      <th>3</th>\n",
       "      <td>в разводе</td>\n",
       "      <td>3</td>\n",
       "      <td>1189</td>\n",
       "      <td>84</td>\n",
       "      <td>7.064760</td>\n",
       "    </tr>\n",
       "    <tr>\n",
       "      <th>4</th>\n",
       "      <td>Не женат / не замужем</td>\n",
       "      <td>4</td>\n",
       "      <td>2796</td>\n",
       "      <td>273</td>\n",
       "      <td>9.763948</td>\n",
       "    </tr>\n",
       "  </tbody>\n",
       "</table>\n",
       "</div>"
      ],
      "text/plain": [
       "           family_status  family_status_id  (count, debt)  (sum, debt)  \\\n",
       "0        женат / замужем                 0          12261          927   \n",
       "1       гражданский брак                 1           4134          385   \n",
       "2         вдовец / вдова                 2            951           63   \n",
       "3              в разводе                 3           1189           84   \n",
       "4  Не женат / не замужем                 4           2796          273   \n",
       "\n",
       "   (mean, debt)  \n",
       "0      7.560558  \n",
       "1      9.313014  \n",
       "2      6.624606  \n",
       "3      7.064760  \n",
       "4      9.763948  "
      ]
     },
     "execution_count": 32,
     "metadata": {},
     "output_type": "execute_result"
    }
   ],
   "source": [
    "import warnings\n",
    "warnings.filterwarnings('ignore')\n",
    "\n",
    "family_pivot = df.pivot_table(index = ['family_status_id'],values= 'debt', aggfunc = ['count','sum','mean'])\n",
    "family_pivot['mean'] = family_pivot['mean']*100\n",
    "family_status_pivot = family_status.merge(family_pivot, on = 'family_status_id', how = 'right')\n",
    "family_status_pivot"
   ]
  },
  {
   "cell_type": "markdown",
   "id": "9541c90a",
   "metadata": {},
   "source": [
    "Диапазон возврата кредита составляет 7-9%, при этом % возврата больше у не женатых / не замужних клиентов, а также у клиентов, состоящих в гражданском браке. Наименьший % возврата у клиентов из группы \"вдова/вдовец\"."
   ]
  },
  {
   "cell_type": "markdown",
   "id": "e6942f35",
   "metadata": {},
   "source": [
    "# Вопрос 3: Есть ли зависимость между уровнем дохода и возвратом кредита в срок?"
   ]
  },
  {
   "cell_type": "code",
   "execution_count": 33,
   "id": "9fa38fb0",
   "metadata": {},
   "outputs": [
    {
     "data": {
      "text/html": [
       "<div>\n",
       "<style scoped>\n",
       "    .dataframe tbody tr th:only-of-type {\n",
       "        vertical-align: middle;\n",
       "    }\n",
       "\n",
       "    .dataframe tbody tr th {\n",
       "        vertical-align: top;\n",
       "    }\n",
       "\n",
       "    .dataframe thead tr th {\n",
       "        text-align: left;\n",
       "    }\n",
       "\n",
       "    .dataframe thead tr:last-of-type th {\n",
       "        text-align: right;\n",
       "    }\n",
       "</style>\n",
       "<table border=\"1\" class=\"dataframe\">\n",
       "  <thead>\n",
       "    <tr>\n",
       "      <th></th>\n",
       "      <th>count</th>\n",
       "      <th>sum</th>\n",
       "      <th>mean</th>\n",
       "    </tr>\n",
       "    <tr>\n",
       "      <th></th>\n",
       "      <th>debt</th>\n",
       "      <th>debt</th>\n",
       "      <th>debt</th>\n",
       "    </tr>\n",
       "    <tr>\n",
       "      <th>total_income_category</th>\n",
       "      <th></th>\n",
       "      <th></th>\n",
       "      <th></th>\n",
       "    </tr>\n",
       "  </thead>\n",
       "  <tbody>\n",
       "    <tr>\n",
       "      <th>A</th>\n",
       "      <td>25</td>\n",
       "      <td>2</td>\n",
       "      <td>8.000000</td>\n",
       "    </tr>\n",
       "    <tr>\n",
       "      <th>B</th>\n",
       "      <td>5014</td>\n",
       "      <td>354</td>\n",
       "      <td>7.060231</td>\n",
       "    </tr>\n",
       "    <tr>\n",
       "      <th>C</th>\n",
       "      <td>15921</td>\n",
       "      <td>1353</td>\n",
       "      <td>8.498210</td>\n",
       "    </tr>\n",
       "    <tr>\n",
       "      <th>D</th>\n",
       "      <td>349</td>\n",
       "      <td>21</td>\n",
       "      <td>6.017192</td>\n",
       "    </tr>\n",
       "    <tr>\n",
       "      <th>E</th>\n",
       "      <td>22</td>\n",
       "      <td>2</td>\n",
       "      <td>9.090909</td>\n",
       "    </tr>\n",
       "  </tbody>\n",
       "</table>\n",
       "</div>"
      ],
      "text/plain": [
       "                       count   sum      mean\n",
       "                        debt  debt      debt\n",
       "total_income_category                       \n",
       "A                         25     2  8.000000\n",
       "B                       5014   354  7.060231\n",
       "C                      15921  1353  8.498210\n",
       "D                        349    21  6.017192\n",
       "E                         22     2  9.090909"
      ]
     },
     "execution_count": 33,
     "metadata": {},
     "output_type": "execute_result"
    }
   ],
   "source": [
    "income_pivot = df.pivot_table(index = ['total_income_category'],values= 'debt', aggfunc = ['count','sum','mean'])\n",
    "income_pivot['mean'] = income_pivot['mean']*100\n",
    "income_pivot"
   ]
  },
  {
   "cell_type": "markdown",
   "id": "e0c5d141",
   "metadata": {},
   "source": [
    "Самый большой % возврата кредита у клиентов с уровнем дохода из категорий \"А\",\"С\" и \"Е\", при этом, важно отметить, что количество клиентов из категории \"А\" и \"Е\" незначительно и для более точных выводов необходимо увеличить выборку по ним. Клиенты с уровнем дохода из категорий \"В\" и \"D\" возвращают кредит реже примерно на 1,5-2 %. "
   ]
  },
  {
   "cell_type": "markdown",
   "id": "a7d5385a",
   "metadata": {},
   "source": [
    "# Вопрос 4: Как разные цели кредита влияют на его возврат в срок?"
   ]
  },
  {
   "cell_type": "code",
   "execution_count": 34,
   "id": "8d4b20d7",
   "metadata": {},
   "outputs": [
    {
     "data": {
      "text/html": [
       "<div>\n",
       "<style scoped>\n",
       "    .dataframe tbody tr th:only-of-type {\n",
       "        vertical-align: middle;\n",
       "    }\n",
       "\n",
       "    .dataframe tbody tr th {\n",
       "        vertical-align: top;\n",
       "    }\n",
       "\n",
       "    .dataframe thead tr th {\n",
       "        text-align: left;\n",
       "    }\n",
       "\n",
       "    .dataframe thead tr:last-of-type th {\n",
       "        text-align: right;\n",
       "    }\n",
       "</style>\n",
       "<table border=\"1\" class=\"dataframe\">\n",
       "  <thead>\n",
       "    <tr>\n",
       "      <th></th>\n",
       "      <th>count</th>\n",
       "      <th>sum</th>\n",
       "      <th>mean</th>\n",
       "    </tr>\n",
       "    <tr>\n",
       "      <th></th>\n",
       "      <th>debt</th>\n",
       "      <th>debt</th>\n",
       "      <th>debt</th>\n",
       "    </tr>\n",
       "    <tr>\n",
       "      <th>purpose_category</th>\n",
       "      <th></th>\n",
       "      <th></th>\n",
       "      <th></th>\n",
       "    </tr>\n",
       "  </thead>\n",
       "  <tbody>\n",
       "    <tr>\n",
       "      <th>операции с автомобилем</th>\n",
       "      <td>4279</td>\n",
       "      <td>400</td>\n",
       "      <td>9.347978</td>\n",
       "    </tr>\n",
       "    <tr>\n",
       "      <th>операции с недвижимостью</th>\n",
       "      <td>10751</td>\n",
       "      <td>780</td>\n",
       "      <td>7.255139</td>\n",
       "    </tr>\n",
       "    <tr>\n",
       "      <th>получение образования</th>\n",
       "      <td>3988</td>\n",
       "      <td>369</td>\n",
       "      <td>9.252758</td>\n",
       "    </tr>\n",
       "    <tr>\n",
       "      <th>проведение свадьбы</th>\n",
       "      <td>2313</td>\n",
       "      <td>183</td>\n",
       "      <td>7.911803</td>\n",
       "    </tr>\n",
       "  </tbody>\n",
       "</table>\n",
       "</div>"
      ],
      "text/plain": [
       "                          count  sum      mean\n",
       "                           debt debt      debt\n",
       "purpose_category                              \n",
       "операции с автомобилем     4279  400  9.347978\n",
       "операции с недвижимостью  10751  780  7.255139\n",
       "получение образования      3988  369  9.252758\n",
       "проведение свадьбы         2313  183  7.911803"
      ]
     },
     "execution_count": 34,
     "metadata": {},
     "output_type": "execute_result"
    }
   ],
   "source": [
    "purpose_pivot = df.pivot_table(index = ['purpose_category'],values= 'debt', aggfunc = ['count','sum','mean'])\n",
    "purpose_pivot['mean'] = purpose_pivot['mean']*100\n",
    "purpose_pivot"
   ]
  },
  {
   "cell_type": "markdown",
   "id": "1efa84ea",
   "metadata": {},
   "source": [
    "Наименьший % возврата кредита по операциям, связанным с недвижимостью (7,25%) и проведением свадьбы (7,91%), наибольший - по операциям с автомобилем (9,36%) и получением образования (9,25%)"
   ]
  },
  {
   "cell_type": "markdown",
   "id": "28f0d96d",
   "metadata": {},
   "source": [
    "# Вопрос 5: Влияет ли уровень образования на возврат кредита в срок?"
   ]
  },
  {
   "cell_type": "code",
   "execution_count": 35,
   "id": "97957f8f",
   "metadata": {},
   "outputs": [
    {
     "data": {
      "text/html": [
       "<div>\n",
       "<style scoped>\n",
       "    .dataframe tbody tr th:only-of-type {\n",
       "        vertical-align: middle;\n",
       "    }\n",
       "\n",
       "    .dataframe tbody tr th {\n",
       "        vertical-align: top;\n",
       "    }\n",
       "\n",
       "    .dataframe thead th {\n",
       "        text-align: right;\n",
       "    }\n",
       "</style>\n",
       "<table border=\"1\" class=\"dataframe\">\n",
       "  <thead>\n",
       "    <tr style=\"text-align: right;\">\n",
       "      <th></th>\n",
       "      <th>education</th>\n",
       "      <th>education_id</th>\n",
       "      <th>(count, debt)</th>\n",
       "      <th>(sum, debt)</th>\n",
       "      <th>(mean, debt)</th>\n",
       "    </tr>\n",
       "  </thead>\n",
       "  <tbody>\n",
       "    <tr>\n",
       "      <th>0</th>\n",
       "      <td>высшее</td>\n",
       "      <td>0</td>\n",
       "      <td>5227</td>\n",
       "      <td>278</td>\n",
       "      <td>5.318538</td>\n",
       "    </tr>\n",
       "    <tr>\n",
       "      <th>1</th>\n",
       "      <td>среднее</td>\n",
       "      <td>1</td>\n",
       "      <td>15075</td>\n",
       "      <td>1355</td>\n",
       "      <td>8.988391</td>\n",
       "    </tr>\n",
       "    <tr>\n",
       "      <th>2</th>\n",
       "      <td>неоконченное высшее</td>\n",
       "      <td>2</td>\n",
       "      <td>741</td>\n",
       "      <td>68</td>\n",
       "      <td>9.176788</td>\n",
       "    </tr>\n",
       "    <tr>\n",
       "      <th>3</th>\n",
       "      <td>начальное</td>\n",
       "      <td>3</td>\n",
       "      <td>282</td>\n",
       "      <td>31</td>\n",
       "      <td>10.992908</td>\n",
       "    </tr>\n",
       "    <tr>\n",
       "      <th>4</th>\n",
       "      <td>ученая степень</td>\n",
       "      <td>4</td>\n",
       "      <td>6</td>\n",
       "      <td>0</td>\n",
       "      <td>0.000000</td>\n",
       "    </tr>\n",
       "  </tbody>\n",
       "</table>\n",
       "</div>"
      ],
      "text/plain": [
       "             education  education_id  (count, debt)  (sum, debt)  (mean, debt)\n",
       "0               высшее             0           5227          278      5.318538\n",
       "1              среднее             1          15075         1355      8.988391\n",
       "2  неоконченное высшее             2            741           68      9.176788\n",
       "3            начальное             3            282           31     10.992908\n",
       "4       ученая степень             4              6            0      0.000000"
      ]
     },
     "execution_count": 35,
     "metadata": {},
     "output_type": "execute_result"
    }
   ],
   "source": [
    "import warnings\n",
    "warnings.filterwarnings('ignore')\n",
    "\n",
    "education_pivot = df.pivot_table(index = ['education_id'],values= 'debt', aggfunc = ['count','sum','mean'])\n",
    "education_pivot['mean'] = education_pivot['mean']*100\n",
    "education_level_pivot = education.merge(education_pivot, on = 'education_id', how = 'right')\n",
    "education_level_pivot"
   ]
  },
  {
   "cell_type": "markdown",
   "id": "03e4f616",
   "metadata": {},
   "source": [
    "Согласно данным люди с высшим образованием возвращают кредит в срок практически в 2 раза реже, чем люди со средним образованием или неоконченным высшем.\n",
    "\n",
    "Важно отметить, что данных по клиентам с ученой степенью очень мало, поэтому они не принимались в расчёт при анализе."
   ]
  },
  {
   "cell_type": "markdown",
   "id": "dbb12d0a",
   "metadata": {},
   "source": [
    "# Общий вывод:"
   ]
  },
  {
   "cell_type": "markdown",
   "id": "2d589fcc",
   "metadata": {},
   "source": [
    "Целью нашего анализа была проверка определенных критериев на то, как они влияют на возврат кредита в срок.\n",
    "    \n",
    "Для того, чтобы верно их оценить, в первую очередь мы поработали с данными в целом, а именно: \n",
    " - избавились от дубликатов, \n",
    " - скорректировали типы данных,\n",
    " - выявили аномальные значения.\n",
    "\n",
    "Далее для удобства анализа мы добавили дополнительные столбцы, в которых разделили уровень дохода и цели кредита на определенные категории.\n",
    "\n",
    "В ходе исследования мы проверили несколько гипотез и установили, что:\n",
    "    \n",
    "1. Клиенты, которые состоят в гражданском браке или не состоят в браке вовсе возвращают кредит в срок примерно на 2% чаще, чем замужние/женатые клиенты или же клиенты в разводе. Реже всего возвращают кредит в срок клиенты из группы \"вдова/вдовец\". Таким образом, первая гипотеза о том, что люди состоящие в браке чаще возвращают кредит в срок не подтвердилась.\n",
    "\n",
    "2. Клиенты с детьми возвращают кредит в срок чаще, чем клиенты без детей, при этом количество детей значительно не влияет на % возврата. Таким образом, вторая гипотеза полностью подтвердилась.\n",
    "\n",
    "3. Клиенты со средним уровнем дохода (50 - 200 тыс.) возвращают кредит в срок на 1,5-2% чаще, чем клиенты с уровнем дохода из соседних диапазонов (\"В\" и \"D\"). Третья гипотеза не подтвердилась.\n",
    "\n",
    "\n",
    "Дополнительно мы проверили, как влияют разные цели получения кредита и уровень образования клиентов на возврат кредита в срок: \n",
    " - так если целью являются операции с недвижимостью или проведение свадьбы, % возврата относительно других групп снижается примерно на 1-2%,\n",
    " - а клиенты с высшим образованием практически в 2 раза реже возвращают кредит в срок, чем клиенты со среднем и неоконченным высшем образованием."
   ]
  }
 ],
 "metadata": {
  "ExecuteTimeLog": [
   {
    "duration": 143,
    "start_time": "2022-04-02T15:53:19.160Z"
   },
   {
    "duration": 618,
    "start_time": "2022-04-02T15:53:34.071Z"
   },
   {
    "duration": 22,
    "start_time": "2022-04-02T15:54:04.930Z"
   },
   {
    "duration": 50,
    "start_time": "2022-04-03T14:41:21.814Z"
   },
   {
    "duration": 481,
    "start_time": "2022-04-03T14:41:39.141Z"
   },
   {
    "duration": 16,
    "start_time": "2022-04-03T14:41:39.625Z"
   },
   {
    "duration": 26,
    "start_time": "2022-04-03T14:41:39.643Z"
   },
   {
    "duration": 62,
    "start_time": "2022-04-03T15:36:39.445Z"
   },
   {
    "duration": 5,
    "start_time": "2022-04-03T15:36:47.831Z"
   },
   {
    "duration": 196,
    "start_time": "2022-04-03T15:38:00.196Z"
   },
   {
    "duration": 5,
    "start_time": "2022-04-03T15:38:11.285Z"
   },
   {
    "duration": 5,
    "start_time": "2022-04-03T15:39:42.905Z"
   },
   {
    "duration": 118,
    "start_time": "2022-04-03T15:39:53.535Z"
   },
   {
    "duration": 8,
    "start_time": "2022-04-03T15:40:03.745Z"
   },
   {
    "duration": 119,
    "start_time": "2022-04-03T15:40:12.005Z"
   },
   {
    "duration": 6,
    "start_time": "2022-04-03T15:40:18.435Z"
   },
   {
    "duration": 96,
    "start_time": "2022-04-03T15:40:24.731Z"
   },
   {
    "duration": 5,
    "start_time": "2022-04-03T15:40:38.293Z"
   },
   {
    "duration": 4,
    "start_time": "2022-04-03T15:43:39.549Z"
   },
   {
    "duration": 4,
    "start_time": "2022-04-03T15:43:40.930Z"
   },
   {
    "duration": 4,
    "start_time": "2022-04-03T15:43:42.832Z"
   },
   {
    "duration": 4,
    "start_time": "2022-04-03T15:43:50.679Z"
   },
   {
    "duration": 3,
    "start_time": "2022-04-03T15:43:55.029Z"
   },
   {
    "duration": 5,
    "start_time": "2022-04-03T15:44:06.320Z"
   },
   {
    "duration": 5,
    "start_time": "2022-04-03T15:45:05.950Z"
   },
   {
    "duration": 6,
    "start_time": "2022-04-03T15:51:32.908Z"
   },
   {
    "duration": 112,
    "start_time": "2022-04-09T05:44:51.274Z"
   },
   {
    "duration": 9,
    "start_time": "2022-04-09T05:45:17.441Z"
   },
   {
    "duration": 11,
    "start_time": "2022-04-09T05:45:18.957Z"
   },
   {
    "duration": 9,
    "start_time": "2022-04-09T06:56:42.194Z"
   },
   {
    "duration": 607,
    "start_time": "2022-04-09T06:57:18.841Z"
   },
   {
    "duration": 21,
    "start_time": "2022-04-09T06:57:19.451Z"
   },
   {
    "duration": 9,
    "start_time": "2022-04-09T06:57:22.582Z"
   },
   {
    "duration": 9,
    "start_time": "2022-04-09T06:59:00.703Z"
   },
   {
    "duration": 10,
    "start_time": "2022-04-09T06:59:08.889Z"
   },
   {
    "duration": 7,
    "start_time": "2022-04-09T07:02:05.025Z"
   },
   {
    "duration": 8,
    "start_time": "2022-04-09T07:02:39.626Z"
   },
   {
    "duration": 13,
    "start_time": "2022-04-09T07:37:01.863Z"
   },
   {
    "duration": 24,
    "start_time": "2022-04-09T07:37:59.329Z"
   },
   {
    "duration": 13,
    "start_time": "2022-04-09T07:39:13.040Z"
   },
   {
    "duration": 25,
    "start_time": "2022-04-09T07:42:31.619Z"
   },
   {
    "duration": 40,
    "start_time": "2022-04-09T07:54:11.421Z"
   },
   {
    "duration": 13,
    "start_time": "2022-04-09T07:54:19.029Z"
   },
   {
    "duration": 8,
    "start_time": "2022-04-09T07:57:19.127Z"
   },
   {
    "duration": 7,
    "start_time": "2022-04-09T07:57:24.648Z"
   },
   {
    "duration": 6,
    "start_time": "2022-04-09T07:57:59.899Z"
   },
   {
    "duration": 13,
    "start_time": "2022-04-09T07:58:48.671Z"
   },
   {
    "duration": 10,
    "start_time": "2022-04-09T08:00:11.966Z"
   },
   {
    "duration": 15,
    "start_time": "2022-04-09T08:07:57.176Z"
   },
   {
    "duration": 10,
    "start_time": "2022-04-09T08:08:07.390Z"
   },
   {
    "duration": 8,
    "start_time": "2022-04-09T08:17:06.474Z"
   },
   {
    "duration": 9,
    "start_time": "2022-04-09T08:17:23.113Z"
   },
   {
    "duration": 48,
    "start_time": "2022-04-13T18:31:51.775Z"
   },
   {
    "duration": 488,
    "start_time": "2022-04-13T18:31:57.208Z"
   },
   {
    "duration": 15,
    "start_time": "2022-04-13T18:31:57.698Z"
   },
   {
    "duration": 9,
    "start_time": "2022-04-13T18:31:59.714Z"
   },
   {
    "duration": 7,
    "start_time": "2022-04-13T18:32:13.236Z"
   },
   {
    "duration": 20,
    "start_time": "2022-04-13T18:32:56.555Z"
   },
   {
    "duration": 47,
    "start_time": "2022-04-13T18:33:24.172Z"
   },
   {
    "duration": 9,
    "start_time": "2022-04-13T18:33:26.538Z"
   },
   {
    "duration": 15,
    "start_time": "2022-04-13T18:33:49.570Z"
   },
   {
    "duration": 20,
    "start_time": "2022-04-13T18:33:56.777Z"
   },
   {
    "duration": 7,
    "start_time": "2022-04-13T18:36:06.398Z"
   },
   {
    "duration": 10,
    "start_time": "2022-04-13T18:37:39.686Z"
   },
   {
    "duration": 8,
    "start_time": "2022-04-13T18:46:35.035Z"
   },
   {
    "duration": 12,
    "start_time": "2022-04-13T18:46:47.147Z"
   },
   {
    "duration": 10,
    "start_time": "2022-04-13T18:47:04.889Z"
   },
   {
    "duration": 12,
    "start_time": "2022-04-13T18:56:11.470Z"
   },
   {
    "duration": 18,
    "start_time": "2022-04-13T19:07:13.894Z"
   },
   {
    "duration": 18,
    "start_time": "2022-04-13T19:07:23.576Z"
   },
   {
    "duration": 6,
    "start_time": "2022-04-13T19:08:02.040Z"
   },
   {
    "duration": 66,
    "start_time": "2022-04-13T19:08:07.867Z"
   },
   {
    "duration": 13,
    "start_time": "2022-04-13T19:08:07.935Z"
   },
   {
    "duration": 7,
    "start_time": "2022-04-13T19:08:07.950Z"
   },
   {
    "duration": 6,
    "start_time": "2022-04-13T19:08:09.311Z"
   },
   {
    "duration": 64,
    "start_time": "2022-04-13T19:08:28.374Z"
   },
   {
    "duration": 15,
    "start_time": "2022-04-13T19:08:28.439Z"
   },
   {
    "duration": 7,
    "start_time": "2022-04-13T19:08:29.408Z"
   },
   {
    "duration": 10,
    "start_time": "2022-04-13T19:08:29.417Z"
   },
   {
    "duration": 11,
    "start_time": "2022-04-13T19:08:29.429Z"
   },
   {
    "duration": 2,
    "start_time": "2022-04-13T19:08:29.442Z"
   },
   {
    "duration": 23,
    "start_time": "2022-04-13T19:24:03.870Z"
   },
   {
    "duration": 23,
    "start_time": "2022-04-13T19:24:39.545Z"
   },
   {
    "duration": 26,
    "start_time": "2022-04-13T19:25:20.751Z"
   },
   {
    "duration": 18,
    "start_time": "2022-04-13T19:25:28.812Z"
   },
   {
    "duration": 20,
    "start_time": "2022-04-13T19:27:50.699Z"
   },
   {
    "duration": 8,
    "start_time": "2022-04-13T19:29:23.176Z"
   },
   {
    "duration": 74,
    "start_time": "2022-04-13T19:41:18.676Z"
   },
   {
    "duration": 9,
    "start_time": "2022-04-13T19:41:55.384Z"
   },
   {
    "duration": 7,
    "start_time": "2022-04-13T20:03:14.355Z"
   },
   {
    "duration": 4,
    "start_time": "2022-04-13T20:03:21.305Z"
   },
   {
    "duration": 9,
    "start_time": "2022-04-13T20:04:54.393Z"
   },
   {
    "duration": 8,
    "start_time": "2022-04-13T20:08:35.387Z"
   },
   {
    "duration": 11,
    "start_time": "2022-04-13T20:09:18.560Z"
   },
   {
    "duration": 8,
    "start_time": "2022-04-13T20:10:27.059Z"
   },
   {
    "duration": 61,
    "start_time": "2022-04-13T20:10:36.091Z"
   },
   {
    "duration": 14,
    "start_time": "2022-04-13T20:10:36.154Z"
   },
   {
    "duration": 9,
    "start_time": "2022-04-13T20:10:36.169Z"
   },
   {
    "duration": 22,
    "start_time": "2022-04-13T20:10:36.181Z"
   },
   {
    "duration": 9,
    "start_time": "2022-04-13T20:10:36.205Z"
   },
   {
    "duration": 19,
    "start_time": "2022-04-13T20:10:36.216Z"
   },
   {
    "duration": 8,
    "start_time": "2022-04-13T20:10:36.236Z"
   },
   {
    "duration": 33,
    "start_time": "2022-04-13T20:10:36.245Z"
   },
   {
    "duration": 63,
    "start_time": "2022-04-13T20:10:47.261Z"
   },
   {
    "duration": 18,
    "start_time": "2022-04-13T20:10:47.327Z"
   },
   {
    "duration": 7,
    "start_time": "2022-04-13T20:10:47.346Z"
   },
   {
    "duration": 31,
    "start_time": "2022-04-13T20:10:47.354Z"
   },
   {
    "duration": 13,
    "start_time": "2022-04-13T20:10:47.387Z"
   },
   {
    "duration": 20,
    "start_time": "2022-04-13T20:10:47.401Z"
   },
   {
    "duration": 8,
    "start_time": "2022-04-13T20:10:47.423Z"
   },
   {
    "duration": 9,
    "start_time": "2022-04-13T20:10:47.433Z"
   },
   {
    "duration": 61,
    "start_time": "2022-04-13T20:10:52.741Z"
   },
   {
    "duration": 15,
    "start_time": "2022-04-13T20:10:52.804Z"
   },
   {
    "duration": 11,
    "start_time": "2022-04-13T20:10:52.821Z"
   },
   {
    "duration": 9,
    "start_time": "2022-04-13T20:10:52.834Z"
   },
   {
    "duration": 32,
    "start_time": "2022-04-13T20:10:52.845Z"
   },
   {
    "duration": 24,
    "start_time": "2022-04-13T20:10:52.879Z"
   },
   {
    "duration": 7,
    "start_time": "2022-04-13T20:10:52.904Z"
   },
   {
    "duration": 12,
    "start_time": "2022-04-13T20:10:52.912Z"
   },
   {
    "duration": 7,
    "start_time": "2022-04-13T20:10:52.925Z"
   },
   {
    "duration": 9,
    "start_time": "2022-04-13T20:10:52.933Z"
   },
   {
    "duration": 14,
    "start_time": "2022-04-13T20:10:52.974Z"
   },
   {
    "duration": 12,
    "start_time": "2022-04-13T20:10:52.990Z"
   },
   {
    "duration": 9,
    "start_time": "2022-04-13T20:46:31.157Z"
   },
   {
    "duration": 8,
    "start_time": "2022-04-13T20:48:26.985Z"
   },
   {
    "duration": 23,
    "start_time": "2022-04-13T20:51:21.053Z"
   },
   {
    "duration": 5,
    "start_time": "2022-04-13T21:02:02.932Z"
   },
   {
    "duration": 9,
    "start_time": "2022-04-13T21:02:21.418Z"
   },
   {
    "duration": 10,
    "start_time": "2022-04-13T21:02:53.599Z"
   },
   {
    "duration": 16,
    "start_time": "2022-04-13T21:03:01.030Z"
   },
   {
    "duration": 45,
    "start_time": "2022-04-16T12:23:07.468Z"
   },
   {
    "duration": 476,
    "start_time": "2022-04-16T12:23:14.189Z"
   },
   {
    "duration": 16,
    "start_time": "2022-04-16T12:23:14.667Z"
   },
   {
    "duration": 16,
    "start_time": "2022-04-16T12:23:14.685Z"
   },
   {
    "duration": 11,
    "start_time": "2022-04-16T12:23:14.702Z"
   },
   {
    "duration": 9,
    "start_time": "2022-04-16T12:23:14.715Z"
   },
   {
    "duration": 20,
    "start_time": "2022-04-16T12:23:14.725Z"
   },
   {
    "duration": 7,
    "start_time": "2022-04-16T12:23:14.746Z"
   },
   {
    "duration": 8,
    "start_time": "2022-04-16T12:23:14.755Z"
   },
   {
    "duration": 40,
    "start_time": "2022-04-16T12:23:14.764Z"
   },
   {
    "duration": 14,
    "start_time": "2022-04-16T12:23:14.806Z"
   },
   {
    "duration": 18,
    "start_time": "2022-04-16T12:23:14.822Z"
   },
   {
    "duration": 15,
    "start_time": "2022-04-16T12:23:14.841Z"
   },
   {
    "duration": 23,
    "start_time": "2022-04-16T12:23:18.829Z"
   },
   {
    "duration": 30,
    "start_time": "2022-04-16T12:25:37.069Z"
   },
   {
    "duration": 41,
    "start_time": "2022-04-16T12:25:49.588Z"
   },
   {
    "duration": 17,
    "start_time": "2022-04-16T12:26:13.628Z"
   },
   {
    "duration": 16,
    "start_time": "2022-04-16T12:26:16.193Z"
   },
   {
    "duration": 63,
    "start_time": "2022-04-16T12:26:25.558Z"
   },
   {
    "duration": 13,
    "start_time": "2022-04-16T12:26:25.623Z"
   },
   {
    "duration": 6,
    "start_time": "2022-04-16T12:26:25.637Z"
   },
   {
    "duration": 8,
    "start_time": "2022-04-16T12:26:25.644Z"
   },
   {
    "duration": 8,
    "start_time": "2022-04-16T12:26:25.653Z"
   },
   {
    "duration": 41,
    "start_time": "2022-04-16T12:26:25.662Z"
   },
   {
    "duration": 6,
    "start_time": "2022-04-16T12:26:25.705Z"
   },
   {
    "duration": 8,
    "start_time": "2022-04-16T12:26:25.712Z"
   },
   {
    "duration": 9,
    "start_time": "2022-04-16T12:26:25.721Z"
   },
   {
    "duration": 7,
    "start_time": "2022-04-16T12:26:25.731Z"
   },
   {
    "duration": 17,
    "start_time": "2022-04-16T12:26:25.740Z"
   },
   {
    "duration": 50,
    "start_time": "2022-04-16T12:26:25.758Z"
   },
   {
    "duration": 14,
    "start_time": "2022-04-16T12:26:28.628Z"
   },
   {
    "duration": 44,
    "start_time": "2022-04-16T12:26:31.325Z"
   },
   {
    "duration": 14,
    "start_time": "2022-04-16T12:49:37.621Z"
   },
   {
    "duration": 12,
    "start_time": "2022-04-16T13:00:04.070Z"
   },
   {
    "duration": 22,
    "start_time": "2022-04-16T13:00:25.788Z"
   },
   {
    "duration": 26,
    "start_time": "2022-04-16T13:02:50.062Z"
   },
   {
    "duration": 15,
    "start_time": "2022-04-16T13:03:29.991Z"
   },
   {
    "duration": 59,
    "start_time": "2022-04-16T13:03:56.874Z"
   },
   {
    "duration": 23,
    "start_time": "2022-04-16T13:05:36.388Z"
   },
   {
    "duration": 15,
    "start_time": "2022-04-16T13:06:04.907Z"
   },
   {
    "duration": 17,
    "start_time": "2022-04-16T13:06:25.307Z"
   },
   {
    "duration": 196,
    "start_time": "2022-04-16T13:58:20.317Z"
   },
   {
    "duration": 139,
    "start_time": "2022-04-16T14:01:53.390Z"
   },
   {
    "duration": 19,
    "start_time": "2022-04-16T14:13:20.911Z"
   },
   {
    "duration": 37,
    "start_time": "2022-04-16T14:14:32.390Z"
   },
   {
    "duration": 14,
    "start_time": "2022-04-16T14:48:50.309Z"
   },
   {
    "duration": 5,
    "start_time": "2022-04-16T14:50:21.229Z"
   },
   {
    "duration": 5,
    "start_time": "2022-04-16T14:53:04.021Z"
   },
   {
    "duration": 26,
    "start_time": "2022-04-16T15:07:15.388Z"
   },
   {
    "duration": 8,
    "start_time": "2022-04-16T15:07:15.829Z"
   },
   {
    "duration": 4,
    "start_time": "2022-04-16T15:08:24.789Z"
   },
   {
    "duration": 4,
    "start_time": "2022-04-16T15:08:27.068Z"
   },
   {
    "duration": 4,
    "start_time": "2022-04-16T15:08:28.428Z"
   },
   {
    "duration": 9,
    "start_time": "2022-04-16T15:08:36.633Z"
   },
   {
    "duration": 8,
    "start_time": "2022-04-16T15:09:45.109Z"
   },
   {
    "duration": 12,
    "start_time": "2022-04-16T15:10:05.788Z"
   },
   {
    "duration": 21,
    "start_time": "2022-04-16T15:22:53.349Z"
   },
   {
    "duration": 41,
    "start_time": "2022-04-17T09:06:16.300Z"
   },
   {
    "duration": 454,
    "start_time": "2022-04-17T09:06:22.612Z"
   },
   {
    "duration": 13,
    "start_time": "2022-04-17T09:06:23.068Z"
   },
   {
    "duration": 6,
    "start_time": "2022-04-17T09:06:23.082Z"
   },
   {
    "duration": 11,
    "start_time": "2022-04-17T09:06:23.090Z"
   },
   {
    "duration": 25,
    "start_time": "2022-04-17T09:06:23.102Z"
   },
   {
    "duration": 21,
    "start_time": "2022-04-17T09:06:23.129Z"
   },
   {
    "duration": 6,
    "start_time": "2022-04-17T09:06:23.152Z"
   },
   {
    "duration": 7,
    "start_time": "2022-04-17T09:06:23.159Z"
   },
   {
    "duration": 8,
    "start_time": "2022-04-17T09:06:23.167Z"
   },
   {
    "duration": 6,
    "start_time": "2022-04-17T09:06:23.177Z"
   },
   {
    "duration": 51,
    "start_time": "2022-04-17T09:06:23.184Z"
   },
   {
    "duration": 13,
    "start_time": "2022-04-17T09:06:23.236Z"
   },
   {
    "duration": 15,
    "start_time": "2022-04-17T09:06:23.250Z"
   },
   {
    "duration": 30,
    "start_time": "2022-04-17T09:06:23.266Z"
   },
   {
    "duration": 39,
    "start_time": "2022-04-17T09:06:23.297Z"
   },
   {
    "duration": 25,
    "start_time": "2022-04-17T09:06:23.337Z"
   },
   {
    "duration": 14,
    "start_time": "2022-04-17T09:06:23.364Z"
   },
   {
    "duration": 14,
    "start_time": "2022-04-17T09:06:23.379Z"
   },
   {
    "duration": 15,
    "start_time": "2022-04-17T09:06:23.423Z"
   },
   {
    "duration": 15,
    "start_time": "2022-04-17T09:06:23.439Z"
   },
   {
    "duration": 27,
    "start_time": "2022-04-17T09:06:23.456Z"
   },
   {
    "duration": 8,
    "start_time": "2022-04-17T09:06:23.484Z"
   },
   {
    "duration": 159,
    "start_time": "2022-04-17T09:06:23.494Z"
   },
   {
    "duration": 11,
    "start_time": "2022-04-17T09:20:17.752Z"
   },
   {
    "duration": 21,
    "start_time": "2022-04-17T09:20:31.318Z"
   },
   {
    "duration": 29,
    "start_time": "2022-04-17T09:24:47.403Z"
   },
   {
    "duration": 58,
    "start_time": "2022-04-17T09:24:53.330Z"
   },
   {
    "duration": 12,
    "start_time": "2022-04-17T09:24:53.389Z"
   },
   {
    "duration": 5,
    "start_time": "2022-04-17T09:24:53.403Z"
   },
   {
    "duration": 19,
    "start_time": "2022-04-17T09:24:53.409Z"
   },
   {
    "duration": 9,
    "start_time": "2022-04-17T09:24:53.430Z"
   },
   {
    "duration": 17,
    "start_time": "2022-04-17T09:24:53.441Z"
   },
   {
    "duration": 6,
    "start_time": "2022-04-17T09:24:53.460Z"
   },
   {
    "duration": 7,
    "start_time": "2022-04-17T09:24:53.467Z"
   },
   {
    "duration": 9,
    "start_time": "2022-04-17T09:24:53.475Z"
   },
   {
    "duration": 41,
    "start_time": "2022-04-17T09:24:53.485Z"
   },
   {
    "duration": 17,
    "start_time": "2022-04-17T09:24:53.527Z"
   },
   {
    "duration": 12,
    "start_time": "2022-04-17T09:24:53.546Z"
   },
   {
    "duration": 14,
    "start_time": "2022-04-17T09:24:53.560Z"
   },
   {
    "duration": 59,
    "start_time": "2022-04-17T09:24:53.576Z"
   },
   {
    "duration": 12,
    "start_time": "2022-04-17T09:24:53.636Z"
   },
   {
    "duration": 24,
    "start_time": "2022-04-17T09:24:53.649Z"
   },
   {
    "duration": 11,
    "start_time": "2022-04-17T09:24:53.675Z"
   },
   {
    "duration": 14,
    "start_time": "2022-04-17T09:24:53.688Z"
   },
   {
    "duration": 31,
    "start_time": "2022-04-17T09:24:53.704Z"
   },
   {
    "duration": 14,
    "start_time": "2022-04-17T09:24:53.737Z"
   },
   {
    "duration": 27,
    "start_time": "2022-04-17T09:24:53.753Z"
   },
   {
    "duration": 10,
    "start_time": "2022-04-17T09:25:05.615Z"
   },
   {
    "duration": 23,
    "start_time": "2022-04-17T09:28:26.237Z"
   },
   {
    "duration": 60,
    "start_time": "2022-04-17T09:28:33.420Z"
   },
   {
    "duration": 12,
    "start_time": "2022-04-17T09:28:33.482Z"
   },
   {
    "duration": 6,
    "start_time": "2022-04-17T09:28:33.496Z"
   },
   {
    "duration": 22,
    "start_time": "2022-04-17T09:28:33.504Z"
   },
   {
    "duration": 9,
    "start_time": "2022-04-17T09:28:33.527Z"
   },
   {
    "duration": 18,
    "start_time": "2022-04-17T09:28:33.537Z"
   },
   {
    "duration": 6,
    "start_time": "2022-04-17T09:28:33.556Z"
   },
   {
    "duration": 7,
    "start_time": "2022-04-17T09:28:33.564Z"
   },
   {
    "duration": 7,
    "start_time": "2022-04-17T09:28:33.573Z"
   },
   {
    "duration": 6,
    "start_time": "2022-04-17T09:28:33.582Z"
   },
   {
    "duration": 19,
    "start_time": "2022-04-17T09:28:33.624Z"
   },
   {
    "duration": 13,
    "start_time": "2022-04-17T09:28:33.644Z"
   },
   {
    "duration": 14,
    "start_time": "2022-04-17T09:28:33.658Z"
   },
   {
    "duration": 53,
    "start_time": "2022-04-17T09:28:33.674Z"
   },
   {
    "duration": 12,
    "start_time": "2022-04-17T09:28:33.728Z"
   },
   {
    "duration": 61,
    "start_time": "2022-04-17T09:28:48.499Z"
   },
   {
    "duration": 12,
    "start_time": "2022-04-17T09:28:48.562Z"
   },
   {
    "duration": 6,
    "start_time": "2022-04-17T09:28:48.575Z"
   },
   {
    "duration": 11,
    "start_time": "2022-04-17T09:28:48.583Z"
   },
   {
    "duration": 33,
    "start_time": "2022-04-17T09:28:48.596Z"
   },
   {
    "duration": 19,
    "start_time": "2022-04-17T09:28:48.630Z"
   },
   {
    "duration": 7,
    "start_time": "2022-04-17T09:28:48.650Z"
   },
   {
    "duration": 10,
    "start_time": "2022-04-17T09:28:48.659Z"
   },
   {
    "duration": 12,
    "start_time": "2022-04-17T09:28:48.670Z"
   },
   {
    "duration": 9,
    "start_time": "2022-04-17T09:28:48.684Z"
   },
   {
    "duration": 42,
    "start_time": "2022-04-17T09:28:48.694Z"
   },
   {
    "duration": 13,
    "start_time": "2022-04-17T09:28:48.737Z"
   },
   {
    "duration": 19,
    "start_time": "2022-04-17T09:28:48.752Z"
   },
   {
    "duration": 31,
    "start_time": "2022-04-17T09:28:48.773Z"
   },
   {
    "duration": 14,
    "start_time": "2022-04-17T09:28:48.823Z"
   },
   {
    "duration": 25,
    "start_time": "2022-04-17T09:28:48.838Z"
   },
   {
    "duration": 13,
    "start_time": "2022-04-17T09:28:48.865Z"
   },
   {
    "duration": 13,
    "start_time": "2022-04-17T09:28:48.880Z"
   },
   {
    "duration": 42,
    "start_time": "2022-04-17T09:28:48.895Z"
   },
   {
    "duration": 19,
    "start_time": "2022-04-17T09:28:48.938Z"
   },
   {
    "duration": 34,
    "start_time": "2022-04-17T09:28:48.958Z"
   },
   {
    "duration": 54,
    "start_time": "2022-04-17T09:28:55.889Z"
   },
   {
    "duration": 11,
    "start_time": "2022-04-17T09:28:55.945Z"
   },
   {
    "duration": 13,
    "start_time": "2022-04-17T09:28:55.958Z"
   },
   {
    "duration": 17,
    "start_time": "2022-04-17T09:28:55.972Z"
   },
   {
    "duration": 13,
    "start_time": "2022-04-17T09:28:55.991Z"
   },
   {
    "duration": 18,
    "start_time": "2022-04-17T09:28:56.006Z"
   },
   {
    "duration": 6,
    "start_time": "2022-04-17T09:28:56.026Z"
   },
   {
    "duration": 9,
    "start_time": "2022-04-17T09:28:56.033Z"
   },
   {
    "duration": 8,
    "start_time": "2022-04-17T09:28:56.043Z"
   },
   {
    "duration": 6,
    "start_time": "2022-04-17T09:28:56.053Z"
   },
   {
    "duration": 17,
    "start_time": "2022-04-17T09:28:56.061Z"
   },
   {
    "duration": 46,
    "start_time": "2022-04-17T09:28:56.080Z"
   },
   {
    "duration": 16,
    "start_time": "2022-04-17T09:28:56.128Z"
   },
   {
    "duration": 32,
    "start_time": "2022-04-17T09:28:56.146Z"
   },
   {
    "duration": 13,
    "start_time": "2022-04-17T09:28:56.180Z"
   },
   {
    "duration": 51,
    "start_time": "2022-04-17T09:28:56.195Z"
   },
   {
    "duration": 14,
    "start_time": "2022-04-17T09:28:56.247Z"
   },
   {
    "duration": 13,
    "start_time": "2022-04-17T09:28:56.263Z"
   },
   {
    "duration": 15,
    "start_time": "2022-04-17T09:28:56.278Z"
   },
   {
    "duration": 43,
    "start_time": "2022-04-17T09:28:56.295Z"
   },
   {
    "duration": 32,
    "start_time": "2022-04-17T09:28:56.340Z"
   },
   {
    "duration": 10,
    "start_time": "2022-04-17T09:28:56.374Z"
   },
   {
    "duration": 0,
    "start_time": "2022-04-17T09:28:56.386Z"
   },
   {
    "duration": 8,
    "start_time": "2022-04-17T09:30:05.668Z"
   },
   {
    "duration": 8,
    "start_time": "2022-04-17T10:14:46.040Z"
   },
   {
    "duration": 1614,
    "start_time": "2022-04-17T10:15:11.972Z"
   },
   {
    "duration": 6,
    "start_time": "2022-04-17T10:15:20.327Z"
   },
   {
    "duration": 10,
    "start_time": "2022-04-17T10:16:47.429Z"
   },
   {
    "duration": 10,
    "start_time": "2022-04-17T10:17:42.693Z"
   },
   {
    "duration": 12,
    "start_time": "2022-04-17T10:19:40.499Z"
   },
   {
    "duration": 13,
    "start_time": "2022-04-17T10:20:02.727Z"
   },
   {
    "duration": 6,
    "start_time": "2022-04-17T10:33:09.054Z"
   },
   {
    "duration": 11,
    "start_time": "2022-04-17T10:33:20.696Z"
   },
   {
    "duration": 7,
    "start_time": "2022-04-17T10:43:59.667Z"
   },
   {
    "duration": 11,
    "start_time": "2022-04-17T10:44:57.125Z"
   },
   {
    "duration": 5,
    "start_time": "2022-04-17T10:55:40.749Z"
   },
   {
    "duration": 5,
    "start_time": "2022-04-17T10:55:48.491Z"
   },
   {
    "duration": 17,
    "start_time": "2022-04-17T10:59:20.936Z"
   },
   {
    "duration": 422,
    "start_time": "2022-04-17T10:59:34.669Z"
   },
   {
    "duration": 451,
    "start_time": "2022-04-17T11:00:01.429Z"
   },
   {
    "duration": 11,
    "start_time": "2022-04-17T11:00:31.211Z"
   },
   {
    "duration": 19,
    "start_time": "2022-04-17T11:00:45.205Z"
   },
   {
    "duration": 130,
    "start_time": "2022-04-17T11:06:59.463Z"
   },
   {
    "duration": 444,
    "start_time": "2022-04-17T11:08:43.681Z"
   },
   {
    "duration": 18,
    "start_time": "2022-04-17T11:08:49.589Z"
   },
   {
    "duration": 18,
    "start_time": "2022-04-17T11:09:19.903Z"
   },
   {
    "duration": 4,
    "start_time": "2022-04-17T11:19:51.696Z"
   },
   {
    "duration": 6,
    "start_time": "2022-04-17T11:20:04.289Z"
   },
   {
    "duration": 15,
    "start_time": "2022-04-17T11:20:47.719Z"
   },
   {
    "duration": 6,
    "start_time": "2022-04-17T11:21:06.484Z"
   },
   {
    "duration": 6,
    "start_time": "2022-04-17T11:23:01.917Z"
   },
   {
    "duration": 5,
    "start_time": "2022-04-17T11:23:08.474Z"
   },
   {
    "duration": 16,
    "start_time": "2022-04-17T11:23:32.616Z"
   },
   {
    "duration": 5,
    "start_time": "2022-04-17T11:34:27.764Z"
   },
   {
    "duration": 18,
    "start_time": "2022-04-17T12:24:39.739Z"
   },
   {
    "duration": 6,
    "start_time": "2022-04-17T12:32:18.897Z"
   },
   {
    "duration": 12,
    "start_time": "2022-04-17T12:32:29.634Z"
   },
   {
    "duration": 7,
    "start_time": "2022-04-17T12:38:16.722Z"
   },
   {
    "duration": 450,
    "start_time": "2022-04-17T12:39:07.824Z"
   },
   {
    "duration": 13,
    "start_time": "2022-04-17T12:39:08.276Z"
   },
   {
    "duration": 6,
    "start_time": "2022-04-17T12:39:08.290Z"
   },
   {
    "duration": 8,
    "start_time": "2022-04-17T12:39:08.298Z"
   },
   {
    "duration": 13,
    "start_time": "2022-04-17T12:39:08.324Z"
   },
   {
    "duration": 29,
    "start_time": "2022-04-17T12:39:08.339Z"
   },
   {
    "duration": 9,
    "start_time": "2022-04-17T12:39:08.370Z"
   },
   {
    "duration": 8,
    "start_time": "2022-04-17T12:39:08.381Z"
   },
   {
    "duration": 39,
    "start_time": "2022-04-17T12:39:08.391Z"
   },
   {
    "duration": 10,
    "start_time": "2022-04-17T12:39:08.434Z"
   },
   {
    "duration": 26,
    "start_time": "2022-04-17T12:39:08.446Z"
   },
   {
    "duration": 5,
    "start_time": "2022-04-17T12:39:08.474Z"
   },
   {
    "duration": 10,
    "start_time": "2022-04-17T12:39:08.481Z"
   },
   {
    "duration": 50,
    "start_time": "2022-04-17T12:39:08.493Z"
   },
   {
    "duration": 22,
    "start_time": "2022-04-17T12:39:08.546Z"
   },
   {
    "duration": 54,
    "start_time": "2022-04-17T12:39:08.570Z"
   },
   {
    "duration": 15,
    "start_time": "2022-04-17T12:39:08.626Z"
   },
   {
    "duration": 29,
    "start_time": "2022-04-17T12:39:08.642Z"
   },
   {
    "duration": 12,
    "start_time": "2022-04-17T12:39:08.672Z"
   },
   {
    "duration": 11,
    "start_time": "2022-04-17T12:39:08.686Z"
   },
   {
    "duration": 40,
    "start_time": "2022-04-17T12:39:08.698Z"
   },
   {
    "duration": 18,
    "start_time": "2022-04-17T12:39:08.739Z"
   },
   {
    "duration": 28,
    "start_time": "2022-04-17T12:39:08.759Z"
   },
   {
    "duration": 40,
    "start_time": "2022-04-17T12:39:08.789Z"
   },
   {
    "duration": 12,
    "start_time": "2022-04-17T12:39:08.830Z"
   },
   {
    "duration": 13,
    "start_time": "2022-04-17T12:39:08.844Z"
   },
   {
    "duration": 21,
    "start_time": "2022-04-17T12:39:08.859Z"
   },
   {
    "duration": 43,
    "start_time": "2022-04-17T12:39:08.882Z"
   },
   {
    "duration": 17,
    "start_time": "2022-04-17T12:39:08.927Z"
   },
   {
    "duration": 9,
    "start_time": "2022-04-17T13:04:05.043Z"
   },
   {
    "duration": 8,
    "start_time": "2022-04-17T13:04:07.423Z"
   },
   {
    "duration": 11,
    "start_time": "2022-04-17T13:04:18.996Z"
   },
   {
    "duration": 103,
    "start_time": "2022-04-17T13:04:33.496Z"
   },
   {
    "duration": 18,
    "start_time": "2022-04-17T13:04:47.222Z"
   },
   {
    "duration": 66,
    "start_time": "2022-04-17T13:15:09.675Z"
   },
   {
    "duration": 20,
    "start_time": "2022-04-17T13:15:23.241Z"
   },
   {
    "duration": 19,
    "start_time": "2022-04-17T13:15:31.940Z"
   },
   {
    "duration": 20,
    "start_time": "2022-04-17T13:16:10.124Z"
   },
   {
    "duration": 13,
    "start_time": "2022-04-17T13:40:18.388Z"
   },
   {
    "duration": 16,
    "start_time": "2022-04-17T13:40:23.944Z"
   },
   {
    "duration": 16,
    "start_time": "2022-04-17T13:44:07.147Z"
   },
   {
    "duration": 15,
    "start_time": "2022-04-17T13:44:27.214Z"
   },
   {
    "duration": 15,
    "start_time": "2022-04-17T13:45:06.774Z"
   },
   {
    "duration": 13,
    "start_time": "2022-04-17T13:45:24.806Z"
   },
   {
    "duration": 19,
    "start_time": "2022-04-17T13:45:31.306Z"
   },
   {
    "duration": 21,
    "start_time": "2022-04-17T13:47:17.588Z"
   },
   {
    "duration": 21,
    "start_time": "2022-04-17T13:47:29.403Z"
   },
   {
    "duration": 24,
    "start_time": "2022-04-17T13:52:25.908Z"
   },
   {
    "duration": 25,
    "start_time": "2022-04-17T13:53:32.051Z"
   },
   {
    "duration": 27,
    "start_time": "2022-04-17T13:54:14.630Z"
   },
   {
    "duration": 25,
    "start_time": "2022-04-17T13:54:41.021Z"
   },
   {
    "duration": 25,
    "start_time": "2022-04-17T13:54:45.790Z"
   },
   {
    "duration": 28,
    "start_time": "2022-04-17T13:55:52.936Z"
   },
   {
    "duration": 26,
    "start_time": "2022-04-17T13:56:27.344Z"
   },
   {
    "duration": 28,
    "start_time": "2022-04-17T13:57:13.388Z"
   },
   {
    "duration": 28,
    "start_time": "2022-04-17T13:57:20.961Z"
   },
   {
    "duration": 28,
    "start_time": "2022-04-17T13:57:40.796Z"
   },
   {
    "duration": 29,
    "start_time": "2022-04-17T13:58:09.514Z"
   },
   {
    "duration": 26,
    "start_time": "2022-04-17T13:58:32.257Z"
   },
   {
    "duration": 30,
    "start_time": "2022-04-17T13:58:39.779Z"
   },
   {
    "duration": 27,
    "start_time": "2022-04-17T14:14:53.530Z"
   },
   {
    "duration": 46,
    "start_time": "2022-04-17T14:20:32.951Z"
   },
   {
    "duration": 26,
    "start_time": "2022-04-17T14:31:43.869Z"
   },
   {
    "duration": 26,
    "start_time": "2022-04-17T14:39:27.479Z"
   },
   {
    "duration": 6,
    "start_time": "2022-04-17T15:19:28.054Z"
   },
   {
    "duration": 458,
    "start_time": "2022-04-17T15:21:11.614Z"
   },
   {
    "duration": 14,
    "start_time": "2022-04-17T15:21:12.074Z"
   },
   {
    "duration": 6,
    "start_time": "2022-04-17T15:21:12.090Z"
   },
   {
    "duration": 8,
    "start_time": "2022-04-17T15:21:12.098Z"
   },
   {
    "duration": 15,
    "start_time": "2022-04-17T15:21:12.124Z"
   },
   {
    "duration": 21,
    "start_time": "2022-04-17T15:21:12.140Z"
   },
   {
    "duration": 7,
    "start_time": "2022-04-17T15:21:12.162Z"
   },
   {
    "duration": 14,
    "start_time": "2022-04-17T15:21:12.170Z"
   },
   {
    "duration": 8,
    "start_time": "2022-04-17T15:21:12.186Z"
   },
   {
    "duration": 33,
    "start_time": "2022-04-17T15:21:12.195Z"
   },
   {
    "duration": 20,
    "start_time": "2022-04-17T15:21:12.229Z"
   },
   {
    "duration": 5,
    "start_time": "2022-04-17T15:21:12.251Z"
   },
   {
    "duration": 13,
    "start_time": "2022-04-17T15:21:12.257Z"
   },
   {
    "duration": 13,
    "start_time": "2022-04-17T15:21:12.272Z"
   },
   {
    "duration": 47,
    "start_time": "2022-04-17T15:21:12.287Z"
   },
   {
    "duration": 32,
    "start_time": "2022-04-17T15:21:12.335Z"
   },
   {
    "duration": 13,
    "start_time": "2022-04-17T15:21:12.369Z"
   },
   {
    "duration": 24,
    "start_time": "2022-04-17T15:21:12.383Z"
   },
   {
    "duration": 22,
    "start_time": "2022-04-17T15:21:12.424Z"
   },
   {
    "duration": 12,
    "start_time": "2022-04-17T15:21:12.448Z"
   },
   {
    "duration": 14,
    "start_time": "2022-04-17T15:21:12.462Z"
   },
   {
    "duration": 15,
    "start_time": "2022-04-17T15:21:12.477Z"
   },
   {
    "duration": 52,
    "start_time": "2022-04-17T15:21:12.494Z"
   },
   {
    "duration": 10,
    "start_time": "2022-04-17T15:21:12.548Z"
   },
   {
    "duration": 9,
    "start_time": "2022-04-17T15:21:12.560Z"
   },
   {
    "duration": 12,
    "start_time": "2022-04-17T15:21:12.570Z"
   },
   {
    "duration": 44,
    "start_time": "2022-04-17T15:21:12.584Z"
   },
   {
    "duration": 24,
    "start_time": "2022-04-17T15:21:12.629Z"
   },
   {
    "duration": 27,
    "start_time": "2022-04-17T15:21:12.654Z"
   },
   {
    "duration": 48,
    "start_time": "2022-04-17T15:21:12.683Z"
   },
   {
    "duration": 26,
    "start_time": "2022-04-17T15:21:12.736Z"
   },
   {
    "duration": 27,
    "start_time": "2022-04-17T15:21:12.764Z"
   },
   {
    "duration": 40,
    "start_time": "2022-04-17T15:21:12.793Z"
   },
   {
    "duration": 584,
    "start_time": "2022-04-26T08:14:11.514Z"
   },
   {
    "duration": 21,
    "start_time": "2022-04-26T08:14:12.100Z"
   },
   {
    "duration": 12,
    "start_time": "2022-04-26T08:14:12.122Z"
   },
   {
    "duration": 21,
    "start_time": "2022-04-26T08:14:12.136Z"
   },
   {
    "duration": 25,
    "start_time": "2022-04-26T08:14:12.158Z"
   },
   {
    "duration": 27,
    "start_time": "2022-04-26T08:14:12.185Z"
   },
   {
    "duration": 8,
    "start_time": "2022-04-26T08:14:12.214Z"
   },
   {
    "duration": 18,
    "start_time": "2022-04-26T08:14:12.224Z"
   },
   {
    "duration": 24,
    "start_time": "2022-04-26T08:14:12.243Z"
   },
   {
    "duration": 15,
    "start_time": "2022-04-26T08:14:12.270Z"
   },
   {
    "duration": 27,
    "start_time": "2022-04-26T08:14:12.286Z"
   },
   {
    "duration": 8,
    "start_time": "2022-04-26T08:14:12.314Z"
   },
   {
    "duration": 19,
    "start_time": "2022-04-26T08:14:12.323Z"
   },
   {
    "duration": 25,
    "start_time": "2022-04-26T08:14:12.343Z"
   },
   {
    "duration": 21,
    "start_time": "2022-04-26T08:14:12.369Z"
   },
   {
    "duration": 33,
    "start_time": "2022-04-26T08:14:12.391Z"
   },
   {
    "duration": 13,
    "start_time": "2022-04-26T08:14:12.426Z"
   },
   {
    "duration": 39,
    "start_time": "2022-04-26T08:14:12.440Z"
   },
   {
    "duration": 20,
    "start_time": "2022-04-26T08:14:12.481Z"
   },
   {
    "duration": 16,
    "start_time": "2022-04-26T08:14:12.502Z"
   },
   {
    "duration": 37,
    "start_time": "2022-04-26T08:14:12.519Z"
   },
   {
    "duration": 28,
    "start_time": "2022-04-26T08:14:12.557Z"
   },
   {
    "duration": 34,
    "start_time": "2022-04-26T08:14:12.587Z"
   },
   {
    "duration": 9,
    "start_time": "2022-04-26T08:14:12.623Z"
   },
   {
    "duration": 12,
    "start_time": "2022-04-26T08:14:12.634Z"
   },
   {
    "duration": 22,
    "start_time": "2022-04-26T08:14:12.647Z"
   },
   {
    "duration": 29,
    "start_time": "2022-04-26T08:14:12.670Z"
   },
   {
    "duration": 41,
    "start_time": "2022-04-26T08:14:12.702Z"
   },
   {
    "duration": 28,
    "start_time": "2022-04-26T08:14:12.745Z"
   },
   {
    "duration": 27,
    "start_time": "2022-04-26T08:14:12.774Z"
   },
   {
    "duration": 26,
    "start_time": "2022-04-26T08:14:12.802Z"
   },
   {
    "duration": 26,
    "start_time": "2022-04-26T08:14:12.830Z"
   },
   {
    "duration": 47,
    "start_time": "2022-04-26T08:14:12.858Z"
   },
   {
    "duration": 459,
    "start_time": "2022-04-26T08:19:40.719Z"
   },
   {
    "duration": 13,
    "start_time": "2022-04-26T08:19:41.180Z"
   },
   {
    "duration": 6,
    "start_time": "2022-04-26T08:19:41.195Z"
   },
   {
    "duration": 9,
    "start_time": "2022-04-26T08:19:41.202Z"
   },
   {
    "duration": 9,
    "start_time": "2022-04-26T08:19:41.213Z"
   },
   {
    "duration": 21,
    "start_time": "2022-04-26T08:19:41.223Z"
   },
   {
    "duration": 7,
    "start_time": "2022-04-26T08:19:41.246Z"
   },
   {
    "duration": 8,
    "start_time": "2022-04-26T08:19:41.255Z"
   },
   {
    "duration": 43,
    "start_time": "2022-04-26T08:19:41.265Z"
   },
   {
    "duration": 6,
    "start_time": "2022-04-26T08:19:41.309Z"
   },
   {
    "duration": 20,
    "start_time": "2022-04-26T08:19:41.317Z"
   },
   {
    "duration": 4,
    "start_time": "2022-04-26T08:19:41.338Z"
   },
   {
    "duration": 9,
    "start_time": "2022-04-26T08:19:41.344Z"
   },
   {
    "duration": 14,
    "start_time": "2022-04-26T08:19:41.355Z"
   },
   {
    "duration": 44,
    "start_time": "2022-04-26T08:19:41.370Z"
   },
   {
    "duration": 28,
    "start_time": "2022-04-26T08:19:41.416Z"
   },
   {
    "duration": 13,
    "start_time": "2022-04-26T08:19:41.445Z"
   },
   {
    "duration": 52,
    "start_time": "2022-04-26T08:19:41.460Z"
   },
   {
    "duration": 16,
    "start_time": "2022-04-26T08:19:41.513Z"
   },
   {
    "duration": 16,
    "start_time": "2022-04-26T08:19:41.531Z"
   },
   {
    "duration": 17,
    "start_time": "2022-04-26T08:19:41.548Z"
   },
   {
    "duration": 45,
    "start_time": "2022-04-26T08:19:41.567Z"
   },
   {
    "duration": 28,
    "start_time": "2022-04-26T08:19:41.614Z"
   },
   {
    "duration": 11,
    "start_time": "2022-04-26T08:19:41.644Z"
   },
   {
    "duration": 11,
    "start_time": "2022-04-26T08:19:41.656Z"
   },
   {
    "duration": 40,
    "start_time": "2022-04-26T08:19:41.668Z"
   },
   {
    "duration": 20,
    "start_time": "2022-04-26T08:19:41.709Z"
   },
   {
    "duration": 19,
    "start_time": "2022-04-26T08:19:41.730Z"
   },
   {
    "duration": 50,
    "start_time": "2022-04-26T08:19:41.751Z"
   },
   {
    "duration": 30,
    "start_time": "2022-04-26T08:19:41.803Z"
   },
   {
    "duration": 27,
    "start_time": "2022-04-26T08:19:41.835Z"
   },
   {
    "duration": 54,
    "start_time": "2022-04-26T08:19:41.864Z"
   },
   {
    "duration": 26,
    "start_time": "2022-04-26T08:19:41.919Z"
   },
   {
    "duration": 198,
    "start_time": "2022-04-26T19:12:53.037Z"
   },
   {
    "duration": 45,
    "start_time": "2022-04-26T19:14:39.159Z"
   },
   {
    "duration": 514,
    "start_time": "2022-04-26T19:14:43.989Z"
   },
   {
    "duration": 23,
    "start_time": "2022-04-26T19:14:44.506Z"
   },
   {
    "duration": 9,
    "start_time": "2022-04-26T19:14:44.531Z"
   },
   {
    "duration": 9,
    "start_time": "2022-04-26T19:14:44.542Z"
   },
   {
    "duration": 9,
    "start_time": "2022-04-26T19:14:44.553Z"
   },
   {
    "duration": 20,
    "start_time": "2022-04-26T19:14:44.564Z"
   },
   {
    "duration": 41,
    "start_time": "2022-04-26T19:14:44.586Z"
   },
   {
    "duration": 10,
    "start_time": "2022-04-26T19:14:44.629Z"
   },
   {
    "duration": 10,
    "start_time": "2022-04-26T19:14:44.641Z"
   },
   {
    "duration": 9,
    "start_time": "2022-04-26T19:14:44.652Z"
   },
   {
    "duration": 60,
    "start_time": "2022-04-26T19:14:44.663Z"
   },
   {
    "duration": 7,
    "start_time": "2022-04-26T19:14:44.725Z"
   },
   {
    "duration": 33,
    "start_time": "2022-04-26T19:14:44.734Z"
   },
   {
    "duration": 0,
    "start_time": "2022-04-26T19:14:44.770Z"
   },
   {
    "duration": 0,
    "start_time": "2022-04-26T19:14:44.772Z"
   },
   {
    "duration": 0,
    "start_time": "2022-04-26T19:14:44.774Z"
   },
   {
    "duration": 0,
    "start_time": "2022-04-26T19:14:44.775Z"
   },
   {
    "duration": 0,
    "start_time": "2022-04-26T19:14:44.777Z"
   },
   {
    "duration": 0,
    "start_time": "2022-04-26T19:14:44.779Z"
   },
   {
    "duration": 0,
    "start_time": "2022-04-26T19:14:44.780Z"
   },
   {
    "duration": 0,
    "start_time": "2022-04-26T19:14:44.781Z"
   },
   {
    "duration": 0,
    "start_time": "2022-04-26T19:14:44.822Z"
   },
   {
    "duration": 0,
    "start_time": "2022-04-26T19:14:44.824Z"
   },
   {
    "duration": 0,
    "start_time": "2022-04-26T19:14:44.825Z"
   },
   {
    "duration": 0,
    "start_time": "2022-04-26T19:14:44.826Z"
   },
   {
    "duration": 0,
    "start_time": "2022-04-26T19:14:44.828Z"
   },
   {
    "duration": 0,
    "start_time": "2022-04-26T19:14:44.829Z"
   },
   {
    "duration": 0,
    "start_time": "2022-04-26T19:14:44.831Z"
   },
   {
    "duration": 0,
    "start_time": "2022-04-26T19:14:44.832Z"
   },
   {
    "duration": 0,
    "start_time": "2022-04-26T19:14:44.833Z"
   },
   {
    "duration": 0,
    "start_time": "2022-04-26T19:14:44.835Z"
   },
   {
    "duration": 0,
    "start_time": "2022-04-26T19:14:44.836Z"
   },
   {
    "duration": 0,
    "start_time": "2022-04-26T19:14:44.838Z"
   },
   {
    "duration": 4,
    "start_time": "2022-04-26T19:19:15.290Z"
   },
   {
    "duration": 2900,
    "start_time": "2022-04-26T19:19:23.108Z"
   },
   {
    "duration": 2505,
    "start_time": "2022-04-26T19:19:58.165Z"
   },
   {
    "duration": 8,
    "start_time": "2022-04-26T19:20:15.838Z"
   },
   {
    "duration": 10,
    "start_time": "2022-04-26T19:23:47.032Z"
   },
   {
    "duration": 162,
    "start_time": "2022-04-26T19:26:22.764Z"
   },
   {
    "duration": 5,
    "start_time": "2022-04-26T19:26:51.498Z"
   },
   {
    "duration": 6,
    "start_time": "2022-04-26T19:27:05.095Z"
   },
   {
    "duration": 9,
    "start_time": "2022-04-26T19:27:40.301Z"
   },
   {
    "duration": 5,
    "start_time": "2022-04-26T19:27:47.840Z"
   },
   {
    "duration": 5,
    "start_time": "2022-04-26T19:27:59.070Z"
   },
   {
    "duration": 159,
    "start_time": "2022-04-26T19:30:54.332Z"
   },
   {
    "duration": 6,
    "start_time": "2022-04-26T19:31:43.424Z"
   },
   {
    "duration": 8,
    "start_time": "2022-04-26T19:32:15.720Z"
   },
   {
    "duration": 84,
    "start_time": "2022-04-26T19:38:38.644Z"
   },
   {
    "duration": 22,
    "start_time": "2022-04-26T19:38:38.730Z"
   },
   {
    "duration": 7,
    "start_time": "2022-04-26T19:38:38.753Z"
   },
   {
    "duration": 8,
    "start_time": "2022-04-26T19:38:38.762Z"
   },
   {
    "duration": 8,
    "start_time": "2022-04-26T19:38:38.772Z"
   },
   {
    "duration": 63,
    "start_time": "2022-04-26T19:38:38.782Z"
   },
   {
    "duration": 9,
    "start_time": "2022-04-26T19:38:38.847Z"
   },
   {
    "duration": 10,
    "start_time": "2022-04-26T19:38:38.858Z"
   },
   {
    "duration": 10,
    "start_time": "2022-04-26T19:38:38.870Z"
   },
   {
    "duration": 50,
    "start_time": "2022-04-26T19:38:38.881Z"
   },
   {
    "duration": 27,
    "start_time": "2022-04-26T19:38:38.933Z"
   },
   {
    "duration": 6,
    "start_time": "2022-04-26T19:38:38.962Z"
   },
   {
    "duration": 8,
    "start_time": "2022-04-26T19:38:38.970Z"
   },
   {
    "duration": 6,
    "start_time": "2022-04-26T19:38:38.981Z"
   },
   {
    "duration": 35,
    "start_time": "2022-04-26T19:38:38.989Z"
   },
   {
    "duration": 22,
    "start_time": "2022-04-26T19:38:39.026Z"
   },
   {
    "duration": 18,
    "start_time": "2022-04-26T19:38:39.050Z"
   },
   {
    "duration": 66,
    "start_time": "2022-04-26T19:38:39.070Z"
   },
   {
    "duration": 15,
    "start_time": "2022-04-26T19:38:39.143Z"
   },
   {
    "duration": 32,
    "start_time": "2022-04-26T19:38:39.160Z"
   },
   {
    "duration": 38,
    "start_time": "2022-04-26T19:38:39.194Z"
   },
   {
    "duration": 19,
    "start_time": "2022-04-26T19:38:39.234Z"
   },
   {
    "duration": 19,
    "start_time": "2022-04-26T19:38:39.254Z"
   },
   {
    "duration": 18,
    "start_time": "2022-04-26T19:38:39.275Z"
   },
   {
    "duration": 58,
    "start_time": "2022-04-26T19:38:39.294Z"
   },
   {
    "duration": 11,
    "start_time": "2022-04-26T19:38:39.354Z"
   },
   {
    "duration": 12,
    "start_time": "2022-04-26T19:38:39.366Z"
   },
   {
    "duration": 13,
    "start_time": "2022-04-26T19:38:39.380Z"
   },
   {
    "duration": 35,
    "start_time": "2022-04-26T19:38:39.422Z"
   },
   {
    "duration": 19,
    "start_time": "2022-04-26T19:38:39.459Z"
   },
   {
    "duration": 50,
    "start_time": "2022-04-26T19:38:39.479Z"
   },
   {
    "duration": 31,
    "start_time": "2022-04-26T19:38:39.532Z"
   },
   {
    "duration": 27,
    "start_time": "2022-04-26T19:38:39.565Z"
   },
   {
    "duration": 56,
    "start_time": "2022-04-26T19:38:39.594Z"
   },
   {
    "duration": 28,
    "start_time": "2022-04-26T19:38:39.651Z"
   },
   {
    "duration": 23,
    "start_time": "2022-04-26T19:39:27.852Z"
   },
   {
    "duration": 30,
    "start_time": "2022-04-26T19:40:54.661Z"
   },
   {
    "duration": 170,
    "start_time": "2022-04-26T19:55:22.711Z"
   },
   {
    "duration": 41,
    "start_time": "2022-04-26T19:58:11.395Z"
   },
   {
    "duration": 161,
    "start_time": "2022-04-26T21:07:22.698Z"
   },
   {
    "duration": 140,
    "start_time": "2022-04-27T19:40:47.754Z"
   },
   {
    "duration": 594,
    "start_time": "2022-04-27T20:25:56.761Z"
   },
   {
    "duration": 22,
    "start_time": "2022-04-27T20:25:57.358Z"
   },
   {
    "duration": 9,
    "start_time": "2022-04-27T20:25:57.383Z"
   },
   {
    "duration": 37,
    "start_time": "2022-04-27T20:25:57.395Z"
   },
   {
    "duration": 14,
    "start_time": "2022-04-27T20:25:57.435Z"
   },
   {
    "duration": 32,
    "start_time": "2022-04-27T20:25:57.451Z"
   },
   {
    "duration": 41,
    "start_time": "2022-04-27T20:25:57.485Z"
   },
   {
    "duration": 12,
    "start_time": "2022-04-27T20:25:57.528Z"
   },
   {
    "duration": 13,
    "start_time": "2022-04-27T20:25:57.542Z"
   },
   {
    "duration": 10,
    "start_time": "2022-04-27T20:25:57.557Z"
   },
   {
    "duration": 76,
    "start_time": "2022-04-27T20:25:57.569Z"
   },
   {
    "duration": 7,
    "start_time": "2022-04-27T20:25:57.648Z"
   },
   {
    "duration": 18,
    "start_time": "2022-04-27T20:25:57.657Z"
   },
   {
    "duration": 8,
    "start_time": "2022-04-27T20:25:57.679Z"
   },
   {
    "duration": 41,
    "start_time": "2022-04-27T20:25:57.689Z"
   },
   {
    "duration": 25,
    "start_time": "2022-04-27T20:25:57.732Z"
   },
   {
    "duration": 27,
    "start_time": "2022-04-27T20:25:57.760Z"
   },
   {
    "duration": 84,
    "start_time": "2022-04-27T20:25:57.789Z"
   },
   {
    "duration": 19,
    "start_time": "2022-04-27T20:25:57.875Z"
   },
   {
    "duration": 61,
    "start_time": "2022-04-27T20:25:57.896Z"
   },
   {
    "duration": 20,
    "start_time": "2022-04-27T20:25:57.959Z"
   },
   {
    "duration": 46,
    "start_time": "2022-04-27T20:25:57.982Z"
   },
   {
    "duration": 24,
    "start_time": "2022-04-27T20:25:58.030Z"
   },
   {
    "duration": 35,
    "start_time": "2022-04-27T20:25:58.056Z"
   },
   {
    "duration": 74,
    "start_time": "2022-04-27T20:25:58.093Z"
   },
   {
    "duration": 16,
    "start_time": "2022-04-27T20:25:58.169Z"
   },
   {
    "duration": 37,
    "start_time": "2022-04-27T20:25:58.187Z"
   },
   {
    "duration": 21,
    "start_time": "2022-04-27T20:25:58.227Z"
   },
   {
    "duration": 53,
    "start_time": "2022-04-27T20:25:58.250Z"
   },
   {
    "duration": 41,
    "start_time": "2022-04-27T20:25:58.306Z"
   },
   {
    "duration": 44,
    "start_time": "2022-04-27T20:25:58.350Z"
   },
   {
    "duration": 67,
    "start_time": "2022-04-27T20:25:58.396Z"
   },
   {
    "duration": 63,
    "start_time": "2022-04-27T20:25:58.465Z"
   },
   {
    "duration": 50,
    "start_time": "2022-04-27T20:25:58.531Z"
   },
   {
    "duration": 72,
    "start_time": "2022-04-27T20:25:58.583Z"
   },
   {
    "duration": 509,
    "start_time": "2022-04-28T19:48:20.308Z"
   },
   {
    "duration": 19,
    "start_time": "2022-04-28T19:48:20.819Z"
   },
   {
    "duration": 8,
    "start_time": "2022-04-28T19:48:20.840Z"
   },
   {
    "duration": 17,
    "start_time": "2022-04-28T19:48:20.849Z"
   },
   {
    "duration": 9,
    "start_time": "2022-04-28T19:48:20.869Z"
   },
   {
    "duration": 46,
    "start_time": "2022-04-28T19:48:20.880Z"
   },
   {
    "duration": 13,
    "start_time": "2022-04-28T19:48:20.931Z"
   },
   {
    "duration": 9,
    "start_time": "2022-04-28T19:48:20.945Z"
   },
   {
    "duration": 17,
    "start_time": "2022-04-28T19:48:20.956Z"
   },
   {
    "duration": 8,
    "start_time": "2022-04-28T19:48:20.974Z"
   },
   {
    "duration": 40,
    "start_time": "2022-04-28T19:48:20.984Z"
   },
   {
    "duration": 10,
    "start_time": "2022-04-28T19:48:21.026Z"
   },
   {
    "duration": 12,
    "start_time": "2022-04-28T19:48:21.040Z"
   },
   {
    "duration": 5,
    "start_time": "2022-04-28T19:48:21.056Z"
   },
   {
    "duration": 10,
    "start_time": "2022-04-28T19:48:21.063Z"
   },
   {
    "duration": 20,
    "start_time": "2022-04-28T19:48:21.075Z"
   },
   {
    "duration": 46,
    "start_time": "2022-04-28T19:48:21.096Z"
   },
   {
    "duration": 32,
    "start_time": "2022-04-28T19:48:21.144Z"
   },
   {
    "duration": 15,
    "start_time": "2022-04-28T19:48:21.178Z"
   },
   {
    "duration": 63,
    "start_time": "2022-04-28T19:48:21.194Z"
   },
   {
    "duration": 17,
    "start_time": "2022-04-28T19:48:21.259Z"
   },
   {
    "duration": 18,
    "start_time": "2022-04-28T19:48:21.278Z"
   },
   {
    "duration": 50,
    "start_time": "2022-04-28T19:48:21.298Z"
   },
   {
    "duration": 17,
    "start_time": "2022-04-28T19:48:21.350Z"
   },
   {
    "duration": 30,
    "start_time": "2022-04-28T19:48:21.369Z"
   },
   {
    "duration": 31,
    "start_time": "2022-04-28T19:48:21.401Z"
   },
   {
    "duration": 13,
    "start_time": "2022-04-28T19:48:21.434Z"
   },
   {
    "duration": 12,
    "start_time": "2022-04-28T19:48:21.448Z"
   },
   {
    "duration": 19,
    "start_time": "2022-04-28T19:48:21.462Z"
   },
   {
    "duration": 49,
    "start_time": "2022-04-28T19:48:21.482Z"
   },
   {
    "duration": 29,
    "start_time": "2022-04-28T19:48:21.533Z"
   },
   {
    "duration": 28,
    "start_time": "2022-04-28T19:48:21.564Z"
   },
   {
    "duration": 58,
    "start_time": "2022-04-28T19:48:21.594Z"
   },
   {
    "duration": 31,
    "start_time": "2022-04-28T19:48:21.653Z"
   },
   {
    "duration": 48,
    "start_time": "2022-04-28T19:48:21.686Z"
   },
   {
    "duration": 476,
    "start_time": "2022-04-28T19:49:41.646Z"
   },
   {
    "duration": 21,
    "start_time": "2022-04-28T19:49:42.126Z"
   },
   {
    "duration": 7,
    "start_time": "2022-04-28T19:49:42.148Z"
   },
   {
    "duration": 8,
    "start_time": "2022-04-28T19:49:42.157Z"
   },
   {
    "duration": 9,
    "start_time": "2022-04-28T19:49:42.168Z"
   },
   {
    "duration": 46,
    "start_time": "2022-04-28T19:49:42.178Z"
   },
   {
    "duration": 10,
    "start_time": "2022-04-28T19:49:42.225Z"
   },
   {
    "duration": 13,
    "start_time": "2022-04-28T19:49:42.236Z"
   },
   {
    "duration": 26,
    "start_time": "2022-04-28T19:49:42.251Z"
   },
   {
    "duration": 22,
    "start_time": "2022-04-28T19:49:42.279Z"
   },
   {
    "duration": 33,
    "start_time": "2022-04-28T19:49:42.303Z"
   },
   {
    "duration": 7,
    "start_time": "2022-04-28T19:49:42.340Z"
   },
   {
    "duration": 16,
    "start_time": "2022-04-28T19:49:42.349Z"
   },
   {
    "duration": 13,
    "start_time": "2022-04-28T19:49:42.369Z"
   },
   {
    "duration": 16,
    "start_time": "2022-04-28T19:49:42.384Z"
   },
   {
    "duration": 29,
    "start_time": "2022-04-28T19:49:42.402Z"
   },
   {
    "duration": 19,
    "start_time": "2022-04-28T19:49:42.434Z"
   },
   {
    "duration": 33,
    "start_time": "2022-04-28T19:49:42.455Z"
   },
   {
    "duration": 16,
    "start_time": "2022-04-28T19:49:42.489Z"
   },
   {
    "duration": 49,
    "start_time": "2022-04-28T19:49:42.506Z"
   },
   {
    "duration": 15,
    "start_time": "2022-04-28T19:49:42.557Z"
   },
   {
    "duration": 27,
    "start_time": "2022-04-28T19:49:42.574Z"
   },
   {
    "duration": 35,
    "start_time": "2022-04-28T19:49:42.603Z"
   },
   {
    "duration": 19,
    "start_time": "2022-04-28T19:49:42.641Z"
   },
   {
    "duration": 31,
    "start_time": "2022-04-28T19:49:42.661Z"
   },
   {
    "duration": 34,
    "start_time": "2022-04-28T19:49:42.693Z"
   },
   {
    "duration": 14,
    "start_time": "2022-04-28T19:49:42.731Z"
   },
   {
    "duration": 25,
    "start_time": "2022-04-28T19:49:42.746Z"
   },
   {
    "duration": 27,
    "start_time": "2022-04-28T19:49:42.773Z"
   },
   {
    "duration": 23,
    "start_time": "2022-04-28T19:49:42.802Z"
   },
   {
    "duration": 31,
    "start_time": "2022-04-28T19:49:42.827Z"
   },
   {
    "duration": 29,
    "start_time": "2022-04-28T19:49:42.859Z"
   },
   {
    "duration": 57,
    "start_time": "2022-04-28T19:49:42.890Z"
   },
   {
    "duration": 31,
    "start_time": "2022-04-28T19:49:42.948Z"
   },
   {
    "duration": 48,
    "start_time": "2022-04-28T19:49:42.981Z"
   }
  ],
  "kernelspec": {
   "display_name": "Python 3 (ipykernel)",
   "language": "python",
   "name": "python3"
  },
  "language_info": {
   "codemirror_mode": {
    "name": "ipython",
    "version": 3
   },
   "file_extension": ".py",
   "mimetype": "text/x-python",
   "name": "python",
   "nbconvert_exporter": "python",
   "pygments_lexer": "ipython3",
   "version": "3.9.7"
  },
  "toc": {
   "base_numbering": 1,
   "nav_menu": {
    "height": "261px",
    "width": "442px"
   },
   "number_sections": true,
   "sideBar": true,
   "skip_h1_title": true,
   "title_cell": "Table of Contents",
   "title_sidebar": "Contents",
   "toc_cell": false,
   "toc_position": {
    "height": "calc(100% - 180px)",
    "left": "10px",
    "top": "150px",
    "width": "297.306px"
   },
   "toc_section_display": true,
   "toc_window_display": true
  }
 },
 "nbformat": 4,
 "nbformat_minor": 5
}
