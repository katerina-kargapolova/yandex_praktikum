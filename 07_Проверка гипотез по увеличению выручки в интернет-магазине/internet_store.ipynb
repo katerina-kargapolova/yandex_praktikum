{
 "cells": [
  {
   "cell_type": "markdown",
   "metadata": {},
   "source": [
    "# Приоритезация гипотез и анализ А/В теста"
   ]
  },
  {
   "cell_type": "markdown",
   "metadata": {},
   "source": [
    "**Описание и цель проекта:**\n",
    "\n",
    "У крупного интернет-магазина есть список гипотез для увеличения выручки. Наша задача заключается в том, чтобы выбрать наиболее важные гипотезы, запустить A/B-тест и проанализировать результаты.\n",
    "\n",
    "В нашем распоряжении 3 датасета:\n",
    "\n",
    "**hypothesis**\n",
    "- `Hypothesis` — краткое описание гипотезы;\n",
    "- `Reach` — охват пользователей по 10-балльной шкале;\n",
    "- `Impact` — влияние на пользователей по 10-балльной шкале;\n",
    "- `Confidence` — уверенность в гипотезе по 10-балльной шкале;\n",
    "- `Efforts` — затраты ресурсов на проверку гипотезы по 10-балльной шкале. Чем больше значение Efforts, тем дороже проверка гипотезы.\n",
    "\n",
    "**orders**\n",
    "- `transactionId` — идентификатор заказа;\n",
    "- `visitorId` — идентификатор пользователя, совершившего заказ;\n",
    "- `date` — дата, когда был совершён заказ;\n",
    "- `revenue` — выручка заказа;\n",
    "- `group` — группа A/B-теста, в которую попал заказ.\n",
    "\n",
    "**visitors**\n",
    "- `date` — дата;\n",
    "- `group` — группа A/B-теста;\n",
    "- `visitors` — количество пользователей в указанную дату в указанной группе A/B-теста\n",
    "\n",
    "**Этапы исследования:**\n",
    "1) Обзор данных и подготовка к анализу\\\n",
    "2) Приоритизация гипотез\\\n",
    "3) Анализ A/B-теста"
   ]
  },
  {
   "cell_type": "markdown",
   "metadata": {},
   "source": [
    "## Обзор данных и подготовка к анализу"
   ]
  },
  {
   "cell_type": "code",
   "execution_count": 1,
   "metadata": {},
   "outputs": [],
   "source": [
    "# Импортируем необходимые библиотеки\n",
    "import pandas as pd\n",
    "import numpy as np\n",
    "import math\n",
    "import matplotlib.pyplot as plt\n",
    "import seaborn as sns\n",
    "import scipy.stats as stats\n",
    "from scipy import stats as st\n",
    "from datetime import date, datetime, timedelta\n",
    "\n",
    "import warnings\n",
    "warnings.filterwarnings('ignore')"
   ]
  },
  {
   "cell_type": "code",
   "execution_count": 2,
   "metadata": {},
   "outputs": [],
   "source": [
    "# Сохраним данные из файлов\n",
    "hypothesis = pd.read_csv('/datasets/hypothesis.csv')\n",
    "orders = pd.read_csv('/datasets/orders.csv')\n",
    "visitors = pd.read_csv('/datasets/visitors.csv')"
   ]
  },
  {
   "cell_type": "code",
   "execution_count": 3,
   "metadata": {},
   "outputs": [
    {
     "data": {
      "text/html": [
       "<div>\n",
       "<style scoped>\n",
       "    .dataframe tbody tr th:only-of-type {\n",
       "        vertical-align: middle;\n",
       "    }\n",
       "\n",
       "    .dataframe tbody tr th {\n",
       "        vertical-align: top;\n",
       "    }\n",
       "\n",
       "    .dataframe thead th {\n",
       "        text-align: right;\n",
       "    }\n",
       "</style>\n",
       "<table border=\"1\" class=\"dataframe\">\n",
       "  <thead>\n",
       "    <tr style=\"text-align: right;\">\n",
       "      <th></th>\n",
       "      <th>Hypothesis</th>\n",
       "      <th>Reach</th>\n",
       "      <th>Impact</th>\n",
       "      <th>Confidence</th>\n",
       "      <th>Efforts</th>\n",
       "    </tr>\n",
       "  </thead>\n",
       "  <tbody>\n",
       "    <tr>\n",
       "      <th>0</th>\n",
       "      <td>Добавить два новых канала привлечения трафика, что позволит привлекать на 30% больше пользователей</td>\n",
       "      <td>3</td>\n",
       "      <td>10</td>\n",
       "      <td>8</td>\n",
       "      <td>6</td>\n",
       "    </tr>\n",
       "    <tr>\n",
       "      <th>1</th>\n",
       "      <td>Запустить собственную службу доставки, что сократит срок доставки заказов</td>\n",
       "      <td>2</td>\n",
       "      <td>5</td>\n",
       "      <td>4</td>\n",
       "      <td>10</td>\n",
       "    </tr>\n",
       "    <tr>\n",
       "      <th>2</th>\n",
       "      <td>Добавить блоки рекомендаций товаров на сайт интернет магазина, чтобы повысить конверсию и средний чек заказа</td>\n",
       "      <td>8</td>\n",
       "      <td>3</td>\n",
       "      <td>7</td>\n",
       "      <td>3</td>\n",
       "    </tr>\n",
       "    <tr>\n",
       "      <th>3</th>\n",
       "      <td>Изменить структура категорий, что увеличит конверсию, т.к. пользователи быстрее найдут нужный товар</td>\n",
       "      <td>8</td>\n",
       "      <td>3</td>\n",
       "      <td>3</td>\n",
       "      <td>8</td>\n",
       "    </tr>\n",
       "    <tr>\n",
       "      <th>4</th>\n",
       "      <td>Изменить цвет фона главной страницы, чтобы увеличить вовлеченность пользователей</td>\n",
       "      <td>3</td>\n",
       "      <td>1</td>\n",
       "      <td>1</td>\n",
       "      <td>1</td>\n",
       "    </tr>\n",
       "    <tr>\n",
       "      <th>5</th>\n",
       "      <td>Добавить страницу отзывов клиентов о магазине, что позволит увеличить количество заказов</td>\n",
       "      <td>3</td>\n",
       "      <td>2</td>\n",
       "      <td>2</td>\n",
       "      <td>3</td>\n",
       "    </tr>\n",
       "    <tr>\n",
       "      <th>6</th>\n",
       "      <td>Показать на главной странице баннеры с актуальными акциями и распродажами, чтобы увеличить конверсию</td>\n",
       "      <td>5</td>\n",
       "      <td>3</td>\n",
       "      <td>8</td>\n",
       "      <td>3</td>\n",
       "    </tr>\n",
       "    <tr>\n",
       "      <th>7</th>\n",
       "      <td>Добавить форму подписки на все основные страницы, чтобы собрать базу клиентов для email-рассылок</td>\n",
       "      <td>10</td>\n",
       "      <td>7</td>\n",
       "      <td>8</td>\n",
       "      <td>5</td>\n",
       "    </tr>\n",
       "    <tr>\n",
       "      <th>8</th>\n",
       "      <td>Запустить акцию, дающую скидку на товар в день рождения</td>\n",
       "      <td>1</td>\n",
       "      <td>9</td>\n",
       "      <td>9</td>\n",
       "      <td>5</td>\n",
       "    </tr>\n",
       "  </tbody>\n",
       "</table>\n",
       "</div>"
      ],
      "text/plain": [
       "                                                                                                     Hypothesis  \\\n",
       "0  Добавить два новых канала привлечения трафика, что позволит привлекать на 30% больше пользователей             \n",
       "1  Запустить собственную службу доставки, что сократит срок доставки заказов                                      \n",
       "2  Добавить блоки рекомендаций товаров на сайт интернет магазина, чтобы повысить конверсию и средний чек заказа   \n",
       "3  Изменить структура категорий, что увеличит конверсию, т.к. пользователи быстрее найдут нужный товар            \n",
       "4  Изменить цвет фона главной страницы, чтобы увеличить вовлеченность пользователей                               \n",
       "5  Добавить страницу отзывов клиентов о магазине, что позволит увеличить количество заказов                       \n",
       "6  Показать на главной странице баннеры с актуальными акциями и распродажами, чтобы увеличить конверсию           \n",
       "7  Добавить форму подписки на все основные страницы, чтобы собрать базу клиентов для email-рассылок               \n",
       "8  Запустить акцию, дающую скидку на товар в день рождения                                                        \n",
       "\n",
       "   Reach  Impact  Confidence  Efforts  \n",
       "0  3      10      8           6        \n",
       "1  2      5       4           10       \n",
       "2  8      3       7           3        \n",
       "3  8      3       3           8        \n",
       "4  3      1       1           1        \n",
       "5  3      2       2           3        \n",
       "6  5      3       8           3        \n",
       "7  10     7       8           5        \n",
       "8  1      9       9           5        "
      ]
     },
     "execution_count": 3,
     "metadata": {},
     "output_type": "execute_result"
    }
   ],
   "source": [
    "# Рассмотрим таблицу hypothesis\n",
    "pd.set_option('display.max_columns', None)\n",
    "pd.set_option('max_colwidth', 1)\n",
    "hypothesis"
   ]
  },
  {
   "cell_type": "code",
   "execution_count": 4,
   "metadata": {},
   "outputs": [
    {
     "name": "stdout",
     "output_type": "stream",
     "text": [
      "<class 'pandas.core.frame.DataFrame'>\n",
      "RangeIndex: 9 entries, 0 to 8\n",
      "Data columns (total 5 columns):\n",
      " #   Column      Non-Null Count  Dtype \n",
      "---  ------      --------------  ----- \n",
      " 0   Hypothesis  9 non-null      object\n",
      " 1   Reach       9 non-null      int64 \n",
      " 2   Impact      9 non-null      int64 \n",
      " 3   Confidence  9 non-null      int64 \n",
      " 4   Efforts     9 non-null      int64 \n",
      "dtypes: int64(4), object(1)\n",
      "memory usage: 488.0+ bytes\n"
     ]
    }
   ],
   "source": [
    "hypothesis.info()"
   ]
  },
  {
   "cell_type": "code",
   "execution_count": 5,
   "metadata": {},
   "outputs": [],
   "source": [
    "# Переименуем столбцы - приведем наименование к нижнему регистру\n",
    "hypothesis.columns = hypothesis.columns.str.lower()"
   ]
  },
  {
   "cell_type": "code",
   "execution_count": 6,
   "metadata": {},
   "outputs": [
    {
     "data": {
      "text/html": [
       "<div>\n",
       "<style scoped>\n",
       "    .dataframe tbody tr th:only-of-type {\n",
       "        vertical-align: middle;\n",
       "    }\n",
       "\n",
       "    .dataframe tbody tr th {\n",
       "        vertical-align: top;\n",
       "    }\n",
       "\n",
       "    .dataframe thead th {\n",
       "        text-align: right;\n",
       "    }\n",
       "</style>\n",
       "<table border=\"1\" class=\"dataframe\">\n",
       "  <thead>\n",
       "    <tr style=\"text-align: right;\">\n",
       "      <th></th>\n",
       "      <th>transactionId</th>\n",
       "      <th>visitorId</th>\n",
       "      <th>date</th>\n",
       "      <th>revenue</th>\n",
       "      <th>group</th>\n",
       "    </tr>\n",
       "  </thead>\n",
       "  <tbody>\n",
       "    <tr>\n",
       "      <th>0</th>\n",
       "      <td>3667963787</td>\n",
       "      <td>3312258926</td>\n",
       "      <td>2019-08-15</td>\n",
       "      <td>1650</td>\n",
       "      <td>B</td>\n",
       "    </tr>\n",
       "    <tr>\n",
       "      <th>1</th>\n",
       "      <td>2804400009</td>\n",
       "      <td>3642806036</td>\n",
       "      <td>2019-08-15</td>\n",
       "      <td>730</td>\n",
       "      <td>B</td>\n",
       "    </tr>\n",
       "    <tr>\n",
       "      <th>2</th>\n",
       "      <td>2961555356</td>\n",
       "      <td>4069496402</td>\n",
       "      <td>2019-08-15</td>\n",
       "      <td>400</td>\n",
       "      <td>A</td>\n",
       "    </tr>\n",
       "    <tr>\n",
       "      <th>3</th>\n",
       "      <td>3797467345</td>\n",
       "      <td>1196621759</td>\n",
       "      <td>2019-08-15</td>\n",
       "      <td>9759</td>\n",
       "      <td>B</td>\n",
       "    </tr>\n",
       "    <tr>\n",
       "      <th>4</th>\n",
       "      <td>2282983706</td>\n",
       "      <td>2322279887</td>\n",
       "      <td>2019-08-15</td>\n",
       "      <td>2308</td>\n",
       "      <td>B</td>\n",
       "    </tr>\n",
       "  </tbody>\n",
       "</table>\n",
       "</div>"
      ],
      "text/plain": [
       "   transactionId   visitorId        date  revenue group\n",
       "0  3667963787     3312258926  2019-08-15  1650     B   \n",
       "1  2804400009     3642806036  2019-08-15  730      B   \n",
       "2  2961555356     4069496402  2019-08-15  400      A   \n",
       "3  3797467345     1196621759  2019-08-15  9759     B   \n",
       "4  2282983706     2322279887  2019-08-15  2308     B   "
      ]
     },
     "execution_count": 6,
     "metadata": {},
     "output_type": "execute_result"
    }
   ],
   "source": [
    "# Рассмотрим таблицу orders\n",
    "orders.head()"
   ]
  },
  {
   "cell_type": "code",
   "execution_count": 7,
   "metadata": {},
   "outputs": [
    {
     "name": "stdout",
     "output_type": "stream",
     "text": [
      "<class 'pandas.core.frame.DataFrame'>\n",
      "RangeIndex: 1197 entries, 0 to 1196\n",
      "Data columns (total 5 columns):\n",
      " #   Column         Non-Null Count  Dtype \n",
      "---  ------         --------------  ----- \n",
      " 0   transactionId  1197 non-null   int64 \n",
      " 1   visitorId      1197 non-null   int64 \n",
      " 2   date           1197 non-null   object\n",
      " 3   revenue        1197 non-null   int64 \n",
      " 4   group          1197 non-null   object\n",
      "dtypes: int64(3), object(2)\n",
      "memory usage: 46.9+ KB\n"
     ]
    }
   ],
   "source": [
    "orders.info()"
   ]
  },
  {
   "cell_type": "code",
   "execution_count": 8,
   "metadata": {},
   "outputs": [
    {
     "data": {
      "text/plain": [
       "0"
      ]
     },
     "execution_count": 8,
     "metadata": {},
     "output_type": "execute_result"
    }
   ],
   "source": [
    "# Переименуем столбцы transactionId и visitorId\n",
    "orders = orders.rename(columns={'transactionId':'transaction_id','visitorId':'visitor_id'})\n",
    "# Приведем дату к нужному формату\n",
    "orders['date'] = pd.to_datetime(orders['date'], format = '%Y-%m-%d %H:%M:%S')\n",
    "# Проверим на явные дубликаты \n",
    "orders.duplicated().sum()"
   ]
  },
  {
   "cell_type": "code",
   "execution_count": 9,
   "metadata": {},
   "outputs": [
    {
     "data": {
      "text/plain": [
       "B    640\n",
       "A    557\n",
       "Name: group, dtype: int64"
      ]
     },
     "execution_count": 9,
     "metadata": {},
     "output_type": "execute_result"
    }
   ],
   "source": [
    "# Посмотрим на распределение пользователей\n",
    "orders['group'].value_counts()"
   ]
  },
  {
   "cell_type": "markdown",
   "metadata": {},
   "source": [
    "В таблице orders в группах неравное количество участников."
   ]
  },
  {
   "cell_type": "code",
   "execution_count": 10,
   "metadata": {},
   "outputs": [],
   "source": [
    "# Проверим не попадают ли у нас пользователи одновременно в группу А и В\n",
    "orders_group_A = orders.query('group == \"A\"')['visitor_id']\n",
    "orders_group_B = orders.query('group == \"B\"')['visitor_id']"
   ]
  },
  {
   "cell_type": "code",
   "execution_count": 11,
   "metadata": {},
   "outputs": [],
   "source": [
    "# С помощью цикла проверим пересечения id пользователей\n",
    "def intersection_list(list1, list2): \n",
    "   list3 = [value for value in list1 if value in list2] \n",
    "   return list3 "
   ]
  },
  {
   "cell_type": "code",
   "execution_count": 12,
   "metadata": {},
   "outputs": [
    {
     "data": {
      "text/plain": [
       "[]"
      ]
     },
     "metadata": {},
     "output_type": "display_data"
    }
   ],
   "source": [
    "display(intersection_list(orders_group_A, orders_group_B)) "
   ]
  },
  {
   "cell_type": "markdown",
   "metadata": {},
   "source": [
    "Пересечений id не найдено, значит группы А и В независимы, можно использовать данные для анализа."
   ]
  },
  {
   "cell_type": "code",
   "execution_count": 13,
   "metadata": {},
   "outputs": [
    {
     "data": {
      "text/html": [
       "<div>\n",
       "<style scoped>\n",
       "    .dataframe tbody tr th:only-of-type {\n",
       "        vertical-align: middle;\n",
       "    }\n",
       "\n",
       "    .dataframe tbody tr th {\n",
       "        vertical-align: top;\n",
       "    }\n",
       "\n",
       "    .dataframe thead th {\n",
       "        text-align: right;\n",
       "    }\n",
       "</style>\n",
       "<table border=\"1\" class=\"dataframe\">\n",
       "  <thead>\n",
       "    <tr style=\"text-align: right;\">\n",
       "      <th></th>\n",
       "      <th>date</th>\n",
       "    </tr>\n",
       "  </thead>\n",
       "  <tbody>\n",
       "    <tr>\n",
       "      <th>min</th>\n",
       "      <td>2019-08-01</td>\n",
       "    </tr>\n",
       "    <tr>\n",
       "      <th>max</th>\n",
       "      <td>2019-08-31</td>\n",
       "    </tr>\n",
       "  </tbody>\n",
       "</table>\n",
       "</div>"
      ],
      "text/plain": [
       "          date\n",
       "min 2019-08-01\n",
       "max 2019-08-31"
      ]
     },
     "execution_count": 13,
     "metadata": {},
     "output_type": "execute_result"
    }
   ],
   "source": [
    "# Определим минимальную и максимальную дату заказа\n",
    "orders.agg({'date': ['min', 'max']})"
   ]
  },
  {
   "cell_type": "markdown",
   "metadata": {},
   "source": [
    " Данные представлены за Август 2019 года."
   ]
  },
  {
   "cell_type": "code",
   "execution_count": 14,
   "metadata": {},
   "outputs": [
    {
     "data": {
      "text/html": [
       "<div>\n",
       "<style scoped>\n",
       "    .dataframe tbody tr th:only-of-type {\n",
       "        vertical-align: middle;\n",
       "    }\n",
       "\n",
       "    .dataframe tbody tr th {\n",
       "        vertical-align: top;\n",
       "    }\n",
       "\n",
       "    .dataframe thead th {\n",
       "        text-align: right;\n",
       "    }\n",
       "</style>\n",
       "<table border=\"1\" class=\"dataframe\">\n",
       "  <thead>\n",
       "    <tr style=\"text-align: right;\">\n",
       "      <th></th>\n",
       "      <th>date</th>\n",
       "      <th>group</th>\n",
       "      <th>visitors</th>\n",
       "    </tr>\n",
       "  </thead>\n",
       "  <tbody>\n",
       "    <tr>\n",
       "      <th>0</th>\n",
       "      <td>2019-08-01</td>\n",
       "      <td>A</td>\n",
       "      <td>719</td>\n",
       "    </tr>\n",
       "    <tr>\n",
       "      <th>1</th>\n",
       "      <td>2019-08-02</td>\n",
       "      <td>A</td>\n",
       "      <td>619</td>\n",
       "    </tr>\n",
       "    <tr>\n",
       "      <th>2</th>\n",
       "      <td>2019-08-03</td>\n",
       "      <td>A</td>\n",
       "      <td>507</td>\n",
       "    </tr>\n",
       "    <tr>\n",
       "      <th>3</th>\n",
       "      <td>2019-08-04</td>\n",
       "      <td>A</td>\n",
       "      <td>717</td>\n",
       "    </tr>\n",
       "    <tr>\n",
       "      <th>4</th>\n",
       "      <td>2019-08-05</td>\n",
       "      <td>A</td>\n",
       "      <td>756</td>\n",
       "    </tr>\n",
       "  </tbody>\n",
       "</table>\n",
       "</div>"
      ],
      "text/plain": [
       "         date group  visitors\n",
       "0  2019-08-01  A     719     \n",
       "1  2019-08-02  A     619     \n",
       "2  2019-08-03  A     507     \n",
       "3  2019-08-04  A     717     \n",
       "4  2019-08-05  A     756     "
      ]
     },
     "execution_count": 14,
     "metadata": {},
     "output_type": "execute_result"
    }
   ],
   "source": [
    "# Рассмотрим таблицу visitors\n",
    "visitors.head()"
   ]
  },
  {
   "cell_type": "code",
   "execution_count": 15,
   "metadata": {},
   "outputs": [
    {
     "name": "stdout",
     "output_type": "stream",
     "text": [
      "<class 'pandas.core.frame.DataFrame'>\n",
      "RangeIndex: 62 entries, 0 to 61\n",
      "Data columns (total 3 columns):\n",
      " #   Column    Non-Null Count  Dtype \n",
      "---  ------    --------------  ----- \n",
      " 0   date      62 non-null     object\n",
      " 1   group     62 non-null     object\n",
      " 2   visitors  62 non-null     int64 \n",
      "dtypes: int64(1), object(2)\n",
      "memory usage: 1.6+ KB\n"
     ]
    }
   ],
   "source": [
    "visitors.info()"
   ]
  },
  {
   "cell_type": "code",
   "execution_count": 16,
   "metadata": {},
   "outputs": [
    {
     "data": {
      "text/plain": [
       "0"
      ]
     },
     "execution_count": 16,
     "metadata": {},
     "output_type": "execute_result"
    }
   ],
   "source": [
    "# Приведем дату к нужному формату\n",
    "visitors['date'] = pd.to_datetime(visitors['date'], format = '%Y-%m-%d %H:%M:%S')\n",
    "# Проверим на явные дубликаты \n",
    "visitors.duplicated().sum()"
   ]
  },
  {
   "cell_type": "code",
   "execution_count": 17,
   "metadata": {},
   "outputs": [
    {
     "data": {
      "text/plain": [
       "group\n",
       "A    18736\n",
       "B    18916\n",
       "Name: visitors, dtype: int64"
      ]
     },
     "execution_count": 17,
     "metadata": {},
     "output_type": "execute_result"
    }
   ],
   "source": [
    "# Посмотрим на распределение \n",
    "visitors_sum = visitors.groupby('group')['visitors'].sum()\n",
    "visitors_sum"
   ]
  },
  {
   "cell_type": "code",
   "execution_count": 18,
   "metadata": {},
   "outputs": [
    {
     "data": {
      "text/plain": [
       "B    31\n",
       "A    31\n",
       "Name: group, dtype: int64"
      ]
     },
     "execution_count": 18,
     "metadata": {},
     "output_type": "execute_result"
    }
   ],
   "source": [
    "visitors['group'].value_counts()"
   ]
  },
  {
   "cell_type": "markdown",
   "metadata": {},
   "source": [
    "К сожалению, по таблице visitors мы не сможем проверить корректность распределения пользователей по группам А и В, так как у нас нет данных visitor_id. Данной проверкой мы убедились лишь в том, что количество дней теста у групп А и В совпадает и суммарное количество пользователей за месяц у группы В чуть больше чем у группы А."
   ]
  },
  {
   "cell_type": "code",
   "execution_count": 19,
   "metadata": {},
   "outputs": [
    {
     "data": {
      "text/html": [
       "<div>\n",
       "<style scoped>\n",
       "    .dataframe tbody tr th:only-of-type {\n",
       "        vertical-align: middle;\n",
       "    }\n",
       "\n",
       "    .dataframe tbody tr th {\n",
       "        vertical-align: top;\n",
       "    }\n",
       "\n",
       "    .dataframe thead th {\n",
       "        text-align: right;\n",
       "    }\n",
       "</style>\n",
       "<table border=\"1\" class=\"dataframe\">\n",
       "  <thead>\n",
       "    <tr style=\"text-align: right;\">\n",
       "      <th></th>\n",
       "      <th>date</th>\n",
       "    </tr>\n",
       "  </thead>\n",
       "  <tbody>\n",
       "    <tr>\n",
       "      <th>min</th>\n",
       "      <td>2019-08-01</td>\n",
       "    </tr>\n",
       "    <tr>\n",
       "      <th>max</th>\n",
       "      <td>2019-08-31</td>\n",
       "    </tr>\n",
       "  </tbody>\n",
       "</table>\n",
       "</div>"
      ],
      "text/plain": [
       "          date\n",
       "min 2019-08-01\n",
       "max 2019-08-31"
      ]
     },
     "execution_count": 19,
     "metadata": {},
     "output_type": "execute_result"
    }
   ],
   "source": [
    "# Определим минимальную и максимальную дату в таблице visitors\n",
    "visitors.agg({'date': ['min', 'max']})"
   ]
  },
  {
   "cell_type": "markdown",
   "metadata": {},
   "source": [
    "Данные в таблице visitors, как и в таблице orders, представлены за Август 2019 года."
   ]
  },
  {
   "cell_type": "markdown",
   "metadata": {},
   "source": [
    "**Вывод:**\n",
    "    \n",
    "На первом этапе мы провели обзор данных, скорректировали наименования столбцов, привели дату к нужному формату и проверили, что в данных нет дубликатов и пропусков. Также мы проверили, что группы сформированы только по уникальным пользователям и между ними нет пересечений. "
   ]
  },
  {
   "cell_type": "markdown",
   "metadata": {},
   "source": [
    "## Приоритизация гипотез"
   ]
  },
  {
   "cell_type": "markdown",
   "metadata": {},
   "source": [
    "В файле `hypothesis` 9 гипотез по увеличению выручки интернет-магазина с указанными параметрами Reach, Impact, Confidence, Effort. Для приоритезации гипотез мы будем использовать одни из самых распространенных методов - `ICE` и `RICE`."
   ]
  },
  {
   "cell_type": "markdown",
   "metadata": {},
   "source": [
    "### Применим метод ICE для приоритизации гипотез"
   ]
  },
  {
   "cell_type": "code",
   "execution_count": 20,
   "metadata": {},
   "outputs": [
    {
     "data": {
      "text/html": [
       "<div>\n",
       "<style scoped>\n",
       "    .dataframe tbody tr th:only-of-type {\n",
       "        vertical-align: middle;\n",
       "    }\n",
       "\n",
       "    .dataframe tbody tr th {\n",
       "        vertical-align: top;\n",
       "    }\n",
       "\n",
       "    .dataframe thead th {\n",
       "        text-align: right;\n",
       "    }\n",
       "</style>\n",
       "<table border=\"1\" class=\"dataframe\">\n",
       "  <thead>\n",
       "    <tr style=\"text-align: right;\">\n",
       "      <th></th>\n",
       "      <th>hypothesis</th>\n",
       "      <th>reach</th>\n",
       "      <th>impact</th>\n",
       "      <th>confidence</th>\n",
       "      <th>efforts</th>\n",
       "      <th>ICE</th>\n",
       "    </tr>\n",
       "  </thead>\n",
       "  <tbody>\n",
       "    <tr>\n",
       "      <th>8</th>\n",
       "      <td>Запустить акцию, дающую скидку на товар в день рождения</td>\n",
       "      <td>1</td>\n",
       "      <td>9</td>\n",
       "      <td>9</td>\n",
       "      <td>5</td>\n",
       "      <td>16.20</td>\n",
       "    </tr>\n",
       "    <tr>\n",
       "      <th>0</th>\n",
       "      <td>Добавить два новых канала привлечения трафика, что позволит привлекать на 30% больше пользователей</td>\n",
       "      <td>3</td>\n",
       "      <td>10</td>\n",
       "      <td>8</td>\n",
       "      <td>6</td>\n",
       "      <td>13.33</td>\n",
       "    </tr>\n",
       "    <tr>\n",
       "      <th>7</th>\n",
       "      <td>Добавить форму подписки на все основные страницы, чтобы собрать базу клиентов для email-рассылок</td>\n",
       "      <td>10</td>\n",
       "      <td>7</td>\n",
       "      <td>8</td>\n",
       "      <td>5</td>\n",
       "      <td>11.20</td>\n",
       "    </tr>\n",
       "    <tr>\n",
       "      <th>6</th>\n",
       "      <td>Показать на главной странице баннеры с актуальными акциями и распродажами, чтобы увеличить конверсию</td>\n",
       "      <td>5</td>\n",
       "      <td>3</td>\n",
       "      <td>8</td>\n",
       "      <td>3</td>\n",
       "      <td>8.00</td>\n",
       "    </tr>\n",
       "    <tr>\n",
       "      <th>2</th>\n",
       "      <td>Добавить блоки рекомендаций товаров на сайт интернет магазина, чтобы повысить конверсию и средний чек заказа</td>\n",
       "      <td>8</td>\n",
       "      <td>3</td>\n",
       "      <td>7</td>\n",
       "      <td>3</td>\n",
       "      <td>7.00</td>\n",
       "    </tr>\n",
       "    <tr>\n",
       "      <th>1</th>\n",
       "      <td>Запустить собственную службу доставки, что сократит срок доставки заказов</td>\n",
       "      <td>2</td>\n",
       "      <td>5</td>\n",
       "      <td>4</td>\n",
       "      <td>10</td>\n",
       "      <td>2.00</td>\n",
       "    </tr>\n",
       "    <tr>\n",
       "      <th>5</th>\n",
       "      <td>Добавить страницу отзывов клиентов о магазине, что позволит увеличить количество заказов</td>\n",
       "      <td>3</td>\n",
       "      <td>2</td>\n",
       "      <td>2</td>\n",
       "      <td>3</td>\n",
       "      <td>1.33</td>\n",
       "    </tr>\n",
       "    <tr>\n",
       "      <th>3</th>\n",
       "      <td>Изменить структура категорий, что увеличит конверсию, т.к. пользователи быстрее найдут нужный товар</td>\n",
       "      <td>8</td>\n",
       "      <td>3</td>\n",
       "      <td>3</td>\n",
       "      <td>8</td>\n",
       "      <td>1.12</td>\n",
       "    </tr>\n",
       "    <tr>\n",
       "      <th>4</th>\n",
       "      <td>Изменить цвет фона главной страницы, чтобы увеличить вовлеченность пользователей</td>\n",
       "      <td>3</td>\n",
       "      <td>1</td>\n",
       "      <td>1</td>\n",
       "      <td>1</td>\n",
       "      <td>1.00</td>\n",
       "    </tr>\n",
       "  </tbody>\n",
       "</table>\n",
       "</div>"
      ],
      "text/plain": [
       "                                                                                                     hypothesis  \\\n",
       "8  Запустить акцию, дающую скидку на товар в день рождения                                                        \n",
       "0  Добавить два новых канала привлечения трафика, что позволит привлекать на 30% больше пользователей             \n",
       "7  Добавить форму подписки на все основные страницы, чтобы собрать базу клиентов для email-рассылок               \n",
       "6  Показать на главной странице баннеры с актуальными акциями и распродажами, чтобы увеличить конверсию           \n",
       "2  Добавить блоки рекомендаций товаров на сайт интернет магазина, чтобы повысить конверсию и средний чек заказа   \n",
       "1  Запустить собственную службу доставки, что сократит срок доставки заказов                                      \n",
       "5  Добавить страницу отзывов клиентов о магазине, что позволит увеличить количество заказов                       \n",
       "3  Изменить структура категорий, что увеличит конверсию, т.к. пользователи быстрее найдут нужный товар            \n",
       "4  Изменить цвет фона главной страницы, чтобы увеличить вовлеченность пользователей                               \n",
       "\n",
       "   reach  impact  confidence  efforts    ICE  \n",
       "8  1      9       9           5        16.20  \n",
       "0  3      10      8           6        13.33  \n",
       "7  10     7       8           5        11.20  \n",
       "6  5      3       8           3        8.00   \n",
       "2  8      3       7           3        7.00   \n",
       "1  2      5       4           10       2.00   \n",
       "5  3      2       2           3        1.33   \n",
       "3  8      3       3           8        1.12   \n",
       "4  3      1       1           1        1.00   "
      ]
     },
     "execution_count": 20,
     "metadata": {},
     "output_type": "execute_result"
    }
   ],
   "source": [
    "hypothesis['ICE'] = (hypothesis['impact'] * hypothesis['confidence'] / hypothesis['efforts'])\n",
    "hypothesis.sort_values(by ='ICE',ascending = False).round(2)"
   ]
  },
  {
   "cell_type": "markdown",
   "metadata": {},
   "source": [
    "По методу ICE наиболее перспективными являются следующие гипотезы:\n",
    "1) Гипотеза №9: Запустить акцию, дающую скидку на товар в день рождения\\\n",
    "2) Гипотеза №1: Добавить два новых канала привлечения трафика, что позволит привлекать на 30% больше пользователей\\\n",
    "3) Гипотеза №8: Добавить форму подписки на все основные страницы, чтобы собрать базу клиентов для email-рассылок"
   ]
  },
  {
   "cell_type": "markdown",
   "metadata": {},
   "source": [
    "### Применим метод RICE для приоритизации гипотез"
   ]
  },
  {
   "cell_type": "code",
   "execution_count": 21,
   "metadata": {},
   "outputs": [
    {
     "data": {
      "text/html": [
       "<div>\n",
       "<style scoped>\n",
       "    .dataframe tbody tr th:only-of-type {\n",
       "        vertical-align: middle;\n",
       "    }\n",
       "\n",
       "    .dataframe tbody tr th {\n",
       "        vertical-align: top;\n",
       "    }\n",
       "\n",
       "    .dataframe thead th {\n",
       "        text-align: right;\n",
       "    }\n",
       "</style>\n",
       "<table border=\"1\" class=\"dataframe\">\n",
       "  <thead>\n",
       "    <tr style=\"text-align: right;\">\n",
       "      <th></th>\n",
       "      <th>hypothesis</th>\n",
       "      <th>reach</th>\n",
       "      <th>impact</th>\n",
       "      <th>confidence</th>\n",
       "      <th>efforts</th>\n",
       "      <th>ICE</th>\n",
       "      <th>RICE</th>\n",
       "    </tr>\n",
       "  </thead>\n",
       "  <tbody>\n",
       "    <tr>\n",
       "      <th>7</th>\n",
       "      <td>Добавить форму подписки на все основные страницы, чтобы собрать базу клиентов для email-рассылок</td>\n",
       "      <td>10</td>\n",
       "      <td>7</td>\n",
       "      <td>8</td>\n",
       "      <td>5</td>\n",
       "      <td>11.20</td>\n",
       "      <td>112.0</td>\n",
       "    </tr>\n",
       "    <tr>\n",
       "      <th>2</th>\n",
       "      <td>Добавить блоки рекомендаций товаров на сайт интернет магазина, чтобы повысить конверсию и средний чек заказа</td>\n",
       "      <td>8</td>\n",
       "      <td>3</td>\n",
       "      <td>7</td>\n",
       "      <td>3</td>\n",
       "      <td>7.00</td>\n",
       "      <td>56.0</td>\n",
       "    </tr>\n",
       "    <tr>\n",
       "      <th>0</th>\n",
       "      <td>Добавить два новых канала привлечения трафика, что позволит привлекать на 30% больше пользователей</td>\n",
       "      <td>3</td>\n",
       "      <td>10</td>\n",
       "      <td>8</td>\n",
       "      <td>6</td>\n",
       "      <td>13.33</td>\n",
       "      <td>40.0</td>\n",
       "    </tr>\n",
       "    <tr>\n",
       "      <th>6</th>\n",
       "      <td>Показать на главной странице баннеры с актуальными акциями и распродажами, чтобы увеличить конверсию</td>\n",
       "      <td>5</td>\n",
       "      <td>3</td>\n",
       "      <td>8</td>\n",
       "      <td>3</td>\n",
       "      <td>8.00</td>\n",
       "      <td>40.0</td>\n",
       "    </tr>\n",
       "    <tr>\n",
       "      <th>8</th>\n",
       "      <td>Запустить акцию, дающую скидку на товар в день рождения</td>\n",
       "      <td>1</td>\n",
       "      <td>9</td>\n",
       "      <td>9</td>\n",
       "      <td>5</td>\n",
       "      <td>16.20</td>\n",
       "      <td>16.2</td>\n",
       "    </tr>\n",
       "    <tr>\n",
       "      <th>3</th>\n",
       "      <td>Изменить структура категорий, что увеличит конверсию, т.к. пользователи быстрее найдут нужный товар</td>\n",
       "      <td>8</td>\n",
       "      <td>3</td>\n",
       "      <td>3</td>\n",
       "      <td>8</td>\n",
       "      <td>1.12</td>\n",
       "      <td>9.0</td>\n",
       "    </tr>\n",
       "    <tr>\n",
       "      <th>1</th>\n",
       "      <td>Запустить собственную службу доставки, что сократит срок доставки заказов</td>\n",
       "      <td>2</td>\n",
       "      <td>5</td>\n",
       "      <td>4</td>\n",
       "      <td>10</td>\n",
       "      <td>2.00</td>\n",
       "      <td>4.0</td>\n",
       "    </tr>\n",
       "    <tr>\n",
       "      <th>5</th>\n",
       "      <td>Добавить страницу отзывов клиентов о магазине, что позволит увеличить количество заказов</td>\n",
       "      <td>3</td>\n",
       "      <td>2</td>\n",
       "      <td>2</td>\n",
       "      <td>3</td>\n",
       "      <td>1.33</td>\n",
       "      <td>4.0</td>\n",
       "    </tr>\n",
       "    <tr>\n",
       "      <th>4</th>\n",
       "      <td>Изменить цвет фона главной страницы, чтобы увеличить вовлеченность пользователей</td>\n",
       "      <td>3</td>\n",
       "      <td>1</td>\n",
       "      <td>1</td>\n",
       "      <td>1</td>\n",
       "      <td>1.00</td>\n",
       "      <td>3.0</td>\n",
       "    </tr>\n",
       "  </tbody>\n",
       "</table>\n",
       "</div>"
      ],
      "text/plain": [
       "                                                                                                     hypothesis  \\\n",
       "7  Добавить форму подписки на все основные страницы, чтобы собрать базу клиентов для email-рассылок               \n",
       "2  Добавить блоки рекомендаций товаров на сайт интернет магазина, чтобы повысить конверсию и средний чек заказа   \n",
       "0  Добавить два новых канала привлечения трафика, что позволит привлекать на 30% больше пользователей             \n",
       "6  Показать на главной странице баннеры с актуальными акциями и распродажами, чтобы увеличить конверсию           \n",
       "8  Запустить акцию, дающую скидку на товар в день рождения                                                        \n",
       "3  Изменить структура категорий, что увеличит конверсию, т.к. пользователи быстрее найдут нужный товар            \n",
       "1  Запустить собственную службу доставки, что сократит срок доставки заказов                                      \n",
       "5  Добавить страницу отзывов клиентов о магазине, что позволит увеличить количество заказов                       \n",
       "4  Изменить цвет фона главной страницы, чтобы увеличить вовлеченность пользователей                               \n",
       "\n",
       "   reach  impact  confidence  efforts    ICE   RICE  \n",
       "7  10     7       8           5        11.20  112.0  \n",
       "2  8      3       7           3        7.00   56.0   \n",
       "0  3      10      8           6        13.33  40.0   \n",
       "6  5      3       8           3        8.00   40.0   \n",
       "8  1      9       9           5        16.20  16.2   \n",
       "3  8      3       3           8        1.12   9.0    \n",
       "1  2      5       4           10       2.00   4.0    \n",
       "5  3      2       2           3        1.33   4.0    \n",
       "4  3      1       1           1        1.00   3.0    "
      ]
     },
     "execution_count": 21,
     "metadata": {},
     "output_type": "execute_result"
    }
   ],
   "source": [
    "hypothesis['RICE'] = hypothesis['reach'] * hypothesis['impact'] * hypothesis['confidence'] / hypothesis['efforts']\n",
    "hypothesis.sort_values(by ='RICE',ascending = False).round(2)"
   ]
  },
  {
   "cell_type": "markdown",
   "metadata": {},
   "source": [
    "По методу RICE приоритет гипотез немного изменился, наиболее перспективными являются:\n",
    "\n",
    "1) Гипотеза №8: Добавить форму подписки на все основные страницы, чтобы собрать базу клиентов для email-рассылок\\\n",
    "2) Гипотеза №3: Добавить блоки рекомендаций товаров на сайт интернет магазина, чтобы повысить конверсию и средний чек заказа\\\n",
    "3) На третьем месте 2 гипотезы:\n",
    " - Гипотеза №1: Добавить два новых канала привлечения трафика, что позволит привлекать на 30% больше пользователей\n",
    " - Гипотеза №7: Показать на главной странице баннеры с актуальными акциями и распродажами, чтобы увеличить конверсию\n",
    "\n",
    "Гипотеза №9, занимающая 1-е место по методу ICE, по методу RICE занимает лишь 5-е место"
   ]
  },
  {
   "cell_type": "markdown",
   "metadata": {},
   "source": [
    "### Изменение приоритизации гипотез при применении RICE вместо ICE"
   ]
  },
  {
   "cell_type": "markdown",
   "metadata": {},
   "source": [
    "Метод `RICE` в отличии от `ICE` учитывает ещё один дополнительный параметр - Reach(охват), который оценивает скольких пользователей затронет изменение, которое мы хотим внести. \n",
    "\n",
    "В данном случае у гипотезы №9 этот параметр очень низкий, поэтому она не попала в тройку лидеров по `RICE`. В тоже время, гипотезы, у которых показатели impact и confidence не самые высокие за счёт значительного параметра reach вышли вперед."
   ]
  },
  {
   "cell_type": "code",
   "execution_count": 22,
   "metadata": {},
   "outputs": [
    {
     "data": {
      "text/html": [
       "<div>\n",
       "<style scoped>\n",
       "    .dataframe tbody tr th:only-of-type {\n",
       "        vertical-align: middle;\n",
       "    }\n",
       "\n",
       "    .dataframe tbody tr th {\n",
       "        vertical-align: top;\n",
       "    }\n",
       "\n",
       "    .dataframe thead th {\n",
       "        text-align: right;\n",
       "    }\n",
       "</style>\n",
       "<table border=\"1\" class=\"dataframe\">\n",
       "  <thead>\n",
       "    <tr style=\"text-align: right;\">\n",
       "      <th></th>\n",
       "      <th>ICE</th>\n",
       "      <th>RICE</th>\n",
       "    </tr>\n",
       "  </thead>\n",
       "  <tbody>\n",
       "    <tr>\n",
       "      <th>0</th>\n",
       "      <td>8</td>\n",
       "      <td>7</td>\n",
       "    </tr>\n",
       "    <tr>\n",
       "      <th>1</th>\n",
       "      <td>0</td>\n",
       "      <td>2</td>\n",
       "    </tr>\n",
       "    <tr>\n",
       "      <th>2</th>\n",
       "      <td>7</td>\n",
       "      <td>0</td>\n",
       "    </tr>\n",
       "    <tr>\n",
       "      <th>3</th>\n",
       "      <td>6</td>\n",
       "      <td>6</td>\n",
       "    </tr>\n",
       "    <tr>\n",
       "      <th>4</th>\n",
       "      <td>2</td>\n",
       "      <td>8</td>\n",
       "    </tr>\n",
       "    <tr>\n",
       "      <th>5</th>\n",
       "      <td>1</td>\n",
       "      <td>3</td>\n",
       "    </tr>\n",
       "    <tr>\n",
       "      <th>6</th>\n",
       "      <td>5</td>\n",
       "      <td>1</td>\n",
       "    </tr>\n",
       "    <tr>\n",
       "      <th>7</th>\n",
       "      <td>3</td>\n",
       "      <td>5</td>\n",
       "    </tr>\n",
       "    <tr>\n",
       "      <th>8</th>\n",
       "      <td>4</td>\n",
       "      <td>4</td>\n",
       "    </tr>\n",
       "  </tbody>\n",
       "</table>\n",
       "</div>"
      ],
      "text/plain": [
       "   ICE  RICE\n",
       "0  8    7   \n",
       "1  0    2   \n",
       "2  7    0   \n",
       "3  6    6   \n",
       "4  2    8   \n",
       "5  1    3   \n",
       "6  5    1   \n",
       "7  3    5   \n",
       "8  4    4   "
      ]
     },
     "execution_count": 22,
     "metadata": {},
     "output_type": "execute_result"
    }
   ],
   "source": [
    "# Выведем сводную таблицу приоритетов по 2-м методам\n",
    "priority_table = pd.DataFrame({'ICE': [8, 0, 7, 6, 2, 1, 5, 3, 4], 'RICE': [7, 2, 0, 6, 8, 3, 1, 5, 4]})\n",
    "priority_table"
   ]
  },
  {
   "cell_type": "markdown",
   "metadata": {},
   "source": [
    "**Вывод**\n",
    "\n",
    "В связи с тем, что есть несколько подходов к определению приоритетности гипотез, которые учитывают разные параметры, результаты по ним тоже отличаются. На данном этапе мы использовали одни из популярных методов - `ICE` и `RICE`, которые отличаются между собой наличием параметра охвата.\n",
    "\n",
    "По результатам анализа считаю, что в первую очередь можно точно исследовать гипотезы №8 (Добавить форму подписки на все основные страницы, чтобы собрать базу клиентов для email-рассылок) и №1 (Добавить два новых канала привлечения трафика, что позволит привлекать на 30% больше пользователей), которые попали в топ-3 по двум способам приоритезации. Или же взять топ-3 гипотез по методу `RICE`, так как он учитывает больше параметров."
   ]
  },
  {
   "cell_type": "markdown",
   "metadata": {},
   "source": [
    "## Анализ A/B-теста"
   ]
  },
  {
   "cell_type": "markdown",
   "metadata": {},
   "source": [
    "Результаты A/B-тест описаны в файлах orders и visitors. Проанализируем A/B-тест."
   ]
  },
  {
   "cell_type": "markdown",
   "metadata": {},
   "source": [
    "### Построим график кумулятивной выручки по группам"
   ]
  },
  {
   "cell_type": "code",
   "execution_count": 23,
   "metadata": {},
   "outputs": [
    {
     "data": {
      "text/html": [
       "<div>\n",
       "<style scoped>\n",
       "    .dataframe tbody tr th:only-of-type {\n",
       "        vertical-align: middle;\n",
       "    }\n",
       "\n",
       "    .dataframe tbody tr th {\n",
       "        vertical-align: top;\n",
       "    }\n",
       "\n",
       "    .dataframe thead th {\n",
       "        text-align: right;\n",
       "    }\n",
       "</style>\n",
       "<table border=\"1\" class=\"dataframe\">\n",
       "  <thead>\n",
       "    <tr style=\"text-align: right;\">\n",
       "      <th></th>\n",
       "      <th>date</th>\n",
       "      <th>group</th>\n",
       "      <th>orders</th>\n",
       "      <th>buyers</th>\n",
       "      <th>revenue</th>\n",
       "      <th>visitors</th>\n",
       "    </tr>\n",
       "  </thead>\n",
       "  <tbody>\n",
       "    <tr>\n",
       "      <th>0</th>\n",
       "      <td>2019-08-01</td>\n",
       "      <td>A</td>\n",
       "      <td>24</td>\n",
       "      <td>20</td>\n",
       "      <td>148579</td>\n",
       "      <td>719</td>\n",
       "    </tr>\n",
       "    <tr>\n",
       "      <th>1</th>\n",
       "      <td>2019-08-01</td>\n",
       "      <td>B</td>\n",
       "      <td>21</td>\n",
       "      <td>20</td>\n",
       "      <td>101217</td>\n",
       "      <td>713</td>\n",
       "    </tr>\n",
       "    <tr>\n",
       "      <th>2</th>\n",
       "      <td>2019-08-02</td>\n",
       "      <td>A</td>\n",
       "      <td>44</td>\n",
       "      <td>38</td>\n",
       "      <td>242401</td>\n",
       "      <td>1338</td>\n",
       "    </tr>\n",
       "    <tr>\n",
       "      <th>3</th>\n",
       "      <td>2019-08-02</td>\n",
       "      <td>B</td>\n",
       "      <td>45</td>\n",
       "      <td>43</td>\n",
       "      <td>266748</td>\n",
       "      <td>1294</td>\n",
       "    </tr>\n",
       "    <tr>\n",
       "      <th>4</th>\n",
       "      <td>2019-08-03</td>\n",
       "      <td>A</td>\n",
       "      <td>68</td>\n",
       "      <td>62</td>\n",
       "      <td>354874</td>\n",
       "      <td>1845</td>\n",
       "    </tr>\n",
       "  </tbody>\n",
       "</table>\n",
       "</div>"
      ],
      "text/plain": [
       "        date group  orders  buyers  revenue  visitors\n",
       "0 2019-08-01  A     24      20      148579   719     \n",
       "1 2019-08-01  B     21      20      101217   713     \n",
       "2 2019-08-02  A     44      38      242401   1338    \n",
       "3 2019-08-02  B     45      43      266748   1294    \n",
       "4 2019-08-03  A     68      62      354874   1845    "
      ]
     },
     "execution_count": 23,
     "metadata": {},
     "output_type": "execute_result"
    }
   ],
   "source": [
    "# создаем массив уникальных пар значений дат и групп теста\n",
    "dates_groups = orders[['date','group']].drop_duplicates()\n",
    "\n",
    "# получаем агрегированные кумулятивные по дням данные о заказах \n",
    "orders_aggregated = dates_groups.apply(\n",
    "    lambda x: orders[np.logical_and(orders['date'] <= x['date'], orders['group'] == x['group'])].agg({\n",
    "    'date' : 'max', \n",
    "    'group' : 'max', \n",
    "    'transaction_id' : pd.Series.nunique, \n",
    "    'visitor_id' : pd.Series.nunique, \n",
    "    'revenue' : 'sum'}), axis=1).sort_values(by=['date','group'])\n",
    "\n",
    "# получаем агрегированные кумулятивные по дням данные о посетителях\n",
    "visitors_aggregated = dates_groups.apply(\n",
    "    lambda x: visitors[np.logical_and(visitors['date'] <= x['date'], visitors['group'] == x['group'])].agg({\n",
    "    'date' : 'max', \n",
    "    'group' : 'max', \n",
    "    'visitors' : 'sum'}), axis=1).sort_values(by=['date','group'])\n",
    "\n",
    "# объединяем кумулятивные данные в одной таблице и присваиваем ее столбцам новые названия\n",
    "cumulative_data = orders_aggregated.merge(visitors_aggregated, left_on=['date', 'group'], right_on=['date', 'group'])\n",
    "cumulative_data.columns = ['date', 'group', 'orders', 'buyers', 'revenue', 'visitors']\n",
    "\n",
    "cumulative_data.head()"
   ]
  },
  {
   "cell_type": "code",
   "execution_count": 24,
   "metadata": {},
   "outputs": [
    {
     "data": {
      "image/png": "[encoded data removed]",
      "text/plain": [
       "<Figure size 1080x432 with 1 Axes>"
      ]
     },
     "metadata": {
      "needs_background": "light"
     },
     "output_type": "display_data"
    }
   ],
   "source": [
    "# датафрейм с кумулятивным количеством заказов и кумулятивной выручкой по дням в группе А\n",
    "cumulative_revenue_A = cumulative_data[cumulative_data['group']=='A'][['date','revenue', 'orders']]\n",
    "\n",
    "# датафрейм с кумулятивным количеством заказов и кумулятивной выручкой по дням в группе B\n",
    "cumulative_revenue_B = cumulative_data[cumulative_data['group']=='B'][['date','revenue', 'orders']]\n",
    "\n",
    "plt.rcParams[\"figure.figsize\"] = (15,6)\n",
    "\n",
    "# Строим график выручки группы А\n",
    "plt.plot(cumulative_revenue_A['date'], cumulative_revenue_A['revenue'], label='A')\n",
    "\n",
    "# Строим график выручки группы B\n",
    "plt.plot(cumulative_revenue_B['date'], cumulative_revenue_B['revenue'], label='B')\n",
    "\n",
    "plt.xticks(rotation=45)\n",
    "plt.legend()\n",
    "plt.title('График кумулятивной выручки по группам')\n",
    "plt.ylabel('Выручка');\n"
   ]
  },
  {
   "cell_type": "markdown",
   "metadata": {},
   "source": [
    "Выручки почти равномерно увеличивались в течение всего теста. Показатели по группе В практически всегда лучше, при этом в середине августа наблюдается значительный всплеск по группе В, что может свидетельствовать об увеличении количества заказов или о появлении очень дорогих заказов."
   ]
  },
  {
   "cell_type": "markdown",
   "metadata": {},
   "source": [
    "### Построим график кумулятивного среднего чека по группам"
   ]
  },
  {
   "cell_type": "code",
   "execution_count": 25,
   "metadata": {},
   "outputs": [
    {
     "data": {
      "image/png": "[encoded data removed]",
      "text/plain": [
       "<Figure size 1080x432 with 1 Axes>"
      ]
     },
     "metadata": {
      "needs_background": "light"
     },
     "output_type": "display_data"
    }
   ],
   "source": [
    "plt.plot(cumulative_revenue_A['date'], cumulative_revenue_A['revenue']/cumulative_revenue_A['orders'], label='A')\n",
    "plt.plot(cumulative_revenue_B['date'], cumulative_revenue_B['revenue']/cumulative_revenue_B['orders'], label='B')\n",
    "\n",
    "plt.xticks(rotation=45)\n",
    "plt.legend()\n",
    "plt.title('График кумулятивного среднего чека по группам')\n",
    "plt.ylabel('Средний чек');"
   ]
  },
  {
   "cell_type": "markdown",
   "metadata": {},
   "source": [
    "На графике видно, что кумулятивные значения среднего чека достаточно нестабильны, у обеих групп есть значительные всплески в данных. На данном этапе рано принимать решения по данной метрике, требуется анализ выбросов."
   ]
  },
  {
   "cell_type": "markdown",
   "metadata": {},
   "source": [
    "### Построим график относительного изменения кумулятивного среднего чека группы B к группе A"
   ]
  },
  {
   "cell_type": "code",
   "execution_count": 26,
   "metadata": {},
   "outputs": [
    {
     "data": {
      "image/png": "[encoded data removed]",
      "text/plain": [
       "<Figure size 1080x432 with 1 Axes>"
      ]
     },
     "metadata": {
      "needs_background": "light"
     },
     "output_type": "display_data"
    }
   ],
   "source": [
    "# собираем данные в одном датафрейме\n",
    "merged_cumulative_revenue= cumulative_revenue_A.merge(cumulative_revenue_B, left_on='date', right_on='date', how='left', suffixes=['A', 'B'])\n",
    "\n",
    "# cтроим отношение средних чеков\n",
    "plt.plot(merged_cumulative_revenue['date'], (merged_cumulative_revenue['revenueB']/merged_cumulative_revenue['ordersB'])/(merged_cumulative_revenue['revenueA']/merged_cumulative_revenue['ordersA'])-1)\n",
    "\n",
    "# добавляем ось X\n",
    "plt.axhline(y=0, color='black', linestyle='--')\n",
    "plt.xticks(rotation=45)\n",
    "plt.title('Относительное изменение кумулятивного среднего чека группы B к группе A')\n",
    "plt.ylabel('Отношение средних чеков');"
   ]
  },
  {
   "cell_type": "markdown",
   "metadata": {},
   "source": [
    "В нескольких точках график различия между сегментами резко «скачет». Вероятно, именно в эти дни были соверешены большие заказы."
   ]
  },
  {
   "cell_type": "markdown",
   "metadata": {},
   "source": [
    "### Построим график кумулятивной конверсии по группам"
   ]
  },
  {
   "cell_type": "code",
   "execution_count": 27,
   "metadata": {},
   "outputs": [
    {
     "data": {
      "image/png": "[encoded data removed]",
      "text/plain": [
       "<Figure size 1080x432 with 1 Axes>"
      ]
     },
     "metadata": {
      "needs_background": "light"
     },
     "output_type": "display_data"
    }
   ],
   "source": [
    "# считаем кумулятивную конверсию\n",
    "cumulative_data['conversion'] = cumulative_data['orders']/cumulative_data['visitors']\n",
    "\n",
    "# отделяем данные по группе A\n",
    "cumulative_data_A = cumulative_data[cumulative_data['group']=='A']\n",
    "\n",
    "# отделяем данные по группе B\n",
    "cumulative_data_B = cumulative_data[cumulative_data['group']=='B']\n",
    "\n",
    "# строим графики\n",
    "plt.plot(cumulative_data_A['date'], cumulative_data_A['conversion'], label='A')\n",
    "plt.plot(cumulative_data_B['date'], cumulative_data_B['conversion'], label='B')\n",
    "\n",
    "plt.xticks(rotation=45)\n",
    "plt.legend()\n",
    "plt.title('График кумулятивной конверсии по группам')\n",
    "plt.ylabel('Конверсия');"
   ]
  },
  {
   "cell_type": "markdown",
   "metadata": {},
   "source": [
    "В начале периода по двум группам наблюдаются резкие скачки. Далее по группе А конверсия резко снижается и фиксируется в районе 0,03. По группе В в районе 9 августа наблюдается второй резкий скачек, далее показатель конверсии стабилизируется в районе 0,034."
   ]
  },
  {
   "cell_type": "markdown",
   "metadata": {},
   "source": [
    "### Построим график относительного изменения кумулятивной конверсии группы B к группе A"
   ]
  },
  {
   "cell_type": "code",
   "execution_count": 28,
   "metadata": {},
   "outputs": [
    {
     "data": {
      "image/png": "[encoded data removed]",
      "text/plain": [
       "<Figure size 1080x432 with 1 Axes>"
      ]
     },
     "metadata": {
      "needs_background": "light"
     },
     "output_type": "display_data"
    }
   ],
   "source": [
    "merged_сumulative_сonversions = cumulative_data_A[['date','conversion']].merge(cumulative_data_B[['date','conversion']], left_on='date', right_on='date', how='left', suffixes=['A', 'B'])\n",
    "\n",
    "plt.plot(merged_сumulative_сonversions['date'], merged_сumulative_сonversions['conversionB']/merged_сumulative_сonversions['conversionA']-1)\n",
    "\n",
    "plt.xticks(rotation=45)\n",
    "plt.title('Относительный прирост конверсии группы B относительно группы A')\n",
    "plt.ylabel('Отношение конверсий')\n",
    "\n",
    "plt.axhline(y=0, color='black', linestyle='--')\n",
    "plt.axhline(y=0.2, color='grey', linestyle='--');"
   ]
  },
  {
   "cell_type": "markdown",
   "metadata": {},
   "source": [
    "Конверсия группы В показывает себя намного лучше, достигая прироста до 20% относительно группы А."
   ]
  },
  {
   "cell_type": "markdown",
   "metadata": {},
   "source": [
    "### Построим точечный график количества заказов по пользователям"
   ]
  },
  {
   "cell_type": "code",
   "execution_count": 29,
   "metadata": {},
   "outputs": [
    {
     "data": {
      "text/html": [
       "<div>\n",
       "<style scoped>\n",
       "    .dataframe tbody tr th:only-of-type {\n",
       "        vertical-align: middle;\n",
       "    }\n",
       "\n",
       "    .dataframe tbody tr th {\n",
       "        vertical-align: top;\n",
       "    }\n",
       "\n",
       "    .dataframe thead th {\n",
       "        text-align: right;\n",
       "    }\n",
       "</style>\n",
       "<table border=\"1\" class=\"dataframe\">\n",
       "  <thead>\n",
       "    <tr style=\"text-align: right;\">\n",
       "      <th></th>\n",
       "      <th>transaction_id</th>\n",
       "      <th>visitor_id</th>\n",
       "      <th>date</th>\n",
       "      <th>revenue</th>\n",
       "      <th>group</th>\n",
       "    </tr>\n",
       "  </thead>\n",
       "  <tbody>\n",
       "    <tr>\n",
       "      <th>0</th>\n",
       "      <td>3667963787</td>\n",
       "      <td>3312258926</td>\n",
       "      <td>2019-08-15</td>\n",
       "      <td>1650</td>\n",
       "      <td>B</td>\n",
       "    </tr>\n",
       "    <tr>\n",
       "      <th>1</th>\n",
       "      <td>2804400009</td>\n",
       "      <td>3642806036</td>\n",
       "      <td>2019-08-15</td>\n",
       "      <td>730</td>\n",
       "      <td>B</td>\n",
       "    </tr>\n",
       "    <tr>\n",
       "      <th>2</th>\n",
       "      <td>2961555356</td>\n",
       "      <td>4069496402</td>\n",
       "      <td>2019-08-15</td>\n",
       "      <td>400</td>\n",
       "      <td>A</td>\n",
       "    </tr>\n",
       "    <tr>\n",
       "      <th>3</th>\n",
       "      <td>3797467345</td>\n",
       "      <td>1196621759</td>\n",
       "      <td>2019-08-15</td>\n",
       "      <td>9759</td>\n",
       "      <td>B</td>\n",
       "    </tr>\n",
       "    <tr>\n",
       "      <th>4</th>\n",
       "      <td>2282983706</td>\n",
       "      <td>2322279887</td>\n",
       "      <td>2019-08-15</td>\n",
       "      <td>2308</td>\n",
       "      <td>B</td>\n",
       "    </tr>\n",
       "    <tr>\n",
       "      <th>...</th>\n",
       "      <td>...</td>\n",
       "      <td>...</td>\n",
       "      <td>...</td>\n",
       "      <td>...</td>\n",
       "      <td>...</td>\n",
       "    </tr>\n",
       "    <tr>\n",
       "      <th>1192</th>\n",
       "      <td>2662137336</td>\n",
       "      <td>3733762160</td>\n",
       "      <td>2019-08-14</td>\n",
       "      <td>6490</td>\n",
       "      <td>B</td>\n",
       "    </tr>\n",
       "    <tr>\n",
       "      <th>1193</th>\n",
       "      <td>2203539145</td>\n",
       "      <td>370388673</td>\n",
       "      <td>2019-08-14</td>\n",
       "      <td>3190</td>\n",
       "      <td>A</td>\n",
       "    </tr>\n",
       "    <tr>\n",
       "      <th>1194</th>\n",
       "      <td>1807773912</td>\n",
       "      <td>573423106</td>\n",
       "      <td>2019-08-14</td>\n",
       "      <td>10550</td>\n",
       "      <td>A</td>\n",
       "    </tr>\n",
       "    <tr>\n",
       "      <th>1195</th>\n",
       "      <td>1947021204</td>\n",
       "      <td>1614305549</td>\n",
       "      <td>2019-08-14</td>\n",
       "      <td>100</td>\n",
       "      <td>A</td>\n",
       "    </tr>\n",
       "    <tr>\n",
       "      <th>1196</th>\n",
       "      <td>3936777065</td>\n",
       "      <td>2108080724</td>\n",
       "      <td>2019-08-15</td>\n",
       "      <td>202740</td>\n",
       "      <td>B</td>\n",
       "    </tr>\n",
       "  </tbody>\n",
       "</table>\n",
       "<p>1197 rows × 5 columns</p>\n",
       "</div>"
      ],
      "text/plain": [
       "      transaction_id  visitor_id       date  revenue group\n",
       "0     3667963787      3312258926 2019-08-15  1650     B   \n",
       "1     2804400009      3642806036 2019-08-15  730      B   \n",
       "2     2961555356      4069496402 2019-08-15  400      A   \n",
       "3     3797467345      1196621759 2019-08-15  9759     B   \n",
       "4     2282983706      2322279887 2019-08-15  2308     B   \n",
       "...          ...             ...        ...   ...    ..   \n",
       "1192  2662137336      3733762160 2019-08-14  6490     B   \n",
       "1193  2203539145      370388673  2019-08-14  3190     A   \n",
       "1194  1807773912      573423106  2019-08-14  10550    A   \n",
       "1195  1947021204      1614305549 2019-08-14  100      A   \n",
       "1196  3936777065      2108080724 2019-08-15  202740   B   \n",
       "\n",
       "[1197 rows x 5 columns]"
      ]
     },
     "execution_count": 29,
     "metadata": {},
     "output_type": "execute_result"
    }
   ],
   "source": [
    "orders"
   ]
  },
  {
   "cell_type": "code",
   "execution_count": 30,
   "metadata": {},
   "outputs": [
    {
     "data": {
      "text/html": [
       "<div>\n",
       "<style scoped>\n",
       "    .dataframe tbody tr th:only-of-type {\n",
       "        vertical-align: middle;\n",
       "    }\n",
       "\n",
       "    .dataframe tbody tr th {\n",
       "        vertical-align: top;\n",
       "    }\n",
       "\n",
       "    .dataframe thead th {\n",
       "        text-align: right;\n",
       "    }\n",
       "</style>\n",
       "<table border=\"1\" class=\"dataframe\">\n",
       "  <thead>\n",
       "    <tr style=\"text-align: right;\">\n",
       "      <th></th>\n",
       "      <th>orders</th>\n",
       "    </tr>\n",
       "    <tr>\n",
       "      <th>visitor_id</th>\n",
       "      <th></th>\n",
       "    </tr>\n",
       "  </thead>\n",
       "  <tbody>\n",
       "    <tr>\n",
       "      <th>5114589</th>\n",
       "      <td>1</td>\n",
       "    </tr>\n",
       "    <tr>\n",
       "      <th>6958315</th>\n",
       "      <td>1</td>\n",
       "    </tr>\n",
       "    <tr>\n",
       "      <th>8300375</th>\n",
       "      <td>2</td>\n",
       "    </tr>\n",
       "    <tr>\n",
       "      <th>11685486</th>\n",
       "      <td>1</td>\n",
       "    </tr>\n",
       "    <tr>\n",
       "      <th>39475350</th>\n",
       "      <td>1</td>\n",
       "    </tr>\n",
       "  </tbody>\n",
       "</table>\n",
       "</div>"
      ],
      "text/plain": [
       "            orders\n",
       "visitor_id        \n",
       "5114589     1     \n",
       "6958315     1     \n",
       "8300375     2     \n",
       "11685486    1     \n",
       "39475350    1     "
      ]
     },
     "execution_count": 30,
     "metadata": {},
     "output_type": "execute_result"
    }
   ],
   "source": [
    "# найдем число заказов по пользователям\n",
    "orders_by_users = orders.groupby('visitor_id').agg({'transaction_id':'nunique'}).rename(columns={'transaction_id':'orders'})\n",
    "orders_by_users.head()"
   ]
  },
  {
   "cell_type": "code",
   "execution_count": 31,
   "metadata": {},
   "outputs": [
    {
     "data": {
      "image/png": "[encoded data removed]",
      "text/plain": [
       "<Figure size 1080x432 with 1 Axes>"
      ]
     },
     "metadata": {
      "needs_background": "light"
     },
     "output_type": "display_data"
    }
   ],
   "source": [
    "x_values = pd.Series(range(0,len(orders_by_users['orders'])))\n",
    "plt.scatter(x_values, orders_by_users['orders'])\n",
    "\n",
    "plt.title('Распределение числа заказов по пользователям')\n",
    "plt.xlabel('Число пользователей, чел')\n",
    "plt.ylabel('Число заказов, шт')\n",
    "plt.show()"
   ]
  },
  {
   "cell_type": "markdown",
   "metadata": {},
   "source": [
    "Основная часть пользователей совершает не более 2-х покупок, но также на графике мы видим часть данных, которые выбиваются из общей массы - аномальные значения. "
   ]
  },
  {
   "cell_type": "markdown",
   "metadata": {},
   "source": [
    "### Рассчитаем 95-й и 99-й перцентили количества заказов на пользователя. Выберем границу для определения аномальных пользователей"
   ]
  },
  {
   "cell_type": "code",
   "execution_count": 32,
   "metadata": {},
   "outputs": [
    {
     "name": "stdout",
     "output_type": "stream",
     "text": [
      "[2. 4.]\n"
     ]
    }
   ],
   "source": [
    "print(np.percentile(orders_by_users['orders'], [95, 99])) "
   ]
  },
  {
   "cell_type": "markdown",
   "metadata": {},
   "source": [
    "Не более 5% пользователей совершали больше двух заказов, и не более 1% пользователей - больше четырех заказов."
   ]
  },
  {
   "cell_type": "markdown",
   "metadata": {},
   "source": [
    "### Построим точечный график стоимостей заказов"
   ]
  },
  {
   "cell_type": "code",
   "execution_count": 33,
   "metadata": {},
   "outputs": [
    {
     "data": {
      "image/png": "[encoded data removed]",
      "text/plain": [
       "<Figure size 1080x432 with 1 Axes>"
      ]
     },
     "metadata": {
      "needs_background": "light"
     },
     "output_type": "display_data"
    }
   ],
   "source": [
    "x_values = pd.Series(range(0, len(orders['revenue'])))\n",
    "\n",
    "plt.scatter(x_values, orders['revenue']) \n",
    "\n",
    "plt.title('Распределение стоимости заказов')\n",
    "plt.xlabel('Число пользователей, чел')\n",
    "plt.ylabel('Стоимость заказов, руб')\n",
    "\n",
    "plt.show()"
   ]
  },
  {
   "cell_type": "markdown",
   "metadata": {},
   "source": [
    "На графике отчетливо видно 2 выброса."
   ]
  },
  {
   "cell_type": "markdown",
   "metadata": {},
   "source": [
    "### Рассчитаем 95-й и 99-й перцентили стоимости заказов"
   ]
  },
  {
   "cell_type": "code",
   "execution_count": 34,
   "metadata": {},
   "outputs": [
    {
     "name": "stdout",
     "output_type": "stream",
     "text": [
      "[28000.  58233.2]\n"
     ]
    }
   ],
   "source": [
    "print(np.percentile(orders['revenue'], [95, 99])) "
   ]
  },
  {
   "cell_type": "markdown",
   "metadata": {},
   "source": [
    "Не более 5% заказов с чеком выше 28 тыс руб., и не более, чем 1% заказов с чеком больше 58,23 тыс.руб."
   ]
  },
  {
   "cell_type": "markdown",
   "metadata": {},
   "source": [
    "### Рассчитаем статистическую значимость различий в конверсии между группами по «сырым» данным"
   ]
  },
  {
   "cell_type": "markdown",
   "metadata": {},
   "source": [
    "Начнём с подготовки данных."
   ]
  },
  {
   "cell_type": "code",
   "execution_count": 35,
   "metadata": {},
   "outputs": [
    {
     "data": {
      "text/html": [
       "<div>\n",
       "<style scoped>\n",
       "    .dataframe tbody tr th:only-of-type {\n",
       "        vertical-align: middle;\n",
       "    }\n",
       "\n",
       "    .dataframe tbody tr th {\n",
       "        vertical-align: top;\n",
       "    }\n",
       "\n",
       "    .dataframe thead th {\n",
       "        text-align: right;\n",
       "    }\n",
       "</style>\n",
       "<table border=\"1\" class=\"dataframe\">\n",
       "  <thead>\n",
       "    <tr style=\"text-align: right;\">\n",
       "      <th></th>\n",
       "      <th>date</th>\n",
       "      <th>orders_per_date_A</th>\n",
       "      <th>revenue_per_date_A</th>\n",
       "      <th>orders_per_date_B</th>\n",
       "      <th>revenue_per_date_B</th>\n",
       "      <th>orders_сummulative_A</th>\n",
       "      <th>revenue_сummulative_A</th>\n",
       "      <th>orders_сummulative_B</th>\n",
       "      <th>revenue_сummulative_B</th>\n",
       "      <th>visitors_rer_date_A</th>\n",
       "      <th>visitors_rer_date_B</th>\n",
       "      <th>visitors_cummulative_A</th>\n",
       "      <th>visitors_cummulative_B</th>\n",
       "    </tr>\n",
       "  </thead>\n",
       "  <tbody>\n",
       "    <tr>\n",
       "      <th>0</th>\n",
       "      <td>2019-08-01</td>\n",
       "      <td>24</td>\n",
       "      <td>148579</td>\n",
       "      <td>21</td>\n",
       "      <td>101217</td>\n",
       "      <td>24</td>\n",
       "      <td>148579</td>\n",
       "      <td>21</td>\n",
       "      <td>101217</td>\n",
       "      <td>719</td>\n",
       "      <td>713</td>\n",
       "      <td>719</td>\n",
       "      <td>713</td>\n",
       "    </tr>\n",
       "    <tr>\n",
       "      <th>1</th>\n",
       "      <td>2019-08-02</td>\n",
       "      <td>20</td>\n",
       "      <td>93822</td>\n",
       "      <td>24</td>\n",
       "      <td>165531</td>\n",
       "      <td>44</td>\n",
       "      <td>242401</td>\n",
       "      <td>45</td>\n",
       "      <td>266748</td>\n",
       "      <td>619</td>\n",
       "      <td>581</td>\n",
       "      <td>1338</td>\n",
       "      <td>1294</td>\n",
       "    </tr>\n",
       "    <tr>\n",
       "      <th>2</th>\n",
       "      <td>2019-08-03</td>\n",
       "      <td>24</td>\n",
       "      <td>112473</td>\n",
       "      <td>16</td>\n",
       "      <td>114248</td>\n",
       "      <td>68</td>\n",
       "      <td>354874</td>\n",
       "      <td>61</td>\n",
       "      <td>380996</td>\n",
       "      <td>507</td>\n",
       "      <td>509</td>\n",
       "      <td>1845</td>\n",
       "      <td>1803</td>\n",
       "    </tr>\n",
       "    <tr>\n",
       "      <th>3</th>\n",
       "      <td>2019-08-04</td>\n",
       "      <td>16</td>\n",
       "      <td>70825</td>\n",
       "      <td>17</td>\n",
       "      <td>108571</td>\n",
       "      <td>84</td>\n",
       "      <td>425699</td>\n",
       "      <td>78</td>\n",
       "      <td>489567</td>\n",
       "      <td>717</td>\n",
       "      <td>770</td>\n",
       "      <td>2562</td>\n",
       "      <td>2573</td>\n",
       "    </tr>\n",
       "    <tr>\n",
       "      <th>4</th>\n",
       "      <td>2019-08-05</td>\n",
       "      <td>25</td>\n",
       "      <td>124218</td>\n",
       "      <td>23</td>\n",
       "      <td>92428</td>\n",
       "      <td>109</td>\n",
       "      <td>549917</td>\n",
       "      <td>101</td>\n",
       "      <td>581995</td>\n",
       "      <td>756</td>\n",
       "      <td>707</td>\n",
       "      <td>3318</td>\n",
       "      <td>3280</td>\n",
       "    </tr>\n",
       "  </tbody>\n",
       "</table>\n",
       "</div>"
      ],
      "text/plain": [
       "        date  orders_per_date_A  revenue_per_date_A  orders_per_date_B  \\\n",
       "0 2019-08-01  24                 148579              21                  \n",
       "1 2019-08-02  20                 93822               24                  \n",
       "2 2019-08-03  24                 112473              16                  \n",
       "3 2019-08-04  16                 70825               17                  \n",
       "4 2019-08-05  25                 124218              23                  \n",
       "\n",
       "   revenue_per_date_B  orders_сummulative_A  revenue_сummulative_A  \\\n",
       "0  101217              24                    148579                  \n",
       "1  165531              44                    242401                  \n",
       "2  114248              68                    354874                  \n",
       "3  108571              84                    425699                  \n",
       "4  92428               109                   549917                  \n",
       "\n",
       "   orders_сummulative_B  revenue_сummulative_B  visitors_rer_date_A  \\\n",
       "0  21                    101217                 719                   \n",
       "1  45                    266748                 619                   \n",
       "2  61                    380996                 507                   \n",
       "3  78                    489567                 717                   \n",
       "4  101                   581995                 756                   \n",
       "\n",
       "   visitors_rer_date_B  visitors_cummulative_A  visitors_cummulative_B  \n",
       "0  713                  719                     713                     \n",
       "1  581                  1338                    1294                    \n",
       "2  509                  1845                    1803                    \n",
       "3  770                  2562                    2573                    \n",
       "4  707                  3318                    3280                    "
      ]
     },
     "execution_count": 35,
     "metadata": {},
     "output_type": "execute_result"
    }
   ],
   "source": [
    "# получим агрегированные кумулятивные данные по дням о посетителях группы А\n",
    "visitors_A_daily = visitors[visitors['group'] == 'A'][['date', 'visitors']]\n",
    "visitors_A_daily.columns = ['date', 'visitors_rer_date_A']\n",
    "\n",
    "visitors_A_cummulative = visitors_A_daily.apply(\n",
    "    lambda x: visitors_A_daily[visitors_A_daily['date'] <= x['date']].agg(\n",
    "        {'date': 'max', 'visitors_rer_date_A': 'sum'}\n",
    "    ),\n",
    "    axis=1,\n",
    ")\n",
    "visitors_A_cummulative.columns = ['date', 'visitors_cummulative_A']\n",
    "\n",
    "# получим агрегированные кумулятивные данные по дням о посетителях группы B\n",
    "visitors_B_daily = visitors[visitors['group'] == 'B'][['date', 'visitors']]\n",
    "visitors_B_daily.columns = ['date', 'visitors_rer_date_B']\n",
    "\n",
    "visitors_B_cummulative = visitors_B_daily.apply(\n",
    "    lambda x: visitors_B_daily[visitors_B_daily['date'] <= x['date']].agg(\n",
    "        {'date': 'max', 'visitors_rer_date_B': 'sum'}\n",
    "    ),\n",
    "    axis=1,\n",
    ")\n",
    "visitors_B_cummulative.columns = ['date', 'visitors_cummulative_B']\n",
    "\n",
    "# получаем агрегированные данные по дням о заказах и выручке группы А\n",
    "orders_A_daily = (\n",
    "    orders[orders['group'] == 'A'][['date', 'transaction_id', 'visitor_id', 'revenue']]\n",
    "    .groupby('date', as_index=False)\n",
    "    .agg({'transaction_id': pd.Series.nunique, 'revenue': 'sum'})\n",
    ")\n",
    "orders_A_daily.columns = ['date', 'orders_per_date_A', 'revenue_per_date_A']\n",
    "\n",
    "# получаем кумулятивные данные по дням о заказах и выручке группы А\n",
    "orders_A_сummulative = orders_A_daily.apply(\n",
    "    lambda x: orders_A_daily[orders_A_daily['date'] <= x['date']].agg(\n",
    "        {'date': 'max', 'orders_per_date_A': 'sum', 'revenue_per_date_A': 'sum'}\n",
    "    ),\n",
    "    axis=1,\n",
    ").sort_values(by=['date'])\n",
    "\n",
    "orders_A_сummulative.columns = [\n",
    "    'date',\n",
    "    'orders_сummulative_A',\n",
    "    'revenue_сummulative_A',\n",
    "]\n",
    "\n",
    "# получаем агрегированные данные по дням о заказах и выручке группы B\n",
    "orders_B_daily = (\n",
    "    orders[orders['group'] == 'B'][['date', 'transaction_id', 'visitor_id', 'revenue']]\n",
    "    .groupby('date', as_index=False)\n",
    "    .agg({'transaction_id': pd.Series.nunique, 'revenue': 'sum'})\n",
    ")\n",
    "orders_B_daily.columns = ['date', 'orders_per_date_B', 'revenue_per_date_B']\n",
    "\n",
    "# получаем кумулятивные данные по дням о заказах и выручке группы B\n",
    "orders_B_сummulative = orders_B_daily.apply(\n",
    "    lambda x: orders_B_daily[orders_A_daily['date'] <= x['date']].agg(\n",
    "        {'date': 'max', 'orders_per_date_B': 'sum', 'revenue_per_date_B': 'sum'}\n",
    "    ),\n",
    "    axis=1,\n",
    ").sort_values(by=['date'])\n",
    "\n",
    "orders_B_сummulative.columns = [\n",
    "    'date',\n",
    "    'orders_сummulative_B',\n",
    "    'revenue_сummulative_B',\n",
    "]\n",
    "\n",
    "# Объединяем все данные в один датасет\n",
    "data = (\n",
    "    orders_A_daily.merge(\n",
    "        orders_B_daily, left_on='date', right_on='date', how='left'\n",
    "    )\n",
    "    .merge(orders_A_сummulative, left_on='date', right_on='date', how='left')\n",
    "    .merge(orders_B_сummulative, left_on='date', right_on='date', how='left')\n",
    "    .merge(visitors_A_daily, left_on='date', right_on='date', how='left')\n",
    "    .merge(visitors_B_daily, left_on='date', right_on='date', how='left')\n",
    "    .merge(visitors_A_cummulative, left_on='date', right_on='date', how='left')\n",
    "    .merge(visitors_B_cummulative, left_on='date', right_on='date', how='left')\n",
    ")\n",
    "\n",
    "data.head(5)\n"
   ]
  },
  {
   "cell_type": "markdown",
   "metadata": {},
   "source": [
    "Создадим переменные `orders_by_users_A` и `orders_by_users_B`. В них для пользователей, которые заказывали хотя бы 1 раз, укажем число совершённых заказов."
   ]
  },
  {
   "cell_type": "code",
   "execution_count": 36,
   "metadata": {},
   "outputs": [],
   "source": [
    "orders_by_users_A = (\n",
    "    orders[orders['group'] == 'A']\n",
    "    .groupby('visitor_id', as_index=False)\n",
    "    .agg({'transaction_id': pd.Series.nunique})\n",
    ")\n",
    "orders_by_users_A.columns = ['user_id', 'orders']\n",
    "\n",
    "orders_by_users_B = (\n",
    "    orders[orders['group'] == 'B']\n",
    "    .groupby('visitor_id', as_index=False)\n",
    "    .agg({'transaction_id': pd.Series.nunique})\n",
    ")\n",
    "orders_by_users_B.columns = ['user_id', 'orders']"
   ]
  },
  {
   "cell_type": "markdown",
   "metadata": {},
   "source": [
    "Объявим переменные `sample_A` и `sample_B`, в которых пользователям из разных групп будет соответствовать количество заказов. Тем, кто ничего не заказал, будут соответствовать нули. "
   ]
  },
  {
   "cell_type": "code",
   "execution_count": 37,
   "metadata": {},
   "outputs": [],
   "source": [
    "sample_A = pd.concat(\n",
    "    [\n",
    "        orders_by_users_A['orders'],\n",
    "        pd.Series(\n",
    "            0,\n",
    "            index=np.arange(\n",
    "                data['visitors_rer_date_A'].sum() - len(orders_by_users_A['orders'])\n",
    "            ),\n",
    "            name='orders',\n",
    "        ),\n",
    "    ],\n",
    "    axis=0,\n",
    ")\n",
    "\n",
    "sample_B = pd.concat(\n",
    "    [\n",
    "        orders_by_users_B['orders'],\n",
    "        pd.Series(\n",
    "            0,\n",
    "            index=np.arange(\n",
    "                data['visitors_rer_date_B'].sum() - len(orders_by_users_B['orders'])\n",
    "            ),\n",
    "            name='orders',\n",
    "        ),\n",
    "    ],\n",
    "    axis=0,\n",
    ")"
   ]
  },
  {
   "cell_type": "markdown",
   "metadata": {},
   "source": [
    "Сформулируем гипотезы:\n",
    "\n",
    "- Н0: различия в конверсиях между группами по «сырым» данным статистически не значимы\n",
    "- Н1: различия в конверсиях между группами по «сырым» данным статистически значимы\n",
    "\n",
    "Зададим уровень статистической значимости - 5%"
   ]
  },
  {
   "cell_type": "code",
   "execution_count": 39,
   "metadata": {},
   "outputs": [
    {
     "name": "stdout",
     "output_type": "stream",
     "text": [
      "0.017\n",
      "0.138\n"
     ]
    }
   ],
   "source": [
    "print(\"{0:.3f}\".format(stats.mannwhitneyu(sample_A, sample_B)[1]))\n",
    "print(\"{0:.3f}\".format(sample_B.mean() / sample_A.mean() - 1))"
   ]
  },
  {
   "cell_type": "markdown",
   "metadata": {},
   "source": [
    "Первое число — p-value = 0,017 меньше 0,05. Значит, нулевую гипотезу о том, что различия в конверсиях между группами статистически не значимы мы отвергаем. Относительный прирост конверсии группы B к конверсии группы А - 13%."
   ]
  },
  {
   "cell_type": "markdown",
   "metadata": {},
   "source": [
    "### Рассчитаем статистическую значимость различий в среднем чеке заказа между группами по «сырым» данным"
   ]
  },
  {
   "cell_type": "markdown",
   "metadata": {},
   "source": [
    "Сформулируем гипотезы:\n",
    "\n",
    "- Н0: различия в среднем чеке заказа между группами по «сырым» данным статистически не значимы\n",
    "- Н1: различия в среднем чеке заказа между группами по «сырым» данным статистически значимы\n",
    "\n",
    "Уровень статистической значимости без изменений - 5%"
   ]
  },
  {
   "cell_type": "code",
   "execution_count": 40,
   "metadata": {},
   "outputs": [
    {
     "name": "stdout",
     "output_type": "stream",
     "text": [
      "0.729\n",
      "0.259\n"
     ]
    }
   ],
   "source": [
    "print('{0:.3f}'.format(stats.mannwhitneyu(orders[orders['group']=='A']['revenue'], orders[orders['group']=='B']['revenue'])[1]))\n",
    "print('{0:.3f}'.format(orders[orders['group']=='B']['revenue'].mean()/orders[orders['group']=='A']['revenue'].mean()-1)) "
   ]
  },
  {
   "cell_type": "markdown",
   "metadata": {},
   "source": [
    "P-value = 0,729 больше 0,05. Значит, причин отвергать нулевую гипотезу и считать, что в среднем чеке есть различия, нет. Относительное различие среднего чека между группами - 26%, но не смотря на это мы не можем говорить о статистически значимой разнице."
   ]
  },
  {
   "cell_type": "markdown",
   "metadata": {},
   "source": [
    "### Рассчитаем статистическую значимость различий в конверсии между группами по «очищенным» данным"
   ]
  },
  {
   "cell_type": "markdown",
   "metadata": {},
   "source": [
    "1) 95-й и 99-й перцентили стоимости заказов равны 28 000 и 58 233.2 руб. \\\n",
    "2) 95-й и 99-й перцентили количества заказов на пользователя равны 2 и 4 шт.\n",
    "\n",
    "Примем за аномальные значения 4 заказа более 28 тыс. руб. Узнаем, сколько всего аномальных пользователей:"
   ]
  },
  {
   "cell_type": "code",
   "execution_count": 41,
   "metadata": {},
   "outputs": [
    {
     "name": "stdout",
     "output_type": "stream",
     "text": [
      "1099    148427295\n",
      "928     204675465\n",
      "684     358944393\n",
      "648     382846391\n",
      "1189    393266494\n",
      "dtype: int64\n",
      "59\n"
     ]
    }
   ],
   "source": [
    "users_with_many_orders = pd.concat(\n",
    "    [\n",
    "        orders_by_users_A[orders_by_users_A['orders'] > 4]['user_id'],\n",
    "        orders_by_users_B[orders_by_users_B['orders'] > 4]['user_id'],\n",
    "    ],\n",
    "    axis=0,\n",
    ")\n",
    "users_with_expensive_orders = orders[orders['revenue'] > 28000]['visitor_id']\n",
    "ab_normal_users = (\n",
    "    pd.concat([users_with_many_orders, users_with_expensive_orders], axis=0)\n",
    "    .drop_duplicates()\n",
    "    .sort_values()\n",
    ")\n",
    "print(ab_normal_users.head(5))\n",
    "print(ab_normal_users.shape[0]) "
   ]
  },
  {
   "cell_type": "markdown",
   "metadata": {},
   "source": [
    "Всего 59 аномальных пользователя."
   ]
  },
  {
   "cell_type": "markdown",
   "metadata": {},
   "source": [
    "Сформулируем гипотезы:\n",
    "\n",
    "- Н0: различия в конверсии между группами по «очищенным» данным статистически не значимы\n",
    "- Н1: различия в конверсии между группами по «очищенным» данным статистически значимы\n",
    "\n",
    "Уровень статистической значимости - 5%"
   ]
  },
  {
   "cell_type": "code",
   "execution_count": 42,
   "metadata": {},
   "outputs": [
    {
     "name": "stdout",
     "output_type": "stream",
     "text": [
      "0.018\n",
      "0.145\n"
     ]
    }
   ],
   "source": [
    "sample_A_filtered = pd.concat(\n",
    "    [\n",
    "        orders_by_users_A[\n",
    "            np.logical_not(orders_by_users_A['user_id'].isin(ab_normal_users))\n",
    "        ]['orders'],\n",
    "        pd.Series(\n",
    "            0,\n",
    "            index=np.arange(\n",
    "                data['visitors_rer_date_A'].sum() - len(orders_by_users_A['orders'])\n",
    "            ),\n",
    "            name='orders',\n",
    "        ),\n",
    "    ],\n",
    "    axis=0,\n",
    ")\n",
    "\n",
    "sample_B_filtered = pd.concat(\n",
    "    [\n",
    "        orders_by_users_B[\n",
    "            np.logical_not(orders_by_users_B['user_id'].isin(ab_normal_users))\n",
    "        ]['orders'],\n",
    "        pd.Series(\n",
    "            0,\n",
    "            index=np.arange(\n",
    "                data['visitors_rer_date_B'].sum() - len(orders_by_users_B['orders'])\n",
    "            ),\n",
    "            name='orders',\n",
    "        ),\n",
    "    ],\n",
    "    axis=0,\n",
    ") \n",
    "\n",
    "print('{0:.3f}'.format(stats.mannwhitneyu(sample_A_filtered, sample_B_filtered)[1]))\n",
    "print('{0:.3f}'.format(sample_B_filtered.mean()/sample_A_filtered.mean()-1)) "
   ]
  },
  {
   "cell_type": "markdown",
   "metadata": {},
   "source": [
    "Результаты теста по \"очищенным\" данным аналогичны результатам теста по сырым данным: значение p-value меньше 0,05 - отвергаем нулевую гипотезу. Конверсия по группе В лучше, чем конверсия по группе А."
   ]
  },
  {
   "cell_type": "markdown",
   "metadata": {},
   "source": [
    "### Рассчитаем статистическую значимость различий в среднем чеке заказа между группами по «очищенным» данным"
   ]
  },
  {
   "cell_type": "code",
   "execution_count": 43,
   "metadata": {},
   "outputs": [
    {
     "name": "stdout",
     "output_type": "stream",
     "text": [
      "0.961\n",
      "-0.014\n"
     ]
    }
   ],
   "source": [
    "print(\n",
    "    '{0:.3f}'.format(\n",
    "        stats.mannwhitneyu(\n",
    "            orders[\n",
    "                np.logical_and(\n",
    "                    orders['group'] == 'A',\n",
    "                    np.logical_not(orders['visitor_id'].isin(ab_normal_users)),\n",
    "                )\n",
    "            ]['revenue'],\n",
    "            orders[\n",
    "                np.logical_and(\n",
    "                    orders['group'] == 'B',\n",
    "                    np.logical_not(orders['visitor_id'].isin(ab_normal_users)),\n",
    "                )\n",
    "            ]['revenue'],\n",
    "        )[1]\n",
    "    )\n",
    ")\n",
    "\n",
    "print(\n",
    "    \"{0:.3f}\".format(\n",
    "        orders[\n",
    "            np.logical_and(\n",
    "                orders['group'] == 'B',\n",
    "                np.logical_not(orders['visitor_id'].isin(ab_normal_users)),\n",
    "            )\n",
    "        ]['revenue'].mean()\n",
    "        / orders[\n",
    "            np.logical_and(\n",
    "                orders['group'] == 'A',\n",
    "                np.logical_not(orders['visitor_id'].isin(ab_normal_users)),\n",
    "            )\n",
    "        ]['revenue'].mean()\n",
    "        - 1\n",
    "    )\n",
    ") "
   ]
  },
  {
   "cell_type": "markdown",
   "metadata": {},
   "source": [
    "P-value = 0,961 больше 0,05 - значит нулевую гипотезу не отвергаем, а вот относительное различие среднего чека между группами после очистки изменилось -0,014, что свидетельствует о том, что средний чек группы А всё-таки незначительно выше, чем у группы В."
   ]
  },
  {
   "cell_type": "markdown",
   "metadata": {},
   "source": [
    "### Решение по результатам теста"
   ]
  },
  {
   "cell_type": "markdown",
   "metadata": {},
   "source": [
    "По результатам теста можно сделать следующие выводы: \n",
    "\n",
    "- была обнаружена статистически значимая разница между двумя группами по показателю конверсии, группа В превосходит группу А как по \"сырым\" данным, так и по \"очищенным\", разница составляет примерно 14%.\n",
    "- по среднему чеку нет статистически значимого различия ни по «сырым», ни по \"очищенным\" данным. После очистки средние чеки по двум группам находятся на одинаковом уровне.\n",
    "\n",
    "Наша задача состоит в увеличении выручки компании, так как конверсия напрямую связана с данным показателем, и у одной из групп она значительно выше, **принимаем решение об остановке теста и фиксируем приоритет группы В**, даже несмотря на то, что средний чек у 2-х групп одинаковый."
   ]
  },
  {
   "cell_type": "markdown",
   "metadata": {},
   "source": [
    "**Вывод:**\n",
    "\n",
    "Наш анализ включал в себя три этапа:\n",
    "\n",
    "На первом этапе мы подготовили данные к анализу: проверили, что в данных нет пропусков и дубликатов, изменили наименования столбцов в соответствии со стилистическими правилами и формат данных там, где это было необходимо.\n",
    "\n",
    "На втором этапе с помощью методов `ICE` и `RICE` отобрали наиболее приоритетные гипотезы для дальнейшего анализа, сравнив результаты 2-х подходов.\n",
    "\n",
    "На третьем этапе провели анализ А/В теста. Выяснили, что между группами есть статистически значимая разница в показателе конверсии, и нет разницы между данными по среднему чеку. По итогам анализа было принято решение об остановке теста и признании приоритета группы В над группой А.\n"
   ]
  }
 ],
 "metadata": {
  "ExecuteTimeLog": [
   {
    "duration": 1488,
    "start_time": "2022-07-04T17:40:18.412Z"
   },
   {
    "duration": 119,
    "start_time": "2022-07-04T17:41:19.064Z"
   },
   {
    "duration": 17,
    "start_time": "2022-07-04T17:41:28.913Z"
   },
   {
    "duration": 18,
    "start_time": "2022-07-04T17:41:38.818Z"
   },
   {
    "duration": 5,
    "start_time": "2022-07-04T17:41:47.944Z"
   },
   {
    "duration": 8,
    "start_time": "2022-07-04T17:41:56.657Z"
   },
   {
    "duration": 13,
    "start_time": "2022-07-04T17:42:03.964Z"
   },
   {
    "duration": 16,
    "start_time": "2022-07-04T17:42:13.525Z"
   },
   {
    "duration": 10,
    "start_time": "2022-07-04T17:42:21.919Z"
   },
   {
    "duration": 11,
    "start_time": "2022-07-04T17:42:33.310Z"
   },
   {
    "duration": 12,
    "start_time": "2022-07-04T17:42:40.835Z"
   },
   {
    "duration": 17,
    "start_time": "2022-07-04T17:54:30.062Z"
   },
   {
    "duration": 15,
    "start_time": "2022-07-04T17:55:03.299Z"
   },
   {
    "duration": 17,
    "start_time": "2022-07-04T17:55:53.937Z"
   },
   {
    "duration": 454,
    "start_time": "2022-07-04T17:59:15.420Z"
   },
   {
    "duration": 374,
    "start_time": "2022-07-04T17:59:28.833Z"
   },
   {
    "duration": 271,
    "start_time": "2022-07-04T18:00:17.847Z"
   },
   {
    "duration": 386,
    "start_time": "2022-07-04T18:01:03.509Z"
   },
   {
    "duration": 228,
    "start_time": "2022-07-04T18:01:46.000Z"
   },
   {
    "duration": 274,
    "start_time": "2022-07-04T18:02:28.242Z"
   },
   {
    "duration": 10,
    "start_time": "2022-07-04T18:08:23.135Z"
   },
   {
    "duration": 118,
    "start_time": "2022-07-04T18:09:39.677Z"
   },
   {
    "duration": 146,
    "start_time": "2022-07-04T18:10:21.710Z"
   },
   {
    "duration": 79,
    "start_time": "2022-07-04T18:17:41.548Z"
   },
   {
    "duration": 120,
    "start_time": "2022-07-04T18:20:11.696Z"
   },
   {
    "duration": 5,
    "start_time": "2022-07-04T18:20:28.908Z"
   },
   {
    "duration": 2,
    "start_time": "2022-07-04T18:21:50.665Z"
   },
   {
    "duration": 255,
    "start_time": "2022-07-04T18:23:19.950Z"
   },
   {
    "duration": 176,
    "start_time": "2022-07-04T18:24:18.095Z"
   },
   {
    "duration": 2,
    "start_time": "2022-07-04T18:40:48.713Z"
   },
   {
    "duration": 5,
    "start_time": "2022-07-04T18:42:05.061Z"
   },
   {
    "duration": 10,
    "start_time": "2022-07-04T19:24:30.229Z"
   },
   {
    "duration": 16,
    "start_time": "2022-07-04T19:25:37.345Z"
   },
   {
    "duration": 13,
    "start_time": "2022-07-04T19:26:12.048Z"
   },
   {
    "duration": 14,
    "start_time": "2022-07-04T19:26:22.703Z"
   },
   {
    "duration": 153,
    "start_time": "2022-07-04T19:27:08.543Z"
   },
   {
    "duration": 134,
    "start_time": "2022-07-04T19:28:04.944Z"
   },
   {
    "duration": 49,
    "start_time": "2022-07-04T19:30:37.525Z"
   },
   {
    "duration": 5,
    "start_time": "2022-07-04T19:30:55.282Z"
   },
   {
    "duration": 6,
    "start_time": "2022-07-04T19:32:07.544Z"
   },
   {
    "duration": 49,
    "start_time": "2022-07-05T18:52:20.772Z"
   },
   {
    "duration": 1277,
    "start_time": "2022-07-05T18:52:28.198Z"
   },
   {
    "duration": 103,
    "start_time": "2022-07-05T18:52:29.477Z"
   },
   {
    "duration": 13,
    "start_time": "2022-07-05T18:52:29.582Z"
   },
   {
    "duration": 13,
    "start_time": "2022-07-05T18:52:29.597Z"
   },
   {
    "duration": 6,
    "start_time": "2022-07-05T18:52:29.612Z"
   },
   {
    "duration": 12,
    "start_time": "2022-07-05T18:52:29.620Z"
   },
   {
    "duration": 16,
    "start_time": "2022-07-05T18:52:29.634Z"
   },
   {
    "duration": 10,
    "start_time": "2022-07-05T18:52:29.652Z"
   },
   {
    "duration": 8,
    "start_time": "2022-07-05T18:52:29.664Z"
   },
   {
    "duration": 11,
    "start_time": "2022-07-05T18:52:29.675Z"
   },
   {
    "duration": 12,
    "start_time": "2022-07-05T18:52:29.687Z"
   },
   {
    "duration": 16,
    "start_time": "2022-07-05T18:52:29.701Z"
   },
   {
    "duration": 17,
    "start_time": "2022-07-05T18:52:29.719Z"
   },
   {
    "duration": 11,
    "start_time": "2022-07-05T18:52:29.760Z"
   },
   {
    "duration": 321,
    "start_time": "2022-07-05T18:52:29.772Z"
   },
   {
    "duration": 276,
    "start_time": "2022-07-05T18:52:30.095Z"
   },
   {
    "duration": 206,
    "start_time": "2022-07-05T18:52:30.372Z"
   },
   {
    "duration": 361,
    "start_time": "2022-07-05T18:52:30.579Z"
   },
   {
    "duration": 205,
    "start_time": "2022-07-05T18:52:30.942Z"
   },
   {
    "duration": 299,
    "start_time": "2022-07-05T18:52:31.148Z"
   },
   {
    "duration": 19,
    "start_time": "2022-07-05T18:52:31.449Z"
   },
   {
    "duration": 133,
    "start_time": "2022-07-05T18:52:31.470Z"
   },
   {
    "duration": 4,
    "start_time": "2022-07-05T18:52:31.605Z"
   },
   {
    "duration": 163,
    "start_time": "2022-07-05T18:52:31.611Z"
   },
   {
    "duration": 5,
    "start_time": "2022-07-05T18:52:31.777Z"
   },
   {
    "duration": 22,
    "start_time": "2022-07-05T18:52:31.783Z"
   },
   {
    "duration": 152,
    "start_time": "2022-07-05T18:55:12.778Z"
   },
   {
    "duration": 99,
    "start_time": "2022-07-05T18:56:40.476Z"
   },
   {
    "duration": 18,
    "start_time": "2022-07-05T18:58:33.428Z"
   },
   {
    "duration": 110,
    "start_time": "2022-07-05T19:00:12.937Z"
   },
   {
    "duration": 118,
    "start_time": "2022-07-05T19:01:13.615Z"
   },
   {
    "duration": 197,
    "start_time": "2022-07-05T19:03:46.167Z"
   },
   {
    "duration": 155,
    "start_time": "2022-07-05T19:04:37.885Z"
   },
   {
    "duration": 235,
    "start_time": "2022-07-05T19:06:11.790Z"
   },
   {
    "duration": 231,
    "start_time": "2022-07-05T19:08:19.685Z"
   },
   {
    "duration": 84,
    "start_time": "2022-07-05T19:19:50.827Z"
   },
   {
    "duration": 183,
    "start_time": "2022-07-05T19:20:25.144Z"
   },
   {
    "duration": 157,
    "start_time": "2022-07-05T19:20:39.004Z"
   },
   {
    "duration": 7,
    "start_time": "2022-07-05T19:26:29.899Z"
   },
   {
    "duration": 6,
    "start_time": "2022-07-05T19:26:46.555Z"
   },
   {
    "duration": 9,
    "start_time": "2022-07-05T19:27:51.833Z"
   },
   {
    "duration": 6,
    "start_time": "2022-07-05T19:28:05.342Z"
   },
   {
    "duration": 55,
    "start_time": "2022-07-05T19:36:10.842Z"
   },
   {
    "duration": 11,
    "start_time": "2022-07-05T19:56:44.320Z"
   },
   {
    "duration": 136,
    "start_time": "2022-07-05T20:38:53.559Z"
   },
   {
    "duration": 236,
    "start_time": "2022-07-05T20:39:15.747Z"
   },
   {
    "duration": 150,
    "start_time": "2022-07-05T20:39:49.912Z"
   },
   {
    "duration": 141,
    "start_time": "2022-07-05T20:39:57.205Z"
   },
   {
    "duration": 1107,
    "start_time": "2022-07-05T20:40:20.876Z"
   },
   {
    "duration": 40,
    "start_time": "2022-07-05T20:40:21.985Z"
   },
   {
    "duration": 12,
    "start_time": "2022-07-05T20:40:22.026Z"
   },
   {
    "duration": 11,
    "start_time": "2022-07-05T20:40:22.040Z"
   },
   {
    "duration": 9,
    "start_time": "2022-07-05T20:40:22.053Z"
   },
   {
    "duration": 11,
    "start_time": "2022-07-05T20:40:22.065Z"
   },
   {
    "duration": 13,
    "start_time": "2022-07-05T20:40:22.077Z"
   },
   {
    "duration": 11,
    "start_time": "2022-07-05T20:40:22.092Z"
   },
   {
    "duration": 18,
    "start_time": "2022-07-05T20:40:22.105Z"
   },
   {
    "duration": 15,
    "start_time": "2022-07-05T20:40:22.125Z"
   },
   {
    "duration": 21,
    "start_time": "2022-07-05T20:40:22.141Z"
   },
   {
    "duration": 22,
    "start_time": "2022-07-05T20:40:22.164Z"
   },
   {
    "duration": 15,
    "start_time": "2022-07-05T20:40:22.187Z"
   },
   {
    "duration": 9,
    "start_time": "2022-07-05T20:40:22.203Z"
   },
   {
    "duration": 337,
    "start_time": "2022-07-05T20:40:22.214Z"
   },
   {
    "duration": 272,
    "start_time": "2022-07-05T20:40:22.553Z"
   },
   {
    "duration": 193,
    "start_time": "2022-07-05T20:40:22.827Z"
   },
   {
    "duration": 287,
    "start_time": "2022-07-05T20:40:23.022Z"
   },
   {
    "duration": 212,
    "start_time": "2022-07-05T20:40:23.311Z"
   },
   {
    "duration": 318,
    "start_time": "2022-07-05T20:40:23.525Z"
   },
   {
    "duration": 19,
    "start_time": "2022-07-05T20:40:23.845Z"
   },
   {
    "duration": 140,
    "start_time": "2022-07-05T20:40:23.865Z"
   },
   {
    "duration": 5,
    "start_time": "2022-07-05T20:40:24.006Z"
   },
   {
    "duration": 163,
    "start_time": "2022-07-05T20:40:24.013Z"
   },
   {
    "duration": 5,
    "start_time": "2022-07-05T20:40:24.177Z"
   },
   {
    "duration": 301,
    "start_time": "2022-07-05T20:40:24.184Z"
   },
   {
    "duration": 134,
    "start_time": "2022-07-05T20:40:24.487Z"
   },
   {
    "duration": 6,
    "start_time": "2022-07-05T20:40:24.624Z"
   },
   {
    "duration": 32,
    "start_time": "2022-07-05T20:40:24.632Z"
   },
   {
    "duration": 13,
    "start_time": "2022-07-05T20:40:24.666Z"
   },
   {
    "duration": 966,
    "start_time": "2022-07-05T20:46:26.220Z"
   },
   {
    "duration": 856,
    "start_time": "2022-07-05T20:46:41.388Z"
   },
   {
    "duration": 801,
    "start_time": "2022-07-05T20:47:12.916Z"
   },
   {
    "duration": 769,
    "start_time": "2022-07-05T20:47:52.179Z"
   },
   {
    "duration": 1073,
    "start_time": "2022-07-05T20:48:08.682Z"
   },
   {
    "duration": 49,
    "start_time": "2022-07-05T20:48:09.757Z"
   },
   {
    "duration": 11,
    "start_time": "2022-07-05T20:48:09.807Z"
   },
   {
    "duration": 14,
    "start_time": "2022-07-05T20:48:09.820Z"
   },
   {
    "duration": 8,
    "start_time": "2022-07-05T20:48:09.835Z"
   },
   {
    "duration": 13,
    "start_time": "2022-07-05T20:48:09.845Z"
   },
   {
    "duration": 17,
    "start_time": "2022-07-05T20:48:09.866Z"
   },
   {
    "duration": 11,
    "start_time": "2022-07-05T20:48:09.884Z"
   },
   {
    "duration": 22,
    "start_time": "2022-07-05T20:48:09.897Z"
   },
   {
    "duration": 15,
    "start_time": "2022-07-05T20:48:09.921Z"
   },
   {
    "duration": 8,
    "start_time": "2022-07-05T20:48:09.937Z"
   },
   {
    "duration": 20,
    "start_time": "2022-07-05T20:48:09.946Z"
   },
   {
    "duration": 13,
    "start_time": "2022-07-05T20:48:09.972Z"
   },
   {
    "duration": 9,
    "start_time": "2022-07-05T20:48:09.987Z"
   },
   {
    "duration": 306,
    "start_time": "2022-07-05T20:48:09.998Z"
   },
   {
    "duration": 287,
    "start_time": "2022-07-05T20:48:10.305Z"
   },
   {
    "duration": 208,
    "start_time": "2022-07-05T20:48:10.593Z"
   },
   {
    "duration": 285,
    "start_time": "2022-07-05T20:48:10.803Z"
   },
   {
    "duration": 218,
    "start_time": "2022-07-05T20:48:11.090Z"
   },
   {
    "duration": 326,
    "start_time": "2022-07-05T20:48:11.310Z"
   },
   {
    "duration": 11,
    "start_time": "2022-07-05T20:48:11.637Z"
   },
   {
    "duration": 158,
    "start_time": "2022-07-05T20:48:11.650Z"
   },
   {
    "duration": 4,
    "start_time": "2022-07-05T20:48:11.809Z"
   },
   {
    "duration": 165,
    "start_time": "2022-07-05T20:48:11.815Z"
   },
   {
    "duration": 4,
    "start_time": "2022-07-05T20:48:11.982Z"
   },
   {
    "duration": 310,
    "start_time": "2022-07-05T20:48:11.988Z"
   },
   {
    "duration": 135,
    "start_time": "2022-07-05T20:48:12.300Z"
   },
   {
    "duration": 6,
    "start_time": "2022-07-05T20:48:12.438Z"
   },
   {
    "duration": 39,
    "start_time": "2022-07-05T20:48:12.445Z"
   },
   {
    "duration": 9,
    "start_time": "2022-07-05T20:48:12.486Z"
   },
   {
    "duration": 898,
    "start_time": "2022-07-05T20:48:12.497Z"
   },
   {
    "duration": 10,
    "start_time": "2022-07-05T20:52:29.433Z"
   },
   {
    "duration": 8,
    "start_time": "2022-07-05T20:54:08.162Z"
   },
   {
    "duration": 752,
    "start_time": "2022-07-05T20:59:09.557Z"
   },
   {
    "duration": 8,
    "start_time": "2022-07-05T20:59:29.665Z"
   },
   {
    "duration": 13,
    "start_time": "2022-07-05T20:59:43.375Z"
   },
   {
    "duration": 27,
    "start_time": "2022-07-05T21:00:00.298Z"
   },
   {
    "duration": 13,
    "start_time": "2022-07-05T21:06:37.209Z"
   },
   {
    "duration": 44,
    "start_time": "2022-07-05T21:31:24.893Z"
   },
   {
    "duration": 1181,
    "start_time": "2022-07-06T12:46:04.837Z"
   },
   {
    "duration": 44,
    "start_time": "2022-07-06T12:46:06.020Z"
   },
   {
    "duration": 13,
    "start_time": "2022-07-06T12:46:06.066Z"
   },
   {
    "duration": 17,
    "start_time": "2022-07-06T12:46:06.081Z"
   },
   {
    "duration": 6,
    "start_time": "2022-07-06T12:46:06.101Z"
   },
   {
    "duration": 14,
    "start_time": "2022-07-06T12:46:06.109Z"
   },
   {
    "duration": 25,
    "start_time": "2022-07-06T12:46:06.125Z"
   },
   {
    "duration": 17,
    "start_time": "2022-07-06T12:46:06.153Z"
   },
   {
    "duration": 26,
    "start_time": "2022-07-06T12:46:06.172Z"
   },
   {
    "duration": 26,
    "start_time": "2022-07-06T12:46:06.201Z"
   },
   {
    "duration": 14,
    "start_time": "2022-07-06T12:46:06.229Z"
   },
   {
    "duration": 27,
    "start_time": "2022-07-06T12:46:06.246Z"
   },
   {
    "duration": 23,
    "start_time": "2022-07-06T12:46:06.275Z"
   },
   {
    "duration": 7,
    "start_time": "2022-07-06T12:46:06.301Z"
   },
   {
    "duration": 326,
    "start_time": "2022-07-06T12:46:06.310Z"
   },
   {
    "duration": 282,
    "start_time": "2022-07-06T12:46:06.638Z"
   },
   {
    "duration": 208,
    "start_time": "2022-07-06T12:46:06.922Z"
   },
   {
    "duration": 355,
    "start_time": "2022-07-06T12:46:07.132Z"
   },
   {
    "duration": 226,
    "start_time": "2022-07-06T12:46:07.489Z"
   },
   {
    "duration": 337,
    "start_time": "2022-07-06T12:46:07.716Z"
   },
   {
    "duration": 10,
    "start_time": "2022-07-06T12:46:08.054Z"
   },
   {
    "duration": 146,
    "start_time": "2022-07-06T12:46:08.066Z"
   },
   {
    "duration": 5,
    "start_time": "2022-07-06T12:46:08.213Z"
   },
   {
    "duration": 153,
    "start_time": "2022-07-06T12:46:08.220Z"
   },
   {
    "duration": 5,
    "start_time": "2022-07-06T12:46:08.374Z"
   },
   {
    "duration": 339,
    "start_time": "2022-07-06T12:46:08.380Z"
   },
   {
    "duration": 147,
    "start_time": "2022-07-06T12:46:08.721Z"
   },
   {
    "duration": 7,
    "start_time": "2022-07-06T12:46:08.870Z"
   },
   {
    "duration": 58,
    "start_time": "2022-07-06T12:46:08.879Z"
   },
   {
    "duration": 12,
    "start_time": "2022-07-06T12:46:08.939Z"
   },
   {
    "duration": 12,
    "start_time": "2022-07-06T12:46:08.953Z"
   },
   {
    "duration": 44,
    "start_time": "2022-07-06T12:46:08.967Z"
   },
   {
    "duration": 33,
    "start_time": "2022-07-06T12:46:09.013Z"
   },
   {
    "duration": 1194,
    "start_time": "2022-07-06T12:47:57.078Z"
   },
   {
    "duration": 43,
    "start_time": "2022-07-06T12:47:58.274Z"
   },
   {
    "duration": 12,
    "start_time": "2022-07-06T12:47:58.319Z"
   },
   {
    "duration": 15,
    "start_time": "2022-07-06T12:47:58.332Z"
   },
   {
    "duration": 9,
    "start_time": "2022-07-06T12:47:58.350Z"
   },
   {
    "duration": 13,
    "start_time": "2022-07-06T12:47:58.361Z"
   },
   {
    "duration": 17,
    "start_time": "2022-07-06T12:47:58.376Z"
   },
   {
    "duration": 16,
    "start_time": "2022-07-06T12:47:58.394Z"
   },
   {
    "duration": 27,
    "start_time": "2022-07-06T12:47:58.412Z"
   },
   {
    "duration": 20,
    "start_time": "2022-07-06T12:47:58.441Z"
   },
   {
    "duration": 17,
    "start_time": "2022-07-06T12:47:58.463Z"
   },
   {
    "duration": 20,
    "start_time": "2022-07-06T12:47:58.482Z"
   },
   {
    "duration": 16,
    "start_time": "2022-07-06T12:47:58.504Z"
   },
   {
    "duration": 8,
    "start_time": "2022-07-06T12:47:58.522Z"
   },
   {
    "duration": 455,
    "start_time": "2022-07-06T12:47:58.532Z"
   },
   {
    "duration": 326,
    "start_time": "2022-07-06T12:47:58.989Z"
   },
   {
    "duration": 229,
    "start_time": "2022-07-06T12:47:59.317Z"
   },
   {
    "duration": 330,
    "start_time": "2022-07-06T12:47:59.549Z"
   },
   {
    "duration": 217,
    "start_time": "2022-07-06T12:47:59.880Z"
   },
   {
    "duration": 306,
    "start_time": "2022-07-06T12:48:00.099Z"
   },
   {
    "duration": 11,
    "start_time": "2022-07-06T12:48:00.406Z"
   },
   {
    "duration": 152,
    "start_time": "2022-07-06T12:48:00.418Z"
   },
   {
    "duration": 5,
    "start_time": "2022-07-06T12:48:00.572Z"
   },
   {
    "duration": 177,
    "start_time": "2022-07-06T12:48:00.578Z"
   },
   {
    "duration": 4,
    "start_time": "2022-07-06T12:48:00.757Z"
   },
   {
    "duration": 320,
    "start_time": "2022-07-06T12:48:00.763Z"
   },
   {
    "duration": 141,
    "start_time": "2022-07-06T12:48:01.085Z"
   },
   {
    "duration": 6,
    "start_time": "2022-07-06T12:48:01.228Z"
   },
   {
    "duration": 45,
    "start_time": "2022-07-06T12:48:01.236Z"
   },
   {
    "duration": 10,
    "start_time": "2022-07-06T12:48:01.283Z"
   },
   {
    "duration": 22,
    "start_time": "2022-07-06T12:48:01.294Z"
   },
   {
    "duration": 49,
    "start_time": "2022-07-06T12:48:01.318Z"
   },
   {
    "duration": 15,
    "start_time": "2022-07-06T12:48:01.369Z"
   },
   {
    "duration": 1399,
    "start_time": "2022-07-07T19:26:19.736Z"
   },
   {
    "duration": 256,
    "start_time": "2022-07-07T19:26:21.137Z"
   },
   {
    "duration": 13,
    "start_time": "2022-07-07T19:26:21.395Z"
   },
   {
    "duration": 13,
    "start_time": "2022-07-07T19:26:21.410Z"
   },
   {
    "duration": 5,
    "start_time": "2022-07-07T19:26:21.426Z"
   },
   {
    "duration": 10,
    "start_time": "2022-07-07T19:26:21.433Z"
   },
   {
    "duration": 12,
    "start_time": "2022-07-07T19:26:21.445Z"
   },
   {
    "duration": 40,
    "start_time": "2022-07-07T19:26:21.459Z"
   },
   {
    "duration": 7,
    "start_time": "2022-07-07T19:26:21.501Z"
   },
   {
    "duration": 13,
    "start_time": "2022-07-07T19:26:21.510Z"
   },
   {
    "duration": 8,
    "start_time": "2022-07-07T19:26:21.525Z"
   },
   {
    "duration": 16,
    "start_time": "2022-07-07T19:26:21.534Z"
   },
   {
    "duration": 16,
    "start_time": "2022-07-07T19:26:21.552Z"
   },
   {
    "duration": 8,
    "start_time": "2022-07-07T19:26:21.601Z"
   },
   {
    "duration": 362,
    "start_time": "2022-07-07T19:26:21.611Z"
   },
   {
    "duration": 316,
    "start_time": "2022-07-07T19:26:21.975Z"
   },
   {
    "duration": 248,
    "start_time": "2022-07-07T19:26:22.292Z"
   },
   {
    "duration": 426,
    "start_time": "2022-07-07T19:26:22.542Z"
   },
   {
    "duration": 258,
    "start_time": "2022-07-07T19:26:22.971Z"
   },
   {
    "duration": 319,
    "start_time": "2022-07-07T19:26:23.231Z"
   },
   {
    "duration": 11,
    "start_time": "2022-07-07T19:26:23.552Z"
   },
   {
    "duration": 204,
    "start_time": "2022-07-07T19:26:23.565Z"
   },
   {
    "duration": 5,
    "start_time": "2022-07-07T19:26:23.771Z"
   },
   {
    "duration": 203,
    "start_time": "2022-07-07T19:26:23.778Z"
   },
   {
    "duration": 15,
    "start_time": "2022-07-07T19:26:23.983Z"
   },
   {
    "duration": 331,
    "start_time": "2022-07-07T19:26:24.001Z"
   },
   {
    "duration": 142,
    "start_time": "2022-07-07T19:26:24.334Z"
   },
   {
    "duration": 7,
    "start_time": "2022-07-07T19:26:24.477Z"
   },
   {
    "duration": 39,
    "start_time": "2022-07-07T19:26:24.486Z"
   },
   {
    "duration": 11,
    "start_time": "2022-07-07T19:26:24.527Z"
   },
   {
    "duration": 9,
    "start_time": "2022-07-07T19:26:24.540Z"
   },
   {
    "duration": 49,
    "start_time": "2022-07-07T19:26:24.551Z"
   },
   {
    "duration": 14,
    "start_time": "2022-07-07T19:26:24.602Z"
   },
   {
    "duration": 1244,
    "start_time": "2022-07-07T19:27:48.375Z"
   },
   {
    "duration": 81,
    "start_time": "2022-07-07T19:27:49.622Z"
   },
   {
    "duration": 15,
    "start_time": "2022-07-07T19:27:49.705Z"
   },
   {
    "duration": 15,
    "start_time": "2022-07-07T19:27:49.722Z"
   },
   {
    "duration": 4,
    "start_time": "2022-07-07T19:27:49.741Z"
   },
   {
    "duration": 12,
    "start_time": "2022-07-07T19:27:49.747Z"
   },
   {
    "duration": 44,
    "start_time": "2022-07-07T19:27:49.761Z"
   },
   {
    "duration": 15,
    "start_time": "2022-07-07T19:27:49.807Z"
   },
   {
    "duration": 14,
    "start_time": "2022-07-07T19:27:49.824Z"
   },
   {
    "duration": 13,
    "start_time": "2022-07-07T19:27:49.840Z"
   },
   {
    "duration": 9,
    "start_time": "2022-07-07T19:27:49.854Z"
   },
   {
    "duration": 47,
    "start_time": "2022-07-07T19:27:49.865Z"
   },
   {
    "duration": 16,
    "start_time": "2022-07-07T19:27:49.914Z"
   },
   {
    "duration": 9,
    "start_time": "2022-07-07T19:27:49.933Z"
   },
   {
    "duration": 358,
    "start_time": "2022-07-07T19:27:49.944Z"
   },
   {
    "duration": 311,
    "start_time": "2022-07-07T19:27:50.304Z"
   },
   {
    "duration": 245,
    "start_time": "2022-07-07T19:27:50.616Z"
   },
   {
    "duration": 375,
    "start_time": "2022-07-07T19:27:50.863Z"
   },
   {
    "duration": 266,
    "start_time": "2022-07-07T19:27:51.240Z"
   },
   {
    "duration": 352,
    "start_time": "2022-07-07T19:27:51.508Z"
   },
   {
    "duration": 12,
    "start_time": "2022-07-07T19:27:51.862Z"
   },
   {
    "duration": 188,
    "start_time": "2022-07-07T19:27:51.875Z"
   },
   {
    "duration": 6,
    "start_time": "2022-07-07T19:27:52.065Z"
   },
   {
    "duration": 198,
    "start_time": "2022-07-07T19:27:52.073Z"
   },
   {
    "duration": 6,
    "start_time": "2022-07-07T19:27:52.272Z"
   },
   {
    "duration": 342,
    "start_time": "2022-07-07T19:27:52.279Z"
   },
   {
    "duration": 151,
    "start_time": "2022-07-07T19:27:52.622Z"
   },
   {
    "duration": 7,
    "start_time": "2022-07-07T19:27:52.775Z"
   },
   {
    "duration": 33,
    "start_time": "2022-07-07T19:27:52.784Z"
   },
   {
    "duration": 13,
    "start_time": "2022-07-07T19:27:52.819Z"
   },
   {
    "duration": 10,
    "start_time": "2022-07-07T19:27:52.834Z"
   },
   {
    "duration": 57,
    "start_time": "2022-07-07T19:27:52.846Z"
   },
   {
    "duration": 14,
    "start_time": "2022-07-07T19:27:52.905Z"
   },
   {
    "duration": 1203,
    "start_time": "2022-07-07T19:28:14.263Z"
   },
   {
    "duration": 83,
    "start_time": "2022-07-07T19:28:15.468Z"
   },
   {
    "duration": 17,
    "start_time": "2022-07-07T19:28:15.553Z"
   },
   {
    "duration": 16,
    "start_time": "2022-07-07T19:28:15.572Z"
   },
   {
    "duration": 7,
    "start_time": "2022-07-07T19:28:15.590Z"
   },
   {
    "duration": 18,
    "start_time": "2022-07-07T19:28:15.599Z"
   },
   {
    "duration": 22,
    "start_time": "2022-07-07T19:28:15.619Z"
   },
   {
    "duration": 18,
    "start_time": "2022-07-07T19:28:15.643Z"
   },
   {
    "duration": 10,
    "start_time": "2022-07-07T19:28:15.665Z"
   },
   {
    "duration": 27,
    "start_time": "2022-07-07T19:28:15.677Z"
   },
   {
    "duration": 12,
    "start_time": "2022-07-07T19:28:15.706Z"
   },
   {
    "duration": 17,
    "start_time": "2022-07-07T19:28:15.719Z"
   },
   {
    "duration": 15,
    "start_time": "2022-07-07T19:28:15.738Z"
   },
   {
    "duration": 10,
    "start_time": "2022-07-07T19:28:15.755Z"
   },
   {
    "duration": 364,
    "start_time": "2022-07-07T19:28:15.798Z"
   },
   {
    "duration": 298,
    "start_time": "2022-07-07T19:28:16.164Z"
   },
   {
    "duration": 235,
    "start_time": "2022-07-07T19:28:16.463Z"
   },
   {
    "duration": 380,
    "start_time": "2022-07-07T19:28:16.700Z"
   },
   {
    "duration": 248,
    "start_time": "2022-07-07T19:28:17.082Z"
   },
   {
    "duration": 293,
    "start_time": "2022-07-07T19:28:17.332Z"
   },
   {
    "duration": 9,
    "start_time": "2022-07-07T19:28:17.627Z"
   },
   {
    "duration": 150,
    "start_time": "2022-07-07T19:28:17.638Z"
   },
   {
    "duration": 10,
    "start_time": "2022-07-07T19:28:17.790Z"
   },
   {
    "duration": 165,
    "start_time": "2022-07-07T19:28:17.802Z"
   },
   {
    "duration": 5,
    "start_time": "2022-07-07T19:28:17.968Z"
   },
   {
    "duration": 338,
    "start_time": "2022-07-07T19:28:17.975Z"
   },
   {
    "duration": 161,
    "start_time": "2022-07-07T19:28:18.315Z"
   },
   {
    "duration": 21,
    "start_time": "2022-07-07T19:28:18.477Z"
   },
   {
    "duration": 22,
    "start_time": "2022-07-07T19:28:18.500Z"
   },
   {
    "duration": 11,
    "start_time": "2022-07-07T19:28:18.524Z"
   },
   {
    "duration": 9,
    "start_time": "2022-07-07T19:28:18.537Z"
   },
   {
    "duration": 62,
    "start_time": "2022-07-07T19:28:18.549Z"
   },
   {
    "duration": 14,
    "start_time": "2022-07-07T19:28:18.613Z"
   },
   {
    "duration": 230,
    "start_time": "2022-07-07T19:28:45.101Z"
   },
   {
    "duration": 3,
    "start_time": "2022-07-07T19:38:22.581Z"
   },
   {
    "duration": 234,
    "start_time": "2022-07-07T19:38:26.051Z"
   },
   {
    "duration": 194,
    "start_time": "2022-07-07T19:40:37.489Z"
   },
   {
    "duration": 1219,
    "start_time": "2022-07-07T19:41:22.803Z"
   },
   {
    "duration": 79,
    "start_time": "2022-07-07T19:41:24.024Z"
   },
   {
    "duration": 13,
    "start_time": "2022-07-07T19:41:24.106Z"
   },
   {
    "duration": 12,
    "start_time": "2022-07-07T19:41:24.121Z"
   },
   {
    "duration": 6,
    "start_time": "2022-07-07T19:41:24.135Z"
   },
   {
    "duration": 14,
    "start_time": "2022-07-07T19:41:24.142Z"
   },
   {
    "duration": 14,
    "start_time": "2022-07-07T19:41:24.158Z"
   },
   {
    "duration": 28,
    "start_time": "2022-07-07T19:41:24.174Z"
   },
   {
    "duration": 7,
    "start_time": "2022-07-07T19:41:24.204Z"
   },
   {
    "duration": 14,
    "start_time": "2022-07-07T19:41:24.213Z"
   },
   {
    "duration": 12,
    "start_time": "2022-07-07T19:41:24.229Z"
   },
   {
    "duration": 22,
    "start_time": "2022-07-07T19:41:24.243Z"
   },
   {
    "duration": 38,
    "start_time": "2022-07-07T19:41:24.267Z"
   },
   {
    "duration": 8,
    "start_time": "2022-07-07T19:41:24.310Z"
   },
   {
    "duration": 345,
    "start_time": "2022-07-07T19:41:24.320Z"
   },
   {
    "duration": 270,
    "start_time": "2022-07-07T19:41:24.667Z"
   },
   {
    "duration": 4,
    "start_time": "2022-07-07T19:41:24.939Z"
   },
   {
    "duration": 187,
    "start_time": "2022-07-07T19:41:24.945Z"
   },
   {
    "duration": 240,
    "start_time": "2022-07-07T19:41:25.133Z"
   },
   {
    "duration": 370,
    "start_time": "2022-07-07T19:41:25.375Z"
   },
   {
    "duration": 266,
    "start_time": "2022-07-07T19:41:25.747Z"
   },
   {
    "duration": 323,
    "start_time": "2022-07-07T19:41:26.014Z"
   },
   {
    "duration": 10,
    "start_time": "2022-07-07T19:41:26.338Z"
   },
   {
    "duration": 168,
    "start_time": "2022-07-07T19:41:26.350Z"
   },
   {
    "duration": 4,
    "start_time": "2022-07-07T19:41:26.520Z"
   },
   {
    "duration": 309,
    "start_time": "2022-07-07T19:41:26.526Z"
   },
   {
    "duration": 10,
    "start_time": "2022-07-07T19:41:26.837Z"
   },
   {
    "duration": 277,
    "start_time": "2022-07-07T19:41:26.851Z"
   },
   {
    "duration": 173,
    "start_time": "2022-07-07T19:41:27.130Z"
   },
   {
    "duration": 8,
    "start_time": "2022-07-07T19:41:27.306Z"
   },
   {
    "duration": 41,
    "start_time": "2022-07-07T19:41:27.317Z"
   },
   {
    "duration": 12,
    "start_time": "2022-07-07T19:41:27.360Z"
   },
   {
    "duration": 27,
    "start_time": "2022-07-07T19:41:27.374Z"
   },
   {
    "duration": 27,
    "start_time": "2022-07-07T19:41:27.403Z"
   },
   {
    "duration": 14,
    "start_time": "2022-07-07T19:41:27.432Z"
   },
   {
    "duration": 1275,
    "start_time": "2022-07-07T19:42:16.359Z"
   },
   {
    "duration": 83,
    "start_time": "2022-07-07T19:42:17.635Z"
   },
   {
    "duration": 14,
    "start_time": "2022-07-07T19:42:17.720Z"
   },
   {
    "duration": 14,
    "start_time": "2022-07-07T19:42:17.736Z"
   },
   {
    "duration": 5,
    "start_time": "2022-07-07T19:42:17.752Z"
   },
   {
    "duration": 10,
    "start_time": "2022-07-07T19:42:17.759Z"
   },
   {
    "duration": 12,
    "start_time": "2022-07-07T19:42:17.771Z"
   },
   {
    "duration": 22,
    "start_time": "2022-07-07T19:42:17.785Z"
   },
   {
    "duration": 8,
    "start_time": "2022-07-07T19:42:17.809Z"
   },
   {
    "duration": 11,
    "start_time": "2022-07-07T19:42:17.819Z"
   },
   {
    "duration": 9,
    "start_time": "2022-07-07T19:42:17.832Z"
   },
   {
    "duration": 16,
    "start_time": "2022-07-07T19:42:17.842Z"
   },
   {
    "duration": 48,
    "start_time": "2022-07-07T19:42:17.860Z"
   },
   {
    "duration": 9,
    "start_time": "2022-07-07T19:42:17.911Z"
   },
   {
    "duration": 356,
    "start_time": "2022-07-07T19:42:17.922Z"
   },
   {
    "duration": 348,
    "start_time": "2022-07-07T19:42:18.280Z"
   },
   {
    "duration": 273,
    "start_time": "2022-07-07T19:42:18.630Z"
   },
   {
    "duration": 363,
    "start_time": "2022-07-07T19:42:18.905Z"
   },
   {
    "duration": 255,
    "start_time": "2022-07-07T19:42:19.270Z"
   },
   {
    "duration": 328,
    "start_time": "2022-07-07T19:42:19.527Z"
   },
   {
    "duration": 11,
    "start_time": "2022-07-07T19:42:19.856Z"
   },
   {
    "duration": 171,
    "start_time": "2022-07-07T19:42:19.869Z"
   },
   {
    "duration": 4,
    "start_time": "2022-07-07T19:42:20.042Z"
   },
   {
    "duration": 190,
    "start_time": "2022-07-07T19:42:20.047Z"
   },
   {
    "duration": 4,
    "start_time": "2022-07-07T19:42:20.239Z"
   },
   {
    "duration": 333,
    "start_time": "2022-07-07T19:42:20.245Z"
   },
   {
    "duration": 168,
    "start_time": "2022-07-07T19:42:20.580Z"
   },
   {
    "duration": 6,
    "start_time": "2022-07-07T19:42:20.750Z"
   },
   {
    "duration": 41,
    "start_time": "2022-07-07T19:42:20.757Z"
   },
   {
    "duration": 10,
    "start_time": "2022-07-07T19:42:20.799Z"
   },
   {
    "duration": 11,
    "start_time": "2022-07-07T19:42:20.811Z"
   },
   {
    "duration": 40,
    "start_time": "2022-07-07T19:42:20.823Z"
   },
   {
    "duration": 13,
    "start_time": "2022-07-07T19:42:20.865Z"
   },
   {
    "duration": 99,
    "start_time": "2022-07-07T19:43:05.982Z"
   },
   {
    "duration": 232,
    "start_time": "2022-07-07T19:43:34.404Z"
   },
   {
    "duration": 216,
    "start_time": "2022-07-07T19:43:40.853Z"
   },
   {
    "duration": 344,
    "start_time": "2022-07-07T19:43:49.373Z"
   },
   {
    "duration": 247,
    "start_time": "2022-07-07T19:43:54.837Z"
   },
   {
    "duration": 351,
    "start_time": "2022-07-07T19:43:59.288Z"
   },
   {
    "duration": 1206,
    "start_time": "2022-07-07T19:44:23.815Z"
   },
   {
    "duration": 80,
    "start_time": "2022-07-07T19:44:25.023Z"
   },
   {
    "duration": 13,
    "start_time": "2022-07-07T19:44:25.106Z"
   },
   {
    "duration": 12,
    "start_time": "2022-07-07T19:44:25.121Z"
   },
   {
    "duration": 12,
    "start_time": "2022-07-07T19:44:25.135Z"
   },
   {
    "duration": 13,
    "start_time": "2022-07-07T19:44:25.149Z"
   },
   {
    "duration": 11,
    "start_time": "2022-07-07T19:44:25.164Z"
   },
   {
    "duration": 23,
    "start_time": "2022-07-07T19:44:25.177Z"
   },
   {
    "duration": 8,
    "start_time": "2022-07-07T19:44:25.201Z"
   },
   {
    "duration": 13,
    "start_time": "2022-07-07T19:44:25.210Z"
   },
   {
    "duration": 8,
    "start_time": "2022-07-07T19:44:25.225Z"
   },
   {
    "duration": 17,
    "start_time": "2022-07-07T19:44:25.235Z"
   },
   {
    "duration": 46,
    "start_time": "2022-07-07T19:44:25.253Z"
   },
   {
    "duration": 9,
    "start_time": "2022-07-07T19:44:25.302Z"
   },
   {
    "duration": 345,
    "start_time": "2022-07-07T19:44:25.313Z"
   },
   {
    "duration": 332,
    "start_time": "2022-07-07T19:44:25.660Z"
   },
   {
    "duration": 243,
    "start_time": "2022-07-07T19:44:25.998Z"
   },
   {
    "duration": 321,
    "start_time": "2022-07-07T19:44:26.243Z"
   },
   {
    "duration": 332,
    "start_time": "2022-07-07T19:44:26.566Z"
   },
   {
    "duration": 331,
    "start_time": "2022-07-07T19:44:26.900Z"
   },
   {
    "duration": 10,
    "start_time": "2022-07-07T19:44:27.233Z"
   },
   {
    "duration": 171,
    "start_time": "2022-07-07T19:44:27.244Z"
   },
   {
    "duration": 4,
    "start_time": "2022-07-07T19:44:27.417Z"
   },
   {
    "duration": 198,
    "start_time": "2022-07-07T19:44:27.423Z"
   },
   {
    "duration": 5,
    "start_time": "2022-07-07T19:44:27.624Z"
   },
   {
    "duration": 347,
    "start_time": "2022-07-07T19:44:27.631Z"
   },
   {
    "duration": 144,
    "start_time": "2022-07-07T19:44:27.980Z"
   },
   {
    "duration": 7,
    "start_time": "2022-07-07T19:44:28.125Z"
   },
   {
    "duration": 26,
    "start_time": "2022-07-07T19:44:28.133Z"
   },
   {
    "duration": 10,
    "start_time": "2022-07-07T19:44:28.161Z"
   },
   {
    "duration": 30,
    "start_time": "2022-07-07T19:44:28.172Z"
   },
   {
    "duration": 26,
    "start_time": "2022-07-07T19:44:28.204Z"
   },
   {
    "duration": 15,
    "start_time": "2022-07-07T19:44:28.232Z"
   },
   {
    "duration": 94,
    "start_time": "2022-07-07T19:48:43.372Z"
   },
   {
    "duration": 13,
    "start_time": "2022-07-07T19:51:36.595Z"
   },
   {
    "duration": 75,
    "start_time": "2022-07-07T19:53:09.893Z"
   },
   {
    "duration": 109,
    "start_time": "2022-07-07T19:53:17.339Z"
   },
   {
    "duration": 12,
    "start_time": "2022-07-07T19:54:28.365Z"
   },
   {
    "duration": 10,
    "start_time": "2022-07-07T19:54:58.455Z"
   },
   {
    "duration": 152,
    "start_time": "2022-07-07T19:55:08.423Z"
   },
   {
    "duration": 13,
    "start_time": "2022-07-07T19:55:31.603Z"
   },
   {
    "duration": 10,
    "start_time": "2022-07-07T19:55:40.660Z"
   },
   {
    "duration": 173,
    "start_time": "2022-07-07T19:55:43.822Z"
   },
   {
    "duration": 1267,
    "start_time": "2022-07-07T19:55:55.844Z"
   },
   {
    "duration": 83,
    "start_time": "2022-07-07T19:55:57.113Z"
   },
   {
    "duration": 24,
    "start_time": "2022-07-07T19:55:57.198Z"
   },
   {
    "duration": 14,
    "start_time": "2022-07-07T19:55:57.226Z"
   },
   {
    "duration": 5,
    "start_time": "2022-07-07T19:55:57.243Z"
   },
   {
    "duration": 12,
    "start_time": "2022-07-07T19:55:57.249Z"
   },
   {
    "duration": 16,
    "start_time": "2022-07-07T19:55:57.262Z"
   },
   {
    "duration": 36,
    "start_time": "2022-07-07T19:55:57.280Z"
   },
   {
    "duration": 8,
    "start_time": "2022-07-07T19:55:57.319Z"
   },
   {
    "duration": 13,
    "start_time": "2022-07-07T19:55:57.329Z"
   },
   {
    "duration": 9,
    "start_time": "2022-07-07T19:55:57.344Z"
   },
   {
    "duration": 21,
    "start_time": "2022-07-07T19:55:57.354Z"
   },
   {
    "duration": 48,
    "start_time": "2022-07-07T19:55:57.377Z"
   },
   {
    "duration": 8,
    "start_time": "2022-07-07T19:55:57.428Z"
   },
   {
    "duration": 374,
    "start_time": "2022-07-07T19:55:57.438Z"
   },
   {
    "duration": 359,
    "start_time": "2022-07-07T19:55:57.814Z"
   },
   {
    "duration": 262,
    "start_time": "2022-07-07T19:55:58.175Z"
   },
   {
    "duration": 347,
    "start_time": "2022-07-07T19:55:58.439Z"
   },
   {
    "duration": 289,
    "start_time": "2022-07-07T19:55:58.788Z"
   },
   {
    "duration": 368,
    "start_time": "2022-07-07T19:55:59.079Z"
   },
   {
    "duration": 19,
    "start_time": "2022-07-07T19:55:59.449Z"
   },
   {
    "duration": 12,
    "start_time": "2022-07-07T19:55:59.470Z"
   },
   {
    "duration": 201,
    "start_time": "2022-07-07T19:55:59.484Z"
   },
   {
    "duration": 3,
    "start_time": "2022-07-07T19:55:59.687Z"
   },
   {
    "duration": 230,
    "start_time": "2022-07-07T19:55:59.692Z"
   },
   {
    "duration": 5,
    "start_time": "2022-07-07T19:55:59.923Z"
   },
   {
    "duration": 352,
    "start_time": "2022-07-07T19:55:59.930Z"
   },
   {
    "duration": 157,
    "start_time": "2022-07-07T19:56:00.284Z"
   },
   {
    "duration": 9,
    "start_time": "2022-07-07T19:56:00.443Z"
   },
   {
    "duration": 39,
    "start_time": "2022-07-07T19:56:00.454Z"
   },
   {
    "duration": 13,
    "start_time": "2022-07-07T19:56:00.498Z"
   },
   {
    "duration": 13,
    "start_time": "2022-07-07T19:56:00.512Z"
   },
   {
    "duration": 37,
    "start_time": "2022-07-07T19:56:00.527Z"
   },
   {
    "duration": 41,
    "start_time": "2022-07-07T19:56:00.566Z"
   },
   {
    "duration": 9,
    "start_time": "2022-07-07T20:00:23.809Z"
   },
   {
    "duration": 1250,
    "start_time": "2022-07-07T20:00:39.873Z"
   },
   {
    "duration": 80,
    "start_time": "2022-07-07T20:00:41.125Z"
   },
   {
    "duration": 13,
    "start_time": "2022-07-07T20:00:41.207Z"
   },
   {
    "duration": 12,
    "start_time": "2022-07-07T20:00:41.224Z"
   },
   {
    "duration": 6,
    "start_time": "2022-07-07T20:00:41.238Z"
   },
   {
    "duration": 11,
    "start_time": "2022-07-07T20:00:41.246Z"
   },
   {
    "duration": 15,
    "start_time": "2022-07-07T20:00:41.259Z"
   },
   {
    "duration": 12,
    "start_time": "2022-07-07T20:00:41.298Z"
   },
   {
    "duration": 11,
    "start_time": "2022-07-07T20:00:41.312Z"
   },
   {
    "duration": 20,
    "start_time": "2022-07-07T20:00:41.326Z"
   },
   {
    "duration": 15,
    "start_time": "2022-07-07T20:00:41.348Z"
   },
   {
    "duration": 41,
    "start_time": "2022-07-07T20:00:41.365Z"
   },
   {
    "duration": 15,
    "start_time": "2022-07-07T20:00:41.408Z"
   },
   {
    "duration": 9,
    "start_time": "2022-07-07T20:00:41.425Z"
   },
   {
    "duration": 356,
    "start_time": "2022-07-07T20:00:41.436Z"
   },
   {
    "duration": 337,
    "start_time": "2022-07-07T20:00:41.794Z"
   },
   {
    "duration": 242,
    "start_time": "2022-07-07T20:00:42.133Z"
   },
   {
    "duration": 359,
    "start_time": "2022-07-07T20:00:42.377Z"
   },
   {
    "duration": 267,
    "start_time": "2022-07-07T20:00:42.738Z"
   },
   {
    "duration": 337,
    "start_time": "2022-07-07T20:00:43.007Z"
   },
   {
    "duration": 14,
    "start_time": "2022-07-07T20:00:43.346Z"
   },
   {
    "duration": 13,
    "start_time": "2022-07-07T20:00:43.362Z"
   },
   {
    "duration": 184,
    "start_time": "2022-07-07T20:00:43.377Z"
   },
   {
    "duration": 5,
    "start_time": "2022-07-07T20:00:43.563Z"
   },
   {
    "duration": 198,
    "start_time": "2022-07-07T20:00:43.571Z"
   },
   {
    "duration": 5,
    "start_time": "2022-07-07T20:00:43.771Z"
   },
   {
    "duration": 363,
    "start_time": "2022-07-07T20:00:43.778Z"
   },
   {
    "duration": 168,
    "start_time": "2022-07-07T20:00:44.146Z"
   },
   {
    "duration": 7,
    "start_time": "2022-07-07T20:00:44.316Z"
   },
   {
    "duration": 28,
    "start_time": "2022-07-07T20:00:44.325Z"
   },
   {
    "duration": 11,
    "start_time": "2022-07-07T20:00:44.354Z"
   },
   {
    "duration": 33,
    "start_time": "2022-07-07T20:00:44.367Z"
   },
   {
    "duration": 30,
    "start_time": "2022-07-07T20:00:44.402Z"
   },
   {
    "duration": 16,
    "start_time": "2022-07-07T20:00:44.434Z"
   },
   {
    "duration": 106,
    "start_time": "2022-07-07T20:11:47.766Z"
   },
   {
    "duration": 47,
    "start_time": "2022-07-08T04:59:03.507Z"
   },
   {
    "duration": 1268,
    "start_time": "2022-07-08T04:59:27.162Z"
   },
   {
    "duration": 99,
    "start_time": "2022-07-08T04:59:28.433Z"
   },
   {
    "duration": 11,
    "start_time": "2022-07-08T04:59:28.534Z"
   },
   {
    "duration": 10,
    "start_time": "2022-07-08T04:59:28.547Z"
   },
   {
    "duration": 10,
    "start_time": "2022-07-08T04:59:28.559Z"
   },
   {
    "duration": 13,
    "start_time": "2022-07-08T04:59:28.570Z"
   },
   {
    "duration": 14,
    "start_time": "2022-07-08T04:59:28.584Z"
   },
   {
    "duration": 11,
    "start_time": "2022-07-08T04:59:28.599Z"
   },
   {
    "duration": 6,
    "start_time": "2022-07-08T04:59:28.612Z"
   },
   {
    "duration": 12,
    "start_time": "2022-07-08T04:59:28.620Z"
   },
   {
    "duration": 7,
    "start_time": "2022-07-08T04:59:28.634Z"
   },
   {
    "duration": 9,
    "start_time": "2022-07-08T04:59:28.643Z"
   },
   {
    "duration": 9,
    "start_time": "2022-07-08T04:59:28.653Z"
   },
   {
    "duration": 37,
    "start_time": "2022-07-08T04:59:28.665Z"
   },
   {
    "duration": 14,
    "start_time": "2022-07-08T04:59:28.703Z"
   },
   {
    "duration": 9,
    "start_time": "2022-07-08T04:59:28.718Z"
   },
   {
    "duration": 314,
    "start_time": "2022-07-08T04:59:28.728Z"
   },
   {
    "duration": 302,
    "start_time": "2022-07-08T04:59:29.043Z"
   },
   {
    "duration": 211,
    "start_time": "2022-07-08T04:59:29.346Z"
   },
   {
    "duration": 383,
    "start_time": "2022-07-08T04:59:29.559Z"
   },
   {
    "duration": 230,
    "start_time": "2022-07-08T04:59:29.943Z"
   },
   {
    "duration": 345,
    "start_time": "2022-07-08T04:59:30.175Z"
   },
   {
    "duration": 13,
    "start_time": "2022-07-08T04:59:30.522Z"
   },
   {
    "duration": 18,
    "start_time": "2022-07-08T04:59:30.536Z"
   },
   {
    "duration": 155,
    "start_time": "2022-07-08T04:59:30.556Z"
   },
   {
    "duration": 4,
    "start_time": "2022-07-08T04:59:30.713Z"
   },
   {
    "duration": 183,
    "start_time": "2022-07-08T04:59:30.718Z"
   },
   {
    "duration": 4,
    "start_time": "2022-07-08T04:59:30.902Z"
   },
   {
    "duration": 306,
    "start_time": "2022-07-08T04:59:30.908Z"
   },
   {
    "duration": 143,
    "start_time": "2022-07-08T04:59:31.216Z"
   },
   {
    "duration": 7,
    "start_time": "2022-07-08T04:59:31.361Z"
   },
   {
    "duration": 43,
    "start_time": "2022-07-08T04:59:31.370Z"
   },
   {
    "duration": 45,
    "start_time": "2022-07-08T04:59:31.415Z"
   },
   {
    "duration": 32,
    "start_time": "2022-07-08T04:59:31.462Z"
   },
   {
    "duration": 51,
    "start_time": "2022-07-08T04:59:31.496Z"
   },
   {
    "duration": 13,
    "start_time": "2022-07-08T04:59:31.549Z"
   },
   {
    "duration": 5,
    "start_time": "2022-07-08T05:00:40.182Z"
   },
   {
    "duration": 4,
    "start_time": "2022-07-08T05:02:14.330Z"
   },
   {
    "duration": 6,
    "start_time": "2022-07-08T05:02:18.446Z"
   },
   {
    "duration": 59,
    "start_time": "2022-07-08T05:02:48.193Z"
   },
   {
    "duration": 52,
    "start_time": "2022-07-08T05:06:52.142Z"
   },
   {
    "duration": 104,
    "start_time": "2022-07-08T05:09:21.520Z"
   },
   {
    "duration": 8,
    "start_time": "2022-07-08T05:09:29.767Z"
   },
   {
    "duration": 49,
    "start_time": "2022-07-08T05:10:05.816Z"
   },
   {
    "duration": 8,
    "start_time": "2022-07-08T06:24:21.048Z"
   },
   {
    "duration": 101,
    "start_time": "2022-07-08T06:25:03.355Z"
   },
   {
    "duration": 13,
    "start_time": "2022-07-08T06:25:49.703Z"
   },
   {
    "duration": 4,
    "start_time": "2022-07-08T06:26:14.675Z"
   },
   {
    "duration": 60,
    "start_time": "2022-07-08T06:26:14.680Z"
   },
   {
    "duration": 8,
    "start_time": "2022-07-08T06:26:14.741Z"
   },
   {
    "duration": 46,
    "start_time": "2022-07-08T06:26:14.751Z"
   },
   {
    "duration": 54,
    "start_time": "2022-07-08T06:26:14.799Z"
   },
   {
    "duration": 14,
    "start_time": "2022-07-08T06:26:14.855Z"
   },
   {
    "duration": 11,
    "start_time": "2022-07-08T06:26:14.871Z"
   },
   {
    "duration": 13,
    "start_time": "2022-07-08T06:26:14.884Z"
   },
   {
    "duration": 20,
    "start_time": "2022-07-08T06:26:14.899Z"
   },
   {
    "duration": 17,
    "start_time": "2022-07-08T06:26:14.921Z"
   },
   {
    "duration": 12,
    "start_time": "2022-07-08T06:26:14.939Z"
   },
   {
    "duration": 16,
    "start_time": "2022-07-08T06:26:14.953Z"
   },
   {
    "duration": 12,
    "start_time": "2022-07-08T06:26:14.970Z"
   },
   {
    "duration": 12,
    "start_time": "2022-07-08T06:26:14.983Z"
   },
   {
    "duration": 54,
    "start_time": "2022-07-08T06:26:14.997Z"
   },
   {
    "duration": 43,
    "start_time": "2022-07-08T06:26:15.052Z"
   },
   {
    "duration": 45,
    "start_time": "2022-07-08T06:26:15.097Z"
   },
   {
    "duration": 12,
    "start_time": "2022-07-08T06:26:15.144Z"
   },
   {
    "duration": 384,
    "start_time": "2022-07-08T06:26:15.157Z"
   },
   {
    "duration": 232,
    "start_time": "2022-07-08T06:26:15.542Z"
   },
   {
    "duration": 227,
    "start_time": "2022-07-08T06:26:15.776Z"
   },
   {
    "duration": 342,
    "start_time": "2022-07-08T06:26:16.004Z"
   },
   {
    "duration": 257,
    "start_time": "2022-07-08T06:26:16.348Z"
   },
   {
    "duration": 326,
    "start_time": "2022-07-08T06:26:16.608Z"
   },
   {
    "duration": 12,
    "start_time": "2022-07-08T06:26:16.936Z"
   },
   {
    "duration": 34,
    "start_time": "2022-07-08T06:26:16.949Z"
   },
   {
    "duration": 162,
    "start_time": "2022-07-08T06:26:16.985Z"
   },
   {
    "duration": 4,
    "start_time": "2022-07-08T06:26:17.149Z"
   },
   {
    "duration": 185,
    "start_time": "2022-07-08T06:26:17.154Z"
   },
   {
    "duration": 4,
    "start_time": "2022-07-08T06:26:17.341Z"
   },
   {
    "duration": 271,
    "start_time": "2022-07-08T06:26:17.346Z"
   },
   {
    "duration": 148,
    "start_time": "2022-07-08T06:26:17.619Z"
   },
   {
    "duration": 7,
    "start_time": "2022-07-08T06:26:17.769Z"
   },
   {
    "duration": 43,
    "start_time": "2022-07-08T06:26:17.778Z"
   },
   {
    "duration": 11,
    "start_time": "2022-07-08T06:26:17.823Z"
   },
   {
    "duration": 9,
    "start_time": "2022-07-08T06:26:17.835Z"
   },
   {
    "duration": 26,
    "start_time": "2022-07-08T06:26:17.845Z"
   },
   {
    "duration": 50,
    "start_time": "2022-07-08T06:26:17.872Z"
   },
   {
    "duration": 125,
    "start_time": "2022-07-08T06:35:25.530Z"
   },
   {
    "duration": 33,
    "start_time": "2022-07-08T06:35:48.687Z"
   },
   {
    "duration": 7,
    "start_time": "2022-07-08T06:37:34.867Z"
   },
   {
    "duration": 34,
    "start_time": "2022-07-08T06:40:54.890Z"
   },
   {
    "duration": 28,
    "start_time": "2022-07-08T06:41:06.817Z"
   },
   {
    "duration": 50,
    "start_time": "2022-07-08T06:41:14.149Z"
   },
   {
    "duration": 60,
    "start_time": "2022-07-08T06:41:18.817Z"
   },
   {
    "duration": 77,
    "start_time": "2022-07-08T06:41:38.769Z"
   },
   {
    "duration": 17,
    "start_time": "2022-07-08T06:42:05.586Z"
   },
   {
    "duration": 10,
    "start_time": "2022-07-08T06:42:23.816Z"
   },
   {
    "duration": 8,
    "start_time": "2022-07-08T06:42:48.215Z"
   },
   {
    "duration": 10,
    "start_time": "2022-07-08T06:42:56.274Z"
   },
   {
    "duration": 7,
    "start_time": "2022-07-08T06:43:34.079Z"
   },
   {
    "duration": 3,
    "start_time": "2022-07-08T06:44:01.913Z"
   },
   {
    "duration": 11,
    "start_time": "2022-07-08T06:44:10.142Z"
   },
   {
    "duration": 11,
    "start_time": "2022-07-08T06:44:21.600Z"
   },
   {
    "duration": 3,
    "start_time": "2022-07-08T06:45:33.163Z"
   },
   {
    "duration": 89,
    "start_time": "2022-07-08T06:50:03.734Z"
   },
   {
    "duration": 3,
    "start_time": "2022-07-08T06:50:11.810Z"
   },
   {
    "duration": 3,
    "start_time": "2022-07-08T06:51:05.586Z"
   },
   {
    "duration": 5,
    "start_time": "2022-07-08T06:51:07.350Z"
   },
   {
    "duration": 1151,
    "start_time": "2022-07-08T06:51:13.635Z"
   },
   {
    "duration": 41,
    "start_time": "2022-07-08T06:51:14.788Z"
   },
   {
    "duration": 11,
    "start_time": "2022-07-08T06:51:14.831Z"
   },
   {
    "duration": 11,
    "start_time": "2022-07-08T06:51:14.845Z"
   },
   {
    "duration": 6,
    "start_time": "2022-07-08T06:51:14.857Z"
   },
   {
    "duration": 11,
    "start_time": "2022-07-08T06:51:14.865Z"
   },
   {
    "duration": 13,
    "start_time": "2022-07-08T06:51:14.878Z"
   },
   {
    "duration": 33,
    "start_time": "2022-07-08T06:51:14.892Z"
   },
   {
    "duration": 9,
    "start_time": "2022-07-08T06:51:14.927Z"
   },
   {
    "duration": 11,
    "start_time": "2022-07-08T06:51:14.940Z"
   },
   {
    "duration": 3,
    "start_time": "2022-07-08T06:51:14.953Z"
   },
   {
    "duration": 11,
    "start_time": "2022-07-08T06:51:14.958Z"
   },
   {
    "duration": 12,
    "start_time": "2022-07-08T06:51:14.970Z"
   },
   {
    "duration": 17,
    "start_time": "2022-07-08T06:51:14.985Z"
   },
   {
    "duration": 16,
    "start_time": "2022-07-08T06:51:15.003Z"
   },
   {
    "duration": 28,
    "start_time": "2022-07-08T06:51:15.021Z"
   },
   {
    "duration": 19,
    "start_time": "2022-07-08T06:51:15.051Z"
   },
   {
    "duration": 15,
    "start_time": "2022-07-08T06:51:15.072Z"
   },
   {
    "duration": 18,
    "start_time": "2022-07-08T06:51:15.089Z"
   },
   {
    "duration": 21,
    "start_time": "2022-07-08T06:51:15.109Z"
   },
   {
    "duration": 13,
    "start_time": "2022-07-08T06:51:15.132Z"
   },
   {
    "duration": 415,
    "start_time": "2022-07-08T06:51:15.146Z"
   },
   {
    "duration": 301,
    "start_time": "2022-07-08T06:51:15.562Z"
   },
   {
    "duration": 216,
    "start_time": "2022-07-08T06:51:15.864Z"
   },
   {
    "duration": 338,
    "start_time": "2022-07-08T06:51:16.082Z"
   },
   {
    "duration": 237,
    "start_time": "2022-07-08T06:51:16.422Z"
   },
   {
    "duration": 352,
    "start_time": "2022-07-08T06:51:16.660Z"
   },
   {
    "duration": 13,
    "start_time": "2022-07-08T06:51:17.015Z"
   },
   {
    "duration": 20,
    "start_time": "2022-07-08T06:51:17.029Z"
   },
   {
    "duration": 162,
    "start_time": "2022-07-08T06:51:17.051Z"
   },
   {
    "duration": 4,
    "start_time": "2022-07-08T06:51:17.214Z"
   },
   {
    "duration": 175,
    "start_time": "2022-07-08T06:51:17.220Z"
   },
   {
    "duration": 5,
    "start_time": "2022-07-08T06:51:17.397Z"
   },
   {
    "duration": 317,
    "start_time": "2022-07-08T06:51:17.404Z"
   },
   {
    "duration": 157,
    "start_time": "2022-07-08T06:51:17.722Z"
   },
   {
    "duration": 21,
    "start_time": "2022-07-08T06:51:17.880Z"
   },
   {
    "duration": 21,
    "start_time": "2022-07-08T06:51:17.903Z"
   },
   {
    "duration": 11,
    "start_time": "2022-07-08T06:51:17.925Z"
   },
   {
    "duration": 10,
    "start_time": "2022-07-08T06:51:17.938Z"
   },
   {
    "duration": 52,
    "start_time": "2022-07-08T06:51:17.950Z"
   },
   {
    "duration": 13,
    "start_time": "2022-07-08T06:51:18.003Z"
   },
   {
    "duration": 50,
    "start_time": "2022-07-08T06:54:13.865Z"
   },
   {
    "duration": 93,
    "start_time": "2022-07-08T07:01:30.093Z"
   },
   {
    "duration": 14,
    "start_time": "2022-07-08T07:02:48.224Z"
   },
   {
    "duration": 7,
    "start_time": "2022-07-08T07:06:33.464Z"
   },
   {
    "duration": 6,
    "start_time": "2022-07-08T07:06:57.297Z"
   },
   {
    "duration": 7,
    "start_time": "2022-07-08T07:07:02.274Z"
   },
   {
    "duration": 12,
    "start_time": "2022-07-08T07:07:40.513Z"
   },
   {
    "duration": 5,
    "start_time": "2022-07-08T07:08:35.655Z"
   },
   {
    "duration": 6,
    "start_time": "2022-07-08T07:08:40.459Z"
   },
   {
    "duration": 7,
    "start_time": "2022-07-08T07:13:14.918Z"
   },
   {
    "duration": 7,
    "start_time": "2022-07-08T07:13:22.231Z"
   },
   {
    "duration": 6,
    "start_time": "2022-07-08T07:13:26.212Z"
   },
   {
    "duration": 79,
    "start_time": "2022-07-08T07:19:18.603Z"
   },
   {
    "duration": 1124,
    "start_time": "2022-07-08T07:19:34.081Z"
   },
   {
    "duration": 44,
    "start_time": "2022-07-08T07:19:35.207Z"
   },
   {
    "duration": 18,
    "start_time": "2022-07-08T07:19:35.253Z"
   },
   {
    "duration": 33,
    "start_time": "2022-07-08T07:19:35.274Z"
   },
   {
    "duration": 40,
    "start_time": "2022-07-08T07:19:35.309Z"
   },
   {
    "duration": 24,
    "start_time": "2022-07-08T07:19:35.351Z"
   },
   {
    "duration": 19,
    "start_time": "2022-07-08T07:19:35.376Z"
   },
   {
    "duration": 15,
    "start_time": "2022-07-08T07:19:35.397Z"
   },
   {
    "duration": 10,
    "start_time": "2022-07-08T07:19:35.414Z"
   },
   {
    "duration": 12,
    "start_time": "2022-07-08T07:19:35.427Z"
   },
   {
    "duration": 5,
    "start_time": "2022-07-08T07:19:35.441Z"
   },
   {
    "duration": 12,
    "start_time": "2022-07-08T07:19:35.448Z"
   },
   {
    "duration": 20,
    "start_time": "2022-07-08T07:19:35.461Z"
   },
   {
    "duration": 37,
    "start_time": "2022-07-08T07:19:35.483Z"
   },
   {
    "duration": 28,
    "start_time": "2022-07-08T07:19:35.522Z"
   },
   {
    "duration": 38,
    "start_time": "2022-07-08T07:19:35.552Z"
   },
   {
    "duration": 14,
    "start_time": "2022-07-08T07:19:35.592Z"
   },
   {
    "duration": 11,
    "start_time": "2022-07-08T07:19:35.607Z"
   },
   {
    "duration": 17,
    "start_time": "2022-07-08T07:19:35.620Z"
   },
   {
    "duration": 22,
    "start_time": "2022-07-08T07:19:35.639Z"
   },
   {
    "duration": 35,
    "start_time": "2022-07-08T07:19:35.663Z"
   },
   {
    "duration": 28,
    "start_time": "2022-07-08T07:19:35.700Z"
   },
   {
    "duration": 330,
    "start_time": "2022-07-08T07:19:35.730Z"
   },
   {
    "duration": 309,
    "start_time": "2022-07-08T07:19:36.062Z"
   },
   {
    "duration": 227,
    "start_time": "2022-07-08T07:19:36.373Z"
   },
   {
    "duration": 342,
    "start_time": "2022-07-08T07:19:36.602Z"
   },
   {
    "duration": 239,
    "start_time": "2022-07-08T07:19:36.945Z"
   },
   {
    "duration": 348,
    "start_time": "2022-07-08T07:19:37.187Z"
   },
   {
    "duration": 12,
    "start_time": "2022-07-08T07:19:37.537Z"
   },
   {
    "duration": 20,
    "start_time": "2022-07-08T07:19:37.551Z"
   },
   {
    "duration": 168,
    "start_time": "2022-07-08T07:19:37.573Z"
   },
   {
    "duration": 4,
    "start_time": "2022-07-08T07:19:37.743Z"
   },
   {
    "duration": 177,
    "start_time": "2022-07-08T07:19:37.749Z"
   },
   {
    "duration": 5,
    "start_time": "2022-07-08T07:19:37.927Z"
   },
   {
    "duration": 320,
    "start_time": "2022-07-08T07:19:37.933Z"
   },
   {
    "duration": 137,
    "start_time": "2022-07-08T07:19:38.255Z"
   },
   {
    "duration": 9,
    "start_time": "2022-07-08T07:19:38.393Z"
   },
   {
    "duration": 34,
    "start_time": "2022-07-08T07:19:38.404Z"
   },
   {
    "duration": 10,
    "start_time": "2022-07-08T07:19:38.440Z"
   },
   {
    "duration": 13,
    "start_time": "2022-07-08T07:19:38.451Z"
   },
   {
    "duration": 38,
    "start_time": "2022-07-08T07:19:38.467Z"
   },
   {
    "duration": 30,
    "start_time": "2022-07-08T07:19:38.507Z"
   },
   {
    "duration": 42,
    "start_time": "2022-07-15T10:38:16.425Z"
   },
   {
    "duration": 1249,
    "start_time": "2022-07-15T10:38:25.932Z"
   },
   {
    "duration": 239,
    "start_time": "2022-07-15T10:38:27.183Z"
   },
   {
    "duration": 16,
    "start_time": "2022-07-15T10:38:27.427Z"
   },
   {
    "duration": 13,
    "start_time": "2022-07-15T10:38:27.445Z"
   },
   {
    "duration": 6,
    "start_time": "2022-07-15T10:38:27.460Z"
   },
   {
    "duration": 17,
    "start_time": "2022-07-15T10:38:27.468Z"
   },
   {
    "duration": 18,
    "start_time": "2022-07-15T10:38:27.487Z"
   },
   {
    "duration": 19,
    "start_time": "2022-07-15T10:38:27.507Z"
   },
   {
    "duration": 6,
    "start_time": "2022-07-15T10:38:27.528Z"
   },
   {
    "duration": 20,
    "start_time": "2022-07-15T10:38:27.536Z"
   },
   {
    "duration": 14,
    "start_time": "2022-07-15T10:38:27.559Z"
   },
   {
    "duration": 10,
    "start_time": "2022-07-15T10:38:27.575Z"
   },
   {
    "duration": 19,
    "start_time": "2022-07-15T10:38:27.589Z"
   },
   {
    "duration": 13,
    "start_time": "2022-07-15T10:38:27.611Z"
   },
   {
    "duration": 18,
    "start_time": "2022-07-15T10:38:27.626Z"
   },
   {
    "duration": 10,
    "start_time": "2022-07-15T10:38:27.645Z"
   },
   {
    "duration": 13,
    "start_time": "2022-07-15T10:38:27.656Z"
   },
   {
    "duration": 11,
    "start_time": "2022-07-15T10:38:27.671Z"
   },
   {
    "duration": 18,
    "start_time": "2022-07-15T10:38:27.684Z"
   },
   {
    "duration": 14,
    "start_time": "2022-07-15T10:38:27.704Z"
   },
   {
    "duration": 13,
    "start_time": "2022-07-15T10:38:27.720Z"
   },
   {
    "duration": 9,
    "start_time": "2022-07-15T10:38:27.736Z"
   },
   {
    "duration": 311,
    "start_time": "2022-07-15T10:38:27.747Z"
   },
   {
    "duration": 278,
    "start_time": "2022-07-15T10:38:28.060Z"
   },
   {
    "duration": 197,
    "start_time": "2022-07-15T10:38:28.340Z"
   },
   {
    "duration": 355,
    "start_time": "2022-07-15T10:38:28.539Z"
   },
   {
    "duration": 223,
    "start_time": "2022-07-15T10:38:28.896Z"
   },
   {
    "duration": 285,
    "start_time": "2022-07-15T10:38:29.120Z"
   },
   {
    "duration": 12,
    "start_time": "2022-07-15T10:38:29.406Z"
   },
   {
    "duration": 13,
    "start_time": "2022-07-15T10:38:29.419Z"
   },
   {
    "duration": 157,
    "start_time": "2022-07-15T10:38:29.434Z"
   },
   {
    "duration": 9,
    "start_time": "2022-07-15T10:38:29.593Z"
   },
   {
    "duration": 161,
    "start_time": "2022-07-15T10:38:29.604Z"
   },
   {
    "duration": 4,
    "start_time": "2022-07-15T10:38:29.766Z"
   },
   {
    "duration": 312,
    "start_time": "2022-07-15T10:38:29.772Z"
   },
   {
    "duration": 138,
    "start_time": "2022-07-15T10:38:30.086Z"
   },
   {
    "duration": 6,
    "start_time": "2022-07-15T10:38:30.226Z"
   },
   {
    "duration": 11,
    "start_time": "2022-07-15T10:38:30.234Z"
   },
   {
    "duration": 27,
    "start_time": "2022-07-15T10:38:30.246Z"
   },
   {
    "duration": 11,
    "start_time": "2022-07-15T10:38:30.276Z"
   },
   {
    "duration": 28,
    "start_time": "2022-07-15T10:38:30.289Z"
   },
   {
    "duration": 44,
    "start_time": "2022-07-15T10:38:30.320Z"
   },
   {
    "duration": 34,
    "start_time": "2022-07-15T10:38:30.366Z"
   },
   {
    "duration": 8,
    "start_time": "2022-07-15T10:38:52.298Z"
   },
   {
    "duration": 7,
    "start_time": "2022-07-15T11:06:35.860Z"
   },
   {
    "duration": 11,
    "start_time": "2022-07-15T11:46:11.160Z"
   }
  ],
  "kernelspec": {
   "display_name": "Python 3 (ipykernel)",
   "language": "python",
   "name": "python3"
  },
  "language_info": {
   "codemirror_mode": {
    "name": "ipython",
    "version": 3
   },
   "file_extension": ".py",
   "mimetype": "text/x-python",
   "name": "python",
   "nbconvert_exporter": "python",
   "pygments_lexer": "ipython3",
   "version": "3.9.7"
  },
  "toc": {
   "base_numbering": 1,
   "nav_menu": {
    "height": "165px",
    "width": "216px"
   },
   "number_sections": true,
   "sideBar": true,
   "skip_h1_title": true,
   "title_cell": "Table of Contents",
   "title_sidebar": "Contents",
   "toc_cell": false,
   "toc_position": {
    "height": "calc(100% - 180px)",
    "left": "10px",
    "top": "150px",
    "width": "325.391px"
   },
   "toc_section_display": true,
   "toc_window_display": true
  }
 },
 "nbformat": 4,
 "nbformat_minor": 2
}
