{
 "cells": [
  {
   "cell_type": "markdown",
   "metadata": {},
   "source": [
    "# Анализ базы данных"
   ]
  },
  {
   "cell_type": "markdown",
   "metadata": {},
   "source": [
    "**Описание и цель проекта:**\n",
    "\n",
    "Наша компания купила крупный сервис для чтения книг по подписке. Задача — проанализировать базу данных, в которой содержится информация о книгах, издательствах, авторах, а также пользовательские обзоры книг. Анализ данных поможет сформулировать ценностное предложение для нового продукта.\n",
    "\n",
    "В ходе исследования мы ответим на следующие вопросы:\n",
    "\n",
    "- сколько книг вышло после 1 января 2000 года;\n",
    "- рассчитаем количество обзоров и среднюю оценку для каждой книги;\n",
    "- определим издательство, которое выпустило наибольшее число книг толще 50 страниц;\n",
    "- определим автора с самой высокой средней оценкой книг;\n",
    "- рассчитаем среднее количество обзоров от пользователей, которые поставили больше 50 оценок."
   ]
  },
  {
   "cell_type": "markdown",
   "metadata": {},
   "source": [
    "## Подключение к базе данных"
   ]
  },
  {
   "cell_type": "code",
   "execution_count": 1,
   "metadata": {},
   "outputs": [],
   "source": [
    "# импортируем библиотеки\n",
    "import pandas as pd\n",
    "from sqlalchemy import create_engine"
   ]
  },
  {
   "cell_type": "code",
   "execution_count": 2,
   "metadata": {},
   "outputs": [],
   "source": [
    "# устанавливаем параметры\n",
    "db_config = {'user': 'praktikum_student', # имя пользователя\n",
    "             'pwd': 'Sdf4$2;d-d30pp', # пароль\n",
    "             'host': 'rc1b-wcoijxj3yxfsf3fs.mdb.yandexcloud.net',\n",
    "             'port': 6432, # порт подключения\n",
    "             'db': 'data-analyst-final-project-db'} # название базы данных\n",
    "connection_string = 'postgresql://{}:{}@{}:{}/{}'.format(db_config['user'],\n",
    " db_config['pwd'],\n",
    " db_config['host'],\n",
    " db_config['port'],\n",
    " db_config['db'])\n",
    "\n",
    "# сохраняем коннектор\n",
    "engine = create_engine(connection_string, connect_args={'sslmode':'require'}) "
   ]
  },
  {
   "cell_type": "markdown",
   "metadata": {},
   "source": [
    "## Обзор данных"
   ]
  },
  {
   "cell_type": "code",
   "execution_count": 3,
   "metadata": {},
   "outputs": [],
   "source": [
    "# Загрузим таблицы\n",
    "\n",
    "query = '''SELECT * FROM books'''\n",
    "books = pd.io.sql.read_sql(query, con = engine)\n",
    "\n",
    "query = ''' SELECT * FROM authors'''\n",
    "authors = pd.io.sql.read_sql(query, con = engine)\n",
    "\n",
    "query = '''SELECT * FROM publishers'''\n",
    "publishers = pd.io.sql.read_sql(query, con = engine)\n",
    "\n",
    "query = '''SELECT * FROM ratings'''\n",
    "ratings = pd.io.sql.read_sql(query, con = engine)\n",
    "\n",
    "query = ''' SELECT * FROM reviews'''\n",
    "reviews = pd.io.sql.read_sql(query, con = engine)"
   ]
  },
  {
   "cell_type": "code",
   "execution_count": 4,
   "metadata": {
    "scrolled": false
   },
   "outputs": [
    {
     "data": {
      "text/plain": [
       "'-----------------------------------------------------------------------------------------------------------'"
      ]
     },
     "metadata": {},
     "output_type": "display_data"
    },
    {
     "data": {
      "text/html": [
       "<div>\n",
       "<style scoped>\n",
       "    .dataframe tbody tr th:only-of-type {\n",
       "        vertical-align: middle;\n",
       "    }\n",
       "\n",
       "    .dataframe tbody tr th {\n",
       "        vertical-align: top;\n",
       "    }\n",
       "\n",
       "    .dataframe thead th {\n",
       "        text-align: right;\n",
       "    }\n",
       "</style>\n",
       "<table border=\"1\" class=\"dataframe\">\n",
       "  <thead>\n",
       "    <tr style=\"text-align: right;\">\n",
       "      <th></th>\n",
       "      <th>book_id</th>\n",
       "      <th>author_id</th>\n",
       "      <th>title</th>\n",
       "      <th>num_pages</th>\n",
       "      <th>publication_date</th>\n",
       "      <th>publisher_id</th>\n",
       "    </tr>\n",
       "  </thead>\n",
       "  <tbody>\n",
       "    <tr>\n",
       "      <th>0</th>\n",
       "      <td>1</td>\n",
       "      <td>546</td>\n",
       "      <td>'Salem's Lot</td>\n",
       "      <td>594</td>\n",
       "      <td>2005-11-01</td>\n",
       "      <td>93</td>\n",
       "    </tr>\n",
       "    <tr>\n",
       "      <th>1</th>\n",
       "      <td>2</td>\n",
       "      <td>465</td>\n",
       "      <td>1 000 Places to See Before You Die</td>\n",
       "      <td>992</td>\n",
       "      <td>2003-05-22</td>\n",
       "      <td>336</td>\n",
       "    </tr>\n",
       "    <tr>\n",
       "      <th>2</th>\n",
       "      <td>3</td>\n",
       "      <td>407</td>\n",
       "      <td>13 Little Blue Envelopes (Little Blue Envelope...</td>\n",
       "      <td>322</td>\n",
       "      <td>2010-12-21</td>\n",
       "      <td>135</td>\n",
       "    </tr>\n",
       "    <tr>\n",
       "      <th>3</th>\n",
       "      <td>4</td>\n",
       "      <td>82</td>\n",
       "      <td>1491: New Revelations of the Americas Before C...</td>\n",
       "      <td>541</td>\n",
       "      <td>2006-10-10</td>\n",
       "      <td>309</td>\n",
       "    </tr>\n",
       "    <tr>\n",
       "      <th>4</th>\n",
       "      <td>5</td>\n",
       "      <td>125</td>\n",
       "      <td>1776</td>\n",
       "      <td>386</td>\n",
       "      <td>2006-07-04</td>\n",
       "      <td>268</td>\n",
       "    </tr>\n",
       "  </tbody>\n",
       "</table>\n",
       "</div>"
      ],
      "text/plain": [
       "   book_id  author_id                                              title  \\\n",
       "0        1        546                                       'Salem's Lot   \n",
       "1        2        465                 1 000 Places to See Before You Die   \n",
       "2        3        407  13 Little Blue Envelopes (Little Blue Envelope...   \n",
       "3        4         82  1491: New Revelations of the Americas Before C...   \n",
       "4        5        125                                               1776   \n",
       "\n",
       "   num_pages publication_date  publisher_id  \n",
       "0        594       2005-11-01            93  \n",
       "1        992       2003-05-22           336  \n",
       "2        322       2010-12-21           135  \n",
       "3        541       2006-10-10           309  \n",
       "4        386       2006-07-04           268  "
      ]
     },
     "metadata": {},
     "output_type": "display_data"
    },
    {
     "name": "stdout",
     "output_type": "stream",
     "text": [
      "<class 'pandas.core.frame.DataFrame'>\n",
      "RangeIndex: 1000 entries, 0 to 999\n",
      "Data columns (total 6 columns):\n",
      " #   Column            Non-Null Count  Dtype \n",
      "---  ------            --------------  ----- \n",
      " 0   book_id           1000 non-null   int64 \n",
      " 1   author_id         1000 non-null   int64 \n",
      " 2   title             1000 non-null   object\n",
      " 3   num_pages         1000 non-null   int64 \n",
      " 4   publication_date  1000 non-null   object\n",
      " 5   publisher_id      1000 non-null   int64 \n",
      "dtypes: int64(4), object(2)\n",
      "memory usage: 47.0+ KB\n"
     ]
    },
    {
     "data": {
      "text/plain": [
       "None"
      ]
     },
     "metadata": {},
     "output_type": "display_data"
    },
    {
     "data": {
      "text/plain": [
       "'-----------------------------------------------------------------------------------------------------------'"
      ]
     },
     "metadata": {},
     "output_type": "display_data"
    },
    {
     "data": {
      "text/html": [
       "<div>\n",
       "<style scoped>\n",
       "    .dataframe tbody tr th:only-of-type {\n",
       "        vertical-align: middle;\n",
       "    }\n",
       "\n",
       "    .dataframe tbody tr th {\n",
       "        vertical-align: top;\n",
       "    }\n",
       "\n",
       "    .dataframe thead th {\n",
       "        text-align: right;\n",
       "    }\n",
       "</style>\n",
       "<table border=\"1\" class=\"dataframe\">\n",
       "  <thead>\n",
       "    <tr style=\"text-align: right;\">\n",
       "      <th></th>\n",
       "      <th>author_id</th>\n",
       "      <th>author</th>\n",
       "    </tr>\n",
       "  </thead>\n",
       "  <tbody>\n",
       "    <tr>\n",
       "      <th>0</th>\n",
       "      <td>1</td>\n",
       "      <td>A.S. Byatt</td>\n",
       "    </tr>\n",
       "    <tr>\n",
       "      <th>1</th>\n",
       "      <td>2</td>\n",
       "      <td>Aesop/Laura Harris/Laura Gibbs</td>\n",
       "    </tr>\n",
       "    <tr>\n",
       "      <th>2</th>\n",
       "      <td>3</td>\n",
       "      <td>Agatha Christie</td>\n",
       "    </tr>\n",
       "    <tr>\n",
       "      <th>3</th>\n",
       "      <td>4</td>\n",
       "      <td>Alan Brennert</td>\n",
       "    </tr>\n",
       "    <tr>\n",
       "      <th>4</th>\n",
       "      <td>5</td>\n",
       "      <td>Alan Moore/David   Lloyd</td>\n",
       "    </tr>\n",
       "  </tbody>\n",
       "</table>\n",
       "</div>"
      ],
      "text/plain": [
       "   author_id                          author\n",
       "0          1                      A.S. Byatt\n",
       "1          2  Aesop/Laura Harris/Laura Gibbs\n",
       "2          3                 Agatha Christie\n",
       "3          4                   Alan Brennert\n",
       "4          5        Alan Moore/David   Lloyd"
      ]
     },
     "metadata": {},
     "output_type": "display_data"
    },
    {
     "name": "stdout",
     "output_type": "stream",
     "text": [
      "<class 'pandas.core.frame.DataFrame'>\n",
      "RangeIndex: 636 entries, 0 to 635\n",
      "Data columns (total 2 columns):\n",
      " #   Column     Non-Null Count  Dtype \n",
      "---  ------     --------------  ----- \n",
      " 0   author_id  636 non-null    int64 \n",
      " 1   author     636 non-null    object\n",
      "dtypes: int64(1), object(1)\n",
      "memory usage: 10.1+ KB\n"
     ]
    },
    {
     "data": {
      "text/plain": [
       "None"
      ]
     },
     "metadata": {},
     "output_type": "display_data"
    },
    {
     "data": {
      "text/plain": [
       "'-----------------------------------------------------------------------------------------------------------'"
      ]
     },
     "metadata": {},
     "output_type": "display_data"
    },
    {
     "data": {
      "text/html": [
       "<div>\n",
       "<style scoped>\n",
       "    .dataframe tbody tr th:only-of-type {\n",
       "        vertical-align: middle;\n",
       "    }\n",
       "\n",
       "    .dataframe tbody tr th {\n",
       "        vertical-align: top;\n",
       "    }\n",
       "\n",
       "    .dataframe thead th {\n",
       "        text-align: right;\n",
       "    }\n",
       "</style>\n",
       "<table border=\"1\" class=\"dataframe\">\n",
       "  <thead>\n",
       "    <tr style=\"text-align: right;\">\n",
       "      <th></th>\n",
       "      <th>publisher_id</th>\n",
       "      <th>publisher</th>\n",
       "    </tr>\n",
       "  </thead>\n",
       "  <tbody>\n",
       "    <tr>\n",
       "      <th>0</th>\n",
       "      <td>1</td>\n",
       "      <td>Ace</td>\n",
       "    </tr>\n",
       "    <tr>\n",
       "      <th>1</th>\n",
       "      <td>2</td>\n",
       "      <td>Ace Book</td>\n",
       "    </tr>\n",
       "    <tr>\n",
       "      <th>2</th>\n",
       "      <td>3</td>\n",
       "      <td>Ace Books</td>\n",
       "    </tr>\n",
       "    <tr>\n",
       "      <th>3</th>\n",
       "      <td>4</td>\n",
       "      <td>Ace Hardcover</td>\n",
       "    </tr>\n",
       "    <tr>\n",
       "      <th>4</th>\n",
       "      <td>5</td>\n",
       "      <td>Addison Wesley Publishing Company</td>\n",
       "    </tr>\n",
       "  </tbody>\n",
       "</table>\n",
       "</div>"
      ],
      "text/plain": [
       "   publisher_id                          publisher\n",
       "0             1                                Ace\n",
       "1             2                           Ace Book\n",
       "2             3                          Ace Books\n",
       "3             4                      Ace Hardcover\n",
       "4             5  Addison Wesley Publishing Company"
      ]
     },
     "metadata": {},
     "output_type": "display_data"
    },
    {
     "name": "stdout",
     "output_type": "stream",
     "text": [
      "<class 'pandas.core.frame.DataFrame'>\n",
      "RangeIndex: 340 entries, 0 to 339\n",
      "Data columns (total 2 columns):\n",
      " #   Column        Non-Null Count  Dtype \n",
      "---  ------        --------------  ----- \n",
      " 0   publisher_id  340 non-null    int64 \n",
      " 1   publisher     340 non-null    object\n",
      "dtypes: int64(1), object(1)\n",
      "memory usage: 5.4+ KB\n"
     ]
    },
    {
     "data": {
      "text/plain": [
       "None"
      ]
     },
     "metadata": {},
     "output_type": "display_data"
    },
    {
     "data": {
      "text/plain": [
       "'-----------------------------------------------------------------------------------------------------------'"
      ]
     },
     "metadata": {},
     "output_type": "display_data"
    },
    {
     "data": {
      "text/html": [
       "<div>\n",
       "<style scoped>\n",
       "    .dataframe tbody tr th:only-of-type {\n",
       "        vertical-align: middle;\n",
       "    }\n",
       "\n",
       "    .dataframe tbody tr th {\n",
       "        vertical-align: top;\n",
       "    }\n",
       "\n",
       "    .dataframe thead th {\n",
       "        text-align: right;\n",
       "    }\n",
       "</style>\n",
       "<table border=\"1\" class=\"dataframe\">\n",
       "  <thead>\n",
       "    <tr style=\"text-align: right;\">\n",
       "      <th></th>\n",
       "      <th>rating_id</th>\n",
       "      <th>book_id</th>\n",
       "      <th>username</th>\n",
       "      <th>rating</th>\n",
       "    </tr>\n",
       "  </thead>\n",
       "  <tbody>\n",
       "    <tr>\n",
       "      <th>0</th>\n",
       "      <td>1</td>\n",
       "      <td>1</td>\n",
       "      <td>ryanfranco</td>\n",
       "      <td>4</td>\n",
       "    </tr>\n",
       "    <tr>\n",
       "      <th>1</th>\n",
       "      <td>2</td>\n",
       "      <td>1</td>\n",
       "      <td>grantpatricia</td>\n",
       "      <td>2</td>\n",
       "    </tr>\n",
       "    <tr>\n",
       "      <th>2</th>\n",
       "      <td>3</td>\n",
       "      <td>1</td>\n",
       "      <td>brandtandrea</td>\n",
       "      <td>5</td>\n",
       "    </tr>\n",
       "    <tr>\n",
       "      <th>3</th>\n",
       "      <td>4</td>\n",
       "      <td>2</td>\n",
       "      <td>lorichen</td>\n",
       "      <td>3</td>\n",
       "    </tr>\n",
       "    <tr>\n",
       "      <th>4</th>\n",
       "      <td>5</td>\n",
       "      <td>2</td>\n",
       "      <td>mariokeller</td>\n",
       "      <td>2</td>\n",
       "    </tr>\n",
       "  </tbody>\n",
       "</table>\n",
       "</div>"
      ],
      "text/plain": [
       "   rating_id  book_id       username  rating\n",
       "0          1        1     ryanfranco       4\n",
       "1          2        1  grantpatricia       2\n",
       "2          3        1   brandtandrea       5\n",
       "3          4        2       lorichen       3\n",
       "4          5        2    mariokeller       2"
      ]
     },
     "metadata": {},
     "output_type": "display_data"
    },
    {
     "name": "stdout",
     "output_type": "stream",
     "text": [
      "<class 'pandas.core.frame.DataFrame'>\n",
      "RangeIndex: 6456 entries, 0 to 6455\n",
      "Data columns (total 4 columns):\n",
      " #   Column     Non-Null Count  Dtype \n",
      "---  ------     --------------  ----- \n",
      " 0   rating_id  6456 non-null   int64 \n",
      " 1   book_id    6456 non-null   int64 \n",
      " 2   username   6456 non-null   object\n",
      " 3   rating     6456 non-null   int64 \n",
      "dtypes: int64(3), object(1)\n",
      "memory usage: 201.9+ KB\n"
     ]
    },
    {
     "data": {
      "text/plain": [
       "None"
      ]
     },
     "metadata": {},
     "output_type": "display_data"
    },
    {
     "data": {
      "text/plain": [
       "'-----------------------------------------------------------------------------------------------------------'"
      ]
     },
     "metadata": {},
     "output_type": "display_data"
    },
    {
     "data": {
      "text/html": [
       "<div>\n",
       "<style scoped>\n",
       "    .dataframe tbody tr th:only-of-type {\n",
       "        vertical-align: middle;\n",
       "    }\n",
       "\n",
       "    .dataframe tbody tr th {\n",
       "        vertical-align: top;\n",
       "    }\n",
       "\n",
       "    .dataframe thead th {\n",
       "        text-align: right;\n",
       "    }\n",
       "</style>\n",
       "<table border=\"1\" class=\"dataframe\">\n",
       "  <thead>\n",
       "    <tr style=\"text-align: right;\">\n",
       "      <th></th>\n",
       "      <th>review_id</th>\n",
       "      <th>book_id</th>\n",
       "      <th>username</th>\n",
       "      <th>text</th>\n",
       "    </tr>\n",
       "  </thead>\n",
       "  <tbody>\n",
       "    <tr>\n",
       "      <th>0</th>\n",
       "      <td>1</td>\n",
       "      <td>1</td>\n",
       "      <td>brandtandrea</td>\n",
       "      <td>Mention society tell send professor analysis. ...</td>\n",
       "    </tr>\n",
       "    <tr>\n",
       "      <th>1</th>\n",
       "      <td>2</td>\n",
       "      <td>1</td>\n",
       "      <td>ryanfranco</td>\n",
       "      <td>Foot glass pretty audience hit themselves. Amo...</td>\n",
       "    </tr>\n",
       "    <tr>\n",
       "      <th>2</th>\n",
       "      <td>3</td>\n",
       "      <td>2</td>\n",
       "      <td>lorichen</td>\n",
       "      <td>Listen treat keep worry. Miss husband tax but ...</td>\n",
       "    </tr>\n",
       "    <tr>\n",
       "      <th>3</th>\n",
       "      <td>4</td>\n",
       "      <td>3</td>\n",
       "      <td>johnsonamanda</td>\n",
       "      <td>Finally month interesting blue could nature cu...</td>\n",
       "    </tr>\n",
       "    <tr>\n",
       "      <th>4</th>\n",
       "      <td>5</td>\n",
       "      <td>3</td>\n",
       "      <td>scotttamara</td>\n",
       "      <td>Nation purpose heavy give wait song will. List...</td>\n",
       "    </tr>\n",
       "  </tbody>\n",
       "</table>\n",
       "</div>"
      ],
      "text/plain": [
       "   review_id  book_id       username  \\\n",
       "0          1        1   brandtandrea   \n",
       "1          2        1     ryanfranco   \n",
       "2          3        2       lorichen   \n",
       "3          4        3  johnsonamanda   \n",
       "4          5        3    scotttamara   \n",
       "\n",
       "                                                text  \n",
       "0  Mention society tell send professor analysis. ...  \n",
       "1  Foot glass pretty audience hit themselves. Amo...  \n",
       "2  Listen treat keep worry. Miss husband tax but ...  \n",
       "3  Finally month interesting blue could nature cu...  \n",
       "4  Nation purpose heavy give wait song will. List...  "
      ]
     },
     "metadata": {},
     "output_type": "display_data"
    },
    {
     "name": "stdout",
     "output_type": "stream",
     "text": [
      "<class 'pandas.core.frame.DataFrame'>\n",
      "RangeIndex: 2793 entries, 0 to 2792\n",
      "Data columns (total 4 columns):\n",
      " #   Column     Non-Null Count  Dtype \n",
      "---  ------     --------------  ----- \n",
      " 0   review_id  2793 non-null   int64 \n",
      " 1   book_id    2793 non-null   int64 \n",
      " 2   username   2793 non-null   object\n",
      " 3   text       2793 non-null   object\n",
      "dtypes: int64(2), object(2)\n",
      "memory usage: 87.4+ KB\n"
     ]
    },
    {
     "data": {
      "text/plain": [
       "None"
      ]
     },
     "metadata": {},
     "output_type": "display_data"
    }
   ],
   "source": [
    "# Выведем информацию по таблицам\n",
    "for df in [books, authors, publishers, ratings, reviews]:\n",
    "    display('-----------------------------------------------------------------------------------------------------------')\n",
    "    display(df.head())\n",
    "    display(df.info())"
   ]
  },
  {
   "cell_type": "markdown",
   "metadata": {},
   "source": [
    "В целом данные представлены в достаточно хорошем виде: пропусков нет, наименования столбцов корректны."
   ]
  },
  {
   "cell_type": "markdown",
   "metadata": {},
   "source": [
    "## Ответы на вопросы"
   ]
  },
  {
   "cell_type": "markdown",
   "metadata": {},
   "source": [
    "### Cколько книг вышло после 1 января 2000 года"
   ]
  },
  {
   "cell_type": "code",
   "execution_count": 5,
   "metadata": {},
   "outputs": [
    {
     "data": {
      "text/html": [
       "<div>\n",
       "<style scoped>\n",
       "    .dataframe tbody tr th:only-of-type {\n",
       "        vertical-align: middle;\n",
       "    }\n",
       "\n",
       "    .dataframe tbody tr th {\n",
       "        vertical-align: top;\n",
       "    }\n",
       "\n",
       "    .dataframe thead th {\n",
       "        text-align: right;\n",
       "    }\n",
       "</style>\n",
       "<table border=\"1\" class=\"dataframe\">\n",
       "  <thead>\n",
       "    <tr style=\"text-align: right;\">\n",
       "      <th></th>\n",
       "      <th>count</th>\n",
       "    </tr>\n",
       "  </thead>\n",
       "  <tbody>\n",
       "    <tr>\n",
       "      <th>0</th>\n",
       "      <td>821</td>\n",
       "    </tr>\n",
       "  </tbody>\n",
       "</table>\n",
       "</div>"
      ],
      "text/plain": [
       "   count\n",
       "0    821"
      ]
     },
     "execution_count": 5,
     "metadata": {},
     "output_type": "execute_result"
    }
   ],
   "source": [
    "count_books = '''SELECT COUNT(book_id) \n",
    "                 FROM books \n",
    "                 WHERE publication_date >= '2000-01-01'\n",
    "'''\n",
    "\n",
    "pd.io.sql.read_sql(count_books, con = engine)"
   ]
  },
  {
   "cell_type": "markdown",
   "metadata": {},
   "source": [
    "После 01.01.2000 г. вышла 821 книга."
   ]
  },
  {
   "cell_type": "markdown",
   "metadata": {},
   "source": [
    "### Рассчитаем количество обзоров и среднюю оценку для каждой книги"
   ]
  },
  {
   "cell_type": "code",
   "execution_count": 6,
   "metadata": {},
   "outputs": [
    {
     "data": {
      "text/html": [
       "<div>\n",
       "<style scoped>\n",
       "    .dataframe tbody tr th:only-of-type {\n",
       "        vertical-align: middle;\n",
       "    }\n",
       "\n",
       "    .dataframe tbody tr th {\n",
       "        vertical-align: top;\n",
       "    }\n",
       "\n",
       "    .dataframe thead th {\n",
       "        text-align: right;\n",
       "    }\n",
       "</style>\n",
       "<table border=\"1\" class=\"dataframe\">\n",
       "  <thead>\n",
       "    <tr style=\"text-align: right;\">\n",
       "      <th></th>\n",
       "      <th>book_id</th>\n",
       "      <th>title</th>\n",
       "      <th>count_review</th>\n",
       "      <th>avg_rating</th>\n",
       "    </tr>\n",
       "  </thead>\n",
       "  <tbody>\n",
       "    <tr>\n",
       "      <th>0</th>\n",
       "      <td>518</td>\n",
       "      <td>Pop Goes the Weasel (Alex Cross  #5)</td>\n",
       "      <td>2.0</td>\n",
       "      <td>5.00</td>\n",
       "    </tr>\n",
       "    <tr>\n",
       "      <th>1</th>\n",
       "      <td>732</td>\n",
       "      <td>The Ghost Map: The Story of London's Most Terr...</td>\n",
       "      <td>2.0</td>\n",
       "      <td>5.00</td>\n",
       "    </tr>\n",
       "    <tr>\n",
       "      <th>2</th>\n",
       "      <td>347</td>\n",
       "      <td>In the Hand of the Goddess (Song of the Liones...</td>\n",
       "      <td>2.0</td>\n",
       "      <td>5.00</td>\n",
       "    </tr>\n",
       "    <tr>\n",
       "      <th>3</th>\n",
       "      <td>610</td>\n",
       "      <td>Tai-Pan (Asian Saga  #2)</td>\n",
       "      <td>2.0</td>\n",
       "      <td>5.00</td>\n",
       "    </tr>\n",
       "    <tr>\n",
       "      <th>4</th>\n",
       "      <td>330</td>\n",
       "      <td>How to Be a Domestic Goddess: Baking and the A...</td>\n",
       "      <td>1.0</td>\n",
       "      <td>5.00</td>\n",
       "    </tr>\n",
       "    <tr>\n",
       "      <th>...</th>\n",
       "      <td>...</td>\n",
       "      <td>...</td>\n",
       "      <td>...</td>\n",
       "      <td>...</td>\n",
       "    </tr>\n",
       "    <tr>\n",
       "      <th>995</th>\n",
       "      <td>915</td>\n",
       "      <td>The World Is Flat: A Brief History of the Twen...</td>\n",
       "      <td>3.0</td>\n",
       "      <td>2.25</td>\n",
       "    </tr>\n",
       "    <tr>\n",
       "      <th>996</th>\n",
       "      <td>371</td>\n",
       "      <td>Junky</td>\n",
       "      <td>2.0</td>\n",
       "      <td>2.00</td>\n",
       "    </tr>\n",
       "    <tr>\n",
       "      <th>997</th>\n",
       "      <td>316</td>\n",
       "      <td>His Excellency: George Washington</td>\n",
       "      <td>2.0</td>\n",
       "      <td>2.00</td>\n",
       "    </tr>\n",
       "    <tr>\n",
       "      <th>998</th>\n",
       "      <td>202</td>\n",
       "      <td>Drowning Ruth</td>\n",
       "      <td>3.0</td>\n",
       "      <td>2.00</td>\n",
       "    </tr>\n",
       "    <tr>\n",
       "      <th>999</th>\n",
       "      <td>303</td>\n",
       "      <td>Harvesting the Heart</td>\n",
       "      <td>2.0</td>\n",
       "      <td>1.50</td>\n",
       "    </tr>\n",
       "  </tbody>\n",
       "</table>\n",
       "<p>1000 rows × 4 columns</p>\n",
       "</div>"
      ],
      "text/plain": [
       "     book_id                                              title  count_review  \\\n",
       "0        518               Pop Goes the Weasel (Alex Cross  #5)           2.0   \n",
       "1        732  The Ghost Map: The Story of London's Most Terr...           2.0   \n",
       "2        347  In the Hand of the Goddess (Song of the Liones...           2.0   \n",
       "3        610                           Tai-Pan (Asian Saga  #2)           2.0   \n",
       "4        330  How to Be a Domestic Goddess: Baking and the A...           1.0   \n",
       "..       ...                                                ...           ...   \n",
       "995      915  The World Is Flat: A Brief History of the Twen...           3.0   \n",
       "996      371                                              Junky           2.0   \n",
       "997      316                  His Excellency: George Washington           2.0   \n",
       "998      202                                      Drowning Ruth           3.0   \n",
       "999      303                               Harvesting the Heart           2.0   \n",
       "\n",
       "     avg_rating  \n",
       "0          5.00  \n",
       "1          5.00  \n",
       "2          5.00  \n",
       "3          5.00  \n",
       "4          5.00  \n",
       "..          ...  \n",
       "995        2.25  \n",
       "996        2.00  \n",
       "997        2.00  \n",
       "998        2.00  \n",
       "999        1.50  \n",
       "\n",
       "[1000 rows x 4 columns]"
      ]
     },
     "execution_count": 6,
     "metadata": {},
     "output_type": "execute_result"
    }
   ],
   "source": [
    "review_and_rating = '''SELECT \n",
    "                            books.book_id,\n",
    "                            title,\n",
    "                            count_review,\n",
    "                            avg_rating\n",
    "                            \n",
    "                       FROM books \n",
    "                       \n",
    "                       LEFT JOIN (SELECT book_id, \n",
    "                                         COUNT(review_id) AS count_review\n",
    "                                  FROM reviews\n",
    "                                  GROUP BY book_id) reviews ON books.book_id = reviews.book_id\n",
    "                        \n",
    "                       LEFT JOIN (SELECT book_id, \n",
    "                                         AVG(rating) AS avg_rating\n",
    "                                  FROM ratings\n",
    "                                  GROUP BY book_id) ratings ON books.book_id = ratings.book_id\n",
    "                                  \n",
    "                       ORDER BY avg_rating DESC\n",
    "'''\n",
    "\n",
    "pd.io.sql.read_sql(review_and_rating, con = engine)"
   ]
  },
  {
   "cell_type": "markdown",
   "metadata": {},
   "source": [
    "Количество обзоров и средняя оценка книг представлены в таблице выше."
   ]
  },
  {
   "cell_type": "markdown",
   "metadata": {},
   "source": [
    "### Определим издательство, которое выпустило наибольшее число книг толще 50 страниц"
   ]
  },
  {
   "cell_type": "code",
   "execution_count": 7,
   "metadata": {},
   "outputs": [
    {
     "data": {
      "text/html": [
       "<div>\n",
       "<style scoped>\n",
       "    .dataframe tbody tr th:only-of-type {\n",
       "        vertical-align: middle;\n",
       "    }\n",
       "\n",
       "    .dataframe tbody tr th {\n",
       "        vertical-align: top;\n",
       "    }\n",
       "\n",
       "    .dataframe thead th {\n",
       "        text-align: right;\n",
       "    }\n",
       "</style>\n",
       "<table border=\"1\" class=\"dataframe\">\n",
       "  <thead>\n",
       "    <tr style=\"text-align: right;\">\n",
       "      <th></th>\n",
       "      <th>publisher</th>\n",
       "      <th>count_book</th>\n",
       "    </tr>\n",
       "  </thead>\n",
       "  <tbody>\n",
       "    <tr>\n",
       "      <th>0</th>\n",
       "      <td>Penguin Books</td>\n",
       "      <td>42</td>\n",
       "    </tr>\n",
       "  </tbody>\n",
       "</table>\n",
       "</div>"
      ],
      "text/plain": [
       "       publisher  count_book\n",
       "0  Penguin Books          42"
      ]
     },
     "execution_count": 7,
     "metadata": {},
     "output_type": "execute_result"
    }
   ],
   "source": [
    "publisher = '''SELECT \n",
    "                    publisher,\n",
    "                    count_book\n",
    "\n",
    "               FROM publishers \n",
    "\n",
    "               INNER JOIN (SELECT publisher_id, \n",
    "                                 COUNT(book_id) AS count_book\n",
    "                          FROM books\n",
    "                          WHERE num_pages > 50\n",
    "                          GROUP BY publisher_id) books ON books.publisher_id = publishers.publisher_id\n",
    "\n",
    "\n",
    "               ORDER BY count_book DESC\n",
    "               LIMIT 1\n",
    "'''\n",
    "\n",
    "pd.io.sql.read_sql(publisher, con = engine)"
   ]
  },
  {
   "cell_type": "markdown",
   "metadata": {},
   "source": [
    "Издательство `Penguin Books` выпустило наибольшее число книг больше 50 страниц - 42 книги"
   ]
  },
  {
   "cell_type": "markdown",
   "metadata": {},
   "source": [
    "### Определим автора с самой высокой средней оценкой книг"
   ]
  },
  {
   "cell_type": "code",
   "execution_count": 8,
   "metadata": {},
   "outputs": [
    {
     "data": {
      "text/html": [
       "<div>\n",
       "<style scoped>\n",
       "    .dataframe tbody tr th:only-of-type {\n",
       "        vertical-align: middle;\n",
       "    }\n",
       "\n",
       "    .dataframe tbody tr th {\n",
       "        vertical-align: top;\n",
       "    }\n",
       "\n",
       "    .dataframe thead th {\n",
       "        text-align: right;\n",
       "    }\n",
       "</style>\n",
       "<table border=\"1\" class=\"dataframe\">\n",
       "  <thead>\n",
       "    <tr style=\"text-align: right;\">\n",
       "      <th></th>\n",
       "      <th>author</th>\n",
       "      <th>avg_rating</th>\n",
       "    </tr>\n",
       "  </thead>\n",
       "  <tbody>\n",
       "    <tr>\n",
       "      <th>0</th>\n",
       "      <td>J.K. Rowling/Mary GrandPré</td>\n",
       "      <td>4.283844</td>\n",
       "    </tr>\n",
       "  </tbody>\n",
       "</table>\n",
       "</div>"
      ],
      "text/plain": [
       "                       author  avg_rating\n",
       "0  J.K. Rowling/Mary GrandPré    4.283844"
      ]
     },
     "execution_count": 8,
     "metadata": {},
     "output_type": "execute_result"
    }
   ],
   "source": [
    "author = '''SELECT\n",
    "                authors.author,\n",
    "                AVG(ratings.avg_rating) AS avg_rating\n",
    "                \n",
    "            FROM books\n",
    "            \n",
    "            LEFT JOIN (SELECT \n",
    "                            book_id,\n",
    "                            AVG(rating) AS avg_rating,\n",
    "                            COUNT(rating_id) AS count_rating\n",
    "                       FROM ratings\n",
    "                       GROUP BY book_id) ratings ON ratings.book_id = books.book_id\n",
    "                       \n",
    "            LEFT JOIN authors ON authors.author_id = books.author_id\n",
    "            \n",
    "            WHERE count_rating >= 50\n",
    "            GROUP BY author\n",
    "            ORDER BY avg_rating DESC\n",
    "            LIMIT 1\n",
    "'''\n",
    "pd.io.sql.read_sql(author, con = engine)"
   ]
  },
  {
   "cell_type": "markdown",
   "metadata": {},
   "source": [
    "Самая высокая средняя оценка книг у автора - J.K.Rowling/Mary GrandPré."
   ]
  },
  {
   "cell_type": "markdown",
   "metadata": {},
   "source": [
    "### Рассчитаем среднее количество обзоров от пользователей, которые поставили больше 50 оценок"
   ]
  },
  {
   "cell_type": "code",
   "execution_count": 9,
   "metadata": {},
   "outputs": [
    {
     "data": {
      "text/html": [
       "<div>\n",
       "<style scoped>\n",
       "    .dataframe tbody tr th:only-of-type {\n",
       "        vertical-align: middle;\n",
       "    }\n",
       "\n",
       "    .dataframe tbody tr th {\n",
       "        vertical-align: top;\n",
       "    }\n",
       "\n",
       "    .dataframe thead th {\n",
       "        text-align: right;\n",
       "    }\n",
       "</style>\n",
       "<table border=\"1\" class=\"dataframe\">\n",
       "  <thead>\n",
       "    <tr style=\"text-align: right;\">\n",
       "      <th></th>\n",
       "      <th>avg_count_review</th>\n",
       "    </tr>\n",
       "  </thead>\n",
       "  <tbody>\n",
       "    <tr>\n",
       "      <th>0</th>\n",
       "      <td>24.0</td>\n",
       "    </tr>\n",
       "  </tbody>\n",
       "</table>\n",
       "</div>"
      ],
      "text/plain": [
       "   avg_count_review\n",
       "0              24.0"
      ]
     },
     "execution_count": 9,
     "metadata": {},
     "output_type": "execute_result"
    }
   ],
   "source": [
    "avg_review = '''\n",
    "    WITH \n",
    "    \n",
    "    ratings AS (SELECT \n",
    "                    username, \n",
    "                    COUNT(rating) AS count_rating\n",
    "                FROM ratings\n",
    "                GROUP BY username),\n",
    "    reviews AS (SELECT \n",
    "                    username,\n",
    "                    COUNT(review_id) AS count_review\n",
    "                FROM reviews\n",
    "                GROUP BY username)\n",
    "                \n",
    "    SELECT ROUND(AVG(count_review),0) AS avg_count_review\n",
    "    FROM ratings\n",
    "    LEFT JOIN reviews ON ratings.username = reviews.username\n",
    "    WHERE count_rating > 50\n",
    "    \n",
    "'''\n",
    "pd.io.sql.read_sql(avg_review, con = engine)"
   ]
  },
  {
   "cell_type": "markdown",
   "metadata": {},
   "source": [
    "Cреднее количество обзоров от пользователей, которые поставили больше 50 оценок, - 24."
   ]
  },
  {
   "cell_type": "markdown",
   "metadata": {},
   "source": [
    "**Вывод:**\n",
    "    \n",
    "Целью нашего исследования был анализ базы данных. В первую очередь мы подключились к базе и загрузили необходимые таблицы для анализа, проверили корректность данных.\n",
    "    \n",
    "Далее ответили на поставленные вопросы:\n",
    "1. Сколько книг вышло после 1 января 2000 года? - после 01.01.2000 г. вышла 821 книга.\n",
    "2. Рассчитали количество обзоров и среднюю оценку для каждой книги.\n",
    "3. Определили издательство, которое выпустило наибольшее число книг толще 50 страниц - издательство `Penguin Books` (42 книги)\n",
    "4. Определили автора с самой высокой средней оценкой книг  - J.K.Rowling/Mary GrandPré (средний рейтинг - 4,3)\n",
    "5. Рассчитали среднее количество обзоров от пользователей, которые поставили больше 50 оценок - 24 обзора"
   ]
  }
 ],
 "metadata": {
  "ExecuteTimeLog": [
   {
    "duration": 119,
    "start_time": "2022-09-22T06:48:03.609Z"
   },
   {
    "duration": 8693,
    "start_time": "2022-09-22T06:49:02.690Z"
   },
   {
    "duration": 66,
    "start_time": "2022-09-22T06:49:25.413Z"
   },
   {
    "duration": 3,
    "start_time": "2022-09-22T09:09:58.991Z"
   },
   {
    "duration": 589,
    "start_time": "2022-09-22T09:11:29.350Z"
   },
   {
    "duration": 9,
    "start_time": "2022-09-22T09:12:14.967Z"
   },
   {
    "duration": 4,
    "start_time": "2022-09-22T09:12:19.799Z"
   },
   {
    "duration": 35,
    "start_time": "2022-09-22T09:12:22.362Z"
   },
   {
    "duration": 18,
    "start_time": "2022-09-22T09:12:45.372Z"
   },
   {
    "duration": 82,
    "start_time": "2022-09-22T09:16:25.058Z"
   },
   {
    "duration": 94,
    "start_time": "2022-09-22T09:17:42.752Z"
   },
   {
    "duration": 109,
    "start_time": "2022-09-22T09:17:54.526Z"
   },
   {
    "duration": 79,
    "start_time": "2022-09-22T09:22:07.574Z"
   },
   {
    "duration": 3,
    "start_time": "2022-09-22T09:23:22.097Z"
   },
   {
    "duration": 77,
    "start_time": "2022-09-22T09:26:36.195Z"
   },
   {
    "duration": 102,
    "start_time": "2022-09-22T09:26:44.310Z"
   },
   {
    "duration": 136,
    "start_time": "2022-09-22T09:31:42.732Z"
   },
   {
    "duration": 137,
    "start_time": "2022-09-22T09:31:49.846Z"
   },
   {
    "duration": 168,
    "start_time": "2022-09-22T09:32:35.327Z"
   },
   {
    "duration": 187,
    "start_time": "2022-09-22T09:33:10.103Z"
   },
   {
    "duration": 112,
    "start_time": "2022-09-22T09:33:39.142Z"
   },
   {
    "duration": 112,
    "start_time": "2022-09-22T09:34:19.859Z"
   },
   {
    "duration": 107,
    "start_time": "2022-09-22T09:35:04.690Z"
   },
   {
    "duration": 280,
    "start_time": "2022-09-22T09:35:10.022Z"
   },
   {
    "duration": 156,
    "start_time": "2022-09-22T09:35:13.477Z"
   },
   {
    "duration": 149,
    "start_time": "2022-09-22T09:35:20.595Z"
   },
   {
    "duration": 129,
    "start_time": "2022-09-22T09:35:38.381Z"
   },
   {
    "duration": 84,
    "start_time": "2022-09-22T09:53:33.013Z"
   },
   {
    "duration": 80,
    "start_time": "2022-09-22T09:54:20.273Z"
   },
   {
    "duration": 77,
    "start_time": "2022-09-22T09:54:31.575Z"
   },
   {
    "duration": 119,
    "start_time": "2022-09-22T09:55:12.313Z"
   },
   {
    "duration": 73,
    "start_time": "2022-09-22T10:04:47.864Z"
   },
   {
    "duration": 10920,
    "start_time": "2022-09-22T10:04:54.925Z"
   },
   {
    "duration": 680,
    "start_time": "2022-09-22T10:05:05.848Z"
   },
   {
    "duration": 105,
    "start_time": "2022-09-22T10:05:06.531Z"
   },
   {
    "duration": 80,
    "start_time": "2022-09-22T10:05:06.637Z"
   },
   {
    "duration": 928,
    "start_time": "2022-09-22T10:05:06.719Z"
   },
   {
    "duration": 79,
    "start_time": "2022-09-22T10:05:07.649Z"
   },
   {
    "duration": 3,
    "start_time": "2022-09-22T10:05:07.730Z"
   },
   {
    "duration": 193,
    "start_time": "2022-09-22T10:10:29.113Z"
   },
   {
    "duration": 1152,
    "start_time": "2022-09-22T10:14:18.854Z"
   },
   {
    "duration": 249,
    "start_time": "2022-09-22T10:16:00.971Z"
   },
   {
    "duration": 153,
    "start_time": "2022-09-22T10:16:13.886Z"
   },
   {
    "duration": 145,
    "start_time": "2022-09-22T10:16:41.940Z"
   },
   {
    "duration": 120,
    "start_time": "2022-09-22T10:16:55.579Z"
   },
   {
    "duration": 141,
    "start_time": "2022-09-22T10:18:36.353Z"
   },
   {
    "duration": 152,
    "start_time": "2022-09-22T10:19:03.155Z"
   },
   {
    "duration": 150,
    "start_time": "2022-09-22T10:19:31.371Z"
   },
   {
    "duration": 173,
    "start_time": "2022-09-22T10:20:05.160Z"
   },
   {
    "duration": 111,
    "start_time": "2022-09-22T10:20:14.392Z"
   },
   {
    "duration": 106,
    "start_time": "2022-09-22T10:20:54.866Z"
   },
   {
    "duration": 159,
    "start_time": "2022-09-22T10:44:02.217Z"
   },
   {
    "duration": 129,
    "start_time": "2022-09-22T10:44:31.157Z"
   },
   {
    "duration": 174,
    "start_time": "2022-09-22T10:44:45.724Z"
   },
   {
    "duration": 80,
    "start_time": "2022-09-22T10:45:11.191Z"
   },
   {
    "duration": 91,
    "start_time": "2022-09-22T10:48:32.522Z"
   },
   {
    "duration": 85,
    "start_time": "2022-09-22T10:49:44.641Z"
   },
   {
    "duration": 158,
    "start_time": "2022-09-22T12:58:32.793Z"
   },
   {
    "duration": 78,
    "start_time": "2022-09-22T12:58:40.639Z"
   },
   {
    "duration": 3,
    "start_time": "2022-09-22T13:00:30.705Z"
   },
   {
    "duration": 1663,
    "start_time": "2022-09-22T13:01:05.174Z"
   },
   {
    "duration": 149,
    "start_time": "2022-09-22T13:01:11.487Z"
   },
   {
    "duration": 104,
    "start_time": "2022-09-22T13:01:14.163Z"
   },
   {
    "duration": 207,
    "start_time": "2022-09-22T13:05:44.873Z"
   },
   {
    "duration": 126,
    "start_time": "2022-09-22T13:19:07.677Z"
   },
   {
    "duration": 143,
    "start_time": "2022-09-22T13:19:44.224Z"
   },
   {
    "duration": 81,
    "start_time": "2022-09-22T13:20:00.431Z"
   },
   {
    "duration": 130,
    "start_time": "2022-09-22T13:21:12.238Z"
   },
   {
    "duration": 85,
    "start_time": "2022-09-22T13:21:25.566Z"
   },
   {
    "duration": 79,
    "start_time": "2022-09-22T13:21:50.602Z"
   },
   {
    "duration": 78,
    "start_time": "2022-09-22T13:22:22.336Z"
   },
   {
    "duration": 84,
    "start_time": "2022-09-22T13:23:04.490Z"
   },
   {
    "duration": 6928,
    "start_time": "2022-09-22T13:24:11.368Z"
   },
   {
    "duration": 577,
    "start_time": "2022-09-22T13:24:18.298Z"
   },
   {
    "duration": 72,
    "start_time": "2022-09-22T13:24:18.877Z"
   },
   {
    "duration": 69,
    "start_time": "2022-09-22T13:24:18.951Z"
   },
   {
    "duration": 86,
    "start_time": "2022-09-22T13:24:19.022Z"
   },
   {
    "duration": 71,
    "start_time": "2022-09-22T13:24:19.110Z"
   },
   {
    "duration": 74,
    "start_time": "2022-09-22T13:24:19.183Z"
   },
   {
    "duration": 72,
    "start_time": "2022-09-22T13:24:19.258Z"
   },
   {
    "duration": 3,
    "start_time": "2022-09-22T14:28:39.250Z"
   },
   {
    "duration": 114,
    "start_time": "2022-09-22T14:30:02.366Z"
   },
   {
    "duration": 159,
    "start_time": "2022-09-22T15:32:42.705Z"
   },
   {
    "duration": 474,
    "start_time": "2022-09-22T15:33:10.496Z"
   },
   {
    "duration": 5547,
    "start_time": "2022-09-22T15:33:10.972Z"
   },
   {
    "duration": 66,
    "start_time": "2022-09-22T15:33:16.521Z"
   },
   {
    "duration": 0,
    "start_time": "2022-09-22T15:33:16.588Z"
   },
   {
    "duration": 0,
    "start_time": "2022-09-22T15:33:16.589Z"
   },
   {
    "duration": 0,
    "start_time": "2022-09-22T15:33:16.590Z"
   },
   {
    "duration": 0,
    "start_time": "2022-09-22T15:33:16.591Z"
   },
   {
    "duration": 0,
    "start_time": "2022-09-22T15:33:16.592Z"
   },
   {
    "duration": 0,
    "start_time": "2022-09-22T15:33:16.593Z"
   },
   {
    "duration": 8,
    "start_time": "2022-09-22T15:34:09.601Z"
   },
   {
    "duration": 2512,
    "start_time": "2022-09-22T15:35:56.465Z"
   },
   {
    "duration": 7,
    "start_time": "2022-09-22T15:36:04.986Z"
   },
   {
    "duration": 8,
    "start_time": "2022-09-22T15:36:29.070Z"
   },
   {
    "duration": 13,
    "start_time": "2022-09-22T15:41:36.028Z"
   },
   {
    "duration": 7,
    "start_time": "2022-09-22T15:42:54.987Z"
   },
   {
    "duration": 8,
    "start_time": "2022-09-22T15:43:55.826Z"
   },
   {
    "duration": 484,
    "start_time": "2022-09-22T15:47:50.550Z"
   },
   {
    "duration": 5983,
    "start_time": "2022-09-22T15:47:51.036Z"
   },
   {
    "duration": 600,
    "start_time": "2022-09-22T15:47:57.021Z"
   },
   {
    "duration": 79,
    "start_time": "2022-09-22T15:47:57.623Z"
   },
   {
    "duration": 86,
    "start_time": "2022-09-22T15:47:57.704Z"
   },
   {
    "duration": 86,
    "start_time": "2022-09-22T15:47:57.792Z"
   },
   {
    "duration": 73,
    "start_time": "2022-09-22T15:47:57.880Z"
   },
   {
    "duration": 75,
    "start_time": "2022-09-22T15:47:57.954Z"
   },
   {
    "duration": 74,
    "start_time": "2022-09-22T15:47:58.030Z"
   },
   {
    "duration": 124,
    "start_time": "2022-09-22T16:04:01.375Z"
   },
   {
    "duration": 214,
    "start_time": "2022-09-22T16:04:05.143Z"
   },
   {
    "duration": 186,
    "start_time": "2022-09-22T16:04:09.368Z"
   },
   {
    "duration": 240,
    "start_time": "2022-09-22T16:04:24.671Z"
   },
   {
    "duration": 125,
    "start_time": "2022-09-22T16:05:03.359Z"
   },
   {
    "duration": 140,
    "start_time": "2022-09-22T16:05:07.975Z"
   },
   {
    "duration": 516,
    "start_time": "2022-09-22T16:05:20.634Z"
   },
   {
    "duration": 7822,
    "start_time": "2022-09-22T16:05:21.152Z"
   },
   {
    "duration": 64,
    "start_time": "2022-09-22T16:05:28.976Z"
   },
   {
    "duration": 0,
    "start_time": "2022-09-22T16:05:29.042Z"
   },
   {
    "duration": 0,
    "start_time": "2022-09-22T16:05:29.043Z"
   },
   {
    "duration": 0,
    "start_time": "2022-09-22T16:05:29.044Z"
   },
   {
    "duration": 0,
    "start_time": "2022-09-22T16:05:29.045Z"
   },
   {
    "duration": 0,
    "start_time": "2022-09-22T16:05:29.046Z"
   },
   {
    "duration": 0,
    "start_time": "2022-09-22T16:05:29.047Z"
   },
   {
    "duration": 0,
    "start_time": "2022-09-22T16:05:29.049Z"
   },
   {
    "duration": 326,
    "start_time": "2022-09-22T16:05:50.296Z"
   },
   {
    "duration": 7,
    "start_time": "2022-09-22T16:07:40.937Z"
   },
   {
    "duration": 9,
    "start_time": "2022-09-22T16:08:53.294Z"
   },
   {
    "duration": 63,
    "start_time": "2022-09-22T16:12:51.991Z"
   },
   {
    "duration": 74,
    "start_time": "2022-09-22T16:12:54.246Z"
   },
   {
    "duration": 14,
    "start_time": "2022-09-22T16:12:58.125Z"
   },
   {
    "duration": 10,
    "start_time": "2022-09-22T16:13:26.347Z"
   },
   {
    "duration": 9,
    "start_time": "2022-09-22T16:13:52.706Z"
   },
   {
    "duration": 8,
    "start_time": "2022-09-22T16:13:56.824Z"
   },
   {
    "duration": 213,
    "start_time": "2022-09-22T16:14:06.082Z"
   },
   {
    "duration": 137,
    "start_time": "2022-09-22T16:15:38.994Z"
   },
   {
    "duration": 10,
    "start_time": "2022-09-22T16:15:46.302Z"
   },
   {
    "duration": 151,
    "start_time": "2022-09-22T16:15:59.031Z"
   },
   {
    "duration": 7,
    "start_time": "2022-09-22T16:18:25.915Z"
   },
   {
    "duration": 518,
    "start_time": "2022-09-22T16:18:41.019Z"
   },
   {
    "duration": 6039,
    "start_time": "2022-09-22T16:18:41.539Z"
   },
   {
    "duration": 64,
    "start_time": "2022-09-22T16:18:47.579Z"
   },
   {
    "duration": 0,
    "start_time": "2022-09-22T16:18:47.644Z"
   },
   {
    "duration": 0,
    "start_time": "2022-09-22T16:18:47.645Z"
   },
   {
    "duration": 0,
    "start_time": "2022-09-22T16:18:47.646Z"
   },
   {
    "duration": 0,
    "start_time": "2022-09-22T16:18:47.647Z"
   },
   {
    "duration": 0,
    "start_time": "2022-09-22T16:18:47.648Z"
   },
   {
    "duration": 0,
    "start_time": "2022-09-22T16:18:47.649Z"
   },
   {
    "duration": 0,
    "start_time": "2022-09-22T16:18:47.650Z"
   },
   {
    "duration": 335,
    "start_time": "2022-09-22T16:19:53.411Z"
   },
   {
    "duration": 47,
    "start_time": "2022-09-22T16:20:07.513Z"
   },
   {
    "duration": 150,
    "start_time": "2022-09-22T16:20:09.545Z"
   },
   {
    "duration": 186,
    "start_time": "2022-09-22T16:23:13.040Z"
   },
   {
    "duration": 7,
    "start_time": "2022-09-22T16:24:53.115Z"
   },
   {
    "duration": 7,
    "start_time": "2022-09-22T16:32:06.037Z"
   },
   {
    "duration": 472,
    "start_time": "2022-09-22T16:32:11.876Z"
   },
   {
    "duration": 7274,
    "start_time": "2022-09-22T16:32:12.350Z"
   },
   {
    "duration": 69,
    "start_time": "2022-09-22T16:32:19.625Z"
   },
   {
    "duration": 0,
    "start_time": "2022-09-22T16:32:19.696Z"
   },
   {
    "duration": 0,
    "start_time": "2022-09-22T16:32:19.697Z"
   },
   {
    "duration": 0,
    "start_time": "2022-09-22T16:32:19.698Z"
   },
   {
    "duration": 0,
    "start_time": "2022-09-22T16:32:19.699Z"
   },
   {
    "duration": 0,
    "start_time": "2022-09-22T16:32:19.700Z"
   },
   {
    "duration": 0,
    "start_time": "2022-09-22T16:32:19.701Z"
   },
   {
    "duration": 0,
    "start_time": "2022-09-22T16:32:19.703Z"
   },
   {
    "duration": 317,
    "start_time": "2022-09-22T16:32:26.225Z"
   },
   {
    "duration": 8,
    "start_time": "2022-09-22T16:33:54.546Z"
   },
   {
    "duration": 148,
    "start_time": "2022-09-22T16:35:16.611Z"
   },
   {
    "duration": 174,
    "start_time": "2022-09-22T16:35:37.287Z"
   },
   {
    "duration": 9,
    "start_time": "2022-09-22T16:40:22.590Z"
   },
   {
    "duration": 8,
    "start_time": "2022-09-22T16:41:21.603Z"
   },
   {
    "duration": 575,
    "start_time": "2022-09-22T16:41:27.148Z"
   },
   {
    "duration": 9268,
    "start_time": "2022-09-22T16:41:27.725Z"
   },
   {
    "duration": 83,
    "start_time": "2022-09-22T16:41:36.994Z"
   },
   {
    "duration": 0,
    "start_time": "2022-09-22T16:41:37.079Z"
   },
   {
    "duration": 0,
    "start_time": "2022-09-22T16:41:37.081Z"
   },
   {
    "duration": 0,
    "start_time": "2022-09-22T16:41:37.082Z"
   },
   {
    "duration": 0,
    "start_time": "2022-09-22T16:41:37.083Z"
   },
   {
    "duration": 0,
    "start_time": "2022-09-22T16:41:37.084Z"
   },
   {
    "duration": 0,
    "start_time": "2022-09-22T16:41:37.085Z"
   },
   {
    "duration": 0,
    "start_time": "2022-09-22T16:41:37.086Z"
   },
   {
    "duration": 12,
    "start_time": "2022-09-22T16:41:44.754Z"
   },
   {
    "duration": 8,
    "start_time": "2022-09-22T16:46:04.605Z"
   },
   {
    "duration": 9,
    "start_time": "2022-09-22T16:47:12.841Z"
   },
   {
    "duration": 344,
    "start_time": "2022-09-22T16:48:02.294Z"
   },
   {
    "duration": 148,
    "start_time": "2022-09-22T16:48:41.665Z"
   },
   {
    "duration": 155,
    "start_time": "2022-09-22T16:49:39.449Z"
   },
   {
    "duration": 145,
    "start_time": "2022-09-22T16:49:44.747Z"
   },
   {
    "duration": 137,
    "start_time": "2022-09-22T16:50:01.170Z"
   },
   {
    "duration": 181,
    "start_time": "2022-09-22T16:50:54.971Z"
   },
   {
    "duration": 142,
    "start_time": "2022-09-22T16:51:31.436Z"
   },
   {
    "duration": 174,
    "start_time": "2022-09-22T16:54:00.969Z"
   },
   {
    "duration": 165,
    "start_time": "2022-09-22T16:54:08.522Z"
   },
   {
    "duration": 178,
    "start_time": "2022-09-22T16:54:11.461Z"
   },
   {
    "duration": 16,
    "start_time": "2022-09-22T16:54:29.330Z"
   },
   {
    "duration": 8,
    "start_time": "2022-09-22T16:56:12.306Z"
   },
   {
    "duration": 157,
    "start_time": "2022-09-22T16:56:28.471Z"
   },
   {
    "duration": 149,
    "start_time": "2022-09-22T16:56:34.948Z"
   },
   {
    "duration": 17,
    "start_time": "2022-09-22T16:56:54.430Z"
   },
   {
    "duration": 9,
    "start_time": "2022-09-22T17:04:20.809Z"
   },
   {
    "duration": 484,
    "start_time": "2022-09-22T17:06:08.095Z"
   },
   {
    "duration": 7386,
    "start_time": "2022-09-22T17:06:08.581Z"
   },
   {
    "duration": 633,
    "start_time": "2022-09-22T17:06:15.969Z"
   },
   {
    "duration": 97,
    "start_time": "2022-09-22T17:06:16.604Z"
   },
   {
    "duration": 76,
    "start_time": "2022-09-22T17:06:16.703Z"
   },
   {
    "duration": 87,
    "start_time": "2022-09-22T17:06:16.781Z"
   },
   {
    "duration": 85,
    "start_time": "2022-09-22T17:06:16.871Z"
   },
   {
    "duration": 80,
    "start_time": "2022-09-22T17:06:16.958Z"
   },
   {
    "duration": 78,
    "start_time": "2022-09-22T17:06:17.043Z"
   },
   {
    "duration": 520,
    "start_time": "2022-09-22T17:06:54.959Z"
   },
   {
    "duration": 8335,
    "start_time": "2022-09-22T17:06:55.481Z"
   },
   {
    "duration": 108,
    "start_time": "2022-09-22T17:07:03.818Z"
   },
   {
    "duration": 0,
    "start_time": "2022-09-22T17:07:03.929Z"
   },
   {
    "duration": 0,
    "start_time": "2022-09-22T17:07:03.930Z"
   },
   {
    "duration": 0,
    "start_time": "2022-09-22T17:07:03.932Z"
   },
   {
    "duration": 0,
    "start_time": "2022-09-22T17:07:03.934Z"
   },
   {
    "duration": 0,
    "start_time": "2022-09-22T17:07:03.935Z"
   },
   {
    "duration": 0,
    "start_time": "2022-09-22T17:07:03.936Z"
   },
   {
    "duration": 0,
    "start_time": "2022-09-22T17:07:03.937Z"
   },
   {
    "duration": 53,
    "start_time": "2022-09-22T17:07:21.565Z"
   },
   {
    "duration": 72,
    "start_time": "2022-09-22T17:07:30.609Z"
   },
   {
    "duration": 538,
    "start_time": "2022-09-22T17:07:47.436Z"
   },
   {
    "duration": 11289,
    "start_time": "2022-09-22T17:07:47.976Z"
   },
   {
    "duration": 653,
    "start_time": "2022-09-22T17:07:59.266Z"
   },
   {
    "duration": 79,
    "start_time": "2022-09-22T17:07:59.921Z"
   },
   {
    "duration": 81,
    "start_time": "2022-09-22T17:08:00.002Z"
   },
   {
    "duration": 113,
    "start_time": "2022-09-22T17:08:00.085Z"
   },
   {
    "duration": 93,
    "start_time": "2022-09-22T17:08:00.200Z"
   },
   {
    "duration": 97,
    "start_time": "2022-09-22T17:08:00.295Z"
   },
   {
    "duration": 89,
    "start_time": "2022-09-22T17:08:00.396Z"
   }
  ],
  "kernelspec": {
   "display_name": "Python 3 (ipykernel)",
   "language": "python",
   "name": "python3"
  },
  "language_info": {
   "codemirror_mode": {
    "name": "ipython",
    "version": 3
   },
   "file_extension": ".py",
   "mimetype": "text/x-python",
   "name": "python",
   "nbconvert_exporter": "python",
   "pygments_lexer": "ipython3",
   "version": "3.9.7"
  },
  "toc": {
   "base_numbering": 1,
   "nav_menu": {},
   "number_sections": true,
   "sideBar": true,
   "skip_h1_title": true,
   "title_cell": "Table of Contents",
   "title_sidebar": "Contents",
   "toc_cell": false,
   "toc_position": {},
   "toc_section_display": true,
   "toc_window_display": true
  }
 },
 "nbformat": 4,
 "nbformat_minor": 2
}
