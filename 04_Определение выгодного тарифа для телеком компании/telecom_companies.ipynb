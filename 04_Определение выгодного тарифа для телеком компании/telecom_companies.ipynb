{
 "cells": [
  {
   "cell_type": "markdown",
   "metadata": {},
   "source": [
    "# Определение перспективного тарифа для телеком-компании"
   ]
  },
  {
   "cell_type": "markdown",
   "metadata": {},
   "source": [
    "**Описание проекта**\n",
    "\n",
    "В нашем распоряжении данные 500 пользователей компании «Мегалайн» — федерального оператора сотовой связи. Про клиентов нам известно: кто они, откуда, каким тарифом пользуются, сколько звонков и сообщений каждый отправил за 2018 год. Компания предлагает два тарифных плана: «Смарт» и «Ультра»\n",
    "\n",
    "**Цель исследования**\n",
    "\n",
    "Проанализировав поведение клиентов, сделать вывод - какой тариф приносит больше денег. В ходе исследования проверим следующие гипотезы:\n",
    " - средняя выручка пользователей тарифов «Ультра» и «Смарт» различаются;\n",
    " - средняя выручка пользователей из Москвы отличается от выручки пользователей из других регионов.\n",
    "\n",
    "**Ход исследования**\n",
    "\n",
    " - Обзор данных\n",
    " - Предобработка данных\n",
    " - Исследовательский анализ данных\n",
    " - Проверка гипотез"
   ]
  },
  {
   "cell_type": "markdown",
   "metadata": {},
   "source": [
    "## Обзор данных"
   ]
  },
  {
   "cell_type": "code",
   "execution_count": 1,
   "metadata": {},
   "outputs": [],
   "source": [
    "# Импортируем необходимые библиотеки\n",
    "import pandas as pd\n",
    "import matplotlib.pyplot as plt\n",
    "from scipy import stats as st\n",
    "import numpy as np\n",
    "import warnings\n",
    "warnings.filterwarnings('ignore')"
   ]
  },
  {
   "cell_type": "code",
   "execution_count": 2,
   "metadata": {},
   "outputs": [
    {
     "data": {
      "text/plain": [
       "'-----------------------------------------------------------------------'"
      ]
     },
     "metadata": {},
     "output_type": "display_data"
    },
    {
     "name": "stdout",
     "output_type": "stream",
     "text": [
      "<class 'pandas.core.frame.DataFrame'>\n",
      "RangeIndex: 500 entries, 0 to 499\n",
      "Data columns (total 8 columns):\n",
      " #   Column      Non-Null Count  Dtype \n",
      "---  ------      --------------  ----- \n",
      " 0   user_id     500 non-null    int64 \n",
      " 1   age         500 non-null    int64 \n",
      " 2   churn_date  38 non-null     object\n",
      " 3   city        500 non-null    object\n",
      " 4   first_name  500 non-null    object\n",
      " 5   last_name   500 non-null    object\n",
      " 6   reg_date    500 non-null    object\n",
      " 7   tariff      500 non-null    object\n",
      "dtypes: int64(2), object(6)\n",
      "memory usage: 31.4+ KB\n"
     ]
    },
    {
     "data": {
      "text/plain": [
       "None"
      ]
     },
     "metadata": {},
     "output_type": "display_data"
    },
    {
     "data": {
      "text/html": [
       "<div>\n",
       "<style scoped>\n",
       "    .dataframe tbody tr th:only-of-type {\n",
       "        vertical-align: middle;\n",
       "    }\n",
       "\n",
       "    .dataframe tbody tr th {\n",
       "        vertical-align: top;\n",
       "    }\n",
       "\n",
       "    .dataframe thead th {\n",
       "        text-align: right;\n",
       "    }\n",
       "</style>\n",
       "<table border=\"1\" class=\"dataframe\">\n",
       "  <thead>\n",
       "    <tr style=\"text-align: right;\">\n",
       "      <th></th>\n",
       "      <th>user_id</th>\n",
       "      <th>age</th>\n",
       "      <th>churn_date</th>\n",
       "      <th>city</th>\n",
       "      <th>first_name</th>\n",
       "      <th>last_name</th>\n",
       "      <th>reg_date</th>\n",
       "      <th>tariff</th>\n",
       "    </tr>\n",
       "  </thead>\n",
       "  <tbody>\n",
       "    <tr>\n",
       "      <th>0</th>\n",
       "      <td>1000</td>\n",
       "      <td>52</td>\n",
       "      <td>NaN</td>\n",
       "      <td>Краснодар</td>\n",
       "      <td>Рафаил</td>\n",
       "      <td>Верещагин</td>\n",
       "      <td>2018-05-25</td>\n",
       "      <td>ultra</td>\n",
       "    </tr>\n",
       "    <tr>\n",
       "      <th>1</th>\n",
       "      <td>1001</td>\n",
       "      <td>41</td>\n",
       "      <td>NaN</td>\n",
       "      <td>Москва</td>\n",
       "      <td>Иван</td>\n",
       "      <td>Ежов</td>\n",
       "      <td>2018-11-01</td>\n",
       "      <td>smart</td>\n",
       "    </tr>\n",
       "    <tr>\n",
       "      <th>2</th>\n",
       "      <td>1002</td>\n",
       "      <td>59</td>\n",
       "      <td>NaN</td>\n",
       "      <td>Стерлитамак</td>\n",
       "      <td>Евгений</td>\n",
       "      <td>Абрамович</td>\n",
       "      <td>2018-06-17</td>\n",
       "      <td>smart</td>\n",
       "    </tr>\n",
       "    <tr>\n",
       "      <th>3</th>\n",
       "      <td>1003</td>\n",
       "      <td>23</td>\n",
       "      <td>NaN</td>\n",
       "      <td>Москва</td>\n",
       "      <td>Белла</td>\n",
       "      <td>Белякова</td>\n",
       "      <td>2018-08-17</td>\n",
       "      <td>ultra</td>\n",
       "    </tr>\n",
       "    <tr>\n",
       "      <th>4</th>\n",
       "      <td>1004</td>\n",
       "      <td>68</td>\n",
       "      <td>NaN</td>\n",
       "      <td>Новокузнецк</td>\n",
       "      <td>Татьяна</td>\n",
       "      <td>Авдеенко</td>\n",
       "      <td>2018-05-14</td>\n",
       "      <td>ultra</td>\n",
       "    </tr>\n",
       "  </tbody>\n",
       "</table>\n",
       "</div>"
      ],
      "text/plain": [
       "   user_id  age churn_date         city first_name  last_name    reg_date  \\\n",
       "0     1000   52        NaN    Краснодар     Рафаил  Верещагин  2018-05-25   \n",
       "1     1001   41        NaN       Москва       Иван       Ежов  2018-11-01   \n",
       "2     1002   59        NaN  Стерлитамак    Евгений  Абрамович  2018-06-17   \n",
       "3     1003   23        NaN       Москва      Белла   Белякова  2018-08-17   \n",
       "4     1004   68        NaN  Новокузнецк    Татьяна   Авдеенко  2018-05-14   \n",
       "\n",
       "  tariff  \n",
       "0  ultra  \n",
       "1  smart  \n",
       "2  smart  \n",
       "3  ultra  \n",
       "4  ultra  "
      ]
     },
     "metadata": {},
     "output_type": "display_data"
    },
    {
     "data": {
      "text/plain": [
       "'-----------------------------------------------------------------------'"
      ]
     },
     "metadata": {},
     "output_type": "display_data"
    },
    {
     "name": "stdout",
     "output_type": "stream",
     "text": [
      "<class 'pandas.core.frame.DataFrame'>\n",
      "RangeIndex: 202607 entries, 0 to 202606\n",
      "Data columns (total 4 columns):\n",
      " #   Column     Non-Null Count   Dtype  \n",
      "---  ------     --------------   -----  \n",
      " 0   id         202607 non-null  object \n",
      " 1   call_date  202607 non-null  object \n",
      " 2   duration   202607 non-null  float64\n",
      " 3   user_id    202607 non-null  int64  \n",
      "dtypes: float64(1), int64(1), object(2)\n",
      "memory usage: 6.2+ MB\n"
     ]
    },
    {
     "data": {
      "text/plain": [
       "None"
      ]
     },
     "metadata": {},
     "output_type": "display_data"
    },
    {
     "data": {
      "text/html": [
       "<div>\n",
       "<style scoped>\n",
       "    .dataframe tbody tr th:only-of-type {\n",
       "        vertical-align: middle;\n",
       "    }\n",
       "\n",
       "    .dataframe tbody tr th {\n",
       "        vertical-align: top;\n",
       "    }\n",
       "\n",
       "    .dataframe thead th {\n",
       "        text-align: right;\n",
       "    }\n",
       "</style>\n",
       "<table border=\"1\" class=\"dataframe\">\n",
       "  <thead>\n",
       "    <tr style=\"text-align: right;\">\n",
       "      <th></th>\n",
       "      <th>id</th>\n",
       "      <th>call_date</th>\n",
       "      <th>duration</th>\n",
       "      <th>user_id</th>\n",
       "    </tr>\n",
       "  </thead>\n",
       "  <tbody>\n",
       "    <tr>\n",
       "      <th>0</th>\n",
       "      <td>1000_0</td>\n",
       "      <td>2018-07-25</td>\n",
       "      <td>0.00</td>\n",
       "      <td>1000</td>\n",
       "    </tr>\n",
       "    <tr>\n",
       "      <th>1</th>\n",
       "      <td>1000_1</td>\n",
       "      <td>2018-08-17</td>\n",
       "      <td>0.00</td>\n",
       "      <td>1000</td>\n",
       "    </tr>\n",
       "    <tr>\n",
       "      <th>2</th>\n",
       "      <td>1000_2</td>\n",
       "      <td>2018-06-11</td>\n",
       "      <td>2.85</td>\n",
       "      <td>1000</td>\n",
       "    </tr>\n",
       "    <tr>\n",
       "      <th>3</th>\n",
       "      <td>1000_3</td>\n",
       "      <td>2018-09-21</td>\n",
       "      <td>13.80</td>\n",
       "      <td>1000</td>\n",
       "    </tr>\n",
       "    <tr>\n",
       "      <th>4</th>\n",
       "      <td>1000_4</td>\n",
       "      <td>2018-12-15</td>\n",
       "      <td>5.18</td>\n",
       "      <td>1000</td>\n",
       "    </tr>\n",
       "  </tbody>\n",
       "</table>\n",
       "</div>"
      ],
      "text/plain": [
       "       id   call_date  duration  user_id\n",
       "0  1000_0  2018-07-25      0.00     1000\n",
       "1  1000_1  2018-08-17      0.00     1000\n",
       "2  1000_2  2018-06-11      2.85     1000\n",
       "3  1000_3  2018-09-21     13.80     1000\n",
       "4  1000_4  2018-12-15      5.18     1000"
      ]
     },
     "metadata": {},
     "output_type": "display_data"
    },
    {
     "data": {
      "text/plain": [
       "'-----------------------------------------------------------------------'"
      ]
     },
     "metadata": {},
     "output_type": "display_data"
    },
    {
     "name": "stdout",
     "output_type": "stream",
     "text": [
      "<class 'pandas.core.frame.DataFrame'>\n",
      "RangeIndex: 149396 entries, 0 to 149395\n",
      "Data columns (total 5 columns):\n",
      " #   Column        Non-Null Count   Dtype  \n",
      "---  ------        --------------   -----  \n",
      " 0   Unnamed: 0    149396 non-null  int64  \n",
      " 1   id            149396 non-null  object \n",
      " 2   mb_used       149396 non-null  float64\n",
      " 3   session_date  149396 non-null  object \n",
      " 4   user_id       149396 non-null  int64  \n",
      "dtypes: float64(1), int64(2), object(2)\n",
      "memory usage: 5.7+ MB\n"
     ]
    },
    {
     "data": {
      "text/plain": [
       "None"
      ]
     },
     "metadata": {},
     "output_type": "display_data"
    },
    {
     "data": {
      "text/html": [
       "<div>\n",
       "<style scoped>\n",
       "    .dataframe tbody tr th:only-of-type {\n",
       "        vertical-align: middle;\n",
       "    }\n",
       "\n",
       "    .dataframe tbody tr th {\n",
       "        vertical-align: top;\n",
       "    }\n",
       "\n",
       "    .dataframe thead th {\n",
       "        text-align: right;\n",
       "    }\n",
       "</style>\n",
       "<table border=\"1\" class=\"dataframe\">\n",
       "  <thead>\n",
       "    <tr style=\"text-align: right;\">\n",
       "      <th></th>\n",
       "      <th>Unnamed: 0</th>\n",
       "      <th>id</th>\n",
       "      <th>mb_used</th>\n",
       "      <th>session_date</th>\n",
       "      <th>user_id</th>\n",
       "    </tr>\n",
       "  </thead>\n",
       "  <tbody>\n",
       "    <tr>\n",
       "      <th>0</th>\n",
       "      <td>0</td>\n",
       "      <td>1000_0</td>\n",
       "      <td>112.95</td>\n",
       "      <td>2018-11-25</td>\n",
       "      <td>1000</td>\n",
       "    </tr>\n",
       "    <tr>\n",
       "      <th>1</th>\n",
       "      <td>1</td>\n",
       "      <td>1000_1</td>\n",
       "      <td>1052.81</td>\n",
       "      <td>2018-09-07</td>\n",
       "      <td>1000</td>\n",
       "    </tr>\n",
       "    <tr>\n",
       "      <th>2</th>\n",
       "      <td>2</td>\n",
       "      <td>1000_2</td>\n",
       "      <td>1197.26</td>\n",
       "      <td>2018-06-25</td>\n",
       "      <td>1000</td>\n",
       "    </tr>\n",
       "    <tr>\n",
       "      <th>3</th>\n",
       "      <td>3</td>\n",
       "      <td>1000_3</td>\n",
       "      <td>550.27</td>\n",
       "      <td>2018-08-22</td>\n",
       "      <td>1000</td>\n",
       "    </tr>\n",
       "    <tr>\n",
       "      <th>4</th>\n",
       "      <td>4</td>\n",
       "      <td>1000_4</td>\n",
       "      <td>302.56</td>\n",
       "      <td>2018-09-24</td>\n",
       "      <td>1000</td>\n",
       "    </tr>\n",
       "  </tbody>\n",
       "</table>\n",
       "</div>"
      ],
      "text/plain": [
       "   Unnamed: 0      id  mb_used session_date  user_id\n",
       "0           0  1000_0   112.95   2018-11-25     1000\n",
       "1           1  1000_1  1052.81   2018-09-07     1000\n",
       "2           2  1000_2  1197.26   2018-06-25     1000\n",
       "3           3  1000_3   550.27   2018-08-22     1000\n",
       "4           4  1000_4   302.56   2018-09-24     1000"
      ]
     },
     "metadata": {},
     "output_type": "display_data"
    },
    {
     "data": {
      "text/plain": [
       "'-----------------------------------------------------------------------'"
      ]
     },
     "metadata": {},
     "output_type": "display_data"
    },
    {
     "name": "stdout",
     "output_type": "stream",
     "text": [
      "<class 'pandas.core.frame.DataFrame'>\n",
      "RangeIndex: 123036 entries, 0 to 123035\n",
      "Data columns (total 3 columns):\n",
      " #   Column        Non-Null Count   Dtype \n",
      "---  ------        --------------   ----- \n",
      " 0   id            123036 non-null  object\n",
      " 1   message_date  123036 non-null  object\n",
      " 2   user_id       123036 non-null  int64 \n",
      "dtypes: int64(1), object(2)\n",
      "memory usage: 2.8+ MB\n"
     ]
    },
    {
     "data": {
      "text/plain": [
       "None"
      ]
     },
     "metadata": {},
     "output_type": "display_data"
    },
    {
     "data": {
      "text/html": [
       "<div>\n",
       "<style scoped>\n",
       "    .dataframe tbody tr th:only-of-type {\n",
       "        vertical-align: middle;\n",
       "    }\n",
       "\n",
       "    .dataframe tbody tr th {\n",
       "        vertical-align: top;\n",
       "    }\n",
       "\n",
       "    .dataframe thead th {\n",
       "        text-align: right;\n",
       "    }\n",
       "</style>\n",
       "<table border=\"1\" class=\"dataframe\">\n",
       "  <thead>\n",
       "    <tr style=\"text-align: right;\">\n",
       "      <th></th>\n",
       "      <th>id</th>\n",
       "      <th>message_date</th>\n",
       "      <th>user_id</th>\n",
       "    </tr>\n",
       "  </thead>\n",
       "  <tbody>\n",
       "    <tr>\n",
       "      <th>0</th>\n",
       "      <td>1000_0</td>\n",
       "      <td>2018-06-27</td>\n",
       "      <td>1000</td>\n",
       "    </tr>\n",
       "    <tr>\n",
       "      <th>1</th>\n",
       "      <td>1000_1</td>\n",
       "      <td>2018-10-08</td>\n",
       "      <td>1000</td>\n",
       "    </tr>\n",
       "    <tr>\n",
       "      <th>2</th>\n",
       "      <td>1000_2</td>\n",
       "      <td>2018-08-04</td>\n",
       "      <td>1000</td>\n",
       "    </tr>\n",
       "    <tr>\n",
       "      <th>3</th>\n",
       "      <td>1000_3</td>\n",
       "      <td>2018-06-16</td>\n",
       "      <td>1000</td>\n",
       "    </tr>\n",
       "    <tr>\n",
       "      <th>4</th>\n",
       "      <td>1000_4</td>\n",
       "      <td>2018-12-05</td>\n",
       "      <td>1000</td>\n",
       "    </tr>\n",
       "  </tbody>\n",
       "</table>\n",
       "</div>"
      ],
      "text/plain": [
       "       id message_date  user_id\n",
       "0  1000_0   2018-06-27     1000\n",
       "1  1000_1   2018-10-08     1000\n",
       "2  1000_2   2018-08-04     1000\n",
       "3  1000_3   2018-06-16     1000\n",
       "4  1000_4   2018-12-05     1000"
      ]
     },
     "metadata": {},
     "output_type": "display_data"
    },
    {
     "data": {
      "text/plain": [
       "'-----------------------------------------------------------------------'"
      ]
     },
     "metadata": {},
     "output_type": "display_data"
    },
    {
     "name": "stdout",
     "output_type": "stream",
     "text": [
      "<class 'pandas.core.frame.DataFrame'>\n",
      "RangeIndex: 2 entries, 0 to 1\n",
      "Data columns (total 8 columns):\n",
      " #   Column                 Non-Null Count  Dtype \n",
      "---  ------                 --------------  ----- \n",
      " 0   messages_included      2 non-null      int64 \n",
      " 1   mb_per_month_included  2 non-null      int64 \n",
      " 2   minutes_included       2 non-null      int64 \n",
      " 3   rub_monthly_fee        2 non-null      int64 \n",
      " 4   rub_per_gb             2 non-null      int64 \n",
      " 5   rub_per_message        2 non-null      int64 \n",
      " 6   rub_per_minute         2 non-null      int64 \n",
      " 7   tariff_name            2 non-null      object\n",
      "dtypes: int64(7), object(1)\n",
      "memory usage: 256.0+ bytes\n"
     ]
    },
    {
     "data": {
      "text/plain": [
       "None"
      ]
     },
     "metadata": {},
     "output_type": "display_data"
    },
    {
     "data": {
      "text/html": [
       "<div>\n",
       "<style scoped>\n",
       "    .dataframe tbody tr th:only-of-type {\n",
       "        vertical-align: middle;\n",
       "    }\n",
       "\n",
       "    .dataframe tbody tr th {\n",
       "        vertical-align: top;\n",
       "    }\n",
       "\n",
       "    .dataframe thead th {\n",
       "        text-align: right;\n",
       "    }\n",
       "</style>\n",
       "<table border=\"1\" class=\"dataframe\">\n",
       "  <thead>\n",
       "    <tr style=\"text-align: right;\">\n",
       "      <th></th>\n",
       "      <th>messages_included</th>\n",
       "      <th>mb_per_month_included</th>\n",
       "      <th>minutes_included</th>\n",
       "      <th>rub_monthly_fee</th>\n",
       "      <th>rub_per_gb</th>\n",
       "      <th>rub_per_message</th>\n",
       "      <th>rub_per_minute</th>\n",
       "      <th>tariff_name</th>\n",
       "    </tr>\n",
       "  </thead>\n",
       "  <tbody>\n",
       "    <tr>\n",
       "      <th>0</th>\n",
       "      <td>50</td>\n",
       "      <td>15360</td>\n",
       "      <td>500</td>\n",
       "      <td>550</td>\n",
       "      <td>200</td>\n",
       "      <td>3</td>\n",
       "      <td>3</td>\n",
       "      <td>smart</td>\n",
       "    </tr>\n",
       "    <tr>\n",
       "      <th>1</th>\n",
       "      <td>1000</td>\n",
       "      <td>30720</td>\n",
       "      <td>3000</td>\n",
       "      <td>1950</td>\n",
       "      <td>150</td>\n",
       "      <td>1</td>\n",
       "      <td>1</td>\n",
       "      <td>ultra</td>\n",
       "    </tr>\n",
       "  </tbody>\n",
       "</table>\n",
       "</div>"
      ],
      "text/plain": [
       "   messages_included  mb_per_month_included  minutes_included  \\\n",
       "0                 50                  15360               500   \n",
       "1               1000                  30720              3000   \n",
       "\n",
       "   rub_monthly_fee  rub_per_gb  rub_per_message  rub_per_minute tariff_name  \n",
       "0              550         200                3               3       smart  \n",
       "1             1950         150                1               1       ultra  "
      ]
     },
     "metadata": {},
     "output_type": "display_data"
    }
   ],
   "source": [
    "# Получим первичную информацию о данных, так как в нашем распоряжении 5 датасетов автоматизируем обзор данных с помощью цикла \n",
    "calls = pd.read_csv(\"/datasets/calls.csv\")\n",
    "internet = pd.read_csv(\"/datasets/internet.csv\")\n",
    "messages = pd.read_csv(\"/datasets/messages.csv\")\n",
    "tariffs = pd.read_csv(\"/datasets/tariffs.csv\")\n",
    "users = pd.read_csv(\"/datasets/users.csv\")\n",
    "\n",
    "for df in [users, calls, internet, messages, tariffs]:\n",
    "    display('-----------------------------------------------------------------------')\n",
    "    display(df.info())\n",
    "    display(df.head())"
   ]
  },
  {
   "cell_type": "markdown",
   "metadata": {},
   "source": [
    "**Выводы:**\n",
    "\n",
    "В нашем распоряжении 5 таблиц с данными, в которых содержится информация о пользователях, звонках, сообщениях, интернет-сессиях и тарифах. В ходе первичного рассмотрения данных можно выделить несколько моментов:\n",
    " 1) наименования столбцов стилистически корректны\n",
    " \n",
    " 2) пропуски в данных отсутствуют, исключение - столбец `churn_date`, но в документации сказано, что в нём хранится информация о дате прекращения пользования тарифом, и если значение пропущено, то тариф ещё действовал на момент выгрузки данных, поэтому тут ошибок нет.\n",
    " \n",
    " 3) необходимо изменить тип данных в столбцах, где содержатся даты\n",
    " \n",
    " 4) в таблице `internet` есть лишний безымянный столбец\n",
    " \n",
    " 5) в таблице `tariffs` объем бесплатного интернет-трафика представлен в мегабайтах, необходимо перевести в гигабайты согласно описанию тарифов (тариф «Ультра» - 30 Гб, тариф «Смарт» - 15 Гб)"
   ]
  },
  {
   "cell_type": "markdown",
   "metadata": {},
   "source": [
    "## Предобработка данных"
   ]
  },
  {
   "cell_type": "markdown",
   "metadata": {},
   "source": [
    "### Изменение типов данных"
   ]
  },
  {
   "cell_type": "code",
   "execution_count": 3,
   "metadata": {},
   "outputs": [],
   "source": [
    "# Преобразуем тип данных в столбцах с датой\n",
    "users['churn_date'] = pd.to_datetime(users['churn_date'], format=\"%Y-%m-%dT%H:%M:%S\")\n",
    "users['reg_date'] = pd.to_datetime(users['reg_date'], format=\"%Y-%m-%dT%H:%M:%S\")\n",
    "calls['call_date'] = pd.to_datetime(calls['call_date'], format=\"%Y-%m-%dT%H:%M:%S\")\n",
    "internet['session_date'] = pd.to_datetime(internet['session_date'], format=\"%Y-%m-%dT%H:%M:%S\")\n",
    "messages['message_date'] = pd.to_datetime(messages['message_date'], format=\"%Y-%m-%dT%H:%M:%S\")"
   ]
  },
  {
   "cell_type": "code",
   "execution_count": 4,
   "metadata": {},
   "outputs": [],
   "source": [
    "#Так в дальнейшем при анализе нам потребуется информация только о месяце, добавим его в отдельный столбец в таблицы calls, internet и messages\n",
    "calls['month'] = calls['call_date'].astype('datetime64[M]')\n",
    "internet['month'] = internet['session_date'].astype('datetime64[M]')\n",
    "messages['month'] = messages['message_date'].astype('datetime64[M]')"
   ]
  },
  {
   "cell_type": "markdown",
   "metadata": {},
   "source": [
    "В описании к проекту также сказано, что «Мегалайн» всегда округляет секунды до минут, а мегабайты — до гигабайт. Данные в таблицах же представлены в секундах и мегабайтах. По столбцу `duration` преобразуем данные и приведем к нужному типу на этом этапе, по столбцу `mb_used` сделаем это чуть позже, после группировки данных."
   ]
  },
  {
   "cell_type": "code",
   "execution_count": 5,
   "metadata": {},
   "outputs": [],
   "source": [
    "calls['duration'] = np.ceil(calls['duration']).astype(int)"
   ]
  },
  {
   "cell_type": "code",
   "execution_count": 6,
   "metadata": {},
   "outputs": [
    {
     "data": {
      "text/plain": [
       "'-----------------------------------------------------------------------'"
      ]
     },
     "metadata": {},
     "output_type": "display_data"
    },
    {
     "name": "stdout",
     "output_type": "stream",
     "text": [
      "<class 'pandas.core.frame.DataFrame'>\n",
      "RangeIndex: 500 entries, 0 to 499\n",
      "Data columns (total 8 columns):\n",
      " #   Column      Non-Null Count  Dtype         \n",
      "---  ------      --------------  -----         \n",
      " 0   user_id     500 non-null    int64         \n",
      " 1   age         500 non-null    int64         \n",
      " 2   churn_date  38 non-null     datetime64[ns]\n",
      " 3   city        500 non-null    object        \n",
      " 4   first_name  500 non-null    object        \n",
      " 5   last_name   500 non-null    object        \n",
      " 6   reg_date    500 non-null    datetime64[ns]\n",
      " 7   tariff      500 non-null    object        \n",
      "dtypes: datetime64[ns](2), int64(2), object(4)\n",
      "memory usage: 31.4+ KB\n"
     ]
    },
    {
     "data": {
      "text/plain": [
       "None"
      ]
     },
     "metadata": {},
     "output_type": "display_data"
    },
    {
     "data": {
      "text/plain": [
       "'-----------------------------------------------------------------------'"
      ]
     },
     "metadata": {},
     "output_type": "display_data"
    },
    {
     "name": "stdout",
     "output_type": "stream",
     "text": [
      "<class 'pandas.core.frame.DataFrame'>\n",
      "RangeIndex: 202607 entries, 0 to 202606\n",
      "Data columns (total 5 columns):\n",
      " #   Column     Non-Null Count   Dtype         \n",
      "---  ------     --------------   -----         \n",
      " 0   id         202607 non-null  object        \n",
      " 1   call_date  202607 non-null  datetime64[ns]\n",
      " 2   duration   202607 non-null  int64         \n",
      " 3   user_id    202607 non-null  int64         \n",
      " 4   month      202607 non-null  datetime64[ns]\n",
      "dtypes: datetime64[ns](2), int64(2), object(1)\n",
      "memory usage: 7.7+ MB\n"
     ]
    },
    {
     "data": {
      "text/plain": [
       "None"
      ]
     },
     "metadata": {},
     "output_type": "display_data"
    },
    {
     "data": {
      "text/plain": [
       "'-----------------------------------------------------------------------'"
      ]
     },
     "metadata": {},
     "output_type": "display_data"
    },
    {
     "name": "stdout",
     "output_type": "stream",
     "text": [
      "<class 'pandas.core.frame.DataFrame'>\n",
      "RangeIndex: 149396 entries, 0 to 149395\n",
      "Data columns (total 6 columns):\n",
      " #   Column        Non-Null Count   Dtype         \n",
      "---  ------        --------------   -----         \n",
      " 0   Unnamed: 0    149396 non-null  int64         \n",
      " 1   id            149396 non-null  object        \n",
      " 2   mb_used       149396 non-null  float64       \n",
      " 3   session_date  149396 non-null  datetime64[ns]\n",
      " 4   user_id       149396 non-null  int64         \n",
      " 5   month         149396 non-null  datetime64[ns]\n",
      "dtypes: datetime64[ns](2), float64(1), int64(2), object(1)\n",
      "memory usage: 6.8+ MB\n"
     ]
    },
    {
     "data": {
      "text/plain": [
       "None"
      ]
     },
     "metadata": {},
     "output_type": "display_data"
    },
    {
     "data": {
      "text/plain": [
       "'-----------------------------------------------------------------------'"
      ]
     },
     "metadata": {},
     "output_type": "display_data"
    },
    {
     "name": "stdout",
     "output_type": "stream",
     "text": [
      "<class 'pandas.core.frame.DataFrame'>\n",
      "RangeIndex: 123036 entries, 0 to 123035\n",
      "Data columns (total 4 columns):\n",
      " #   Column        Non-Null Count   Dtype         \n",
      "---  ------        --------------   -----         \n",
      " 0   id            123036 non-null  object        \n",
      " 1   message_date  123036 non-null  datetime64[ns]\n",
      " 2   user_id       123036 non-null  int64         \n",
      " 3   month         123036 non-null  datetime64[ns]\n",
      "dtypes: datetime64[ns](2), int64(1), object(1)\n",
      "memory usage: 3.8+ MB\n"
     ]
    },
    {
     "data": {
      "text/plain": [
       "None"
      ]
     },
     "metadata": {},
     "output_type": "display_data"
    }
   ],
   "source": [
    "# Проверка\n",
    "for df in [users, calls, internet, messages]:\n",
    "    display('-----------------------------------------------------------------------')\n",
    "    display(df.info())"
   ]
  },
  {
   "cell_type": "markdown",
   "metadata": {},
   "source": [
    "### Проверка данных на дубликаты"
   ]
  },
  {
   "cell_type": "code",
   "execution_count": 7,
   "metadata": {},
   "outputs": [
    {
     "data": {
      "text/plain": [
       "0"
      ]
     },
     "metadata": {},
     "output_type": "display_data"
    },
    {
     "data": {
      "text/plain": [
       "0"
      ]
     },
     "metadata": {},
     "output_type": "display_data"
    },
    {
     "data": {
      "text/plain": [
       "0"
      ]
     },
     "metadata": {},
     "output_type": "display_data"
    },
    {
     "data": {
      "text/plain": [
       "0"
      ]
     },
     "metadata": {},
     "output_type": "display_data"
    }
   ],
   "source": [
    "# Проверим данные на явные дубликаты\n",
    "for df in [users, calls, internet, messages]:\n",
    "    display(df.duplicated().sum())"
   ]
  },
  {
   "cell_type": "markdown",
   "metadata": {},
   "source": [
    "Явных дубликатов нигде нет."
   ]
  },
  {
   "cell_type": "markdown",
   "metadata": {},
   "source": [
    "### Проверка данных на аномалии"
   ]
  },
  {
   "cell_type": "code",
   "execution_count": 8,
   "metadata": {},
   "outputs": [
    {
     "data": {
      "text/plain": [
       "count    500.00000\n",
       "mean      46.58800\n",
       "std       16.66763\n",
       "min       18.00000\n",
       "25%       32.00000\n",
       "50%       46.00000\n",
       "75%       62.00000\n",
       "max       75.00000\n",
       "Name: age, dtype: float64"
      ]
     },
     "execution_count": 8,
     "metadata": {},
     "output_type": "execute_result"
    }
   ],
   "source": [
    "# Данные в столбце user_id — уникальный идентификатор пользователя, при проверке мы не будем использовать этот столбец.\n",
    "# Проверим данные из таблицы users, числовые данные содержаться только в столбце age\n",
    "users['age'].describe()"
   ]
  },
  {
   "cell_type": "markdown",
   "metadata": {},
   "source": [
    "Аномалий в данных нет."
   ]
  },
  {
   "cell_type": "code",
   "execution_count": 9,
   "metadata": {},
   "outputs": [
    {
     "data": {
      "text/plain": [
       "count    202607.000000\n",
       "mean          7.158198\n",
       "std           5.959173\n",
       "min           0.000000\n",
       "25%           2.000000\n",
       "50%           6.000000\n",
       "75%          11.000000\n",
       "max          38.000000\n",
       "Name: duration, dtype: float64"
      ]
     },
     "execution_count": 9,
     "metadata": {},
     "output_type": "execute_result"
    }
   ],
   "source": [
    "# Проверим данные из таблицы calls, числовые данные содержаться только в столбце duration\n",
    "calls['duration'].describe()"
   ]
  },
  {
   "cell_type": "code",
   "execution_count": 10,
   "metadata": {},
   "outputs": [
    {
     "data": {
      "text/plain": [
       "Text(0, 0.5, 'calls')"
      ]
     },
     "execution_count": 10,
     "metadata": {},
     "output_type": "execute_result"
    },
    {
     "data": {
      "image/png": "[encoded data removed]",
      "text/plain": [
       "<Figure size 432x288 with 1 Axes>"
      ]
     },
     "metadata": {
      "needs_background": "light"
     },
     "output_type": "display_data"
    }
   ],
   "source": [
    "calls['duration'].hist(bins = 100, range = (0,40))\n",
    "plt.xlabel('duration (minutes)')\n",
    "plt.ylabel('calls')"
   ]
  },
  {
   "cell_type": "markdown",
   "metadata": {},
   "source": [
    "Звонки с нулевой продолжительностью - это не ошибка, так как нулями обозначены пропущенные звонки. В целом данные по столбцу правдоподобны, аномалий нет."
   ]
  },
  {
   "cell_type": "code",
   "execution_count": 11,
   "metadata": {},
   "outputs": [
    {
     "data": {
      "text/plain": [
       "count    149396.000000\n",
       "mean        370.192426\n",
       "std         278.300951\n",
       "min           0.000000\n",
       "25%         138.187500\n",
       "50%         348.015000\n",
       "75%         559.552500\n",
       "max        1724.830000\n",
       "Name: mb_used, dtype: float64"
      ]
     },
     "execution_count": 11,
     "metadata": {},
     "output_type": "execute_result"
    }
   ],
   "source": [
    "# В таблице internet есть лишний безымянный столбец, в котором задублированы индексы  - удалим его\n",
    "internet = internet.drop('Unnamed: 0', 1)\n",
    "# Выведем информацию по столбцу mb_used\n",
    "internet['mb_used'].describe()"
   ]
  },
  {
   "cell_type": "markdown",
   "metadata": {},
   "source": [
    "Аномалий в данных нет."
   ]
  },
  {
   "cell_type": "markdown",
   "metadata": {},
   "source": [
    "### Дополнительные расчёты"
   ]
  },
  {
   "cell_type": "markdown",
   "metadata": {},
   "source": [
    "Для каждого пользователя рассчитаем:\n",
    "\n",
    " - количество сделанных звонков и израсходованных минут разговора по месяцам;\n",
    " - количество отправленных сообщений по месяцам;\n",
    " - объем израсходованного интернет-трафика по месяцам;\n",
    " - помесячную выручку с каждого пользователя"
   ]
  },
  {
   "cell_type": "code",
   "execution_count": 12,
   "metadata": {},
   "outputs": [
    {
     "data": {
      "text/html": [
       "<div>\n",
       "<style scoped>\n",
       "    .dataframe tbody tr th:only-of-type {\n",
       "        vertical-align: middle;\n",
       "    }\n",
       "\n",
       "    .dataframe tbody tr th {\n",
       "        vertical-align: top;\n",
       "    }\n",
       "\n",
       "    .dataframe thead th {\n",
       "        text-align: right;\n",
       "    }\n",
       "</style>\n",
       "<table border=\"1\" class=\"dataframe\">\n",
       "  <thead>\n",
       "    <tr style=\"text-align: right;\">\n",
       "      <th></th>\n",
       "      <th>user_id</th>\n",
       "      <th>month</th>\n",
       "      <th>calls_count</th>\n",
       "      <th>calls_total_min</th>\n",
       "      <th>messages_count</th>\n",
       "      <th>internet_total_gb</th>\n",
       "      <th>city</th>\n",
       "      <th>tariff</th>\n",
       "      <th>messages_included</th>\n",
       "      <th>minutes_included</th>\n",
       "      <th>rub_monthly_fee</th>\n",
       "      <th>rub_per_gb</th>\n",
       "      <th>rub_per_message</th>\n",
       "      <th>rub_per_minute</th>\n",
       "      <th>gb_per_month_included</th>\n",
       "      <th>income</th>\n",
       "    </tr>\n",
       "  </thead>\n",
       "  <tbody>\n",
       "    <tr>\n",
       "      <th>0</th>\n",
       "      <td>1000</td>\n",
       "      <td>2018-05-01</td>\n",
       "      <td>22.0</td>\n",
       "      <td>159.0</td>\n",
       "      <td>22.0</td>\n",
       "      <td>3.0</td>\n",
       "      <td>Краснодар</td>\n",
       "      <td>ultra</td>\n",
       "      <td>1000</td>\n",
       "      <td>3000</td>\n",
       "      <td>1950</td>\n",
       "      <td>150</td>\n",
       "      <td>1</td>\n",
       "      <td>1</td>\n",
       "      <td>30</td>\n",
       "      <td>1950.0</td>\n",
       "    </tr>\n",
       "    <tr>\n",
       "      <th>1</th>\n",
       "      <td>1000</td>\n",
       "      <td>2018-06-01</td>\n",
       "      <td>43.0</td>\n",
       "      <td>172.0</td>\n",
       "      <td>60.0</td>\n",
       "      <td>23.0</td>\n",
       "      <td>Краснодар</td>\n",
       "      <td>ultra</td>\n",
       "      <td>1000</td>\n",
       "      <td>3000</td>\n",
       "      <td>1950</td>\n",
       "      <td>150</td>\n",
       "      <td>1</td>\n",
       "      <td>1</td>\n",
       "      <td>30</td>\n",
       "      <td>1950.0</td>\n",
       "    </tr>\n",
       "    <tr>\n",
       "      <th>2</th>\n",
       "      <td>1000</td>\n",
       "      <td>2018-07-01</td>\n",
       "      <td>47.0</td>\n",
       "      <td>340.0</td>\n",
       "      <td>75.0</td>\n",
       "      <td>14.0</td>\n",
       "      <td>Краснодар</td>\n",
       "      <td>ultra</td>\n",
       "      <td>1000</td>\n",
       "      <td>3000</td>\n",
       "      <td>1950</td>\n",
       "      <td>150</td>\n",
       "      <td>1</td>\n",
       "      <td>1</td>\n",
       "      <td>30</td>\n",
       "      <td>1950.0</td>\n",
       "    </tr>\n",
       "    <tr>\n",
       "      <th>3</th>\n",
       "      <td>1000</td>\n",
       "      <td>2018-08-01</td>\n",
       "      <td>52.0</td>\n",
       "      <td>408.0</td>\n",
       "      <td>81.0</td>\n",
       "      <td>14.0</td>\n",
       "      <td>Краснодар</td>\n",
       "      <td>ultra</td>\n",
       "      <td>1000</td>\n",
       "      <td>3000</td>\n",
       "      <td>1950</td>\n",
       "      <td>150</td>\n",
       "      <td>1</td>\n",
       "      <td>1</td>\n",
       "      <td>30</td>\n",
       "      <td>1950.0</td>\n",
       "    </tr>\n",
       "    <tr>\n",
       "      <th>4</th>\n",
       "      <td>1000</td>\n",
       "      <td>2018-09-01</td>\n",
       "      <td>58.0</td>\n",
       "      <td>466.0</td>\n",
       "      <td>57.0</td>\n",
       "      <td>15.0</td>\n",
       "      <td>Краснодар</td>\n",
       "      <td>ultra</td>\n",
       "      <td>1000</td>\n",
       "      <td>3000</td>\n",
       "      <td>1950</td>\n",
       "      <td>150</td>\n",
       "      <td>1</td>\n",
       "      <td>1</td>\n",
       "      <td>30</td>\n",
       "      <td>1950.0</td>\n",
       "    </tr>\n",
       "    <tr>\n",
       "      <th>...</th>\n",
       "      <td>...</td>\n",
       "      <td>...</td>\n",
       "      <td>...</td>\n",
       "      <td>...</td>\n",
       "      <td>...</td>\n",
       "      <td>...</td>\n",
       "      <td>...</td>\n",
       "      <td>...</td>\n",
       "      <td>...</td>\n",
       "      <td>...</td>\n",
       "      <td>...</td>\n",
       "      <td>...</td>\n",
       "      <td>...</td>\n",
       "      <td>...</td>\n",
       "      <td>...</td>\n",
       "      <td>...</td>\n",
       "    </tr>\n",
       "    <tr>\n",
       "      <th>3209</th>\n",
       "      <td>1489</td>\n",
       "      <td>2018-09-01</td>\n",
       "      <td>NaN</td>\n",
       "      <td>NaN</td>\n",
       "      <td>32.0</td>\n",
       "      <td>17.0</td>\n",
       "      <td>Санкт-Петербург</td>\n",
       "      <td>smart</td>\n",
       "      <td>50</td>\n",
       "      <td>500</td>\n",
       "      <td>550</td>\n",
       "      <td>200</td>\n",
       "      <td>3</td>\n",
       "      <td>3</td>\n",
       "      <td>15</td>\n",
       "      <td>950.0</td>\n",
       "    </tr>\n",
       "    <tr>\n",
       "      <th>3210</th>\n",
       "      <td>1489</td>\n",
       "      <td>2018-10-01</td>\n",
       "      <td>NaN</td>\n",
       "      <td>NaN</td>\n",
       "      <td>21.0</td>\n",
       "      <td>20.0</td>\n",
       "      <td>Санкт-Петербург</td>\n",
       "      <td>smart</td>\n",
       "      <td>50</td>\n",
       "      <td>500</td>\n",
       "      <td>550</td>\n",
       "      <td>200</td>\n",
       "      <td>3</td>\n",
       "      <td>3</td>\n",
       "      <td>15</td>\n",
       "      <td>1550.0</td>\n",
       "    </tr>\n",
       "    <tr>\n",
       "      <th>3211</th>\n",
       "      <td>1489</td>\n",
       "      <td>2018-11-01</td>\n",
       "      <td>NaN</td>\n",
       "      <td>NaN</td>\n",
       "      <td>20.0</td>\n",
       "      <td>18.0</td>\n",
       "      <td>Санкт-Петербург</td>\n",
       "      <td>smart</td>\n",
       "      <td>50</td>\n",
       "      <td>500</td>\n",
       "      <td>550</td>\n",
       "      <td>200</td>\n",
       "      <td>3</td>\n",
       "      <td>3</td>\n",
       "      <td>15</td>\n",
       "      <td>1150.0</td>\n",
       "    </tr>\n",
       "    <tr>\n",
       "      <th>3212</th>\n",
       "      <td>1489</td>\n",
       "      <td>2018-12-01</td>\n",
       "      <td>NaN</td>\n",
       "      <td>NaN</td>\n",
       "      <td>35.0</td>\n",
       "      <td>17.0</td>\n",
       "      <td>Санкт-Петербург</td>\n",
       "      <td>smart</td>\n",
       "      <td>50</td>\n",
       "      <td>500</td>\n",
       "      <td>550</td>\n",
       "      <td>200</td>\n",
       "      <td>3</td>\n",
       "      <td>3</td>\n",
       "      <td>15</td>\n",
       "      <td>950.0</td>\n",
       "    </tr>\n",
       "    <tr>\n",
       "      <th>3213</th>\n",
       "      <td>1476</td>\n",
       "      <td>2018-04-01</td>\n",
       "      <td>NaN</td>\n",
       "      <td>NaN</td>\n",
       "      <td>NaN</td>\n",
       "      <td>1.0</td>\n",
       "      <td>Москва</td>\n",
       "      <td>ultra</td>\n",
       "      <td>1000</td>\n",
       "      <td>3000</td>\n",
       "      <td>1950</td>\n",
       "      <td>150</td>\n",
       "      <td>1</td>\n",
       "      <td>1</td>\n",
       "      <td>30</td>\n",
       "      <td>1950.0</td>\n",
       "    </tr>\n",
       "  </tbody>\n",
       "</table>\n",
       "<p>3214 rows × 16 columns</p>\n",
       "</div>"
      ],
      "text/plain": [
       "      user_id      month  calls_count  calls_total_min  messages_count  \\\n",
       "0        1000 2018-05-01         22.0            159.0            22.0   \n",
       "1        1000 2018-06-01         43.0            172.0            60.0   \n",
       "2        1000 2018-07-01         47.0            340.0            75.0   \n",
       "3        1000 2018-08-01         52.0            408.0            81.0   \n",
       "4        1000 2018-09-01         58.0            466.0            57.0   \n",
       "...       ...        ...          ...              ...             ...   \n",
       "3209     1489 2018-09-01          NaN              NaN            32.0   \n",
       "3210     1489 2018-10-01          NaN              NaN            21.0   \n",
       "3211     1489 2018-11-01          NaN              NaN            20.0   \n",
       "3212     1489 2018-12-01          NaN              NaN            35.0   \n",
       "3213     1476 2018-04-01          NaN              NaN             NaN   \n",
       "\n",
       "      internet_total_gb             city tariff  messages_included  \\\n",
       "0                   3.0        Краснодар  ultra               1000   \n",
       "1                  23.0        Краснодар  ultra               1000   \n",
       "2                  14.0        Краснодар  ultra               1000   \n",
       "3                  14.0        Краснодар  ultra               1000   \n",
       "4                  15.0        Краснодар  ultra               1000   \n",
       "...                 ...              ...    ...                ...   \n",
       "3209               17.0  Санкт-Петербург  smart                 50   \n",
       "3210               20.0  Санкт-Петербург  smart                 50   \n",
       "3211               18.0  Санкт-Петербург  smart                 50   \n",
       "3212               17.0  Санкт-Петербург  smart                 50   \n",
       "3213                1.0           Москва  ultra               1000   \n",
       "\n",
       "      minutes_included  rub_monthly_fee  rub_per_gb  rub_per_message  \\\n",
       "0                 3000             1950         150                1   \n",
       "1                 3000             1950         150                1   \n",
       "2                 3000             1950         150                1   \n",
       "3                 3000             1950         150                1   \n",
       "4                 3000             1950         150                1   \n",
       "...                ...              ...         ...              ...   \n",
       "3209               500              550         200                3   \n",
       "3210               500              550         200                3   \n",
       "3211               500              550         200                3   \n",
       "3212               500              550         200                3   \n",
       "3213              3000             1950         150                1   \n",
       "\n",
       "      rub_per_minute  gb_per_month_included  income  \n",
       "0                  1                     30  1950.0  \n",
       "1                  1                     30  1950.0  \n",
       "2                  1                     30  1950.0  \n",
       "3                  1                     30  1950.0  \n",
       "4                  1                     30  1950.0  \n",
       "...              ...                    ...     ...  \n",
       "3209               3                     15   950.0  \n",
       "3210               3                     15  1550.0  \n",
       "3211               3                     15  1150.0  \n",
       "3212               3                     15   950.0  \n",
       "3213               1                     30  1950.0  \n",
       "\n",
       "[3214 rows x 16 columns]"
      ]
     },
     "execution_count": 12,
     "metadata": {},
     "output_type": "execute_result"
    }
   ],
   "source": [
    "# Посчитаем количество сделанных звонков и израсходованных минут разговора по месяцам\n",
    "user_calls = calls.groupby(['user_id', 'month'])['duration'].agg(['count','sum']).reset_index().rename(columns={'count':'calls_count','sum':'calls_total_min'})\n",
    "# Посчитаем количество отправленных сообщений по месяцам\n",
    "user_messages = messages.groupby(['user_id', 'month'])['id'].count().reset_index().rename(columns={'id':'messages_count'})\n",
    "# Посчитаем объем израсходованного интернет-трафика по месяцам\n",
    "user_internet = internet.groupby(['user_id', 'month'])['mb_used'].sum().reset_index().rename(columns={'mb_used':'internet_total_mb'})\n",
    "# Переведем данные по интернет-трафику в гигабайты\n",
    "user_internet['internet_total_gb']=np.ceil(user_internet['internet_total_mb']/1024).astype(int)\n",
    "# Посчитаем помесячную выручку с каждого пользователя:\n",
    "# 1) Объединим данные в одну таблицу\n",
    "user_costs = user_calls.merge(user_messages, on=['user_id','month'], how='outer')\n",
    "user_costs = user_costs.merge(user_internet, on=['user_id','month'], how='outer')\n",
    "user_costs = user_costs.merge(users, on='user_id', how='left')\n",
    "# 2) В таблице tariffs переименуем столбец tariff_name в tariff\n",
    "tariffs = tariffs.rename(columns={'tariff_name':'tariff'})\n",
    "# 3) В таблице tariffs переведем мегабайты в гигабайты \n",
    "tariffs['gb_per_month_included']=np.ceil(tariffs['mb_per_month_included']/1024).astype(int)\n",
    "user_costs = user_costs.merge(tariffs, on='tariff', how='left')\n",
    "# 4) Удалим лишние столбцы\n",
    "user_costs = user_costs.drop(['internet_total_mb','first_name','last_name','churn_date','reg_date','age','mb_per_month_included'],axis = 1)\n",
    "# 5) Рассчитаем помесячную выручку с каждого пользователя\n",
    "def income (column):\n",
    "    calls_cost = (column['calls_total_min'] - column['minutes_included'])*column['rub_per_minute']\n",
    "    message_cost = (column['messages_count'] - column['messages_included'])*column['rub_per_message']\n",
    "    internet_cost = (column['internet_total_gb'] - column['gb_per_month_included'])*column['rub_per_gb']\n",
    "    \n",
    "    total = 0 \n",
    "    for i in [calls_cost, message_cost, internet_cost]:\n",
    "        if i > 0:\n",
    "            total += i\n",
    "    return total\n",
    "\n",
    "user_costs['income'] = (user_costs.apply(income, axis=1)+user_costs['rub_monthly_fee'])\n",
    "user_costs\n"
   ]
  },
  {
   "cell_type": "code",
   "execution_count": 13,
   "metadata": {},
   "outputs": [
    {
     "name": "stdout",
     "output_type": "stream",
     "text": [
      "<class 'pandas.core.frame.DataFrame'>\n",
      "Int64Index: 3214 entries, 0 to 3213\n",
      "Data columns (total 16 columns):\n",
      " #   Column                 Non-Null Count  Dtype         \n",
      "---  ------                 --------------  -----         \n",
      " 0   user_id                3214 non-null   int64         \n",
      " 1   month                  3214 non-null   datetime64[ns]\n",
      " 2   calls_count            3174 non-null   float64       \n",
      " 3   calls_total_min        3174 non-null   float64       \n",
      " 4   messages_count         2717 non-null   float64       \n",
      " 5   internet_total_gb      3203 non-null   float64       \n",
      " 6   city                   3214 non-null   object        \n",
      " 7   tariff                 3214 non-null   object        \n",
      " 8   messages_included      3214 non-null   int64         \n",
      " 9   minutes_included       3214 non-null   int64         \n",
      " 10  rub_monthly_fee        3214 non-null   int64         \n",
      " 11  rub_per_gb             3214 non-null   int64         \n",
      " 12  rub_per_message        3214 non-null   int64         \n",
      " 13  rub_per_minute         3214 non-null   int64         \n",
      " 14  gb_per_month_included  3214 non-null   int64         \n",
      " 15  income                 3214 non-null   float64       \n",
      "dtypes: datetime64[ns](1), float64(5), int64(8), object(2)\n",
      "memory usage: 426.9+ KB\n"
     ]
    }
   ],
   "source": [
    "# Получим информацию по новой таблице\n",
    "user_costs.info()"
   ]
  },
  {
   "cell_type": "markdown",
   "metadata": {},
   "source": [
    "1) Мы видим, что в таблице есть строки с NaN, можно предположить, что клиенты в данном месяце не пользовались услугами, заменим NaN на 0.\n",
    "\n",
    "2) Заменим тип данных float64 на int64"
   ]
  },
  {
   "cell_type": "code",
   "execution_count": 14,
   "metadata": {},
   "outputs": [],
   "source": [
    "column = ['calls_count', 'calls_total_min', 'messages_count','internet_total_gb','income']\n",
    "\n",
    "for i in column:\n",
    "    user_costs[i] = user_costs[i].fillna(0).astype('int')"
   ]
  },
  {
   "cell_type": "code",
   "execution_count": 15,
   "metadata": {},
   "outputs": [
    {
     "name": "stdout",
     "output_type": "stream",
     "text": [
      "<class 'pandas.core.frame.DataFrame'>\n",
      "Int64Index: 3214 entries, 0 to 3213\n",
      "Data columns (total 16 columns):\n",
      " #   Column                 Non-Null Count  Dtype         \n",
      "---  ------                 --------------  -----         \n",
      " 0   user_id                3214 non-null   int64         \n",
      " 1   month                  3214 non-null   datetime64[ns]\n",
      " 2   calls_count            3214 non-null   int64         \n",
      " 3   calls_total_min        3214 non-null   int64         \n",
      " 4   messages_count         3214 non-null   int64         \n",
      " 5   internet_total_gb      3214 non-null   int64         \n",
      " 6   city                   3214 non-null   object        \n",
      " 7   tariff                 3214 non-null   object        \n",
      " 8   messages_included      3214 non-null   int64         \n",
      " 9   minutes_included       3214 non-null   int64         \n",
      " 10  rub_monthly_fee        3214 non-null   int64         \n",
      " 11  rub_per_gb             3214 non-null   int64         \n",
      " 12  rub_per_message        3214 non-null   int64         \n",
      " 13  rub_per_minute         3214 non-null   int64         \n",
      " 14  gb_per_month_included  3214 non-null   int64         \n",
      " 15  income                 3214 non-null   int64         \n",
      "dtypes: datetime64[ns](1), int64(13), object(2)\n",
      "memory usage: 426.9+ KB\n"
     ]
    }
   ],
   "source": [
    "# Проверка\n",
    "user_costs.info()"
   ]
  },
  {
   "cell_type": "markdown",
   "metadata": {},
   "source": [
    "Мы привели данные к нужным типам, проверили, что в данных нет дубликатов и аномалий, для дальнейшего анализа рассчитали:\n",
    "\n",
    " - количество сделанных звонков и израсходованных минут разговора по месяцам\n",
    " - количество отправленных сообщений по месяцам\n",
    " - объем израсходованного интернет-трафика по месяцам\n",
    " - помесячную выручку с каждого пользователя"
   ]
  },
  {
   "cell_type": "markdown",
   "metadata": {},
   "source": [
    "## Анализ данных"
   ]
  },
  {
   "cell_type": "markdown",
   "metadata": {},
   "source": [
    "### Расчёт общих показателей по тарифам за месяц"
   ]
  },
  {
   "cell_type": "markdown",
   "metadata": {},
   "source": [
    "Найдём сколько минут, сообщений и какой объём интернет-трафика требуется пользователям каждого тарифа в месяц"
   ]
  },
  {
   "cell_type": "code",
   "execution_count": 16,
   "metadata": {},
   "outputs": [
    {
     "data": {
      "text/html": [
       "<div>\n",
       "<style scoped>\n",
       "    .dataframe tbody tr th:only-of-type {\n",
       "        vertical-align: middle;\n",
       "    }\n",
       "\n",
       "    .dataframe tbody tr th {\n",
       "        vertical-align: top;\n",
       "    }\n",
       "\n",
       "    .dataframe thead th {\n",
       "        text-align: right;\n",
       "    }\n",
       "</style>\n",
       "<table border=\"1\" class=\"dataframe\">\n",
       "  <thead>\n",
       "    <tr style=\"text-align: right;\">\n",
       "      <th></th>\n",
       "      <th>tariff</th>\n",
       "      <th>month</th>\n",
       "      <th>calls_total_min</th>\n",
       "      <th>messages_count</th>\n",
       "      <th>internet_total_gb</th>\n",
       "    </tr>\n",
       "  </thead>\n",
       "  <tbody>\n",
       "    <tr>\n",
       "      <th>0</th>\n",
       "      <td>smart</td>\n",
       "      <td>2018-01-01</td>\n",
       "      <td>6931</td>\n",
       "      <td>620</td>\n",
       "      <td>297</td>\n",
       "    </tr>\n",
       "    <tr>\n",
       "      <th>1</th>\n",
       "      <td>smart</td>\n",
       "      <td>2018-02-01</td>\n",
       "      <td>17324</td>\n",
       "      <td>1397</td>\n",
       "      <td>687</td>\n",
       "    </tr>\n",
       "    <tr>\n",
       "      <th>2</th>\n",
       "      <td>smart</td>\n",
       "      <td>2018-03-01</td>\n",
       "      <td>30034</td>\n",
       "      <td>2453</td>\n",
       "      <td>1173</td>\n",
       "    </tr>\n",
       "    <tr>\n",
       "      <th>3</th>\n",
       "      <td>smart</td>\n",
       "      <td>2018-04-01</td>\n",
       "      <td>41119</td>\n",
       "      <td>3443</td>\n",
       "      <td>1526</td>\n",
       "    </tr>\n",
       "    <tr>\n",
       "      <th>4</th>\n",
       "      <td>smart</td>\n",
       "      <td>2018-05-01</td>\n",
       "      <td>54618</td>\n",
       "      <td>4762</td>\n",
       "      <td>2243</td>\n",
       "    </tr>\n",
       "    <tr>\n",
       "      <th>5</th>\n",
       "      <td>smart</td>\n",
       "      <td>2018-06-01</td>\n",
       "      <td>64885</td>\n",
       "      <td>5478</td>\n",
       "      <td>2616</td>\n",
       "    </tr>\n",
       "    <tr>\n",
       "      <th>6</th>\n",
       "      <td>smart</td>\n",
       "      <td>2018-07-01</td>\n",
       "      <td>82079</td>\n",
       "      <td>6784</td>\n",
       "      <td>3191</td>\n",
       "    </tr>\n",
       "    <tr>\n",
       "      <th>7</th>\n",
       "      <td>smart</td>\n",
       "      <td>2018-08-01</td>\n",
       "      <td>99045</td>\n",
       "      <td>7905</td>\n",
       "      <td>3933</td>\n",
       "    </tr>\n",
       "    <tr>\n",
       "      <th>8</th>\n",
       "      <td>smart</td>\n",
       "      <td>2018-09-01</td>\n",
       "      <td>111439</td>\n",
       "      <td>8746</td>\n",
       "      <td>4262</td>\n",
       "    </tr>\n",
       "    <tr>\n",
       "      <th>9</th>\n",
       "      <td>smart</td>\n",
       "      <td>2018-10-01</td>\n",
       "      <td>125284</td>\n",
       "      <td>9927</td>\n",
       "      <td>4963</td>\n",
       "    </tr>\n",
       "    <tr>\n",
       "      <th>10</th>\n",
       "      <td>smart</td>\n",
       "      <td>2018-11-01</td>\n",
       "      <td>137544</td>\n",
       "      <td>10768</td>\n",
       "      <td>5372</td>\n",
       "    </tr>\n",
       "    <tr>\n",
       "      <th>11</th>\n",
       "      <td>smart</td>\n",
       "      <td>2018-12-01</td>\n",
       "      <td>161275</td>\n",
       "      <td>12130</td>\n",
       "      <td>6134</td>\n",
       "    </tr>\n",
       "  </tbody>\n",
       "</table>\n",
       "</div>"
      ],
      "text/plain": [
       "   tariff      month  calls_total_min  messages_count  internet_total_gb\n",
       "0   smart 2018-01-01             6931             620                297\n",
       "1   smart 2018-02-01            17324            1397                687\n",
       "2   smart 2018-03-01            30034            2453               1173\n",
       "3   smart 2018-04-01            41119            3443               1526\n",
       "4   smart 2018-05-01            54618            4762               2243\n",
       "5   smart 2018-06-01            64885            5478               2616\n",
       "6   smart 2018-07-01            82079            6784               3191\n",
       "7   smart 2018-08-01            99045            7905               3933\n",
       "8   smart 2018-09-01           111439            8746               4262\n",
       "9   smart 2018-10-01           125284            9927               4963\n",
       "10  smart 2018-11-01           137544           10768               5372\n",
       "11  smart 2018-12-01           161275           12130               6134"
      ]
     },
     "execution_count": 16,
     "metadata": {},
     "output_type": "execute_result"
    }
   ],
   "source": [
    "# Для тарифа smart\n",
    "user_costs_smart = user_costs.query(\"tariff == 'smart'\").groupby(['tariff', 'month'])['calls_total_min', 'messages_count', 'internet_total_gb'].sum().reset_index()\n",
    "user_costs_smart"
   ]
  },
  {
   "cell_type": "code",
   "execution_count": 17,
   "metadata": {},
   "outputs": [
    {
     "data": {
      "text/html": [
       "<div>\n",
       "<style scoped>\n",
       "    .dataframe tbody tr th:only-of-type {\n",
       "        vertical-align: middle;\n",
       "    }\n",
       "\n",
       "    .dataframe tbody tr th {\n",
       "        vertical-align: top;\n",
       "    }\n",
       "\n",
       "    .dataframe thead th {\n",
       "        text-align: right;\n",
       "    }\n",
       "</style>\n",
       "<table border=\"1\" class=\"dataframe\">\n",
       "  <thead>\n",
       "    <tr style=\"text-align: right;\">\n",
       "      <th></th>\n",
       "      <th>tariff</th>\n",
       "      <th>month</th>\n",
       "      <th>calls_total_min</th>\n",
       "      <th>messages_count</th>\n",
       "      <th>internet_total_gb</th>\n",
       "    </tr>\n",
       "  </thead>\n",
       "  <tbody>\n",
       "    <tr>\n",
       "      <th>0</th>\n",
       "      <td>ultra</td>\n",
       "      <td>2018-01-01</td>\n",
       "      <td>3853</td>\n",
       "      <td>304</td>\n",
       "      <td>119</td>\n",
       "    </tr>\n",
       "    <tr>\n",
       "      <th>1</th>\n",
       "      <td>ultra</td>\n",
       "      <td>2018-02-01</td>\n",
       "      <td>7131</td>\n",
       "      <td>527</td>\n",
       "      <td>288</td>\n",
       "    </tr>\n",
       "    <tr>\n",
       "      <th>2</th>\n",
       "      <td>ultra</td>\n",
       "      <td>2018-03-01</td>\n",
       "      <td>18117</td>\n",
       "      <td>1195</td>\n",
       "      <td>653</td>\n",
       "    </tr>\n",
       "    <tr>\n",
       "      <th>3</th>\n",
       "      <td>ultra</td>\n",
       "      <td>2018-04-01</td>\n",
       "      <td>25191</td>\n",
       "      <td>1736</td>\n",
       "      <td>933</td>\n",
       "    </tr>\n",
       "    <tr>\n",
       "      <th>4</th>\n",
       "      <td>ultra</td>\n",
       "      <td>2018-05-01</td>\n",
       "      <td>34192</td>\n",
       "      <td>2536</td>\n",
       "      <td>1298</td>\n",
       "    </tr>\n",
       "    <tr>\n",
       "      <th>5</th>\n",
       "      <td>ultra</td>\n",
       "      <td>2018-06-01</td>\n",
       "      <td>40295</td>\n",
       "      <td>3505</td>\n",
       "      <td>1591</td>\n",
       "    </tr>\n",
       "    <tr>\n",
       "      <th>6</th>\n",
       "      <td>ultra</td>\n",
       "      <td>2018-07-01</td>\n",
       "      <td>49667</td>\n",
       "      <td>4536</td>\n",
       "      <td>1866</td>\n",
       "    </tr>\n",
       "    <tr>\n",
       "      <th>7</th>\n",
       "      <td>ultra</td>\n",
       "      <td>2018-08-01</td>\n",
       "      <td>54653</td>\n",
       "      <td>5183</td>\n",
       "      <td>2097</td>\n",
       "    </tr>\n",
       "    <tr>\n",
       "      <th>8</th>\n",
       "      <td>ultra</td>\n",
       "      <td>2018-09-01</td>\n",
       "      <td>62036</td>\n",
       "      <td>6013</td>\n",
       "      <td>2213</td>\n",
       "    </tr>\n",
       "    <tr>\n",
       "      <th>9</th>\n",
       "      <td>ultra</td>\n",
       "      <td>2018-10-01</td>\n",
       "      <td>68644</td>\n",
       "      <td>7187</td>\n",
       "      <td>2468</td>\n",
       "    </tr>\n",
       "    <tr>\n",
       "      <th>10</th>\n",
       "      <td>ultra</td>\n",
       "      <td>2018-11-01</td>\n",
       "      <td>72545</td>\n",
       "      <td>7476</td>\n",
       "      <td>2654</td>\n",
       "    </tr>\n",
       "    <tr>\n",
       "      <th>11</th>\n",
       "      <td>ultra</td>\n",
       "      <td>2018-12-01</td>\n",
       "      <td>82400</td>\n",
       "      <td>8425</td>\n",
       "      <td>3022</td>\n",
       "    </tr>\n",
       "  </tbody>\n",
       "</table>\n",
       "</div>"
      ],
      "text/plain": [
       "   tariff      month  calls_total_min  messages_count  internet_total_gb\n",
       "0   ultra 2018-01-01             3853             304                119\n",
       "1   ultra 2018-02-01             7131             527                288\n",
       "2   ultra 2018-03-01            18117            1195                653\n",
       "3   ultra 2018-04-01            25191            1736                933\n",
       "4   ultra 2018-05-01            34192            2536               1298\n",
       "5   ultra 2018-06-01            40295            3505               1591\n",
       "6   ultra 2018-07-01            49667            4536               1866\n",
       "7   ultra 2018-08-01            54653            5183               2097\n",
       "8   ultra 2018-09-01            62036            6013               2213\n",
       "9   ultra 2018-10-01            68644            7187               2468\n",
       "10  ultra 2018-11-01            72545            7476               2654\n",
       "11  ultra 2018-12-01            82400            8425               3022"
      ]
     },
     "execution_count": 17,
     "metadata": {},
     "output_type": "execute_result"
    }
   ],
   "source": [
    "# Для тарифа ultra\n",
    "user_costs_ultra = user_costs.query(\"tariff == 'ultra'\").groupby(['tariff', 'month'])['calls_total_min', 'messages_count', 'internet_total_gb'].sum().reset_index()\n",
    "user_costs_ultra"
   ]
  },
  {
   "cell_type": "code",
   "execution_count": 18,
   "metadata": {},
   "outputs": [
    {
     "data": {
      "image/png": "[encoded data removed]",
      "text/plain": [
       "<Figure size 864x360 with 1 Axes>"
      ]
     },
     "metadata": {
      "needs_background": "light"
     },
     "output_type": "display_data"
    },
    {
     "data": {
      "image/png": "[encoded data removed]",
      "text/plain": [
       "<Figure size 864x360 with 1 Axes>"
      ]
     },
     "metadata": {
      "needs_background": "light"
     },
     "output_type": "display_data"
    },
    {
     "data": {
      "image/png": "[encoded data removed]",
      "text/plain": [
       "<Figure size 864x360 with 1 Axes>"
      ]
     },
     "metadata": {
      "needs_background": "light"
     },
     "output_type": "display_data"
    }
   ],
   "source": [
    "# Построим диаграммы\n",
    "for column in ['calls_total_min', 'messages_count', 'internet_total_gb']:\n",
    "    plt.figure(figsize=(12, 5))\n",
    "    plt.bar(user_costs_smart['month'], user_costs_smart[column], label='smart', color='g', alpha=0.3, width=20)\n",
    "    plt.bar(user_costs_ultra['month'], user_costs_ultra[column], label='ultra', color='b', alpha=0.3, width=25)\n",
    "\n",
    "    plt.xlabel('month')\n",
    "    plt.ylabel(column)\n",
    "    plt.grid()\n",
    "    plt.legend()\n",
    "    plt.show()"
   ]
  },
  {
   "cell_type": "markdown",
   "metadata": {},
   "source": [
    "**Проанализиров графики, можно сделать следующие выводы:**\n",
    "\n",
    "1) по обоим тарифам наблюдается тенденция к увеличению объема используемых услуг, возможно, это связано с увеличением количества пользователей\n",
    "\n",
    "2) месячный расход в абсолютных значениях по тарифу smart превышает расход по тарифу ultra, но это, может быть, связано с тем, что количество пользователей тарифом smart превышает количество пользователей по тарифу ultra\n"
   ]
  },
  {
   "cell_type": "code",
   "execution_count": 19,
   "metadata": {},
   "outputs": [
    {
     "name": "stdout",
     "output_type": "stream",
     "text": [
      "Количество пользователей тарифом smart: 350\n",
      "Количество пользователей тарифом ultra: 148\n"
     ]
    }
   ],
   "source": [
    "print('Количество пользователей тарифом smart:',len(user_costs.query('tariff ==\"smart\"')['user_id'].unique()))\n",
    "print('Количество пользователей тарифом ultra:',len(user_costs.query('tariff ==\"ultra\"')['user_id'].unique()))"
   ]
  },
  {
   "cell_type": "markdown",
   "metadata": {},
   "source": [
    "Так и есть пользователей тарифом smart в два раза больше."
   ]
  },
  {
   "cell_type": "markdown",
   "metadata": {},
   "source": [
    "Рассчитаем также общую выручку по каждому тарифу за год"
   ]
  },
  {
   "cell_type": "code",
   "execution_count": 20,
   "metadata": {},
   "outputs": [
    {
     "name": "stdout",
     "output_type": "stream",
     "text": [
      "Общая выручка по тарифу smart: 2875351\n",
      "Общая выручка по тарифу ultra: 2039100\n"
     ]
    }
   ],
   "source": [
    "print('Общая выручка по тарифу smart:', (user_costs.query('tariff ==\"smart\"')['income'].sum()))\n",
    "print('Общая выручка по тарифу ultra:', (user_costs.query('tariff ==\"ultra\"')['income'].sum()))"
   ]
  },
  {
   "cell_type": "markdown",
   "metadata": {},
   "source": [
    "Выручка по тарифу smart примерно на 40% больше, чем по тарифу ultra"
   ]
  },
  {
   "cell_type": "markdown",
   "metadata": {},
   "source": [
    "### Рассчитаем среднее количество, дисперсию и стандартное отклонение"
   ]
  },
  {
   "cell_type": "code",
   "execution_count": 21,
   "metadata": {},
   "outputs": [
    {
     "data": {
      "image/png": "[encoded data removed]",
      "text/plain": [
       "<Figure size 432x288 with 1 Axes>"
      ]
     },
     "metadata": {
      "needs_background": "light"
     },
     "output_type": "display_data"
    },
    {
     "data": {
      "text/html": [
       "<div>\n",
       "<style scoped>\n",
       "    .dataframe tbody tr th:only-of-type {\n",
       "        vertical-align: middle;\n",
       "    }\n",
       "\n",
       "    .dataframe tbody tr th {\n",
       "        vertical-align: top;\n",
       "    }\n",
       "\n",
       "    .dataframe thead tr th {\n",
       "        text-align: left;\n",
       "    }\n",
       "\n",
       "    .dataframe thead tr:last-of-type th {\n",
       "        text-align: right;\n",
       "    }\n",
       "</style>\n",
       "<table border=\"1\" class=\"dataframe\">\n",
       "  <thead>\n",
       "    <tr>\n",
       "      <th></th>\n",
       "      <th>mean</th>\n",
       "      <th>var</th>\n",
       "      <th>std</th>\n",
       "    </tr>\n",
       "    <tr>\n",
       "      <th></th>\n",
       "      <th>calls_total_min</th>\n",
       "      <th>calls_total_min</th>\n",
       "      <th>calls_total_min</th>\n",
       "    </tr>\n",
       "    <tr>\n",
       "      <th>tariff</th>\n",
       "      <th></th>\n",
       "      <th></th>\n",
       "      <th></th>\n",
       "    </tr>\n",
       "  </thead>\n",
       "  <tbody>\n",
       "    <tr>\n",
       "      <th>smart</th>\n",
       "      <td>418.0</td>\n",
       "      <td>36219.0</td>\n",
       "      <td>190.0</td>\n",
       "    </tr>\n",
       "    <tr>\n",
       "      <th>ultra</th>\n",
       "      <td>527.0</td>\n",
       "      <td>100874.0</td>\n",
       "      <td>318.0</td>\n",
       "    </tr>\n",
       "  </tbody>\n",
       "</table>\n",
       "</div>"
      ],
      "text/plain": [
       "                  mean             var             std\n",
       "       calls_total_min calls_total_min calls_total_min\n",
       "tariff                                                \n",
       "smart            418.0         36219.0           190.0\n",
       "ultra            527.0        100874.0           318.0"
      ]
     },
     "metadata": {},
     "output_type": "display_data"
    },
    {
     "data": {
      "image/png": "[encoded data removed]",
      "text/plain": [
       "<Figure size 432x288 with 1 Axes>"
      ]
     },
     "metadata": {
      "needs_background": "light"
     },
     "output_type": "display_data"
    },
    {
     "data": {
      "text/html": [
       "<div>\n",
       "<style scoped>\n",
       "    .dataframe tbody tr th:only-of-type {\n",
       "        vertical-align: middle;\n",
       "    }\n",
       "\n",
       "    .dataframe tbody tr th {\n",
       "        vertical-align: top;\n",
       "    }\n",
       "\n",
       "    .dataframe thead tr th {\n",
       "        text-align: left;\n",
       "    }\n",
       "\n",
       "    .dataframe thead tr:last-of-type th {\n",
       "        text-align: right;\n",
       "    }\n",
       "</style>\n",
       "<table border=\"1\" class=\"dataframe\">\n",
       "  <thead>\n",
       "    <tr>\n",
       "      <th></th>\n",
       "      <th>mean</th>\n",
       "      <th>var</th>\n",
       "      <th>std</th>\n",
       "    </tr>\n",
       "    <tr>\n",
       "      <th></th>\n",
       "      <th>messages_count</th>\n",
       "      <th>messages_count</th>\n",
       "      <th>messages_count</th>\n",
       "    </tr>\n",
       "    <tr>\n",
       "      <th>tariff</th>\n",
       "      <th></th>\n",
       "      <th></th>\n",
       "      <th></th>\n",
       "    </tr>\n",
       "  </thead>\n",
       "  <tbody>\n",
       "    <tr>\n",
       "      <th>smart</th>\n",
       "      <td>33.0</td>\n",
       "      <td>797.0</td>\n",
       "      <td>28.0</td>\n",
       "    </tr>\n",
       "    <tr>\n",
       "      <th>ultra</th>\n",
       "      <td>49.0</td>\n",
       "      <td>2285.0</td>\n",
       "      <td>48.0</td>\n",
       "    </tr>\n",
       "  </tbody>\n",
       "</table>\n",
       "</div>"
      ],
      "text/plain": [
       "                 mean            var            std\n",
       "       messages_count messages_count messages_count\n",
       "tariff                                             \n",
       "smart            33.0          797.0           28.0\n",
       "ultra            49.0         2285.0           48.0"
      ]
     },
     "metadata": {},
     "output_type": "display_data"
    },
    {
     "data": {
      "image/png": "[encoded data removed]",
      "text/plain": [
       "<Figure size 432x288 with 1 Axes>"
      ]
     },
     "metadata": {
      "needs_background": "light"
     },
     "output_type": "display_data"
    },
    {
     "data": {
      "text/html": [
       "<div>\n",
       "<style scoped>\n",
       "    .dataframe tbody tr th:only-of-type {\n",
       "        vertical-align: middle;\n",
       "    }\n",
       "\n",
       "    .dataframe tbody tr th {\n",
       "        vertical-align: top;\n",
       "    }\n",
       "\n",
       "    .dataframe thead tr th {\n",
       "        text-align: left;\n",
       "    }\n",
       "\n",
       "    .dataframe thead tr:last-of-type th {\n",
       "        text-align: right;\n",
       "    }\n",
       "</style>\n",
       "<table border=\"1\" class=\"dataframe\">\n",
       "  <thead>\n",
       "    <tr>\n",
       "      <th></th>\n",
       "      <th>mean</th>\n",
       "      <th>var</th>\n",
       "      <th>std</th>\n",
       "    </tr>\n",
       "    <tr>\n",
       "      <th></th>\n",
       "      <th>internet_total_gb</th>\n",
       "      <th>internet_total_gb</th>\n",
       "      <th>internet_total_gb</th>\n",
       "    </tr>\n",
       "    <tr>\n",
       "      <th>tariff</th>\n",
       "      <th></th>\n",
       "      <th></th>\n",
       "      <th></th>\n",
       "    </tr>\n",
       "  </thead>\n",
       "  <tbody>\n",
       "    <tr>\n",
       "      <th>smart</th>\n",
       "      <td>16.0</td>\n",
       "      <td>33.0</td>\n",
       "      <td>6.0</td>\n",
       "    </tr>\n",
       "    <tr>\n",
       "      <th>ultra</th>\n",
       "      <td>19.0</td>\n",
       "      <td>97.0</td>\n",
       "      <td>10.0</td>\n",
       "    </tr>\n",
       "  </tbody>\n",
       "</table>\n",
       "</div>"
      ],
      "text/plain": [
       "                    mean               var               std\n",
       "       internet_total_gb internet_total_gb internet_total_gb\n",
       "tariff                                                      \n",
       "smart               16.0              33.0               6.0\n",
       "ultra               19.0              97.0              10.0"
      ]
     },
     "metadata": {},
     "output_type": "display_data"
    }
   ],
   "source": [
    "user_st_smart = user_costs.query(\"tariff == 'smart'\")\n",
    "user_st_ultra = user_costs.query(\"tariff == 'ultra'\")\n",
    "\n",
    "for column in ['calls_total_min', 'messages_count', 'internet_total_gb']:  \n",
    "    plt.hist(user_st_smart[column],bins=50, label='smart', color='g', alpha=0.3)\n",
    "    plt.hist(user_st_ultra[column],bins=50, label='ultra', color='b', alpha=0.3)\n",
    "    plt.legend()\n",
    "    plt.suptitle(column)\n",
    "    plt.show()\n",
    "    display(user_costs.pivot_table(index = 'tariff',values=column,aggfunc = ['mean','var','std']).round())"
   ]
  },
  {
   "cell_type": "code",
   "execution_count": 22,
   "metadata": {},
   "outputs": [
    {
     "data": {
      "text/html": [
       "<div>\n",
       "<style scoped>\n",
       "    .dataframe tbody tr th:only-of-type {\n",
       "        vertical-align: middle;\n",
       "    }\n",
       "\n",
       "    .dataframe tbody tr th {\n",
       "        vertical-align: top;\n",
       "    }\n",
       "\n",
       "    .dataframe thead th {\n",
       "        text-align: right;\n",
       "    }\n",
       "</style>\n",
       "<table border=\"1\" class=\"dataframe\">\n",
       "  <thead>\n",
       "    <tr style=\"text-align: right;\">\n",
       "      <th></th>\n",
       "      <th>calls_total_min</th>\n",
       "      <th>messages_count</th>\n",
       "      <th>internet_total_gb</th>\n",
       "      <th>income</th>\n",
       "    </tr>\n",
       "  </thead>\n",
       "  <tbody>\n",
       "    <tr>\n",
       "      <th>count</th>\n",
       "      <td>2229.0</td>\n",
       "      <td>2229.0</td>\n",
       "      <td>2229.0</td>\n",
       "      <td>2229.0</td>\n",
       "    </tr>\n",
       "    <tr>\n",
       "      <th>mean</th>\n",
       "      <td>418.0</td>\n",
       "      <td>33.0</td>\n",
       "      <td>16.0</td>\n",
       "      <td>1290.0</td>\n",
       "    </tr>\n",
       "    <tr>\n",
       "      <th>std</th>\n",
       "      <td>190.0</td>\n",
       "      <td>28.0</td>\n",
       "      <td>6.0</td>\n",
       "      <td>818.0</td>\n",
       "    </tr>\n",
       "    <tr>\n",
       "      <th>min</th>\n",
       "      <td>0.0</td>\n",
       "      <td>0.0</td>\n",
       "      <td>0.0</td>\n",
       "      <td>550.0</td>\n",
       "    </tr>\n",
       "    <tr>\n",
       "      <th>25%</th>\n",
       "      <td>282.0</td>\n",
       "      <td>10.0</td>\n",
       "      <td>13.0</td>\n",
       "      <td>550.0</td>\n",
       "    </tr>\n",
       "    <tr>\n",
       "      <th>50%</th>\n",
       "      <td>422.0</td>\n",
       "      <td>28.0</td>\n",
       "      <td>17.0</td>\n",
       "      <td>1023.0</td>\n",
       "    </tr>\n",
       "    <tr>\n",
       "      <th>75%</th>\n",
       "      <td>545.0</td>\n",
       "      <td>51.0</td>\n",
       "      <td>20.0</td>\n",
       "      <td>1750.0</td>\n",
       "    </tr>\n",
       "    <tr>\n",
       "      <th>max</th>\n",
       "      <td>1435.0</td>\n",
       "      <td>143.0</td>\n",
       "      <td>38.0</td>\n",
       "      <td>6770.0</td>\n",
       "    </tr>\n",
       "  </tbody>\n",
       "</table>\n",
       "</div>"
      ],
      "text/plain": [
       "       calls_total_min  messages_count  internet_total_gb  income\n",
       "count           2229.0          2229.0             2229.0  2229.0\n",
       "mean             418.0            33.0               16.0  1290.0\n",
       "std              190.0            28.0                6.0   818.0\n",
       "min                0.0             0.0                0.0   550.0\n",
       "25%              282.0            10.0               13.0   550.0\n",
       "50%              422.0            28.0               17.0  1023.0\n",
       "75%              545.0            51.0               20.0  1750.0\n",
       "max             1435.0           143.0               38.0  6770.0"
      ]
     },
     "execution_count": 22,
     "metadata": {},
     "output_type": "execute_result"
    }
   ],
   "source": [
    "user_st_smart[['calls_total_min', 'messages_count', 'internet_total_gb','income']].describe().round()"
   ]
  },
  {
   "cell_type": "code",
   "execution_count": 23,
   "metadata": {},
   "outputs": [
    {
     "data": {
      "text/html": [
       "<div>\n",
       "<style scoped>\n",
       "    .dataframe tbody tr th:only-of-type {\n",
       "        vertical-align: middle;\n",
       "    }\n",
       "\n",
       "    .dataframe tbody tr th {\n",
       "        vertical-align: top;\n",
       "    }\n",
       "\n",
       "    .dataframe thead th {\n",
       "        text-align: right;\n",
       "    }\n",
       "</style>\n",
       "<table border=\"1\" class=\"dataframe\">\n",
       "  <thead>\n",
       "    <tr style=\"text-align: right;\">\n",
       "      <th></th>\n",
       "      <th>calls_total_min</th>\n",
       "      <th>messages_count</th>\n",
       "      <th>internet_total_gb</th>\n",
       "      <th>income</th>\n",
       "    </tr>\n",
       "  </thead>\n",
       "  <tbody>\n",
       "    <tr>\n",
       "      <th>count</th>\n",
       "      <td>985.0</td>\n",
       "      <td>985.0</td>\n",
       "      <td>985.0</td>\n",
       "      <td>985.0</td>\n",
       "    </tr>\n",
       "    <tr>\n",
       "      <th>mean</th>\n",
       "      <td>527.0</td>\n",
       "      <td>49.0</td>\n",
       "      <td>19.0</td>\n",
       "      <td>2070.0</td>\n",
       "    </tr>\n",
       "    <tr>\n",
       "      <th>std</th>\n",
       "      <td>318.0</td>\n",
       "      <td>48.0</td>\n",
       "      <td>10.0</td>\n",
       "      <td>376.0</td>\n",
       "    </tr>\n",
       "    <tr>\n",
       "      <th>min</th>\n",
       "      <td>0.0</td>\n",
       "      <td>0.0</td>\n",
       "      <td>0.0</td>\n",
       "      <td>1950.0</td>\n",
       "    </tr>\n",
       "    <tr>\n",
       "      <th>25%</th>\n",
       "      <td>284.0</td>\n",
       "      <td>6.0</td>\n",
       "      <td>12.0</td>\n",
       "      <td>1950.0</td>\n",
       "    </tr>\n",
       "    <tr>\n",
       "      <th>50%</th>\n",
       "      <td>518.0</td>\n",
       "      <td>38.0</td>\n",
       "      <td>19.0</td>\n",
       "      <td>1950.0</td>\n",
       "    </tr>\n",
       "    <tr>\n",
       "      <th>75%</th>\n",
       "      <td>752.0</td>\n",
       "      <td>79.0</td>\n",
       "      <td>27.0</td>\n",
       "      <td>1950.0</td>\n",
       "    </tr>\n",
       "    <tr>\n",
       "      <th>max</th>\n",
       "      <td>1673.0</td>\n",
       "      <td>224.0</td>\n",
       "      <td>49.0</td>\n",
       "      <td>4800.0</td>\n",
       "    </tr>\n",
       "  </tbody>\n",
       "</table>\n",
       "</div>"
      ],
      "text/plain": [
       "       calls_total_min  messages_count  internet_total_gb  income\n",
       "count            985.0           985.0              985.0   985.0\n",
       "mean             527.0            49.0               19.0  2070.0\n",
       "std              318.0            48.0               10.0   376.0\n",
       "min                0.0             0.0                0.0  1950.0\n",
       "25%              284.0             6.0               12.0  1950.0\n",
       "50%              518.0            38.0               19.0  1950.0\n",
       "75%              752.0            79.0               27.0  1950.0\n",
       "max             1673.0           224.0               49.0  4800.0"
      ]
     },
     "execution_count": 23,
     "metadata": {},
     "output_type": "execute_result"
    }
   ],
   "source": [
    "user_st_ultra[['calls_total_min', 'messages_count', 'internet_total_gb','income']].describe().round()"
   ]
  },
  {
   "cell_type": "markdown",
   "metadata": {},
   "source": [
    "**Выводы:**\n",
    "1) Пользователи тарифа smart в среднем практически полностью расходуют предоставляемые минуты в течение месяца, пользователи тарифа ultra ни разу не воспользовались минутами сверх тарифного плана.\n",
    "\n",
    "2) Большинство пользователей обоих тарифов не используют sms. Если пользователи тарифа smart используют сообщения, то как правило, укладываются в допустимый лимит, пользователи тарифа ultra ни разу не воспользовались sms сверх тарифного плана.\n",
    "\n",
    "3) Пользователям тарифа smart, как правило, не достаточно включенного в тарифный план интернет-трафика, примерно 50% клиентов использует дополнительный трафик. Пользователи тарифа ultra приобретают дополнительный трафик менее чем в 25% случаях.\n",
    "\n",
    "4) Средняя выручка по тарифу ultra (2070 руб.) практически на 60% больше, чем выручка по тарифу smart (1290 руб.)\n",
    "\n",
    "5) Важно отметить, что у тарифа ultra наблюдается больший разброс значений, чем у тарифа smart."
   ]
  },
  {
   "cell_type": "markdown",
   "metadata": {},
   "source": [
    "## Проверка гипотез"
   ]
  },
  {
   "cell_type": "markdown",
   "metadata": {},
   "source": [
    "Проверим две гипотезы:\n",
    "- средняя выручка пользователей тарифов «Ультра» и «Смарт» различаются;\n",
    "- средняя выручка пользователей из Москвы отличается от выручки пользователей из других регионов."
   ]
  },
  {
   "cell_type": "markdown",
   "metadata": {},
   "source": [
    "### Cредняя выручка пользователей тарифов «Ультра» и «Смарт» различаются"
   ]
  },
  {
   "cell_type": "markdown",
   "metadata": {},
   "source": [
    "Сформулируем H0 и Н1:\n",
    "\n",
    "H0: средняя выручка пользователей тарифов «Ультра» и «Смарт» не различается\\\n",
    "H1: средняя выручка пользователей тарифов «Ультра» и «Смарт» различается\n",
    "\n",
    "Уровень статистической значимости зададим равным 5%"
   ]
  },
  {
   "cell_type": "code",
   "execution_count": 24,
   "metadata": {},
   "outputs": [
    {
     "name": "stdout",
     "output_type": "stream",
     "text": [
      "p-значение: 1.4229814360764067e-160\n",
      "Отвергаем нулевую гипотезу\n"
     ]
    }
   ],
   "source": [
    "alpha = .05\n",
    "\n",
    "# Будем использовать метод scipy.stats.ttest_ind(), так как нам нужно проверить гипотезу о равенстве среднего двух генеральных совокупностей\n",
    "results = st.ttest_ind(\n",
    "    user_st_smart['income'], \n",
    "    user_st_ultra['income'])\n",
    "\n",
    "print('p-значение:', results.pvalue)\n",
    "\n",
    "if results.pvalue < alpha:\n",
    "    print(\"Отвергаем нулевую гипотезу\")\n",
    "else:\n",
    "    print(\"Не получилось отвергнуть нулевую гипотезу\")"
   ]
  },
  {
   "cell_type": "markdown",
   "metadata": {},
   "source": [
    "Тест показал, что средняя выручка пользователей у тарафов отличается, так наша первая гипотеза полностью подтвердилась."
   ]
  },
  {
   "cell_type": "markdown",
   "metadata": {},
   "source": [
    "### Cредняя выручка пользователей из Москвы отличается от выручки пользователей из других регионов."
   ]
  },
  {
   "cell_type": "markdown",
   "metadata": {},
   "source": [
    "Сформулируем H0 и Н1:\n",
    "\n",
    "H0: средняя выручка пользователей из Москвы не отличается от выручки пользователей из других регионов\\\n",
    "H1: средняя выручка пользователей из Москвы отличается от выручки пользователей из других регионов\n",
    "\n",
    "Уровень статистической значимости зададим равным 5%"
   ]
  },
  {
   "cell_type": "code",
   "execution_count": 25,
   "metadata": {},
   "outputs": [
    {
     "name": "stdout",
     "output_type": "stream",
     "text": [
      "p-значение: 0.5440152911670224\n",
      "Не получилось отвергнуть нулевую гипотезу\n"
     ]
    }
   ],
   "source": [
    "alpha = .05\n",
    "\n",
    "moscow = user_costs.query(\"city == 'Москва'\")['income']\n",
    "other = user_costs.query(\"city != 'Москва'\")['income']\n",
    "\n",
    "# Также воспользуемся методом scipy.stats.ttest_ind()\n",
    "results = st.ttest_ind(\n",
    "    moscow, \n",
    "    other)\n",
    "\n",
    "print('p-значение:', results.pvalue)\n",
    "\n",
    "if results.pvalue < alpha:\n",
    "    print(\"Отвергаем нулевую гипотезу\")\n",
    "else:\n",
    "    print(\"Не получилось отвергнуть нулевую гипотезу\")"
   ]
  },
  {
   "cell_type": "markdown",
   "metadata": {},
   "source": [
    "Тест показал, что средняя выручка пользователей из Москвы не отличается от средней выручки пользователей из других регионов, таким образом, наша вторая гипотеза не подтвердилась."
   ]
  },
  {
   "cell_type": "markdown",
   "metadata": {},
   "source": [
    "## Общий вывод"
   ]
  },
  {
   "cell_type": "markdown",
   "metadata": {},
   "source": [
    "Целью нашего исследования было определение наиболее выгодного для компании тарифа. В первую очередь мы проверили корректность данных и рассчитали дополнительные параметры, далее провели анализ и проверили несколько гипотез. \n",
    "\n",
    "Так в ходе исследования, мы пришли к следующим выводам:\n",
    "- средняя выручка пользователей тарифов ultra и smart различаются, так у тарифа ultra средняя выручка на 60% больше, чем у тарифа smart\n",
    "- средняя выручка пользователей из Москвы не отличается от средней выручки пользователей из других регионов\n",
    "- количество пользователей тарифом smart в 2 раза больше, чем тарифом ultra\n",
    "- общая выручка за год по тарифу smart примерно на 40% больше, чем по тарифу ultra\n",
    "- пользователи тарифа ultra, как правило, не используют полностью предоставляемые лимиты по тарифу\n",
    "- пользователи тарифа smart в среднем укладываются в лимит по звонкам и sms и превышают лимит по интернет-трафику\n",
    "\n",
    "Таким образом, тариф smart на данный момент имеет большее преимущество для компании перед тарифом ultra. \n",
    "Возможно, необходимо подумать над разработкой дополнительного среднего тарифа, так как в ходе анализа мы выявили, что пользователи тарифа ultra не используют в полной мере предоставляемые лимиты, а пользователям smart наоборот их бывает недостаточно, при этом тариф ultra менее популярен ввиду своей высокой цены."
   ]
  }
 ],
 "metadata": {
  "ExecuteTimeLog": [
   {
    "duration": 3,
    "start_time": "2022-05-07T18:23:01.118Z"
   },
   {
    "duration": 880,
    "start_time": "2022-05-07T18:32:46.290Z"
   },
   {
    "duration": 3,
    "start_time": "2022-05-07T18:35:59.558Z"
   },
   {
    "duration": 421,
    "start_time": "2022-05-07T18:37:31.346Z"
   },
   {
    "duration": 468,
    "start_time": "2022-05-07T18:45:43.523Z"
   },
   {
    "duration": 461,
    "start_time": "2022-05-07T19:57:03.138Z"
   },
   {
    "duration": 406,
    "start_time": "2022-05-07T19:57:49.548Z"
   },
   {
    "duration": 79,
    "start_time": "2022-05-08T07:22:57.388Z"
   },
   {
    "duration": 1291,
    "start_time": "2022-05-08T07:23:04.567Z"
   },
   {
    "duration": 583,
    "start_time": "2022-05-08T07:23:05.861Z"
   },
   {
    "duration": 558,
    "start_time": "2022-05-08T08:39:06.083Z"
   },
   {
    "duration": 74,
    "start_time": "2022-05-08T08:53:53.278Z"
   },
   {
    "duration": 1210,
    "start_time": "2022-05-08T08:54:00.998Z"
   },
   {
    "duration": 73,
    "start_time": "2022-05-08T08:54:30.121Z"
   },
   {
    "duration": 943,
    "start_time": "2022-05-08T08:54:38.856Z"
   },
   {
    "duration": 927,
    "start_time": "2022-05-08T08:56:35.063Z"
   },
   {
    "duration": 85,
    "start_time": "2022-05-08T08:57:05.883Z"
   },
   {
    "duration": 914,
    "start_time": "2022-05-08T08:57:12.825Z"
   },
   {
    "duration": 84,
    "start_time": "2022-05-08T08:58:05.272Z"
   },
   {
    "duration": 911,
    "start_time": "2022-05-08T08:58:09.374Z"
   },
   {
    "duration": 734,
    "start_time": "2022-05-08T08:58:10.287Z"
   },
   {
    "duration": 541,
    "start_time": "2022-05-08T08:58:38.638Z"
   },
   {
    "duration": 611,
    "start_time": "2022-05-08T08:59:06.272Z"
   },
   {
    "duration": 125,
    "start_time": "2022-05-08T08:59:57.960Z"
   },
   {
    "duration": 597,
    "start_time": "2022-05-08T09:00:29.485Z"
   },
   {
    "duration": 783,
    "start_time": "2022-05-08T09:02:15.536Z"
   },
   {
    "duration": 561,
    "start_time": "2022-05-08T09:30:23.828Z"
   },
   {
    "duration": 515,
    "start_time": "2022-05-08T09:30:34.843Z"
   },
   {
    "duration": 12,
    "start_time": "2022-05-08T09:30:50.387Z"
   },
   {
    "duration": 53,
    "start_time": "2022-05-08T09:30:57.435Z"
   },
   {
    "duration": 22,
    "start_time": "2022-05-08T09:31:49.944Z"
   },
   {
    "duration": 10,
    "start_time": "2022-05-08T09:32:30.824Z"
   },
   {
    "duration": 22,
    "start_time": "2022-05-08T09:32:38.014Z"
   },
   {
    "duration": 526,
    "start_time": "2022-05-08T09:42:07.065Z"
   },
   {
    "duration": 3,
    "start_time": "2022-05-08T09:42:22.163Z"
   },
   {
    "duration": 519,
    "start_time": "2022-05-08T09:42:22.169Z"
   },
   {
    "duration": 0,
    "start_time": "2022-05-08T09:42:22.690Z"
   },
   {
    "duration": 0,
    "start_time": "2022-05-08T09:42:22.692Z"
   },
   {
    "duration": 582,
    "start_time": "2022-05-08T09:42:40.897Z"
   },
   {
    "duration": 114,
    "start_time": "2022-05-08T09:43:43.352Z"
   },
   {
    "duration": 499,
    "start_time": "2022-05-08T09:43:50.557Z"
   },
   {
    "duration": 516,
    "start_time": "2022-05-08T09:53:05.393Z"
   },
   {
    "duration": 503,
    "start_time": "2022-05-08T09:53:39.663Z"
   },
   {
    "duration": 795,
    "start_time": "2022-05-08T09:54:05.970Z"
   },
   {
    "duration": 536,
    "start_time": "2022-05-08T09:54:38.791Z"
   },
   {
    "duration": 499,
    "start_time": "2022-05-08T09:54:51.633Z"
   },
   {
    "duration": 542,
    "start_time": "2022-05-08T09:57:27.819Z"
   },
   {
    "duration": 146,
    "start_time": "2022-05-08T10:05:22.729Z"
   },
   {
    "duration": 134,
    "start_time": "2022-05-08T10:05:30.024Z"
   },
   {
    "duration": 725,
    "start_time": "2022-05-08T10:05:53.636Z"
   },
   {
    "duration": 681,
    "start_time": "2022-05-08T10:06:22.437Z"
   },
   {
    "duration": 743,
    "start_time": "2022-05-08T10:06:38.281Z"
   },
   {
    "duration": 537,
    "start_time": "2022-05-08T10:08:08.996Z"
   },
   {
    "duration": 128,
    "start_time": "2022-05-08T10:08:17.801Z"
   },
   {
    "duration": 553,
    "start_time": "2022-05-08T10:08:38.996Z"
   },
   {
    "duration": 134,
    "start_time": "2022-05-08T10:08:56.742Z"
   },
   {
    "duration": 561,
    "start_time": "2022-05-08T10:09:08.474Z"
   },
   {
    "duration": 571,
    "start_time": "2022-05-08T10:09:42.963Z"
   },
   {
    "duration": 610,
    "start_time": "2022-05-08T10:09:59.427Z"
   },
   {
    "duration": 551,
    "start_time": "2022-05-08T10:10:43.150Z"
   },
   {
    "duration": 561,
    "start_time": "2022-05-08T10:37:53.373Z"
   },
   {
    "duration": 698,
    "start_time": "2022-05-08T10:39:42.460Z"
   },
   {
    "duration": 525,
    "start_time": "2022-05-08T10:39:58.959Z"
   },
   {
    "duration": 655,
    "start_time": "2022-05-08T10:40:11.369Z"
   },
   {
    "duration": 779,
    "start_time": "2022-05-08T10:40:20.780Z"
   },
   {
    "duration": 556,
    "start_time": "2022-05-08T10:40:34.937Z"
   },
   {
    "duration": 596,
    "start_time": "2022-05-08T10:40:52.230Z"
   },
   {
    "duration": 574,
    "start_time": "2022-05-08T10:41:20.964Z"
   },
   {
    "duration": 627,
    "start_time": "2022-05-08T10:41:28.853Z"
   },
   {
    "duration": 130,
    "start_time": "2022-05-08T10:43:35.458Z"
   },
   {
    "duration": 765,
    "start_time": "2022-05-08T10:43:45.656Z"
   },
   {
    "duration": 138,
    "start_time": "2022-05-08T10:44:01.533Z"
   },
   {
    "duration": 821,
    "start_time": "2022-05-08T10:44:40.160Z"
   },
   {
    "duration": 506,
    "start_time": "2022-05-08T10:44:54.277Z"
   },
   {
    "duration": 573,
    "start_time": "2022-05-08T10:45:04.182Z"
   },
   {
    "duration": 822,
    "start_time": "2022-05-08T10:45:31.533Z"
   },
   {
    "duration": 875,
    "start_time": "2022-05-08T10:45:55.768Z"
   },
   {
    "duration": 874,
    "start_time": "2022-05-08T10:48:55.018Z"
   },
   {
    "duration": 4,
    "start_time": "2022-05-08T12:28:10.800Z"
   },
   {
    "duration": 2459,
    "start_time": "2022-05-08T12:54:02.250Z"
   },
   {
    "duration": 2110,
    "start_time": "2022-05-08T12:54:32.014Z"
   },
   {
    "duration": 2163,
    "start_time": "2022-05-08T12:54:43.312Z"
   },
   {
    "duration": 4,
    "start_time": "2022-05-08T12:55:00.320Z"
   },
   {
    "duration": 722,
    "start_time": "2022-05-08T12:55:00.327Z"
   },
   {
    "duration": 2635,
    "start_time": "2022-05-08T12:55:01.051Z"
   },
   {
    "duration": 197,
    "start_time": "2022-05-08T12:55:47.650Z"
   },
   {
    "duration": 32,
    "start_time": "2022-05-08T13:00:08.016Z"
   },
   {
    "duration": 114,
    "start_time": "2022-05-08T14:05:26.110Z"
   },
   {
    "duration": 102,
    "start_time": "2022-05-08T14:05:37.570Z"
   },
   {
    "duration": 23,
    "start_time": "2022-05-08T14:09:00.636Z"
   },
   {
    "duration": 8,
    "start_time": "2022-05-08T14:12:14.883Z"
   },
   {
    "duration": 152,
    "start_time": "2022-05-08T14:12:19.795Z"
   },
   {
    "duration": 24,
    "start_time": "2022-05-08T14:12:48.456Z"
   },
   {
    "duration": 10,
    "start_time": "2022-05-08T14:12:55.534Z"
   },
   {
    "duration": 13,
    "start_time": "2022-05-08T14:13:43.648Z"
   },
   {
    "duration": 26,
    "start_time": "2022-05-08T14:13:50.902Z"
   },
   {
    "duration": 40,
    "start_time": "2022-05-08T14:14:21.603Z"
   },
   {
    "duration": 17,
    "start_time": "2022-05-08T14:17:04.741Z"
   },
   {
    "duration": 5,
    "start_time": "2022-05-08T14:21:05.331Z"
   },
   {
    "duration": 290,
    "start_time": "2022-05-08T14:22:56.865Z"
   },
   {
    "duration": 310,
    "start_time": "2022-05-08T14:23:30.368Z"
   },
   {
    "duration": 355,
    "start_time": "2022-05-08T14:23:51.957Z"
   },
   {
    "duration": 7,
    "start_time": "2022-05-08T14:28:38.184Z"
   },
   {
    "duration": 8,
    "start_time": "2022-05-08T14:29:07.277Z"
   },
   {
    "duration": 10,
    "start_time": "2022-05-08T14:29:38.116Z"
   },
   {
    "duration": 4,
    "start_time": "2022-05-08T14:31:44.722Z"
   },
   {
    "duration": 135,
    "start_time": "2022-05-08T14:37:06.904Z"
   },
   {
    "duration": 146,
    "start_time": "2022-05-08T14:37:25.799Z"
   },
   {
    "duration": 12,
    "start_time": "2022-05-08T14:39:44.795Z"
   },
   {
    "duration": 13,
    "start_time": "2022-05-08T14:39:50.029Z"
   },
   {
    "duration": 14,
    "start_time": "2022-05-08T14:44:32.684Z"
   },
   {
    "duration": 18,
    "start_time": "2022-05-08T14:46:53.903Z"
   },
   {
    "duration": 441,
    "start_time": "2022-05-08T14:47:48.722Z"
   },
   {
    "duration": 642,
    "start_time": "2022-05-08T15:24:50.702Z"
   },
   {
    "duration": 28,
    "start_time": "2022-05-08T15:57:53.907Z"
   },
   {
    "duration": 116,
    "start_time": "2022-05-08T16:02:26.160Z"
   },
   {
    "duration": 21,
    "start_time": "2022-05-08T16:02:33.359Z"
   },
   {
    "duration": 4,
    "start_time": "2022-05-08T16:02:44.471Z"
   },
   {
    "duration": 768,
    "start_time": "2022-05-08T16:02:44.479Z"
   },
   {
    "duration": 135,
    "start_time": "2022-05-08T16:02:45.249Z"
   },
   {
    "duration": 11,
    "start_time": "2022-05-08T16:02:45.387Z"
   },
   {
    "duration": 161,
    "start_time": "2022-05-08T16:02:45.401Z"
   },
   {
    "duration": 349,
    "start_time": "2022-05-08T16:02:45.564Z"
   },
   {
    "duration": 19,
    "start_time": "2022-05-08T16:02:45.925Z"
   },
   {
    "duration": 18,
    "start_time": "2022-05-08T16:02:45.946Z"
   },
   {
    "duration": 472,
    "start_time": "2022-05-08T16:02:45.968Z"
   },
   {
    "duration": 50,
    "start_time": "2022-05-08T16:02:46.443Z"
   },
   {
    "duration": 8,
    "start_time": "2022-05-08T16:03:27.390Z"
   },
   {
    "duration": 17,
    "start_time": "2022-05-08T16:03:42.308Z"
   },
   {
    "duration": 4,
    "start_time": "2022-05-08T16:03:48.410Z"
   },
   {
    "duration": 722,
    "start_time": "2022-05-08T16:03:48.417Z"
   },
   {
    "duration": 133,
    "start_time": "2022-05-08T16:03:49.141Z"
   },
   {
    "duration": 8,
    "start_time": "2022-05-08T16:03:49.276Z"
   },
   {
    "duration": 141,
    "start_time": "2022-05-08T16:03:49.287Z"
   },
   {
    "duration": 382,
    "start_time": "2022-05-08T16:03:49.430Z"
   },
   {
    "duration": 12,
    "start_time": "2022-05-08T16:03:49.814Z"
   },
   {
    "duration": 29,
    "start_time": "2022-05-08T16:03:49.828Z"
   },
   {
    "duration": 462,
    "start_time": "2022-05-08T16:03:49.859Z"
   },
   {
    "duration": 30,
    "start_time": "2022-05-08T16:03:50.325Z"
   },
   {
    "duration": 4,
    "start_time": "2022-05-08T16:08:04.741Z"
   },
   {
    "duration": 806,
    "start_time": "2022-05-08T16:08:04.748Z"
   },
   {
    "duration": 153,
    "start_time": "2022-05-08T16:08:05.557Z"
   },
   {
    "duration": 19,
    "start_time": "2022-05-08T16:08:05.713Z"
   },
   {
    "duration": 153,
    "start_time": "2022-05-08T16:08:05.736Z"
   },
   {
    "duration": 318,
    "start_time": "2022-05-08T16:08:05.891Z"
   },
   {
    "duration": 21,
    "start_time": "2022-05-08T16:08:06.211Z"
   },
   {
    "duration": 32,
    "start_time": "2022-05-08T16:08:06.235Z"
   },
   {
    "duration": 558,
    "start_time": "2022-05-08T16:08:06.271Z"
   },
   {
    "duration": 28,
    "start_time": "2022-05-08T16:08:06.834Z"
   },
   {
    "duration": 32,
    "start_time": "2022-05-08T16:45:29.410Z"
   },
   {
    "duration": 56,
    "start_time": "2022-05-08T16:47:32.413Z"
   },
   {
    "duration": 4,
    "start_time": "2022-05-08T16:47:43.444Z"
   },
   {
    "duration": 819,
    "start_time": "2022-05-08T16:47:43.452Z"
   },
   {
    "duration": 144,
    "start_time": "2022-05-08T16:47:44.273Z"
   },
   {
    "duration": 46,
    "start_time": "2022-05-08T16:47:44.424Z"
   },
   {
    "duration": 8,
    "start_time": "2022-05-08T16:47:44.472Z"
   },
   {
    "duration": 179,
    "start_time": "2022-05-08T16:47:44.483Z"
   },
   {
    "duration": 317,
    "start_time": "2022-05-08T16:47:44.666Z"
   },
   {
    "duration": 11,
    "start_time": "2022-05-08T16:47:44.985Z"
   },
   {
    "duration": 48,
    "start_time": "2022-05-08T16:47:45.000Z"
   },
   {
    "duration": 596,
    "start_time": "2022-05-08T16:47:45.052Z"
   },
   {
    "duration": 33,
    "start_time": "2022-05-08T16:47:45.650Z"
   },
   {
    "duration": 120,
    "start_time": "2022-05-08T16:47:45.686Z"
   },
   {
    "duration": 21,
    "start_time": "2022-05-08T16:51:12.506Z"
   },
   {
    "duration": 4,
    "start_time": "2022-05-08T16:51:55.400Z"
   },
   {
    "duration": 683,
    "start_time": "2022-05-08T16:51:55.407Z"
   },
   {
    "duration": 171,
    "start_time": "2022-05-08T16:51:56.093Z"
   },
   {
    "duration": 19,
    "start_time": "2022-05-08T16:51:56.267Z"
   },
   {
    "duration": 9,
    "start_time": "2022-05-08T16:51:56.290Z"
   },
   {
    "duration": 142,
    "start_time": "2022-05-08T16:51:56.301Z"
   },
   {
    "duration": 296,
    "start_time": "2022-05-08T16:51:56.445Z"
   },
   {
    "duration": 11,
    "start_time": "2022-05-08T16:51:56.743Z"
   },
   {
    "duration": 20,
    "start_time": "2022-05-08T16:51:56.757Z"
   },
   {
    "duration": 468,
    "start_time": "2022-05-08T16:51:56.779Z"
   },
   {
    "duration": 24,
    "start_time": "2022-05-08T16:51:57.249Z"
   },
   {
    "duration": 113,
    "start_time": "2022-05-08T16:51:57.275Z"
   },
   {
    "duration": 18,
    "start_time": "2022-05-08T16:54:46.455Z"
   },
   {
    "duration": 19,
    "start_time": "2022-05-08T16:54:55.964Z"
   },
   {
    "duration": 74,
    "start_time": "2022-05-08T16:55:24.607Z"
   },
   {
    "duration": 23,
    "start_time": "2022-05-08T16:55:29.022Z"
   },
   {
    "duration": 98,
    "start_time": "2022-05-08T16:55:45.608Z"
   },
   {
    "duration": 5,
    "start_time": "2022-05-08T16:57:21.938Z"
   },
   {
    "duration": 898,
    "start_time": "2022-05-08T16:57:21.947Z"
   },
   {
    "duration": 164,
    "start_time": "2022-05-08T16:57:22.847Z"
   },
   {
    "duration": 31,
    "start_time": "2022-05-08T16:57:23.014Z"
   },
   {
    "duration": 20,
    "start_time": "2022-05-08T16:57:23.048Z"
   },
   {
    "duration": 9,
    "start_time": "2022-05-08T16:57:23.071Z"
   },
   {
    "duration": 163,
    "start_time": "2022-05-08T16:57:23.083Z"
   },
   {
    "duration": 350,
    "start_time": "2022-05-08T16:57:23.249Z"
   },
   {
    "duration": 23,
    "start_time": "2022-05-08T16:57:23.601Z"
   },
   {
    "duration": 18,
    "start_time": "2022-05-08T16:57:23.630Z"
   },
   {
    "duration": 441,
    "start_time": "2022-05-08T16:57:23.652Z"
   },
   {
    "duration": 35,
    "start_time": "2022-05-08T16:57:24.095Z"
   },
   {
    "duration": 123,
    "start_time": "2022-05-08T16:57:24.133Z"
   },
   {
    "duration": 225,
    "start_time": "2022-05-08T16:57:45.989Z"
   },
   {
    "duration": 4,
    "start_time": "2022-05-08T16:57:53.897Z"
   },
   {
    "duration": 755,
    "start_time": "2022-05-08T16:57:53.904Z"
   },
   {
    "duration": 182,
    "start_time": "2022-05-08T16:57:54.661Z"
   },
   {
    "duration": 22,
    "start_time": "2022-05-08T16:57:54.846Z"
   },
   {
    "duration": 35,
    "start_time": "2022-05-08T16:57:54.870Z"
   },
   {
    "duration": 9,
    "start_time": "2022-05-08T16:57:54.926Z"
   },
   {
    "duration": 129,
    "start_time": "2022-05-08T16:57:54.938Z"
   },
   {
    "duration": 310,
    "start_time": "2022-05-08T16:57:55.069Z"
   },
   {
    "duration": 12,
    "start_time": "2022-05-08T16:57:55.382Z"
   },
   {
    "duration": 53,
    "start_time": "2022-05-08T16:57:55.397Z"
   },
   {
    "duration": 435,
    "start_time": "2022-05-08T16:57:55.452Z"
   },
   {
    "duration": 45,
    "start_time": "2022-05-08T16:57:55.890Z"
   },
   {
    "duration": 120,
    "start_time": "2022-05-08T16:57:55.938Z"
   },
   {
    "duration": 66,
    "start_time": "2022-05-08T16:59:36.152Z"
   },
   {
    "duration": 24,
    "start_time": "2022-05-08T16:59:39.421Z"
   },
   {
    "duration": 56,
    "start_time": "2022-05-08T17:05:27.585Z"
   },
   {
    "duration": 64,
    "start_time": "2022-05-08T17:05:36.180Z"
   },
   {
    "duration": 220,
    "start_time": "2022-05-08T17:05:51.142Z"
   },
   {
    "duration": 5,
    "start_time": "2022-05-08T17:06:18.160Z"
   },
   {
    "duration": 810,
    "start_time": "2022-05-08T17:06:18.169Z"
   },
   {
    "duration": 186,
    "start_time": "2022-05-08T17:06:18.982Z"
   },
   {
    "duration": 18,
    "start_time": "2022-05-08T17:06:19.171Z"
   },
   {
    "duration": 46,
    "start_time": "2022-05-08T17:06:19.191Z"
   },
   {
    "duration": 8,
    "start_time": "2022-05-08T17:06:19.239Z"
   },
   {
    "duration": 121,
    "start_time": "2022-05-08T17:06:19.249Z"
   },
   {
    "duration": 293,
    "start_time": "2022-05-08T17:06:19.373Z"
   },
   {
    "duration": 12,
    "start_time": "2022-05-08T17:06:19.669Z"
   },
   {
    "duration": 46,
    "start_time": "2022-05-08T17:06:19.686Z"
   },
   {
    "duration": 430,
    "start_time": "2022-05-08T17:06:19.735Z"
   },
   {
    "duration": 22,
    "start_time": "2022-05-08T17:06:20.167Z"
   },
   {
    "duration": 122,
    "start_time": "2022-05-08T17:06:20.192Z"
   },
   {
    "duration": 962,
    "start_time": "2022-05-08T17:10:05.353Z"
   },
   {
    "duration": 755,
    "start_time": "2022-05-08T17:10:06.318Z"
   },
   {
    "duration": 214,
    "start_time": "2022-05-08T17:10:07.075Z"
   },
   {
    "duration": 18,
    "start_time": "2022-05-08T17:10:07.291Z"
   },
   {
    "duration": 34,
    "start_time": "2022-05-08T17:10:07.312Z"
   },
   {
    "duration": 8,
    "start_time": "2022-05-08T17:10:07.349Z"
   },
   {
    "duration": 218,
    "start_time": "2022-05-08T17:10:07.359Z"
   },
   {
    "duration": 326,
    "start_time": "2022-05-08T17:10:07.580Z"
   },
   {
    "duration": 23,
    "start_time": "2022-05-08T17:10:07.909Z"
   },
   {
    "duration": 38,
    "start_time": "2022-05-08T17:10:07.935Z"
   },
   {
    "duration": 462,
    "start_time": "2022-05-08T17:10:07.975Z"
   },
   {
    "duration": 25,
    "start_time": "2022-05-08T17:10:08.440Z"
   },
   {
    "duration": 121,
    "start_time": "2022-05-08T17:10:08.467Z"
   },
   {
    "duration": 119,
    "start_time": "2022-05-08T17:11:16.288Z"
   },
   {
    "duration": 955,
    "start_time": "2022-05-08T17:11:26.940Z"
   },
   {
    "duration": 728,
    "start_time": "2022-05-08T17:11:27.898Z"
   },
   {
    "duration": 131,
    "start_time": "2022-05-08T17:11:28.628Z"
   },
   {
    "duration": 8,
    "start_time": "2022-05-08T17:11:28.762Z"
   },
   {
    "duration": 110,
    "start_time": "2022-05-08T17:11:28.773Z"
   },
   {
    "duration": 328,
    "start_time": "2022-05-08T17:11:28.886Z"
   },
   {
    "duration": 17,
    "start_time": "2022-05-08T17:11:29.216Z"
   },
   {
    "duration": 33,
    "start_time": "2022-05-08T17:11:29.235Z"
   },
   {
    "duration": 429,
    "start_time": "2022-05-08T17:11:29.270Z"
   },
   {
    "duration": 40,
    "start_time": "2022-05-08T17:11:29.702Z"
   },
   {
    "duration": 124,
    "start_time": "2022-05-08T17:11:29.744Z"
   },
   {
    "duration": 92,
    "start_time": "2022-05-08T17:23:56.760Z"
   },
   {
    "duration": 30,
    "start_time": "2022-05-08T17:24:04.855Z"
   },
   {
    "duration": 114,
    "start_time": "2022-05-08T17:25:39.891Z"
   },
   {
    "duration": 122,
    "start_time": "2022-05-08T17:28:21.428Z"
   },
   {
    "duration": 94,
    "start_time": "2022-05-08T17:28:29.288Z"
   },
   {
    "duration": 117,
    "start_time": "2022-05-08T17:28:35.047Z"
   },
   {
    "duration": 63,
    "start_time": "2022-05-08T17:28:46.550Z"
   },
   {
    "duration": 1194,
    "start_time": "2022-05-08T17:28:57.025Z"
   },
   {
    "duration": 977,
    "start_time": "2022-05-08T17:28:58.222Z"
   },
   {
    "duration": 154,
    "start_time": "2022-05-08T17:28:59.201Z"
   },
   {
    "duration": 73,
    "start_time": "2022-05-08T17:28:59.358Z"
   },
   {
    "duration": 9,
    "start_time": "2022-05-08T17:28:59.433Z"
   },
   {
    "duration": 118,
    "start_time": "2022-05-08T17:28:59.444Z"
   },
   {
    "duration": 346,
    "start_time": "2022-05-08T17:28:59.564Z"
   },
   {
    "duration": 19,
    "start_time": "2022-05-08T17:28:59.912Z"
   },
   {
    "duration": 21,
    "start_time": "2022-05-08T17:28:59.933Z"
   },
   {
    "duration": 449,
    "start_time": "2022-05-08T17:28:59.957Z"
   },
   {
    "duration": 42,
    "start_time": "2022-05-08T17:29:00.408Z"
   },
   {
    "duration": 189,
    "start_time": "2022-05-08T17:29:00.452Z"
   },
   {
    "duration": 4,
    "start_time": "2022-05-08T17:40:56.976Z"
   },
   {
    "duration": 72,
    "start_time": "2022-05-08T17:43:28.674Z"
   },
   {
    "duration": 1153,
    "start_time": "2022-05-08T17:43:35.433Z"
   },
   {
    "duration": 960,
    "start_time": "2022-05-08T17:43:36.589Z"
   },
   {
    "duration": 146,
    "start_time": "2022-05-08T17:43:37.551Z"
   },
   {
    "duration": 81,
    "start_time": "2022-05-08T17:43:37.699Z"
   },
   {
    "duration": 11,
    "start_time": "2022-05-08T17:43:37.784Z"
   },
   {
    "duration": 160,
    "start_time": "2022-05-08T17:43:37.797Z"
   },
   {
    "duration": 419,
    "start_time": "2022-05-08T17:43:37.959Z"
   },
   {
    "duration": 13,
    "start_time": "2022-05-08T17:43:38.381Z"
   },
   {
    "duration": 38,
    "start_time": "2022-05-08T17:43:38.396Z"
   },
   {
    "duration": 499,
    "start_time": "2022-05-08T17:43:38.437Z"
   },
   {
    "duration": 36,
    "start_time": "2022-05-08T17:43:38.939Z"
   },
   {
    "duration": 148,
    "start_time": "2022-05-08T17:43:38.978Z"
   },
   {
    "duration": 33,
    "start_time": "2022-05-08T17:44:50.719Z"
   },
   {
    "duration": 27,
    "start_time": "2022-05-08T17:45:32.845Z"
   },
   {
    "duration": 26,
    "start_time": "2022-05-08T17:45:48.793Z"
   },
   {
    "duration": 1848,
    "start_time": "2022-05-08T17:47:44.711Z"
   },
   {
    "duration": 32,
    "start_time": "2022-05-08T17:48:12.719Z"
   },
   {
    "duration": 15,
    "start_time": "2022-05-08T17:48:17.322Z"
   },
   {
    "duration": 22,
    "start_time": "2022-05-08T17:48:40.605Z"
   },
   {
    "duration": 30,
    "start_time": "2022-05-08T17:51:41.008Z"
   },
   {
    "duration": 38,
    "start_time": "2022-05-08T17:51:46.526Z"
   },
   {
    "duration": 62,
    "start_time": "2022-05-08T17:53:35.967Z"
   },
   {
    "duration": 5,
    "start_time": "2022-05-08T17:53:47.483Z"
   },
   {
    "duration": 50,
    "start_time": "2022-05-08T17:53:55.595Z"
   },
   {
    "duration": 53,
    "start_time": "2022-05-08T17:57:34.060Z"
   },
   {
    "duration": 46,
    "start_time": "2022-05-08T17:57:50.000Z"
   },
   {
    "duration": 76,
    "start_time": "2022-05-08T17:58:01.912Z"
   },
   {
    "duration": 6,
    "start_time": "2022-05-08T18:00:14.567Z"
   },
   {
    "duration": 11,
    "start_time": "2022-05-08T18:00:39.611Z"
   },
   {
    "duration": 7,
    "start_time": "2022-05-08T18:00:45.241Z"
   },
   {
    "duration": 132,
    "start_time": "2022-05-08T18:02:11.805Z"
   },
   {
    "duration": 2090,
    "start_time": "2022-05-08T18:02:22.055Z"
   },
   {
    "duration": 133,
    "start_time": "2022-05-08T18:02:38.145Z"
   },
   {
    "duration": 42,
    "start_time": "2022-05-08T18:05:09.039Z"
   },
   {
    "duration": 46,
    "start_time": "2022-05-08T18:05:21.601Z"
   },
   {
    "duration": 4,
    "start_time": "2022-05-08T18:05:29.373Z"
   },
   {
    "duration": 779,
    "start_time": "2022-05-08T18:05:29.380Z"
   },
   {
    "duration": 131,
    "start_time": "2022-05-08T18:05:30.161Z"
   },
   {
    "duration": 80,
    "start_time": "2022-05-08T18:05:30.294Z"
   },
   {
    "duration": 8,
    "start_time": "2022-05-08T18:05:30.377Z"
   },
   {
    "duration": 159,
    "start_time": "2022-05-08T18:05:30.387Z"
   },
   {
    "duration": 6,
    "start_time": "2022-05-08T18:05:30.549Z"
   },
   {
    "duration": 327,
    "start_time": "2022-05-08T18:05:30.558Z"
   },
   {
    "duration": 13,
    "start_time": "2022-05-08T18:05:30.887Z"
   },
   {
    "duration": 23,
    "start_time": "2022-05-08T18:05:30.925Z"
   },
   {
    "duration": 478,
    "start_time": "2022-05-08T18:05:30.950Z"
   },
   {
    "duration": 32,
    "start_time": "2022-05-08T18:05:31.431Z"
   },
   {
    "duration": 85,
    "start_time": "2022-05-08T18:05:31.466Z"
   },
   {
    "duration": 0,
    "start_time": "2022-05-08T18:05:31.554Z"
   },
   {
    "duration": 31,
    "start_time": "2022-05-08T18:06:02.760Z"
   },
   {
    "duration": 48,
    "start_time": "2022-05-08T18:06:09.679Z"
   },
   {
    "duration": 134,
    "start_time": "2022-05-08T18:12:48.888Z"
   },
   {
    "duration": 61,
    "start_time": "2022-05-08T18:12:59.999Z"
   },
   {
    "duration": 150,
    "start_time": "2022-05-08T18:13:20.041Z"
   },
   {
    "duration": 138,
    "start_time": "2022-05-08T18:13:25.597Z"
   },
   {
    "duration": 7,
    "start_time": "2022-05-08T18:14:11.239Z"
   },
   {
    "duration": 49,
    "start_time": "2022-05-08T18:14:19.002Z"
   },
   {
    "duration": 40,
    "start_time": "2022-05-08T18:14:46.052Z"
   },
   {
    "duration": 52,
    "start_time": "2022-05-08T18:15:07.989Z"
   },
   {
    "duration": 4,
    "start_time": "2022-05-08T18:15:12.912Z"
   },
   {
    "duration": 768,
    "start_time": "2022-05-08T18:15:12.919Z"
   },
   {
    "duration": 156,
    "start_time": "2022-05-08T18:15:13.689Z"
   },
   {
    "duration": 62,
    "start_time": "2022-05-08T18:15:13.848Z"
   },
   {
    "duration": 10,
    "start_time": "2022-05-08T18:15:13.928Z"
   },
   {
    "duration": 127,
    "start_time": "2022-05-08T18:15:13.941Z"
   },
   {
    "duration": 6,
    "start_time": "2022-05-08T18:15:14.070Z"
   },
   {
    "duration": 332,
    "start_time": "2022-05-08T18:15:14.079Z"
   },
   {
    "duration": 24,
    "start_time": "2022-05-08T18:15:14.414Z"
   },
   {
    "duration": 25,
    "start_time": "2022-05-08T18:15:14.441Z"
   },
   {
    "duration": 472,
    "start_time": "2022-05-08T18:15:14.468Z"
   },
   {
    "duration": 30,
    "start_time": "2022-05-08T18:15:14.942Z"
   },
   {
    "duration": 74,
    "start_time": "2022-05-08T18:15:14.974Z"
   },
   {
    "duration": 898,
    "start_time": "2022-05-08T18:15:38.477Z"
   },
   {
    "duration": 766,
    "start_time": "2022-05-08T18:15:39.378Z"
   },
   {
    "duration": 144,
    "start_time": "2022-05-08T18:15:40.147Z"
   },
   {
    "duration": 78,
    "start_time": "2022-05-08T18:15:40.294Z"
   },
   {
    "duration": 9,
    "start_time": "2022-05-08T18:15:40.374Z"
   },
   {
    "duration": 150,
    "start_time": "2022-05-08T18:15:40.386Z"
   },
   {
    "duration": 7,
    "start_time": "2022-05-08T18:15:40.540Z"
   },
   {
    "duration": 447,
    "start_time": "2022-05-08T18:15:40.550Z"
   },
   {
    "duration": 26,
    "start_time": "2022-05-08T18:15:40.999Z"
   },
   {
    "duration": 24,
    "start_time": "2022-05-08T18:15:41.030Z"
   },
   {
    "duration": 527,
    "start_time": "2022-05-08T18:15:41.056Z"
   },
   {
    "duration": 41,
    "start_time": "2022-05-08T18:15:41.585Z"
   },
   {
    "duration": 172,
    "start_time": "2022-05-08T18:15:41.629Z"
   },
   {
    "duration": 45,
    "start_time": "2022-05-08T18:16:06.939Z"
   },
   {
    "duration": 129,
    "start_time": "2022-05-08T18:16:29.824Z"
   },
   {
    "duration": 59,
    "start_time": "2022-05-08T18:16:37.096Z"
   },
   {
    "duration": 66,
    "start_time": "2022-05-08T18:17:12.471Z"
   },
   {
    "duration": 1204,
    "start_time": "2022-05-08T18:19:53.172Z"
   },
   {
    "duration": 796,
    "start_time": "2022-05-08T18:20:01.069Z"
   },
   {
    "duration": 41,
    "start_time": "2022-05-08T18:20:14.997Z"
   },
   {
    "duration": 151,
    "start_time": "2022-05-08T18:21:48.639Z"
   },
   {
    "duration": 59,
    "start_time": "2022-05-08T18:22:07.918Z"
   },
   {
    "duration": 51,
    "start_time": "2022-05-08T18:24:13.587Z"
   },
   {
    "duration": 69,
    "start_time": "2022-05-08T18:26:17.210Z"
   },
   {
    "duration": 86,
    "start_time": "2022-05-08T18:29:11.895Z"
   },
   {
    "duration": 73,
    "start_time": "2022-05-08T18:30:34.554Z"
   },
   {
    "duration": 42,
    "start_time": "2022-05-08T18:31:13.911Z"
   },
   {
    "duration": 37,
    "start_time": "2022-05-08T18:31:59.247Z"
   },
   {
    "duration": 99,
    "start_time": "2022-05-08T19:15:23.411Z"
   },
   {
    "duration": 69,
    "start_time": "2022-05-08T19:15:37.245Z"
   },
   {
    "duration": 68,
    "start_time": "2022-05-08T19:15:51.397Z"
   },
   {
    "duration": 67,
    "start_time": "2022-05-08T19:15:57.318Z"
   },
   {
    "duration": 64,
    "start_time": "2022-05-08T19:17:28.043Z"
   },
   {
    "duration": 83,
    "start_time": "2022-05-08T19:18:25.102Z"
   },
   {
    "duration": 98,
    "start_time": "2022-05-08T19:19:48.741Z"
   },
   {
    "duration": 80,
    "start_time": "2022-05-08T19:19:56.824Z"
   },
   {
    "duration": 85,
    "start_time": "2022-05-08T19:21:18.161Z"
   },
   {
    "duration": 47,
    "start_time": "2022-05-08T19:25:08.976Z"
   },
   {
    "duration": 87,
    "start_time": "2022-05-08T19:25:18.605Z"
   },
   {
    "duration": 88,
    "start_time": "2022-05-08T19:25:52.488Z"
   },
   {
    "duration": 862,
    "start_time": "2022-05-08T19:30:51.181Z"
   },
   {
    "duration": 696,
    "start_time": "2022-05-08T19:30:52.047Z"
   },
   {
    "duration": 145,
    "start_time": "2022-05-08T19:30:52.746Z"
   },
   {
    "duration": 76,
    "start_time": "2022-05-08T19:30:52.894Z"
   },
   {
    "duration": 10,
    "start_time": "2022-05-08T19:30:52.972Z"
   },
   {
    "duration": 175,
    "start_time": "2022-05-08T19:30:52.984Z"
   },
   {
    "duration": 7,
    "start_time": "2022-05-08T19:30:53.161Z"
   },
   {
    "duration": 391,
    "start_time": "2022-05-08T19:30:53.170Z"
   },
   {
    "duration": 13,
    "start_time": "2022-05-08T19:30:53.564Z"
   },
   {
    "duration": 44,
    "start_time": "2022-05-08T19:30:53.580Z"
   },
   {
    "duration": 598,
    "start_time": "2022-05-08T19:30:53.627Z"
   },
   {
    "duration": 32,
    "start_time": "2022-05-08T19:30:54.228Z"
   },
   {
    "duration": 130,
    "start_time": "2022-05-08T19:30:54.262Z"
   },
   {
    "duration": 155,
    "start_time": "2022-05-08T19:31:49.525Z"
   },
   {
    "duration": 911,
    "start_time": "2022-05-08T19:32:23.334Z"
   },
   {
    "duration": 693,
    "start_time": "2022-05-08T19:32:24.248Z"
   },
   {
    "duration": 136,
    "start_time": "2022-05-08T19:32:24.944Z"
   },
   {
    "duration": 72,
    "start_time": "2022-05-08T19:32:25.082Z"
   },
   {
    "duration": 9,
    "start_time": "2022-05-08T19:32:25.156Z"
   },
   {
    "duration": 112,
    "start_time": "2022-05-08T19:32:25.167Z"
   },
   {
    "duration": 6,
    "start_time": "2022-05-08T19:32:25.282Z"
   },
   {
    "duration": 416,
    "start_time": "2022-05-08T19:32:25.324Z"
   },
   {
    "duration": 14,
    "start_time": "2022-05-08T19:32:25.742Z"
   },
   {
    "duration": 28,
    "start_time": "2022-05-08T19:32:25.760Z"
   },
   {
    "duration": 649,
    "start_time": "2022-05-08T19:32:25.791Z"
   },
   {
    "duration": 38,
    "start_time": "2022-05-08T19:32:26.443Z"
   },
   {
    "duration": 258,
    "start_time": "2022-05-08T19:32:26.484Z"
   },
   {
    "duration": 54,
    "start_time": "2022-05-08T19:32:48.048Z"
   },
   {
    "duration": 38,
    "start_time": "2022-05-08T19:33:31.852Z"
   },
   {
    "duration": 25,
    "start_time": "2022-05-08T19:33:39.346Z"
   },
   {
    "duration": 1033,
    "start_time": "2022-05-08T19:33:50.580Z"
   },
   {
    "duration": 752,
    "start_time": "2022-05-08T19:33:51.616Z"
   },
   {
    "duration": 154,
    "start_time": "2022-05-08T19:33:52.371Z"
   },
   {
    "duration": 66,
    "start_time": "2022-05-08T19:33:52.528Z"
   },
   {
    "duration": 27,
    "start_time": "2022-05-08T19:33:52.597Z"
   },
   {
    "duration": 128,
    "start_time": "2022-05-08T19:33:52.627Z"
   },
   {
    "duration": 7,
    "start_time": "2022-05-08T19:33:52.757Z"
   },
   {
    "duration": 409,
    "start_time": "2022-05-08T19:33:52.766Z"
   },
   {
    "duration": 11,
    "start_time": "2022-05-08T19:33:53.178Z"
   },
   {
    "duration": 50,
    "start_time": "2022-05-08T19:33:53.194Z"
   },
   {
    "duration": 532,
    "start_time": "2022-05-08T19:33:53.247Z"
   },
   {
    "duration": 47,
    "start_time": "2022-05-08T19:33:53.782Z"
   },
   {
    "duration": 30,
    "start_time": "2022-05-08T19:33:53.831Z"
   },
   {
    "duration": 40,
    "start_time": "2022-05-08T19:34:10.553Z"
   },
   {
    "duration": 157,
    "start_time": "2022-05-08T19:36:46.406Z"
   },
   {
    "duration": 205,
    "start_time": "2022-05-08T20:04:54.242Z"
   },
   {
    "duration": 129,
    "start_time": "2022-05-08T20:05:32.830Z"
   },
   {
    "duration": 103,
    "start_time": "2022-05-08T20:11:22.671Z"
   },
   {
    "duration": 45,
    "start_time": "2022-05-08T20:14:27.325Z"
   },
   {
    "duration": 8,
    "start_time": "2022-05-08T20:24:29.734Z"
   },
   {
    "duration": 902,
    "start_time": "2022-05-08T20:24:44.585Z"
   },
   {
    "duration": 685,
    "start_time": "2022-05-08T20:24:45.490Z"
   },
   {
    "duration": 152,
    "start_time": "2022-05-08T20:24:46.178Z"
   },
   {
    "duration": 65,
    "start_time": "2022-05-08T20:24:46.333Z"
   },
   {
    "duration": 8,
    "start_time": "2022-05-08T20:24:46.400Z"
   },
   {
    "duration": 119,
    "start_time": "2022-05-08T20:24:46.426Z"
   },
   {
    "duration": 7,
    "start_time": "2022-05-08T20:24:46.547Z"
   },
   {
    "duration": 359,
    "start_time": "2022-05-08T20:24:46.556Z"
   },
   {
    "duration": 15,
    "start_time": "2022-05-08T20:24:46.917Z"
   },
   {
    "duration": 33,
    "start_time": "2022-05-08T20:24:46.938Z"
   },
   {
    "duration": 449,
    "start_time": "2022-05-08T20:24:46.974Z"
   },
   {
    "duration": 29,
    "start_time": "2022-05-08T20:24:47.425Z"
   },
   {
    "duration": 69,
    "start_time": "2022-05-08T20:24:47.456Z"
   },
   {
    "duration": 116,
    "start_time": "2022-05-08T20:24:47.528Z"
   },
   {
    "duration": 101,
    "start_time": "2022-05-08T20:25:47.557Z"
   },
   {
    "duration": 80,
    "start_time": "2022-05-08T20:27:13.338Z"
   },
   {
    "duration": 89,
    "start_time": "2022-05-08T20:28:21.013Z"
   },
   {
    "duration": 87,
    "start_time": "2022-05-08T20:29:02.356Z"
   },
   {
    "duration": 123,
    "start_time": "2022-05-08T20:29:46.699Z"
   },
   {
    "duration": 173,
    "start_time": "2022-05-08T20:29:52.385Z"
   },
   {
    "duration": 86,
    "start_time": "2022-05-08T20:30:28.666Z"
   },
   {
    "duration": 79,
    "start_time": "2022-05-08T20:30:58.139Z"
   },
   {
    "duration": 120,
    "start_time": "2022-05-08T20:31:53.382Z"
   },
   {
    "duration": 86,
    "start_time": "2022-05-08T20:32:16.524Z"
   },
   {
    "duration": 111,
    "start_time": "2022-05-08T20:32:41.670Z"
   },
   {
    "duration": 135,
    "start_time": "2022-05-08T20:34:09.186Z"
   },
   {
    "duration": 71,
    "start_time": "2022-05-10T09:12:15.186Z"
   },
   {
    "duration": 1124,
    "start_time": "2022-05-10T09:12:23.829Z"
   },
   {
    "duration": 918,
    "start_time": "2022-05-10T09:12:24.957Z"
   },
   {
    "duration": 129,
    "start_time": "2022-05-10T09:12:25.877Z"
   },
   {
    "duration": 70,
    "start_time": "2022-05-10T09:12:26.008Z"
   },
   {
    "duration": 7,
    "start_time": "2022-05-10T09:12:26.081Z"
   },
   {
    "duration": 111,
    "start_time": "2022-05-10T09:12:26.091Z"
   },
   {
    "duration": 310,
    "start_time": "2022-05-10T09:12:26.204Z"
   },
   {
    "duration": 10,
    "start_time": "2022-05-10T09:12:26.517Z"
   },
   {
    "duration": 37,
    "start_time": "2022-05-10T09:12:26.530Z"
   },
   {
    "duration": 448,
    "start_time": "2022-05-10T09:12:26.569Z"
   },
   {
    "duration": 35,
    "start_time": "2022-05-10T09:12:27.019Z"
   },
   {
    "duration": 172,
    "start_time": "2022-05-10T09:12:27.056Z"
   },
   {
    "duration": 116,
    "start_time": "2022-05-10T09:12:43.851Z"
   },
   {
    "duration": 103,
    "start_time": "2022-05-10T09:13:18.715Z"
   },
   {
    "duration": 124,
    "start_time": "2022-05-10T09:13:39.127Z"
   },
   {
    "duration": 110,
    "start_time": "2022-05-10T09:16:03.588Z"
   },
   {
    "duration": 104,
    "start_time": "2022-05-10T09:16:25.397Z"
   },
   {
    "duration": 109,
    "start_time": "2022-05-10T09:16:35.102Z"
   },
   {
    "duration": 126,
    "start_time": "2022-05-10T09:23:17.354Z"
   },
   {
    "duration": 141,
    "start_time": "2022-05-10T09:24:52.518Z"
   },
   {
    "duration": 104,
    "start_time": "2022-05-10T09:25:41.667Z"
   },
   {
    "duration": 100,
    "start_time": "2022-05-10T09:25:54.348Z"
   },
   {
    "duration": 145,
    "start_time": "2022-05-10T09:26:19.390Z"
   },
   {
    "duration": 125,
    "start_time": "2022-05-10T09:39:11.319Z"
   },
   {
    "duration": 143,
    "start_time": "2022-05-10T09:39:55.823Z"
   },
   {
    "duration": 131,
    "start_time": "2022-05-10T10:03:23.129Z"
   },
   {
    "duration": 105,
    "start_time": "2022-05-10T10:03:57.594Z"
   },
   {
    "duration": 156,
    "start_time": "2022-05-10T10:05:14.416Z"
   },
   {
    "duration": 140,
    "start_time": "2022-05-10T10:05:32.889Z"
   },
   {
    "duration": 139,
    "start_time": "2022-05-10T10:33:08.236Z"
   },
   {
    "duration": 6,
    "start_time": "2022-05-10T10:33:35.870Z"
   },
   {
    "duration": 36,
    "start_time": "2022-05-10T10:34:50.429Z"
   },
   {
    "duration": 208,
    "start_time": "2022-05-10T10:35:15.434Z"
   },
   {
    "duration": 218,
    "start_time": "2022-05-10T10:36:19.826Z"
   },
   {
    "duration": 193,
    "start_time": "2022-05-10T10:36:37.341Z"
   },
   {
    "duration": 333,
    "start_time": "2022-05-10T10:39:54.021Z"
   },
   {
    "duration": 45,
    "start_time": "2022-05-10T12:59:55.368Z"
   },
   {
    "duration": 27,
    "start_time": "2022-05-10T13:00:49.293Z"
   },
   {
    "duration": 1606,
    "start_time": "2022-05-10T13:02:06.499Z"
   },
   {
    "duration": 2061,
    "start_time": "2022-05-10T13:03:27.685Z"
   },
   {
    "duration": 1367,
    "start_time": "2022-05-10T13:03:40.606Z"
   },
   {
    "duration": 1415,
    "start_time": "2022-05-10T13:04:07.230Z"
   },
   {
    "duration": 1175,
    "start_time": "2022-05-10T13:04:21.774Z"
   },
   {
    "duration": 1520,
    "start_time": "2022-05-10T13:04:34.432Z"
   },
   {
    "duration": 39,
    "start_time": "2022-05-10T13:46:06.616Z"
   },
   {
    "duration": 12,
    "start_time": "2022-05-10T13:47:26.050Z"
   },
   {
    "duration": 29,
    "start_time": "2022-05-10T13:47:38.086Z"
   },
   {
    "duration": 37,
    "start_time": "2022-05-10T13:50:03.775Z"
   },
   {
    "duration": 38,
    "start_time": "2022-05-10T13:55:58.168Z"
   },
   {
    "duration": 44,
    "start_time": "2022-05-10T13:56:15.590Z"
   },
   {
    "duration": 109,
    "start_time": "2022-05-10T13:56:24.228Z"
   },
   {
    "duration": 36,
    "start_time": "2022-05-10T13:56:35.216Z"
   },
   {
    "duration": 33,
    "start_time": "2022-05-10T13:57:30.035Z"
   },
   {
    "duration": 2203,
    "start_time": "2022-05-10T13:58:28.406Z"
   },
   {
    "duration": 314,
    "start_time": "2022-05-10T13:58:52.689Z"
   },
   {
    "duration": 54,
    "start_time": "2022-05-10T13:59:15.595Z"
   },
   {
    "duration": 40,
    "start_time": "2022-05-10T13:59:21.368Z"
   },
   {
    "duration": 2332,
    "start_time": "2022-05-10T14:01:01.267Z"
   },
   {
    "duration": 1830,
    "start_time": "2022-05-10T14:01:23.789Z"
   },
   {
    "duration": 852,
    "start_time": "2022-05-10T14:02:02.486Z"
   },
   {
    "duration": 815,
    "start_time": "2022-05-10T14:02:03.340Z"
   },
   {
    "duration": 138,
    "start_time": "2022-05-10T14:02:04.158Z"
   },
   {
    "duration": 73,
    "start_time": "2022-05-10T14:02:04.298Z"
   },
   {
    "duration": 7,
    "start_time": "2022-05-10T14:02:04.374Z"
   },
   {
    "duration": 116,
    "start_time": "2022-05-10T14:02:04.383Z"
   },
   {
    "duration": 325,
    "start_time": "2022-05-10T14:02:04.502Z"
   },
   {
    "duration": 23,
    "start_time": "2022-05-10T14:02:04.829Z"
   },
   {
    "duration": 17,
    "start_time": "2022-05-10T14:02:04.854Z"
   },
   {
    "duration": 466,
    "start_time": "2022-05-10T14:02:04.874Z"
   },
   {
    "duration": 31,
    "start_time": "2022-05-10T14:02:05.343Z"
   },
   {
    "duration": 330,
    "start_time": "2022-05-10T14:02:05.377Z"
   },
   {
    "duration": 52,
    "start_time": "2022-05-10T14:02:05.710Z"
   },
   {
    "duration": 38,
    "start_time": "2022-05-10T14:02:05.766Z"
   },
   {
    "duration": 2158,
    "start_time": "2022-05-10T14:02:05.807Z"
   },
   {
    "duration": 2045,
    "start_time": "2022-05-10T14:37:03.952Z"
   },
   {
    "duration": 2130,
    "start_time": "2022-05-10T14:37:59.425Z"
   },
   {
    "duration": 10,
    "start_time": "2022-05-10T14:38:36.216Z"
   },
   {
    "duration": 31,
    "start_time": "2022-05-10T14:40:07.676Z"
   },
   {
    "duration": 33,
    "start_time": "2022-05-10T14:40:38.225Z"
   },
   {
    "duration": 1280,
    "start_time": "2022-05-10T14:41:24.049Z"
   },
   {
    "duration": 1201,
    "start_time": "2022-05-10T14:41:40.401Z"
   },
   {
    "duration": 1190,
    "start_time": "2022-05-10T14:41:45.270Z"
   },
   {
    "duration": 1236,
    "start_time": "2022-05-10T14:41:56.776Z"
   },
   {
    "duration": 1101,
    "start_time": "2022-05-10T14:42:06.415Z"
   },
   {
    "duration": 1092,
    "start_time": "2022-05-10T14:42:13.280Z"
   },
   {
    "duration": 1217,
    "start_time": "2022-05-10T14:42:42.583Z"
   },
   {
    "duration": 1240,
    "start_time": "2022-05-10T14:42:48.997Z"
   },
   {
    "duration": 1142,
    "start_time": "2022-05-10T14:42:53.454Z"
   },
   {
    "duration": 1212,
    "start_time": "2022-05-10T14:43:21.598Z"
   },
   {
    "duration": 1196,
    "start_time": "2022-05-10T14:43:45.488Z"
   },
   {
    "duration": 313,
    "start_time": "2022-05-10T14:46:28.025Z"
   },
   {
    "duration": 110,
    "start_time": "2022-05-10T14:46:36.220Z"
   },
   {
    "duration": 1051,
    "start_time": "2022-05-10T14:46:40.543Z"
   },
   {
    "duration": 31,
    "start_time": "2022-05-10T14:54:23.323Z"
   },
   {
    "duration": 3184,
    "start_time": "2022-05-10T14:54:39.125Z"
   },
   {
    "duration": 31,
    "start_time": "2022-05-10T14:55:01.087Z"
   },
   {
    "duration": 1441,
    "start_time": "2022-05-10T14:55:05.840Z"
   },
   {
    "duration": 1430,
    "start_time": "2022-05-10T14:55:35.031Z"
   },
   {
    "duration": 1431,
    "start_time": "2022-05-10T14:55:50.883Z"
   },
   {
    "duration": 1441,
    "start_time": "2022-05-10T14:56:05.502Z"
   },
   {
    "duration": 1370,
    "start_time": "2022-05-10T14:56:13.200Z"
   },
   {
    "duration": 257,
    "start_time": "2022-05-10T14:56:27.104Z"
   },
   {
    "duration": 1399,
    "start_time": "2022-05-10T14:56:33.033Z"
   },
   {
    "duration": 1320,
    "start_time": "2022-05-10T14:56:40.079Z"
   },
   {
    "duration": 2113,
    "start_time": "2022-05-10T14:57:49.656Z"
   },
   {
    "duration": 2264,
    "start_time": "2022-05-10T14:58:06.824Z"
   },
   {
    "duration": 323,
    "start_time": "2022-05-10T14:58:21.758Z"
   },
   {
    "duration": 402,
    "start_time": "2022-05-10T14:58:25.750Z"
   },
   {
    "duration": 1407,
    "start_time": "2022-05-10T14:59:38.769Z"
   },
   {
    "duration": 296,
    "start_time": "2022-05-10T14:59:50.721Z"
   },
   {
    "duration": 1468,
    "start_time": "2022-05-10T15:00:02.190Z"
   },
   {
    "duration": 1363,
    "start_time": "2022-05-10T15:00:16.188Z"
   },
   {
    "duration": 1460,
    "start_time": "2022-05-10T15:00:41.021Z"
   },
   {
    "duration": 1479,
    "start_time": "2022-05-10T15:02:10.291Z"
   },
   {
    "duration": 1336,
    "start_time": "2022-05-10T15:03:51.850Z"
   },
   {
    "duration": 1321,
    "start_time": "2022-05-10T15:15:42.658Z"
   },
   {
    "duration": 1159,
    "start_time": "2022-05-10T15:16:52.851Z"
   },
   {
    "duration": 750,
    "start_time": "2022-05-10T15:16:54.013Z"
   },
   {
    "duration": 210,
    "start_time": "2022-05-10T15:16:54.766Z"
   },
   {
    "duration": 107,
    "start_time": "2022-05-10T15:16:54.979Z"
   },
   {
    "duration": 9,
    "start_time": "2022-05-10T15:16:55.092Z"
   },
   {
    "duration": 109,
    "start_time": "2022-05-10T15:16:55.103Z"
   },
   {
    "duration": 348,
    "start_time": "2022-05-10T15:16:55.214Z"
   },
   {
    "duration": 10,
    "start_time": "2022-05-10T15:16:55.564Z"
   },
   {
    "duration": 22,
    "start_time": "2022-05-10T15:16:55.577Z"
   },
   {
    "duration": 453,
    "start_time": "2022-05-10T15:16:55.601Z"
   },
   {
    "duration": 27,
    "start_time": "2022-05-10T15:16:56.056Z"
   },
   {
    "duration": 318,
    "start_time": "2022-05-10T15:16:56.086Z"
   },
   {
    "duration": 32,
    "start_time": "2022-05-10T15:16:56.406Z"
   },
   {
    "duration": 31,
    "start_time": "2022-05-10T15:16:56.454Z"
   },
   {
    "duration": 210,
    "start_time": "2022-05-10T15:16:56.487Z"
   },
   {
    "duration": 17,
    "start_time": "2022-05-10T15:17:09.677Z"
   },
   {
    "duration": 894,
    "start_time": "2022-05-10T15:17:19.975Z"
   },
   {
    "duration": 714,
    "start_time": "2022-05-10T15:17:20.872Z"
   },
   {
    "duration": 223,
    "start_time": "2022-05-10T15:17:21.589Z"
   },
   {
    "duration": 105,
    "start_time": "2022-05-10T15:17:21.815Z"
   },
   {
    "duration": 9,
    "start_time": "2022-05-10T15:17:21.924Z"
   },
   {
    "duration": 139,
    "start_time": "2022-05-10T15:17:21.935Z"
   },
   {
    "duration": 336,
    "start_time": "2022-05-10T15:17:22.076Z"
   },
   {
    "duration": 12,
    "start_time": "2022-05-10T15:17:22.415Z"
   },
   {
    "duration": 18,
    "start_time": "2022-05-10T15:17:22.452Z"
   },
   {
    "duration": 453,
    "start_time": "2022-05-10T15:17:22.472Z"
   },
   {
    "duration": 36,
    "start_time": "2022-05-10T15:17:22.928Z"
   },
   {
    "duration": 315,
    "start_time": "2022-05-10T15:17:22.966Z"
   },
   {
    "duration": 31,
    "start_time": "2022-05-10T15:17:23.284Z"
   },
   {
    "duration": 53,
    "start_time": "2022-05-10T15:17:23.319Z"
   },
   {
    "duration": 131,
    "start_time": "2022-05-10T15:17:23.375Z"
   },
   {
    "duration": 867,
    "start_time": "2022-05-10T15:17:44.024Z"
   },
   {
    "duration": 715,
    "start_time": "2022-05-10T15:17:44.894Z"
   },
   {
    "duration": 168,
    "start_time": "2022-05-10T15:17:45.611Z"
   },
   {
    "duration": 78,
    "start_time": "2022-05-10T15:17:45.782Z"
   },
   {
    "duration": 7,
    "start_time": "2022-05-10T15:17:45.862Z"
   },
   {
    "duration": 118,
    "start_time": "2022-05-10T15:17:45.871Z"
   },
   {
    "duration": 344,
    "start_time": "2022-05-10T15:17:45.992Z"
   },
   {
    "duration": 21,
    "start_time": "2022-05-10T15:17:46.338Z"
   },
   {
    "duration": 54,
    "start_time": "2022-05-10T15:17:46.362Z"
   },
   {
    "duration": 453,
    "start_time": "2022-05-10T15:17:46.419Z"
   },
   {
    "duration": 28,
    "start_time": "2022-05-10T15:17:46.874Z"
   },
   {
    "duration": 323,
    "start_time": "2022-05-10T15:17:46.904Z"
   },
   {
    "duration": 38,
    "start_time": "2022-05-10T15:17:47.229Z"
   },
   {
    "duration": 30,
    "start_time": "2022-05-10T15:17:47.269Z"
   },
   {
    "duration": 1521,
    "start_time": "2022-05-10T15:17:47.301Z"
   },
   {
    "duration": 118,
    "start_time": "2022-05-10T15:25:37.873Z"
   },
   {
    "duration": 32,
    "start_time": "2022-05-10T15:25:49.157Z"
   },
   {
    "duration": 4,
    "start_time": "2022-05-10T15:32:30.001Z"
   },
   {
    "duration": 1180,
    "start_time": "2022-05-10T15:33:43.437Z"
   },
   {
    "duration": 14,
    "start_time": "2022-05-10T15:35:00.119Z"
   },
   {
    "duration": 714,
    "start_time": "2022-05-10T15:35:09.153Z"
   },
   {
    "duration": 1243,
    "start_time": "2022-05-10T15:35:40.921Z"
   },
   {
    "duration": 1517,
    "start_time": "2022-05-10T15:35:50.992Z"
   },
   {
    "duration": 1735,
    "start_time": "2022-05-10T15:36:25.943Z"
   },
   {
    "duration": 1749,
    "start_time": "2022-05-10T15:38:03.321Z"
   },
   {
    "duration": 1401,
    "start_time": "2022-05-10T15:38:17.385Z"
   },
   {
    "duration": 1289,
    "start_time": "2022-05-10T15:39:23.568Z"
   },
   {
    "duration": 458,
    "start_time": "2022-05-10T15:39:41.238Z"
   },
   {
    "duration": 1712,
    "start_time": "2022-05-10T15:39:48.466Z"
   },
   {
    "duration": 2530,
    "start_time": "2022-05-10T15:41:22.614Z"
   },
   {
    "duration": 1396,
    "start_time": "2022-05-10T15:42:57.172Z"
   },
   {
    "duration": 1514,
    "start_time": "2022-05-10T15:43:14.789Z"
   },
   {
    "duration": 1391,
    "start_time": "2022-05-10T15:43:32.185Z"
   },
   {
    "duration": 1472,
    "start_time": "2022-05-10T15:43:38.215Z"
   },
   {
    "duration": 19,
    "start_time": "2022-05-10T15:52:08.573Z"
   },
   {
    "duration": 15,
    "start_time": "2022-05-10T15:52:21.546Z"
   },
   {
    "duration": 17,
    "start_time": "2022-05-10T15:52:27.177Z"
   },
   {
    "duration": 13,
    "start_time": "2022-05-10T15:52:33.177Z"
   },
   {
    "duration": 16,
    "start_time": "2022-05-10T16:00:18.684Z"
   },
   {
    "duration": 11,
    "start_time": "2022-05-10T16:08:48.144Z"
   },
   {
    "duration": 9,
    "start_time": "2022-05-10T16:09:00.062Z"
   },
   {
    "duration": 8,
    "start_time": "2022-05-10T16:10:19.727Z"
   },
   {
    "duration": 6,
    "start_time": "2022-05-10T16:11:21.596Z"
   },
   {
    "duration": 17,
    "start_time": "2022-05-10T16:11:39.484Z"
   },
   {
    "duration": 788,
    "start_time": "2022-05-10T16:12:03.491Z"
   },
   {
    "duration": 682,
    "start_time": "2022-05-10T16:12:04.282Z"
   },
   {
    "duration": 137,
    "start_time": "2022-05-10T16:12:04.967Z"
   },
   {
    "duration": 78,
    "start_time": "2022-05-10T16:12:05.107Z"
   },
   {
    "duration": 8,
    "start_time": "2022-05-10T16:12:05.188Z"
   },
   {
    "duration": 117,
    "start_time": "2022-05-10T16:12:05.199Z"
   },
   {
    "duration": 374,
    "start_time": "2022-05-10T16:12:05.319Z"
   },
   {
    "duration": 11,
    "start_time": "2022-05-10T16:12:05.695Z"
   },
   {
    "duration": 19,
    "start_time": "2022-05-10T16:12:05.708Z"
   },
   {
    "duration": 477,
    "start_time": "2022-05-10T16:12:05.755Z"
   },
   {
    "duration": 35,
    "start_time": "2022-05-10T16:12:06.235Z"
   },
   {
    "duration": 313,
    "start_time": "2022-05-10T16:12:06.272Z"
   },
   {
    "duration": 18,
    "start_time": "2022-05-10T16:12:06.587Z"
   },
   {
    "duration": 123,
    "start_time": "2022-05-10T16:12:06.607Z"
   },
   {
    "duration": 0,
    "start_time": "2022-05-10T16:12:06.733Z"
   },
   {
    "duration": 0,
    "start_time": "2022-05-10T16:12:06.734Z"
   },
   {
    "duration": 0,
    "start_time": "2022-05-10T16:12:06.736Z"
   },
   {
    "duration": 0,
    "start_time": "2022-05-10T16:12:06.752Z"
   },
   {
    "duration": 0,
    "start_time": "2022-05-10T16:12:06.753Z"
   },
   {
    "duration": 0,
    "start_time": "2022-05-10T16:12:06.755Z"
   },
   {
    "duration": 0,
    "start_time": "2022-05-10T16:12:06.757Z"
   },
   {
    "duration": 844,
    "start_time": "2022-05-10T16:13:07.274Z"
   },
   {
    "duration": 698,
    "start_time": "2022-05-10T16:13:08.121Z"
   },
   {
    "duration": 155,
    "start_time": "2022-05-10T16:13:08.821Z"
   },
   {
    "duration": 78,
    "start_time": "2022-05-10T16:13:08.980Z"
   },
   {
    "duration": 9,
    "start_time": "2022-05-10T16:13:09.060Z"
   },
   {
    "duration": 131,
    "start_time": "2022-05-10T16:13:09.072Z"
   },
   {
    "duration": 360,
    "start_time": "2022-05-10T16:13:09.206Z"
   },
   {
    "duration": 11,
    "start_time": "2022-05-10T16:13:09.568Z"
   },
   {
    "duration": 21,
    "start_time": "2022-05-10T16:13:09.581Z"
   },
   {
    "duration": 465,
    "start_time": "2022-05-10T16:13:09.606Z"
   },
   {
    "duration": 29,
    "start_time": "2022-05-10T16:13:10.073Z"
   },
   {
    "duration": 323,
    "start_time": "2022-05-10T16:13:10.104Z"
   },
   {
    "duration": 35,
    "start_time": "2022-05-10T16:13:10.430Z"
   },
   {
    "duration": 12,
    "start_time": "2022-05-10T16:13:10.468Z"
   },
   {
    "duration": 10,
    "start_time": "2022-05-10T16:13:10.483Z"
   },
   {
    "duration": 22,
    "start_time": "2022-05-10T16:13:10.495Z"
   },
   {
    "duration": 50,
    "start_time": "2022-05-10T16:13:10.521Z"
   },
   {
    "duration": 27,
    "start_time": "2022-05-10T16:13:10.574Z"
   },
   {
    "duration": 1502,
    "start_time": "2022-05-10T16:13:10.603Z"
   },
   {
    "duration": 15,
    "start_time": "2022-05-10T16:13:12.108Z"
   },
   {
    "duration": 599,
    "start_time": "2022-05-10T16:13:12.125Z"
   },
   {
    "duration": 476,
    "start_time": "2022-05-10T16:13:23.055Z"
   },
   {
    "duration": 1507,
    "start_time": "2022-05-10T16:13:31.281Z"
   },
   {
    "duration": 13,
    "start_time": "2022-05-10T16:18:55.221Z"
   },
   {
    "duration": 14,
    "start_time": "2022-05-10T16:19:12.723Z"
   },
   {
    "duration": 3017,
    "start_time": "2022-05-10T16:21:11.544Z"
   },
   {
    "duration": 2766,
    "start_time": "2022-05-10T16:21:51.294Z"
   },
   {
    "duration": 1679,
    "start_time": "2022-05-10T16:22:06.793Z"
   },
   {
    "duration": 1496,
    "start_time": "2022-05-10T16:22:34.998Z"
   },
   {
    "duration": 1585,
    "start_time": "2022-05-10T16:48:27.739Z"
   },
   {
    "duration": 1527,
    "start_time": "2022-05-10T16:48:41.366Z"
   },
   {
    "duration": 1523,
    "start_time": "2022-05-10T16:49:24.596Z"
   },
   {
    "duration": 1572,
    "start_time": "2022-05-10T16:50:27.213Z"
   },
   {
    "duration": 1505,
    "start_time": "2022-05-10T16:50:45.586Z"
   },
   {
    "duration": 64,
    "start_time": "2022-05-10T16:51:33.629Z"
   },
   {
    "duration": 468,
    "start_time": "2022-05-10T16:52:26.921Z"
   },
   {
    "duration": 550,
    "start_time": "2022-05-10T16:52:40.678Z"
   },
   {
    "duration": 1609,
    "start_time": "2022-05-10T16:52:53.128Z"
   },
   {
    "duration": 1936,
    "start_time": "2022-05-10T16:53:03.234Z"
   },
   {
    "duration": 28,
    "start_time": "2022-05-10T16:53:16.438Z"
   },
   {
    "duration": 30,
    "start_time": "2022-05-10T16:53:40.136Z"
   },
   {
    "duration": 31,
    "start_time": "2022-05-10T16:54:06.958Z"
   },
   {
    "duration": 2084,
    "start_time": "2022-05-10T18:21:45.969Z"
   },
   {
    "duration": 1573,
    "start_time": "2022-05-10T18:22:06.207Z"
   },
   {
    "duration": 36,
    "start_time": "2022-05-10T18:22:24.896Z"
   },
   {
    "duration": 37,
    "start_time": "2022-05-10T18:22:31.361Z"
   },
   {
    "duration": 133,
    "start_time": "2022-05-10T19:08:34.017Z"
   },
   {
    "duration": 16,
    "start_time": "2022-05-10T19:09:04.798Z"
   },
   {
    "duration": 15,
    "start_time": "2022-05-10T19:09:47.761Z"
   },
   {
    "duration": 1785,
    "start_time": "2022-05-10T19:09:55.923Z"
   },
   {
    "duration": 1061,
    "start_time": "2022-05-10T19:09:57.713Z"
   },
   {
    "duration": 169,
    "start_time": "2022-05-10T19:09:58.777Z"
   },
   {
    "duration": 75,
    "start_time": "2022-05-10T19:09:58.949Z"
   },
   {
    "duration": 25,
    "start_time": "2022-05-10T19:09:59.027Z"
   },
   {
    "duration": 229,
    "start_time": "2022-05-10T19:09:59.055Z"
   },
   {
    "duration": 397,
    "start_time": "2022-05-10T19:09:59.286Z"
   },
   {
    "duration": 14,
    "start_time": "2022-05-10T19:09:59.685Z"
   },
   {
    "duration": 27,
    "start_time": "2022-05-10T19:09:59.701Z"
   },
   {
    "duration": 493,
    "start_time": "2022-05-10T19:09:59.731Z"
   },
   {
    "duration": 42,
    "start_time": "2022-05-10T19:10:00.227Z"
   },
   {
    "duration": 403,
    "start_time": "2022-05-10T19:10:00.272Z"
   },
   {
    "duration": 18,
    "start_time": "2022-05-10T19:10:00.678Z"
   },
   {
    "duration": 28,
    "start_time": "2022-05-10T19:10:00.700Z"
   },
   {
    "duration": 25,
    "start_time": "2022-05-10T19:10:00.730Z"
   },
   {
    "duration": 27,
    "start_time": "2022-05-10T19:10:00.758Z"
   },
   {
    "duration": 30,
    "start_time": "2022-05-10T19:10:00.789Z"
   },
   {
    "duration": 48,
    "start_time": "2022-05-10T19:10:00.823Z"
   },
   {
    "duration": 1215,
    "start_time": "2022-05-10T19:10:00.873Z"
   },
   {
    "duration": 15,
    "start_time": "2022-05-10T19:10:02.091Z"
   },
   {
    "duration": 1667,
    "start_time": "2022-05-10T19:10:02.108Z"
   },
   {
    "duration": 37,
    "start_time": "2022-05-10T19:10:03.778Z"
   },
   {
    "duration": 64,
    "start_time": "2022-05-10T19:10:03.818Z"
   },
   {
    "duration": 1985,
    "start_time": "2022-05-10T19:10:03.884Z"
   },
   {
    "duration": 8,
    "start_time": "2022-05-10T19:11:19.927Z"
   },
   {
    "duration": 8,
    "start_time": "2022-05-10T19:11:36.561Z"
   },
   {
    "duration": 8,
    "start_time": "2022-05-10T19:11:39.677Z"
   },
   {
    "duration": 7,
    "start_time": "2022-05-10T19:11:44.296Z"
   },
   {
    "duration": 7,
    "start_time": "2022-05-10T19:15:16.971Z"
   },
   {
    "duration": 12,
    "start_time": "2022-05-10T19:25:58.686Z"
   },
   {
    "duration": 12,
    "start_time": "2022-05-10T19:26:48.404Z"
   },
   {
    "duration": 33,
    "start_time": "2022-05-10T19:26:53.990Z"
   },
   {
    "duration": 16,
    "start_time": "2022-05-10T19:27:27.738Z"
   },
   {
    "duration": 13,
    "start_time": "2022-05-10T20:04:50.857Z"
   },
   {
    "duration": 1337,
    "start_time": "2022-05-10T20:28:18.768Z"
   },
   {
    "duration": 653,
    "start_time": "2022-05-10T20:28:20.108Z"
   },
   {
    "duration": 133,
    "start_time": "2022-05-10T20:28:20.763Z"
   },
   {
    "duration": 72,
    "start_time": "2022-05-10T20:28:20.898Z"
   },
   {
    "duration": 7,
    "start_time": "2022-05-10T20:28:20.973Z"
   },
   {
    "duration": 115,
    "start_time": "2022-05-10T20:28:20.982Z"
   },
   {
    "duration": 327,
    "start_time": "2022-05-10T20:28:21.099Z"
   },
   {
    "duration": 11,
    "start_time": "2022-05-10T20:28:21.428Z"
   },
   {
    "duration": 16,
    "start_time": "2022-05-10T20:28:21.452Z"
   },
   {
    "duration": 514,
    "start_time": "2022-05-10T20:28:21.470Z"
   },
   {
    "duration": 65,
    "start_time": "2022-05-10T20:28:21.987Z"
   },
   {
    "duration": 300,
    "start_time": "2022-05-10T20:28:22.054Z"
   },
   {
    "duration": 15,
    "start_time": "2022-05-10T20:28:22.357Z"
   },
   {
    "duration": 26,
    "start_time": "2022-05-10T20:28:22.376Z"
   },
   {
    "duration": 26,
    "start_time": "2022-05-10T20:28:22.404Z"
   },
   {
    "duration": 28,
    "start_time": "2022-05-10T20:28:22.432Z"
   },
   {
    "duration": 29,
    "start_time": "2022-05-10T20:28:22.462Z"
   },
   {
    "duration": 22,
    "start_time": "2022-05-10T20:28:22.493Z"
   },
   {
    "duration": 1134,
    "start_time": "2022-05-10T20:28:22.517Z"
   },
   {
    "duration": 13,
    "start_time": "2022-05-10T20:28:23.654Z"
   },
   {
    "duration": 37,
    "start_time": "2022-05-10T20:28:23.668Z"
   },
   {
    "duration": 1502,
    "start_time": "2022-05-10T20:28:23.707Z"
   },
   {
    "duration": 48,
    "start_time": "2022-05-10T20:28:25.211Z"
   },
   {
    "duration": 31,
    "start_time": "2022-05-10T20:28:25.262Z"
   },
   {
    "duration": 7,
    "start_time": "2022-05-10T20:28:25.295Z"
   },
   {
    "duration": 15,
    "start_time": "2022-05-10T20:28:25.304Z"
   },
   {
    "duration": 1334,
    "start_time": "2022-05-11T06:45:38.883Z"
   },
   {
    "duration": 137,
    "start_time": "2022-05-11T06:47:25.646Z"
   },
   {
    "duration": 102,
    "start_time": "2022-05-11T06:59:58.579Z"
   },
   {
    "duration": 10,
    "start_time": "2022-05-11T07:00:11.814Z"
   },
   {
    "duration": 4,
    "start_time": "2022-05-11T07:00:21.252Z"
   },
   {
    "duration": 582,
    "start_time": "2022-05-11T07:00:21.258Z"
   },
   {
    "duration": 96,
    "start_time": "2022-05-11T07:00:21.842Z"
   },
   {
    "duration": 50,
    "start_time": "2022-05-11T07:00:21.940Z"
   },
   {
    "duration": 6,
    "start_time": "2022-05-11T07:00:21.992Z"
   },
   {
    "duration": 86,
    "start_time": "2022-05-11T07:00:22.000Z"
   },
   {
    "duration": 263,
    "start_time": "2022-05-11T07:00:22.088Z"
   },
   {
    "duration": 9,
    "start_time": "2022-05-11T07:00:22.353Z"
   },
   {
    "duration": 18,
    "start_time": "2022-05-11T07:00:22.363Z"
   },
   {
    "duration": 320,
    "start_time": "2022-05-11T07:00:22.385Z"
   },
   {
    "duration": 31,
    "start_time": "2022-05-11T07:00:22.706Z"
   },
   {
    "duration": 212,
    "start_time": "2022-05-11T07:00:22.739Z"
   },
   {
    "duration": 11,
    "start_time": "2022-05-11T07:00:22.953Z"
   },
   {
    "duration": 6,
    "start_time": "2022-05-11T07:00:22.966Z"
   },
   {
    "duration": 9,
    "start_time": "2022-05-11T07:00:22.974Z"
   },
   {
    "duration": 12,
    "start_time": "2022-05-11T07:00:22.985Z"
   },
   {
    "duration": 48,
    "start_time": "2022-05-11T07:00:22.998Z"
   },
   {
    "duration": 17,
    "start_time": "2022-05-11T07:00:23.047Z"
   },
   {
    "duration": 835,
    "start_time": "2022-05-11T07:00:23.066Z"
   },
   {
    "duration": 13,
    "start_time": "2022-05-11T07:00:23.903Z"
   },
   {
    "duration": 29,
    "start_time": "2022-05-11T07:00:23.918Z"
   },
   {
    "duration": 1133,
    "start_time": "2022-05-11T07:00:23.949Z"
   },
   {
    "duration": 25,
    "start_time": "2022-05-11T07:00:25.084Z"
   },
   {
    "duration": 45,
    "start_time": "2022-05-11T07:00:25.111Z"
   },
   {
    "duration": 5,
    "start_time": "2022-05-11T07:00:25.158Z"
   },
   {
    "duration": 31,
    "start_time": "2022-05-11T07:00:25.165Z"
   },
   {
    "duration": 293,
    "start_time": "2022-05-11T07:02:39.289Z"
   },
   {
    "duration": 298,
    "start_time": "2022-05-11T07:04:21.969Z"
   },
   {
    "duration": 293,
    "start_time": "2022-05-11T07:05:23.516Z"
   },
   {
    "duration": 377,
    "start_time": "2022-05-11T07:05:51.070Z"
   },
   {
    "duration": 199,
    "start_time": "2022-05-11T07:08:36.761Z"
   },
   {
    "duration": 148,
    "start_time": "2022-05-11T07:09:43.784Z"
   },
   {
    "duration": 14,
    "start_time": "2022-05-11T07:10:47.882Z"
   },
   {
    "duration": 13,
    "start_time": "2022-05-11T07:18:05.691Z"
   },
   {
    "duration": 7,
    "start_time": "2022-05-11T07:18:09.435Z"
   },
   {
    "duration": 13,
    "start_time": "2022-05-11T07:18:11.918Z"
   },
   {
    "duration": 6,
    "start_time": "2022-05-11T07:18:26.136Z"
   },
   {
    "duration": 1196,
    "start_time": "2022-05-11T07:46:26.701Z"
   },
   {
    "duration": 583,
    "start_time": "2022-05-11T07:46:27.899Z"
   },
   {
    "duration": 117,
    "start_time": "2022-05-11T07:46:28.484Z"
   },
   {
    "duration": 61,
    "start_time": "2022-05-11T07:46:28.604Z"
   },
   {
    "duration": 8,
    "start_time": "2022-05-11T07:46:28.667Z"
   },
   {
    "duration": 99,
    "start_time": "2022-05-11T07:46:28.676Z"
   },
   {
    "duration": 260,
    "start_time": "2022-05-11T07:46:28.777Z"
   },
   {
    "duration": 9,
    "start_time": "2022-05-11T07:46:29.039Z"
   },
   {
    "duration": 22,
    "start_time": "2022-05-11T07:46:29.050Z"
   },
   {
    "duration": 318,
    "start_time": "2022-05-11T07:46:29.075Z"
   },
   {
    "duration": 24,
    "start_time": "2022-05-11T07:46:29.395Z"
   },
   {
    "duration": 217,
    "start_time": "2022-05-11T07:46:29.435Z"
   },
   {
    "duration": 14,
    "start_time": "2022-05-11T07:46:29.655Z"
   },
   {
    "duration": 12,
    "start_time": "2022-05-11T07:46:29.671Z"
   },
   {
    "duration": 19,
    "start_time": "2022-05-11T07:46:29.685Z"
   },
   {
    "duration": 36,
    "start_time": "2022-05-11T07:46:29.706Z"
   },
   {
    "duration": 19,
    "start_time": "2022-05-11T07:46:29.744Z"
   },
   {
    "duration": 812,
    "start_time": "2022-05-11T07:46:29.766Z"
   },
   {
    "duration": 10,
    "start_time": "2022-05-11T07:46:30.580Z"
   },
   {
    "duration": 24,
    "start_time": "2022-05-11T07:46:30.591Z"
   },
   {
    "duration": 1107,
    "start_time": "2022-05-11T07:46:30.617Z"
   },
   {
    "duration": 30,
    "start_time": "2022-05-11T07:46:31.725Z"
   },
   {
    "duration": 53,
    "start_time": "2022-05-11T07:46:31.757Z"
   },
   {
    "duration": 6,
    "start_time": "2022-05-11T07:46:31.811Z"
   },
   {
    "duration": 20,
    "start_time": "2022-05-11T07:46:31.819Z"
   }
  ],
  "kernelspec": {
   "display_name": "Python 3 (ipykernel)",
   "language": "python",
   "name": "python3"
  },
  "language_info": {
   "codemirror_mode": {
    "name": "ipython",
    "version": 3
   },
   "file_extension": ".py",
   "mimetype": "text/x-python",
   "name": "python",
   "nbconvert_exporter": "python",
   "pygments_lexer": "ipython3",
   "version": "3.9.7"
  },
  "toc": {
   "base_numbering": 1,
   "nav_menu": {},
   "number_sections": true,
   "sideBar": true,
   "skip_h1_title": true,
   "title_cell": "Table of Contents",
   "title_sidebar": "Contents",
   "toc_cell": false,
   "toc_position": {
    "height": "calc(100% - 180px)",
    "left": "10px",
    "top": "150px",
    "width": "328px"
   },
   "toc_section_display": true,
   "toc_window_display": true
  }
 },
 "nbformat": 4,
 "nbformat_minor": 2
}
