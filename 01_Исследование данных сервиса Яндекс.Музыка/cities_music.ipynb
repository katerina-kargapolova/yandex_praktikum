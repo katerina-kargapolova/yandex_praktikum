{
 "cells": [
  {
   "cell_type": "markdown",
   "metadata": {
    "id": "E0vqbgi9ay0H"
   },
   "source": [
    "# Яндекс.Музыка"
   ]
  },
  {
   "cell_type": "markdown",
   "metadata": {
    "id": "VUC88oWjTJw2"
   },
   "source": [
    "Сравнение Москвы и Петербурга окружено мифами. Например:\n",
    " * Москва — мегаполис, подчинённый жёсткому ритму рабочей недели;\n",
    " * Петербург — культурная столица, со своими вкусами.\n",
    "\n",
    "На данных Яндекс.Музыки сравним поведение пользователей двух столиц.\n",
    "\n",
    "**Цель исследования** — проверить три гипотезы:\n",
    "1. Активность пользователей зависит от дня недели. Причём в Москве и Петербурге это проявляется по-разному.\n",
    "2. В понедельник утром в Москве преобладают одни жанры, а в Петербурге — другие. Так же и вечером пятницы преобладают разные жанры — в зависимости от города. \n",
    "3. Москва и Петербург предпочитают разные жанры музыки. В Москве чаще слушают поп-музыку, в Петербурге — русский рэп.\n",
    "\n",
    "**Ход исследования**\n",
    "\n",
    " 1. Обзор данных.\n",
    " 2. Предобработка данных.\n",
    " 3. Проверка гипотез.\n",
    "\n"
   ]
  },
  {
   "cell_type": "markdown",
   "metadata": {
    "id": "Ml1hmfXC_Zcs"
   },
   "source": [
    "## Обзор данных"
   ]
  },
  {
   "cell_type": "code",
   "execution_count": 1,
   "metadata": {
    "id": "AXN7PHPN_Zcs"
   },
   "outputs": [],
   "source": [
    "# импорт библиотеки pandas\n",
    "import pandas as pd"
   ]
  },
  {
   "cell_type": "code",
   "execution_count": 2,
   "metadata": {
    "id": "fFVu7vqh_Zct"
   },
   "outputs": [],
   "source": [
    "# чтение файла с данными и сохранение в df\n",
    "df = pd.read_csv('/datasets/yandex_music_project.csv')"
   ]
  },
  {
   "cell_type": "code",
   "execution_count": 3,
   "metadata": {
    "id": "oWTVX3gW_Zct"
   },
   "outputs": [
    {
     "data": {
      "text/html": [
       "<div>\n",
       "<style scoped>\n",
       "    .dataframe tbody tr th:only-of-type {\n",
       "        vertical-align: middle;\n",
       "    }\n",
       "\n",
       "    .dataframe tbody tr th {\n",
       "        vertical-align: top;\n",
       "    }\n",
       "\n",
       "    .dataframe thead th {\n",
       "        text-align: right;\n",
       "    }\n",
       "</style>\n",
       "<table border=\"1\" class=\"dataframe\">\n",
       "  <thead>\n",
       "    <tr style=\"text-align: right;\">\n",
       "      <th></th>\n",
       "      <th>userID</th>\n",
       "      <th>Track</th>\n",
       "      <th>artist</th>\n",
       "      <th>genre</th>\n",
       "      <th>City</th>\n",
       "      <th>time</th>\n",
       "      <th>Day</th>\n",
       "    </tr>\n",
       "  </thead>\n",
       "  <tbody>\n",
       "    <tr>\n",
       "      <th>0</th>\n",
       "      <td>FFB692EC</td>\n",
       "      <td>Kamigata To Boots</td>\n",
       "      <td>The Mass Missile</td>\n",
       "      <td>rock</td>\n",
       "      <td>Saint-Petersburg</td>\n",
       "      <td>20:28:33</td>\n",
       "      <td>Wednesday</td>\n",
       "    </tr>\n",
       "    <tr>\n",
       "      <th>1</th>\n",
       "      <td>55204538</td>\n",
       "      <td>Delayed Because of Accident</td>\n",
       "      <td>Andreas Rönnberg</td>\n",
       "      <td>rock</td>\n",
       "      <td>Moscow</td>\n",
       "      <td>14:07:09</td>\n",
       "      <td>Friday</td>\n",
       "    </tr>\n",
       "    <tr>\n",
       "      <th>2</th>\n",
       "      <td>20EC38</td>\n",
       "      <td>Funiculì funiculà</td>\n",
       "      <td>Mario Lanza</td>\n",
       "      <td>pop</td>\n",
       "      <td>Saint-Petersburg</td>\n",
       "      <td>20:58:07</td>\n",
       "      <td>Wednesday</td>\n",
       "    </tr>\n",
       "    <tr>\n",
       "      <th>3</th>\n",
       "      <td>A3DD03C9</td>\n",
       "      <td>Dragons in the Sunset</td>\n",
       "      <td>Fire + Ice</td>\n",
       "      <td>folk</td>\n",
       "      <td>Saint-Petersburg</td>\n",
       "      <td>08:37:09</td>\n",
       "      <td>Monday</td>\n",
       "    </tr>\n",
       "    <tr>\n",
       "      <th>4</th>\n",
       "      <td>E2DC1FAE</td>\n",
       "      <td>Soul People</td>\n",
       "      <td>Space Echo</td>\n",
       "      <td>dance</td>\n",
       "      <td>Moscow</td>\n",
       "      <td>08:34:34</td>\n",
       "      <td>Monday</td>\n",
       "    </tr>\n",
       "    <tr>\n",
       "      <th>5</th>\n",
       "      <td>842029A1</td>\n",
       "      <td>Преданная</td>\n",
       "      <td>IMPERVTOR</td>\n",
       "      <td>rusrap</td>\n",
       "      <td>Saint-Petersburg</td>\n",
       "      <td>13:09:41</td>\n",
       "      <td>Friday</td>\n",
       "    </tr>\n",
       "    <tr>\n",
       "      <th>6</th>\n",
       "      <td>4CB90AA5</td>\n",
       "      <td>True</td>\n",
       "      <td>Roman Messer</td>\n",
       "      <td>dance</td>\n",
       "      <td>Moscow</td>\n",
       "      <td>13:00:07</td>\n",
       "      <td>Wednesday</td>\n",
       "    </tr>\n",
       "    <tr>\n",
       "      <th>7</th>\n",
       "      <td>F03E1C1F</td>\n",
       "      <td>Feeling This Way</td>\n",
       "      <td>Polina Griffith</td>\n",
       "      <td>dance</td>\n",
       "      <td>Moscow</td>\n",
       "      <td>20:47:49</td>\n",
       "      <td>Wednesday</td>\n",
       "    </tr>\n",
       "    <tr>\n",
       "      <th>8</th>\n",
       "      <td>8FA1D3BE</td>\n",
       "      <td>И вновь продолжается бой</td>\n",
       "      <td>NaN</td>\n",
       "      <td>ruspop</td>\n",
       "      <td>Moscow</td>\n",
       "      <td>09:17:40</td>\n",
       "      <td>Friday</td>\n",
       "    </tr>\n",
       "    <tr>\n",
       "      <th>9</th>\n",
       "      <td>E772D5C0</td>\n",
       "      <td>Pessimist</td>\n",
       "      <td>NaN</td>\n",
       "      <td>dance</td>\n",
       "      <td>Saint-Petersburg</td>\n",
       "      <td>21:20:49</td>\n",
       "      <td>Wednesday</td>\n",
       "    </tr>\n",
       "  </tbody>\n",
       "</table>\n",
       "</div>"
      ],
      "text/plain": [
       "     userID                        Track            artist   genre  \\\n",
       "0  FFB692EC            Kamigata To Boots  The Mass Missile    rock   \n",
       "1  55204538  Delayed Because of Accident  Andreas Rönnberg    rock   \n",
       "2    20EC38            Funiculì funiculà       Mario Lanza     pop   \n",
       "3  A3DD03C9        Dragons in the Sunset        Fire + Ice    folk   \n",
       "4  E2DC1FAE                  Soul People        Space Echo   dance   \n",
       "5  842029A1                    Преданная         IMPERVTOR  rusrap   \n",
       "6  4CB90AA5                         True      Roman Messer   dance   \n",
       "7  F03E1C1F             Feeling This Way   Polina Griffith   dance   \n",
       "8  8FA1D3BE     И вновь продолжается бой               NaN  ruspop   \n",
       "9  E772D5C0                    Pessimist               NaN   dance   \n",
       "\n",
       "             City        time        Day  \n",
       "0  Saint-Petersburg  20:28:33  Wednesday  \n",
       "1            Moscow  14:07:09     Friday  \n",
       "2  Saint-Petersburg  20:58:07  Wednesday  \n",
       "3  Saint-Petersburg  08:37:09     Monday  \n",
       "4            Moscow  08:34:34     Monday  \n",
       "5  Saint-Petersburg  13:09:41     Friday  \n",
       "6            Moscow  13:00:07  Wednesday  \n",
       "7            Moscow  20:47:49  Wednesday  \n",
       "8            Moscow  09:17:40     Friday  \n",
       "9  Saint-Petersburg  21:20:49  Wednesday  "
      ]
     },
     "execution_count": 3,
     "metadata": {},
     "output_type": "execute_result"
    }
   ],
   "source": [
    "# получение первых 10 строк таблицы df\n",
    "df.head(10)"
   ]
  },
  {
   "cell_type": "code",
   "execution_count": 4,
   "metadata": {
    "id": "DSf2kIb-_Zct"
   },
   "outputs": [
    {
     "name": "stdout",
     "output_type": "stream",
     "text": [
      "<class 'pandas.core.frame.DataFrame'>\n",
      "RangeIndex: 65079 entries, 0 to 65078\n",
      "Data columns (total 7 columns):\n",
      " #   Column    Non-Null Count  Dtype \n",
      "---  ------    --------------  ----- \n",
      " 0     userID  65079 non-null  object\n",
      " 1   Track     63848 non-null  object\n",
      " 2   artist    57876 non-null  object\n",
      " 3   genre     63881 non-null  object\n",
      " 4     City    65079 non-null  object\n",
      " 5   time      65079 non-null  object\n",
      " 6   Day       65079 non-null  object\n",
      "dtypes: object(7)\n",
      "memory usage: 3.5+ MB\n"
     ]
    }
   ],
   "source": [
    "# получение общей информации о данных в таблице df\n",
    "df.info()"
   ]
  },
  {
   "cell_type": "markdown",
   "metadata": {
    "id": "TaQ2Iwbr_Zct"
   },
   "source": [
    "Итак, в таблице семь столбцов. Тип данных во всех столбцах — `object`.\n",
    "\n",
    "Согласно документации к данным:\n",
    "* `userID` — идентификатор пользователя;\n",
    "* `Track` — название трека;  \n",
    "* `artist` — имя исполнителя;\n",
    "* `genre` — название жанра;\n",
    "* `City` — город пользователя;\n",
    "* `time` — время начала прослушивания;\n",
    "* `Day` — день недели.\n",
    "\n",
    "В названиях колонок видны три нарушения стиля:\n",
    "1. Строчные буквы сочетаются с прописными.\n",
    "2. Встречаются пробелы.\n",
    "3. Для наименований лучше использовать змеиный регистр, так userID необходимо переименовать в user_id\n",
    "\n",
    "Количество значений в столбцах различается. Значит, в данных есть пропущенные значения.\n"
   ]
  },
  {
   "cell_type": "markdown",
   "metadata": {
    "id": "MCB6-dXG_Zct"
   },
   "source": [
    "**Выводы**\n",
    "\n",
    "В каждой строке таблицы — данные о прослушанном треке. Часть колонок описывает саму композицию: название, исполнителя и жанр. Остальные данные рассказывают о пользователе: из какого он города, когда он слушал музыку. \n",
    "\n",
    "Предварительно можно утверждать, что, данных достаточно для проверки гипотез. Но встречаются пропуски в данных, а в названиях колонок — расхождения с хорошим стилем.\n",
    "\n",
    "Чтобы двигаться дальше, нужно устранить проблемы в данных."
   ]
  },
  {
   "cell_type": "markdown",
   "metadata": {
    "id": "SjYF6Ub9_Zct"
   },
   "source": [
    "## Предобработка данных"
   ]
  },
  {
   "cell_type": "markdown",
   "metadata": {
    "id": "dIaKXr29_Zct"
   },
   "source": [
    "### Стиль заголовков"
   ]
  },
  {
   "cell_type": "code",
   "execution_count": 5,
   "metadata": {
    "id": "oKOTdF_Q_Zct"
   },
   "outputs": [
    {
     "data": {
      "text/plain": [
       "Index(['  userID', 'Track', 'artist', 'genre', '  City  ', 'time', 'Day'], dtype='object')"
      ]
     },
     "execution_count": 5,
     "metadata": {},
     "output_type": "execute_result"
    }
   ],
   "source": [
    "# перечень названий столбцов таблицы df\n",
    "df.columns"
   ]
  },
  {
   "cell_type": "code",
   "execution_count": 6,
   "metadata": {
    "id": "ISlFqs5y_Zct"
   },
   "outputs": [],
   "source": [
    "# переименование столбцов\n",
    "df = df.rename(columns={'  userID':'user_id','Track':'track','  City  ':'city','Day':'day'})"
   ]
  },
  {
   "cell_type": "code",
   "execution_count": 7,
   "metadata": {
    "id": "d4NOAmTW_Zct"
   },
   "outputs": [
    {
     "data": {
      "text/plain": [
       "Index(['user_id', 'track', 'artist', 'genre', 'city', 'time', 'day'], dtype='object')"
      ]
     },
     "execution_count": 7,
     "metadata": {},
     "output_type": "execute_result"
    }
   ],
   "source": [
    "# проверка результатов - перечень названий столбцов\n",
    "df.columns"
   ]
  },
  {
   "cell_type": "markdown",
   "metadata": {
    "id": "5ISfbcfY_Zct"
   },
   "source": [
    "### Пропуски значений"
   ]
  },
  {
   "cell_type": "code",
   "execution_count": 8,
   "metadata": {
    "id": "RskX29qr_Zct"
   },
   "outputs": [
    {
     "data": {
      "text/plain": [
       "user_id       0\n",
       "track      1231\n",
       "artist     7203\n",
       "genre      1198\n",
       "city          0\n",
       "time          0\n",
       "day           0\n",
       "dtype: int64"
      ]
     },
     "execution_count": 8,
     "metadata": {},
     "output_type": "execute_result"
    }
   ],
   "source": [
    "# подсчёт пропусков\n",
    "df.isna().sum()"
   ]
  },
  {
   "cell_type": "markdown",
   "metadata": {
    "id": "qubhgnlO_Zct"
   },
   "source": [
    "Не все пропущенные значения влияют на исследование. Так в `track` и `artist` пропуски не важны для работы. Можно заменить их явными обозначениями.\n",
    "\n",
    "Но пропуски в `genre` могут помешать сравнению музыкальных вкусов в Москве и Санкт-Петербурге. Так как нет возможности установить причину пропусков и восстановить данные, придётся:\n",
    "* заполнить и эти пропуски явными обозначениями,\n",
    "* оценить, насколько они повредят расчётам. "
   ]
  },
  {
   "cell_type": "code",
   "execution_count": 9,
   "metadata": {
    "id": "KplB5qWs_Zct"
   },
   "outputs": [],
   "source": [
    "# перебор названий столбцов в цикле и замена пропущенных значений на 'unknown'\n",
    "columns_to_replace = ['track','artist','genre']\n",
    "for columns in columns_to_replace:\n",
    "    df[columns] = df[columns].fillna('unknown')"
   ]
  },
  {
   "cell_type": "code",
   "execution_count": 10,
   "metadata": {
    "id": "Tq4nYRX4_Zct"
   },
   "outputs": [
    {
     "data": {
      "text/plain": [
       "user_id    0\n",
       "track      0\n",
       "artist     0\n",
       "genre      0\n",
       "city       0\n",
       "time       0\n",
       "day        0\n",
       "dtype: int64"
      ]
     },
     "execution_count": 10,
     "metadata": {},
     "output_type": "execute_result"
    }
   ],
   "source": [
    "# подсчёт пропусков\n",
    "df.isna().sum()"
   ]
  },
  {
   "cell_type": "markdown",
   "metadata": {
    "id": "BWKRtBJ3_Zct"
   },
   "source": [
    "### Дубликаты"
   ]
  },
  {
   "cell_type": "code",
   "execution_count": 11,
   "metadata": {
    "id": "36eES_S0_Zct"
   },
   "outputs": [
    {
     "data": {
      "text/plain": [
       "3826"
      ]
     },
     "execution_count": 11,
     "metadata": {},
     "output_type": "execute_result"
    }
   ],
   "source": [
    "# подсчёт явных дубликатов\n",
    "df.duplicated().sum()"
   ]
  },
  {
   "cell_type": "code",
   "execution_count": 12,
   "metadata": {
    "id": "exFHq6tt_Zct"
   },
   "outputs": [],
   "source": [
    "# удаление явных дубликатов (с удалением старых индексов и формированием новых)\n",
    "df = df.drop_duplicates().reset_index(drop=True)"
   ]
  },
  {
   "cell_type": "code",
   "execution_count": 13,
   "metadata": {
    "id": "-8PuNWQ0_Zct"
   },
   "outputs": [
    {
     "data": {
      "text/plain": [
       "0"
      ]
     },
     "execution_count": 13,
     "metadata": {},
     "output_type": "execute_result"
    }
   ],
   "source": [
    "# проверка на отсутствие дубликатов\n",
    "df.duplicated().sum()"
   ]
  },
  {
   "cell_type": "code",
   "execution_count": 14,
   "metadata": {
    "id": "JIUcqzZN_Zct"
   },
   "outputs": [
    {
     "data": {
      "text/plain": [
       "array(['acid', 'acoustic', 'action', 'adult', 'africa', 'afrikaans',\n",
       "       'alternative', 'alternativepunk', 'ambient', 'americana',\n",
       "       'animated', 'anime', 'arabesk', 'arabic', 'arena',\n",
       "       'argentinetango', 'art', 'audiobook', 'author', 'avantgarde',\n",
       "       'axé', 'baile', 'balkan', 'beats', 'bigroom', 'black', 'bluegrass',\n",
       "       'blues', 'bollywood', 'bossa', 'brazilian', 'breakbeat', 'breaks',\n",
       "       'broadway', 'cantautori', 'cantopop', 'canzone', 'caribbean',\n",
       "       'caucasian', 'celtic', 'chamber', 'chanson', 'children', 'chill',\n",
       "       'chinese', 'choral', 'christian', 'christmas', 'classical',\n",
       "       'classicmetal', 'club', 'colombian', 'comedy', 'conjazz',\n",
       "       'contemporary', 'country', 'cuban', 'dance', 'dancehall',\n",
       "       'dancepop', 'dark', 'death', 'deep', 'deutschrock', 'deutschspr',\n",
       "       'dirty', 'disco', 'dnb', 'documentary', 'downbeat', 'downtempo',\n",
       "       'drum', 'dub', 'dubstep', 'eastern', 'easy', 'electronic',\n",
       "       'electropop', 'emo', 'entehno', 'epicmetal', 'estrada', 'ethnic',\n",
       "       'eurofolk', 'european', 'experimental', 'extrememetal', 'fado',\n",
       "       'fairytail', 'film', 'fitness', 'flamenco', 'folk', 'folklore',\n",
       "       'folkmetal', 'folkrock', 'folktronica', 'forró', 'frankreich',\n",
       "       'französisch', 'french', 'funk', 'future', 'gangsta', 'garage',\n",
       "       'german', 'ghazal', 'gitarre', 'glitch', 'gospel', 'gothic',\n",
       "       'grime', 'grunge', 'gypsy', 'handsup', \"hard'n'heavy\", 'hardcore',\n",
       "       'hardstyle', 'hardtechno', 'hip', 'hip-hop', 'hiphop',\n",
       "       'historisch', 'holiday', 'hop', 'horror', 'house', 'hymn', 'idm',\n",
       "       'independent', 'indian', 'indie', 'indipop', 'industrial',\n",
       "       'inspirational', 'instrumental', 'international', 'irish', 'jam',\n",
       "       'japanese', 'jazz', 'jewish', 'jpop', 'jungle', 'k-pop',\n",
       "       'karadeniz', 'karaoke', 'kayokyoku', 'korean', 'laiko', 'latin',\n",
       "       'latino', 'leftfield', 'local', 'lounge', 'loungeelectronic',\n",
       "       'lovers', 'malaysian', 'mandopop', 'marschmusik', 'meditative',\n",
       "       'mediterranean', 'melodic', 'metal', 'metalcore', 'mexican',\n",
       "       'middle', 'minimal', 'miscellaneous', 'modern', 'mood', 'mpb',\n",
       "       'muslim', 'native', 'neoklassik', 'neue', 'new', 'newage',\n",
       "       'newwave', 'nu', 'nujazz', 'numetal', 'oceania', 'old', 'opera',\n",
       "       'orchestral', 'other', 'piano', 'podcasts', 'pop', 'popdance',\n",
       "       'popelectronic', 'popeurodance', 'poprussian', 'post',\n",
       "       'posthardcore', 'postrock', 'power', 'progmetal', 'progressive',\n",
       "       'psychedelic', 'punjabi', 'punk', 'quebecois', 'ragga', 'ram',\n",
       "       'rancheras', 'rap', 'rave', 'reggae', 'reggaeton', 'regional',\n",
       "       'relax', 'religious', 'retro', 'rhythm', 'rnb', 'rnr', 'rock',\n",
       "       'rockabilly', 'rockalternative', 'rockindie', 'rockother',\n",
       "       'romance', 'roots', 'ruspop', 'rusrap', 'rusrock', 'russian',\n",
       "       'salsa', 'samba', 'scenic', 'schlager', 'self', 'sertanejo',\n",
       "       'shanson', 'shoegazing', 'showtunes', 'singer', 'ska', 'skarock',\n",
       "       'slow', 'smooth', 'soft', 'soul', 'soulful', 'sound', 'soundtrack',\n",
       "       'southern', 'specialty', 'speech', 'spiritual', 'sport',\n",
       "       'stonerrock', 'surf', 'swing', 'synthpop', 'synthrock',\n",
       "       'sängerportrait', 'tango', 'tanzorchester', 'taraftar', 'tatar',\n",
       "       'tech', 'techno', 'teen', 'thrash', 'top', 'traditional',\n",
       "       'tradjazz', 'trance', 'tribal', 'trip', 'triphop', 'tropical',\n",
       "       'türk', 'türkçe', 'ukrrock', 'unknown', 'urban', 'uzbek',\n",
       "       'variété', 'vi', 'videogame', 'vocal', 'western', 'world',\n",
       "       'worldbeat', 'ïîï', 'электроника'], dtype=object)"
      ]
     },
     "execution_count": 14,
     "metadata": {},
     "output_type": "execute_result"
    }
   ],
   "source": [
    "# Просмотр уникальных названий жанров\n",
    "sorted_genre = df['genre'].sort_values().unique()\n",
    "sorted_genre"
   ]
  },
  {
   "cell_type": "code",
   "execution_count": 15,
   "metadata": {
    "id": "ErNDkmns_Zct"
   },
   "outputs": [],
   "source": [
    "# Функция для замены неявных дубликатов\n",
    "def replace_wrong_genres(wrong_genres, correct_genre):\n",
    "    for wrong_genre in wrong_genres:\n",
    "        df['genre'] = df['genre'].replace(wrong_genres, correct_genre)"
   ]
  },
  {
   "cell_type": "code",
   "execution_count": 16,
   "metadata": {
    "id": "YN5i2hpmSo09"
   },
   "outputs": [
    {
     "data": {
      "text/plain": [
       "(0        False\n",
       " 1        False\n",
       " 2        False\n",
       " 3        False\n",
       " 4        False\n",
       "          ...  \n",
       " 61248    False\n",
       " 61249    False\n",
       " 61250    False\n",
       " 61251    False\n",
       " 61252    False\n",
       " Name: genre, Length: 61253, dtype: bool,\n",
       " 'hop',\n",
       " 'hip-hop')"
      ]
     },
     "execution_count": 16,
     "metadata": {},
     "output_type": "execute_result"
    }
   ],
   "source": [
    "# Устранение неявных дубликатов\n",
    "duplicates = ['hip', 'hop', 'hip-hop']\n",
    "correct_name = 'hiphop'\n",
    "replace_wrong_genres(duplicates, correct_name)\n",
    "df['genre'] == 'hip','hop','hip-hop'"
   ]
  },
  {
   "cell_type": "code",
   "execution_count": 17,
   "metadata": {
    "id": "wvixALnFG15m"
   },
   "outputs": [
    {
     "data": {
      "text/plain": [
       "array(['acid', 'acoustic', 'action', 'adult', 'africa', 'afrikaans',\n",
       "       'alternative', 'alternativepunk', 'ambient', 'americana',\n",
       "       'animated', 'anime', 'arabesk', 'arabic', 'arena',\n",
       "       'argentinetango', 'art', 'audiobook', 'author', 'avantgarde',\n",
       "       'axé', 'baile', 'balkan', 'beats', 'bigroom', 'black', 'bluegrass',\n",
       "       'blues', 'bollywood', 'bossa', 'brazilian', 'breakbeat', 'breaks',\n",
       "       'broadway', 'cantautori', 'cantopop', 'canzone', 'caribbean',\n",
       "       'caucasian', 'celtic', 'chamber', 'chanson', 'children', 'chill',\n",
       "       'chinese', 'choral', 'christian', 'christmas', 'classical',\n",
       "       'classicmetal', 'club', 'colombian', 'comedy', 'conjazz',\n",
       "       'contemporary', 'country', 'cuban', 'dance', 'dancehall',\n",
       "       'dancepop', 'dark', 'death', 'deep', 'deutschrock', 'deutschspr',\n",
       "       'dirty', 'disco', 'dnb', 'documentary', 'downbeat', 'downtempo',\n",
       "       'drum', 'dub', 'dubstep', 'eastern', 'easy', 'electronic',\n",
       "       'electropop', 'emo', 'entehno', 'epicmetal', 'estrada', 'ethnic',\n",
       "       'eurofolk', 'european', 'experimental', 'extrememetal', 'fado',\n",
       "       'fairytail', 'film', 'fitness', 'flamenco', 'folk', 'folklore',\n",
       "       'folkmetal', 'folkrock', 'folktronica', 'forró', 'frankreich',\n",
       "       'französisch', 'french', 'funk', 'future', 'gangsta', 'garage',\n",
       "       'german', 'ghazal', 'gitarre', 'glitch', 'gospel', 'gothic',\n",
       "       'grime', 'grunge', 'gypsy', 'handsup', \"hard'n'heavy\", 'hardcore',\n",
       "       'hardstyle', 'hardtechno', 'hiphop', 'historisch', 'holiday',\n",
       "       'horror', 'house', 'hymn', 'idm', 'independent', 'indian', 'indie',\n",
       "       'indipop', 'industrial', 'inspirational', 'instrumental',\n",
       "       'international', 'irish', 'jam', 'japanese', 'jazz', 'jewish',\n",
       "       'jpop', 'jungle', 'k-pop', 'karadeniz', 'karaoke', 'kayokyoku',\n",
       "       'korean', 'laiko', 'latin', 'latino', 'leftfield', 'local',\n",
       "       'lounge', 'loungeelectronic', 'lovers', 'malaysian', 'mandopop',\n",
       "       'marschmusik', 'meditative', 'mediterranean', 'melodic', 'metal',\n",
       "       'metalcore', 'mexican', 'middle', 'minimal', 'miscellaneous',\n",
       "       'modern', 'mood', 'mpb', 'muslim', 'native', 'neoklassik', 'neue',\n",
       "       'new', 'newage', 'newwave', 'nu', 'nujazz', 'numetal', 'oceania',\n",
       "       'old', 'opera', 'orchestral', 'other', 'piano', 'podcasts', 'pop',\n",
       "       'popdance', 'popelectronic', 'popeurodance', 'poprussian', 'post',\n",
       "       'posthardcore', 'postrock', 'power', 'progmetal', 'progressive',\n",
       "       'psychedelic', 'punjabi', 'punk', 'quebecois', 'ragga', 'ram',\n",
       "       'rancheras', 'rap', 'rave', 'reggae', 'reggaeton', 'regional',\n",
       "       'relax', 'religious', 'retro', 'rhythm', 'rnb', 'rnr', 'rock',\n",
       "       'rockabilly', 'rockalternative', 'rockindie', 'rockother',\n",
       "       'romance', 'roots', 'ruspop', 'rusrap', 'rusrock', 'russian',\n",
       "       'salsa', 'samba', 'scenic', 'schlager', 'self', 'sertanejo',\n",
       "       'shanson', 'shoegazing', 'showtunes', 'singer', 'ska', 'skarock',\n",
       "       'slow', 'smooth', 'soft', 'soul', 'soulful', 'sound', 'soundtrack',\n",
       "       'southern', 'specialty', 'speech', 'spiritual', 'sport',\n",
       "       'stonerrock', 'surf', 'swing', 'synthpop', 'synthrock',\n",
       "       'sängerportrait', 'tango', 'tanzorchester', 'taraftar', 'tatar',\n",
       "       'tech', 'techno', 'teen', 'thrash', 'top', 'traditional',\n",
       "       'tradjazz', 'trance', 'tribal', 'trip', 'triphop', 'tropical',\n",
       "       'türk', 'türkçe', 'ukrrock', 'unknown', 'urban', 'uzbek',\n",
       "       'variété', 'vi', 'videogame', 'vocal', 'western', 'world',\n",
       "       'worldbeat', 'ïîï', 'электроника'], dtype=object)"
      ]
     },
     "execution_count": 17,
     "metadata": {},
     "output_type": "execute_result"
    }
   ],
   "source": [
    "# Проверка на неявные дубликаты\n",
    "sorted_genre = df['genre'].sort_values().unique()\n",
    "sorted_genre"
   ]
  },
  {
   "cell_type": "markdown",
   "metadata": {
    "id": "jz6a9-7HQUDd"
   },
   "source": [
    "**Выводы**\n",
    "\n",
    "Предобработка обнаружила три проблемы в данных:\n",
    "\n",
    "- нарушения в стиле заголовков,\n",
    "- пропущенные значения,\n",
    "- дубликаты — явные и неявные.\n",
    "\n",
    "Мы исправили заголовки, чтобы упростить работу с таблицей. Удалили дубликаты. Пропущенные значения заменили на `'unknown'`. "
   ]
  },
  {
   "cell_type": "markdown",
   "metadata": {
    "id": "WttZHXH0SqKk"
   },
   "source": [
    "## Проверка гипотез"
   ]
  },
  {
   "cell_type": "markdown",
   "metadata": {
    "id": "Im936VVi_Zcu"
   },
   "source": [
    "### Сравнение поведения пользователей двух столиц"
   ]
  },
  {
   "cell_type": "markdown",
   "metadata": {
    "id": "nwt_MuaL_Zcu"
   },
   "source": [
    "Первая гипотеза утверждает, что пользователи по-разному слушают музыку в Москве и Санкт-Петербурге. Проверим это предположение по данным о трёх днях недели — понедельнике, среде и пятнице. Для этого:\n",
    "\n",
    "* Разделим пользователей Москвы и Санкт-Петербурга\n",
    "* Сравним, сколько треков послушала каждая группа пользователей в понедельник, среду и пятницу.\n"
   ]
  },
  {
   "cell_type": "code",
   "execution_count": 18,
   "metadata": {
    "id": "0_Qs96oh_Zcu"
   },
   "outputs": [
    {
     "data": {
      "text/plain": [
       "city\n",
       "Moscow              42741\n",
       "Saint-Petersburg    18512\n",
       "Name: time, dtype: int64"
      ]
     },
     "execution_count": 18,
     "metadata": {},
     "output_type": "execute_result"
    }
   ],
   "source": [
    "# Подсчёт прослушиваний в каждом городе\n",
    "count_by_city = df.groupby('city')['time'].count()\n",
    "count_by_city"
   ]
  },
  {
   "cell_type": "markdown",
   "metadata": {
    "id": "dzli3w8o_Zcu"
   },
   "source": [
    "В Москве прослушиваний больше, чем в Петербурге. Из этого не следует, что московские пользователи чаще слушают музыку. Просто самих пользователей в Москве больше.\n",
    "\n",
    "Теперь сгруппируем данные по дню недели и подсчитаем прослушивания в понедельник, среду и пятницу."
   ]
  },
  {
   "cell_type": "code",
   "execution_count": 19,
   "metadata": {
    "id": "uZMKjiJz_Zcu"
   },
   "outputs": [
    {
     "data": {
      "text/plain": [
       "day\n",
       "Friday       21840\n",
       "Monday       21354\n",
       "Wednesday    18059\n",
       "Name: city, dtype: int64"
      ]
     },
     "execution_count": 19,
     "metadata": {},
     "output_type": "execute_result"
    }
   ],
   "source": [
    "# Подсчёт прослушиваний в каждый из трёх дней\n",
    "count_by_day = df.groupby('day')['city'].count()\n",
    "count_by_day"
   ]
  },
  {
   "cell_type": "markdown",
   "metadata": {
    "id": "cC2tNrlL_Zcu"
   },
   "source": [
    "В среднем пользователи из двух городов менее активны по средам. Но картина может измениться, если рассмотреть каждый город в отдельности."
   ]
  },
  {
   "cell_type": "markdown",
   "metadata": {},
   "source": [
    "Создаём функцию `number_tracks()`, которая принимает как параметры день недели и название города, а возвращает количество прослушанных композиций. "
   ]
  },
  {
   "cell_type": "code",
   "execution_count": 20,
   "metadata": {
    "id": "Nz3GdQB1_Zcu"
   },
   "outputs": [],
   "source": [
    "def number_tracks (day,city):\n",
    "    track_list = df[df['day'] == day]\n",
    "    track_list = track_list[track_list['city'] == city]\n",
    "    track_list_count = track_list['user_id'].count()\n",
    "    return track_list_count"
   ]
  },
  {
   "cell_type": "markdown",
   "metadata": {
    "id": "ytf7xFrFJQ2r"
   },
   "source": [
    "Вызовим `number_tracks()` шесть раз, меняя значение параметров — так, чтобы получить данные для каждого города в каждый из трёх дней."
   ]
  },
  {
   "cell_type": "code",
   "execution_count": 21,
   "metadata": {
    "id": "rJcRATNQ_Zcu"
   },
   "outputs": [
    {
     "data": {
      "text/plain": [
       "15740"
      ]
     },
     "execution_count": 21,
     "metadata": {},
     "output_type": "execute_result"
    }
   ],
   "source": [
    "# количество прослушиваний в Москве по понедельникам\n",
    "number_tracks(day = 'Monday', city = 'Moscow')"
   ]
  },
  {
   "cell_type": "code",
   "execution_count": 22,
   "metadata": {
    "id": "hq_ncZ5T_Zcu"
   },
   "outputs": [
    {
     "data": {
      "text/plain": [
       "5614"
      ]
     },
     "execution_count": 22,
     "metadata": {},
     "output_type": "execute_result"
    }
   ],
   "source": [
    "# количество прослушиваний в Санкт-Петербурге по понедельникам\n",
    "number_tracks(day = 'Monday', city = 'Saint-Petersburg')"
   ]
  },
  {
   "cell_type": "code",
   "execution_count": 23,
   "metadata": {
    "id": "_NTy2VPU_Zcu"
   },
   "outputs": [
    {
     "data": {
      "text/plain": [
       "11056"
      ]
     },
     "execution_count": 23,
     "metadata": {},
     "output_type": "execute_result"
    }
   ],
   "source": [
    "# количество прослушиваний в Москве по средам\n",
    "number_tracks(day = 'Wednesday', city = 'Moscow')"
   ]
  },
  {
   "cell_type": "code",
   "execution_count": 24,
   "metadata": {
    "id": "j2y3TAwo_Zcu"
   },
   "outputs": [
    {
     "data": {
      "text/plain": [
       "7003"
      ]
     },
     "execution_count": 24,
     "metadata": {},
     "output_type": "execute_result"
    }
   ],
   "source": [
    "# количество прослушиваний в Санкт-Петербурге по средам\n",
    "number_tracks(day = 'Wednesday', city = 'Saint-Petersburg')"
   ]
  },
  {
   "cell_type": "code",
   "execution_count": 25,
   "metadata": {
    "id": "vYDw5u_K_Zcu"
   },
   "outputs": [
    {
     "data": {
      "text/plain": [
       "15945"
      ]
     },
     "execution_count": 25,
     "metadata": {},
     "output_type": "execute_result"
    }
   ],
   "source": [
    "# количество прослушиваний в Москве по пятницам\n",
    "number_tracks(day = 'Friday', city = 'Moscow')"
   ]
  },
  {
   "cell_type": "code",
   "execution_count": 26,
   "metadata": {
    "id": "8_yzFtW3_Zcu"
   },
   "outputs": [
    {
     "data": {
      "text/plain": [
       "5895"
      ]
     },
     "execution_count": 26,
     "metadata": {},
     "output_type": "execute_result"
    }
   ],
   "source": [
    "# количество прослушиваний в Санкт-Петербурге по пятницам\n",
    "number_tracks(day = 'Friday', city = 'Saint-Petersburg')"
   ]
  },
  {
   "cell_type": "code",
   "execution_count": 27,
   "metadata": {
    "id": "APAcLpOr_Zcu"
   },
   "outputs": [
    {
     "data": {
      "text/html": [
       "<div>\n",
       "<style scoped>\n",
       "    .dataframe tbody tr th:only-of-type {\n",
       "        vertical-align: middle;\n",
       "    }\n",
       "\n",
       "    .dataframe tbody tr th {\n",
       "        vertical-align: top;\n",
       "    }\n",
       "\n",
       "    .dataframe thead th {\n",
       "        text-align: right;\n",
       "    }\n",
       "</style>\n",
       "<table border=\"1\" class=\"dataframe\">\n",
       "  <thead>\n",
       "    <tr style=\"text-align: right;\">\n",
       "      <th></th>\n",
       "      <th>city</th>\n",
       "      <th>monday</th>\n",
       "      <th>wednesday</th>\n",
       "      <th>friday</th>\n",
       "    </tr>\n",
       "  </thead>\n",
       "  <tbody>\n",
       "    <tr>\n",
       "      <th>0</th>\n",
       "      <td>Moscow</td>\n",
       "      <td>15740</td>\n",
       "      <td>11056</td>\n",
       "      <td>15945</td>\n",
       "    </tr>\n",
       "    <tr>\n",
       "      <th>1</th>\n",
       "      <td>Saint-Petersburg</td>\n",
       "      <td>5614</td>\n",
       "      <td>7003</td>\n",
       "      <td>5895</td>\n",
       "    </tr>\n",
       "  </tbody>\n",
       "</table>\n",
       "</div>"
      ],
      "text/plain": [
       "               city  monday  wednesday  friday\n",
       "0            Moscow   15740      11056   15945\n",
       "1  Saint-Petersburg    5614       7003    5895"
      ]
     },
     "execution_count": 27,
     "metadata": {},
     "output_type": "execute_result"
    }
   ],
   "source": [
    "# Таблица с результатами\n",
    "columns = ['city', 'monday', 'wednesday', 'friday']\n",
    "line = [\n",
    "    ['Moscow',15740,11056,15945],\n",
    "    ['Saint-Petersburg',5614,7003,5895]\n",
    "]\n",
    "\n",
    "user_activity = pd.DataFrame(data = line, columns = columns)\n",
    "user_activity"
   ]
  },
  {
   "cell_type": "markdown",
   "metadata": {
    "id": "-EgPIHYu_Zcu"
   },
   "source": [
    "**Выводы**\n",
    "\n",
    "Данные показывают разницу поведения пользователей:\n",
    "\n",
    "- В Москве пик прослушиваний приходится на понедельник и пятницу, а в среду заметен спад.\n",
    "- В Петербурге, наоборот, больше слушают музыку по средам. Активность в понедельник и пятницу здесь почти в равной мере уступает среде.\n",
    "\n",
    "Значит, данные говорят в пользу первой гипотезы."
   ]
  },
  {
   "cell_type": "markdown",
   "metadata": {
    "id": "atZAxtq4_Zcu"
   },
   "source": [
    "### Музыка в начале и в конце недели"
   ]
  },
  {
   "cell_type": "markdown",
   "metadata": {
    "id": "eXrQqXFH_Zcu"
   },
   "source": [
    "Согласно второй гипотезе, утром в понедельник в Москве преобладают одни жанры, а в Петербурге — другие. Так же и вечером пятницы преобладают разные жанры — в зависимости от города."
   ]
  },
  {
   "cell_type": "code",
   "execution_count": 28,
   "metadata": {
    "id": "qeaFfM_P_Zcu"
   },
   "outputs": [
    {
     "data": {
      "text/html": [
       "<div>\n",
       "<style scoped>\n",
       "    .dataframe tbody tr th:only-of-type {\n",
       "        vertical-align: middle;\n",
       "    }\n",
       "\n",
       "    .dataframe tbody tr th {\n",
       "        vertical-align: top;\n",
       "    }\n",
       "\n",
       "    .dataframe thead th {\n",
       "        text-align: right;\n",
       "    }\n",
       "</style>\n",
       "<table border=\"1\" class=\"dataframe\">\n",
       "  <thead>\n",
       "    <tr style=\"text-align: right;\">\n",
       "      <th></th>\n",
       "      <th>user_id</th>\n",
       "      <th>track</th>\n",
       "      <th>artist</th>\n",
       "      <th>genre</th>\n",
       "      <th>city</th>\n",
       "      <th>time</th>\n",
       "      <th>day</th>\n",
       "    </tr>\n",
       "  </thead>\n",
       "  <tbody>\n",
       "    <tr>\n",
       "      <th>1</th>\n",
       "      <td>55204538</td>\n",
       "      <td>Delayed Because of Accident</td>\n",
       "      <td>Andreas Rönnberg</td>\n",
       "      <td>rock</td>\n",
       "      <td>Moscow</td>\n",
       "      <td>14:07:09</td>\n",
       "      <td>Friday</td>\n",
       "    </tr>\n",
       "    <tr>\n",
       "      <th>4</th>\n",
       "      <td>E2DC1FAE</td>\n",
       "      <td>Soul People</td>\n",
       "      <td>Space Echo</td>\n",
       "      <td>dance</td>\n",
       "      <td>Moscow</td>\n",
       "      <td>08:34:34</td>\n",
       "      <td>Monday</td>\n",
       "    </tr>\n",
       "    <tr>\n",
       "      <th>6</th>\n",
       "      <td>4CB90AA5</td>\n",
       "      <td>True</td>\n",
       "      <td>Roman Messer</td>\n",
       "      <td>dance</td>\n",
       "      <td>Moscow</td>\n",
       "      <td>13:00:07</td>\n",
       "      <td>Wednesday</td>\n",
       "    </tr>\n",
       "    <tr>\n",
       "      <th>7</th>\n",
       "      <td>F03E1C1F</td>\n",
       "      <td>Feeling This Way</td>\n",
       "      <td>Polina Griffith</td>\n",
       "      <td>dance</td>\n",
       "      <td>Moscow</td>\n",
       "      <td>20:47:49</td>\n",
       "      <td>Wednesday</td>\n",
       "    </tr>\n",
       "    <tr>\n",
       "      <th>8</th>\n",
       "      <td>8FA1D3BE</td>\n",
       "      <td>И вновь продолжается бой</td>\n",
       "      <td>unknown</td>\n",
       "      <td>ruspop</td>\n",
       "      <td>Moscow</td>\n",
       "      <td>09:17:40</td>\n",
       "      <td>Friday</td>\n",
       "    </tr>\n",
       "    <tr>\n",
       "      <th>...</th>\n",
       "      <td>...</td>\n",
       "      <td>...</td>\n",
       "      <td>...</td>\n",
       "      <td>...</td>\n",
       "      <td>...</td>\n",
       "      <td>...</td>\n",
       "      <td>...</td>\n",
       "    </tr>\n",
       "    <tr>\n",
       "      <th>61247</th>\n",
       "      <td>83A474E7</td>\n",
       "      <td>I Worship Only What You Bleed</td>\n",
       "      <td>The Black Dahlia Murder</td>\n",
       "      <td>extrememetal</td>\n",
       "      <td>Moscow</td>\n",
       "      <td>21:07:12</td>\n",
       "      <td>Monday</td>\n",
       "    </tr>\n",
       "    <tr>\n",
       "      <th>61248</th>\n",
       "      <td>729CBB09</td>\n",
       "      <td>My Name</td>\n",
       "      <td>McLean</td>\n",
       "      <td>rnb</td>\n",
       "      <td>Moscow</td>\n",
       "      <td>13:32:28</td>\n",
       "      <td>Wednesday</td>\n",
       "    </tr>\n",
       "    <tr>\n",
       "      <th>61250</th>\n",
       "      <td>C5E3A0D5</td>\n",
       "      <td>Jalopiina</td>\n",
       "      <td>unknown</td>\n",
       "      <td>industrial</td>\n",
       "      <td>Moscow</td>\n",
       "      <td>20:09:26</td>\n",
       "      <td>Friday</td>\n",
       "    </tr>\n",
       "    <tr>\n",
       "      <th>61251</th>\n",
       "      <td>321D0506</td>\n",
       "      <td>Freight Train</td>\n",
       "      <td>Chas McDevitt</td>\n",
       "      <td>rock</td>\n",
       "      <td>Moscow</td>\n",
       "      <td>21:43:59</td>\n",
       "      <td>Friday</td>\n",
       "    </tr>\n",
       "    <tr>\n",
       "      <th>61252</th>\n",
       "      <td>3A64EF84</td>\n",
       "      <td>Tell Me Sweet Little Lies</td>\n",
       "      <td>Monica Lopez</td>\n",
       "      <td>country</td>\n",
       "      <td>Moscow</td>\n",
       "      <td>21:59:46</td>\n",
       "      <td>Friday</td>\n",
       "    </tr>\n",
       "  </tbody>\n",
       "</table>\n",
       "<p>42741 rows × 7 columns</p>\n",
       "</div>"
      ],
      "text/plain": [
       "        user_id                          track                   artist  \\\n",
       "1      55204538    Delayed Because of Accident         Andreas Rönnberg   \n",
       "4      E2DC1FAE                    Soul People               Space Echo   \n",
       "6      4CB90AA5                           True             Roman Messer   \n",
       "7      F03E1C1F               Feeling This Way          Polina Griffith   \n",
       "8      8FA1D3BE       И вновь продолжается бой                  unknown   \n",
       "...         ...                            ...                      ...   \n",
       "61247  83A474E7  I Worship Only What You Bleed  The Black Dahlia Murder   \n",
       "61248  729CBB09                        My Name                   McLean   \n",
       "61250  C5E3A0D5                      Jalopiina                  unknown   \n",
       "61251  321D0506                  Freight Train            Chas McDevitt   \n",
       "61252  3A64EF84      Tell Me Sweet Little Lies             Monica Lopez   \n",
       "\n",
       "              genre    city      time        day  \n",
       "1              rock  Moscow  14:07:09     Friday  \n",
       "4             dance  Moscow  08:34:34     Monday  \n",
       "6             dance  Moscow  13:00:07  Wednesday  \n",
       "7             dance  Moscow  20:47:49  Wednesday  \n",
       "8            ruspop  Moscow  09:17:40     Friday  \n",
       "...             ...     ...       ...        ...  \n",
       "61247  extrememetal  Moscow  21:07:12     Monday  \n",
       "61248           rnb  Moscow  13:32:28  Wednesday  \n",
       "61250    industrial  Moscow  20:09:26     Friday  \n",
       "61251          rock  Moscow  21:43:59     Friday  \n",
       "61252       country  Moscow  21:59:46     Friday  \n",
       "\n",
       "[42741 rows x 7 columns]"
      ]
     },
     "execution_count": 28,
     "metadata": {},
     "output_type": "execute_result"
    }
   ],
   "source": [
    "# получение таблицы moscow_general из тех строк таблицы df, \n",
    "# для которых значение в столбце 'city' равно 'Moscow'\n",
    "moscow_general = df[df['city']=='Moscow']\n",
    "moscow_general"
   ]
  },
  {
   "cell_type": "code",
   "execution_count": 29,
   "metadata": {
    "id": "ORaVRKto_Zcu"
   },
   "outputs": [
    {
     "data": {
      "text/html": [
       "<div>\n",
       "<style scoped>\n",
       "    .dataframe tbody tr th:only-of-type {\n",
       "        vertical-align: middle;\n",
       "    }\n",
       "\n",
       "    .dataframe tbody tr th {\n",
       "        vertical-align: top;\n",
       "    }\n",
       "\n",
       "    .dataframe thead th {\n",
       "        text-align: right;\n",
       "    }\n",
       "</style>\n",
       "<table border=\"1\" class=\"dataframe\">\n",
       "  <thead>\n",
       "    <tr style=\"text-align: right;\">\n",
       "      <th></th>\n",
       "      <th>user_id</th>\n",
       "      <th>track</th>\n",
       "      <th>artist</th>\n",
       "      <th>genre</th>\n",
       "      <th>city</th>\n",
       "      <th>time</th>\n",
       "      <th>day</th>\n",
       "    </tr>\n",
       "  </thead>\n",
       "  <tbody>\n",
       "    <tr>\n",
       "      <th>0</th>\n",
       "      <td>FFB692EC</td>\n",
       "      <td>Kamigata To Boots</td>\n",
       "      <td>The Mass Missile</td>\n",
       "      <td>rock</td>\n",
       "      <td>Saint-Petersburg</td>\n",
       "      <td>20:28:33</td>\n",
       "      <td>Wednesday</td>\n",
       "    </tr>\n",
       "    <tr>\n",
       "      <th>2</th>\n",
       "      <td>20EC38</td>\n",
       "      <td>Funiculì funiculà</td>\n",
       "      <td>Mario Lanza</td>\n",
       "      <td>pop</td>\n",
       "      <td>Saint-Petersburg</td>\n",
       "      <td>20:58:07</td>\n",
       "      <td>Wednesday</td>\n",
       "    </tr>\n",
       "    <tr>\n",
       "      <th>3</th>\n",
       "      <td>A3DD03C9</td>\n",
       "      <td>Dragons in the Sunset</td>\n",
       "      <td>Fire + Ice</td>\n",
       "      <td>folk</td>\n",
       "      <td>Saint-Petersburg</td>\n",
       "      <td>08:37:09</td>\n",
       "      <td>Monday</td>\n",
       "    </tr>\n",
       "    <tr>\n",
       "      <th>5</th>\n",
       "      <td>842029A1</td>\n",
       "      <td>Преданная</td>\n",
       "      <td>IMPERVTOR</td>\n",
       "      <td>rusrap</td>\n",
       "      <td>Saint-Petersburg</td>\n",
       "      <td>13:09:41</td>\n",
       "      <td>Friday</td>\n",
       "    </tr>\n",
       "    <tr>\n",
       "      <th>9</th>\n",
       "      <td>E772D5C0</td>\n",
       "      <td>Pessimist</td>\n",
       "      <td>unknown</td>\n",
       "      <td>dance</td>\n",
       "      <td>Saint-Petersburg</td>\n",
       "      <td>21:20:49</td>\n",
       "      <td>Wednesday</td>\n",
       "    </tr>\n",
       "    <tr>\n",
       "      <th>...</th>\n",
       "      <td>...</td>\n",
       "      <td>...</td>\n",
       "      <td>...</td>\n",
       "      <td>...</td>\n",
       "      <td>...</td>\n",
       "      <td>...</td>\n",
       "      <td>...</td>\n",
       "    </tr>\n",
       "    <tr>\n",
       "      <th>61239</th>\n",
       "      <td>D94F810B</td>\n",
       "      <td>Theme from the Walking Dead</td>\n",
       "      <td>Proyecto Halloween</td>\n",
       "      <td>film</td>\n",
       "      <td>Saint-Petersburg</td>\n",
       "      <td>21:14:40</td>\n",
       "      <td>Monday</td>\n",
       "    </tr>\n",
       "    <tr>\n",
       "      <th>61240</th>\n",
       "      <td>BC8EC5CF</td>\n",
       "      <td>Red Lips: Gta (Rover Rework)</td>\n",
       "      <td>Rover</td>\n",
       "      <td>electronic</td>\n",
       "      <td>Saint-Petersburg</td>\n",
       "      <td>21:06:50</td>\n",
       "      <td>Monday</td>\n",
       "    </tr>\n",
       "    <tr>\n",
       "      <th>61241</th>\n",
       "      <td>29E04611</td>\n",
       "      <td>Bre Petrunko</td>\n",
       "      <td>Perunika Trio</td>\n",
       "      <td>world</td>\n",
       "      <td>Saint-Petersburg</td>\n",
       "      <td>13:56:00</td>\n",
       "      <td>Monday</td>\n",
       "    </tr>\n",
       "    <tr>\n",
       "      <th>61242</th>\n",
       "      <td>1B91C621</td>\n",
       "      <td>(Hello) Cloud Mountain</td>\n",
       "      <td>sleepmakeswaves</td>\n",
       "      <td>postrock</td>\n",
       "      <td>Saint-Petersburg</td>\n",
       "      <td>09:22:13</td>\n",
       "      <td>Monday</td>\n",
       "    </tr>\n",
       "    <tr>\n",
       "      <th>61249</th>\n",
       "      <td>D08D4A55</td>\n",
       "      <td>Maybe One Day (feat. Black Spade)</td>\n",
       "      <td>Blu &amp; Exile</td>\n",
       "      <td>hiphop</td>\n",
       "      <td>Saint-Petersburg</td>\n",
       "      <td>10:00:00</td>\n",
       "      <td>Monday</td>\n",
       "    </tr>\n",
       "  </tbody>\n",
       "</table>\n",
       "<p>18512 rows × 7 columns</p>\n",
       "</div>"
      ],
      "text/plain": [
       "        user_id                              track              artist  \\\n",
       "0      FFB692EC                  Kamigata To Boots    The Mass Missile   \n",
       "2        20EC38                  Funiculì funiculà         Mario Lanza   \n",
       "3      A3DD03C9              Dragons in the Sunset          Fire + Ice   \n",
       "5      842029A1                          Преданная           IMPERVTOR   \n",
       "9      E772D5C0                          Pessimist             unknown   \n",
       "...         ...                                ...                 ...   \n",
       "61239  D94F810B        Theme from the Walking Dead  Proyecto Halloween   \n",
       "61240  BC8EC5CF       Red Lips: Gta (Rover Rework)               Rover   \n",
       "61241  29E04611                       Bre Petrunko       Perunika Trio   \n",
       "61242  1B91C621             (Hello) Cloud Mountain     sleepmakeswaves   \n",
       "61249  D08D4A55  Maybe One Day (feat. Black Spade)         Blu & Exile   \n",
       "\n",
       "            genre              city      time        day  \n",
       "0            rock  Saint-Petersburg  20:28:33  Wednesday  \n",
       "2             pop  Saint-Petersburg  20:58:07  Wednesday  \n",
       "3            folk  Saint-Petersburg  08:37:09     Monday  \n",
       "5          rusrap  Saint-Petersburg  13:09:41     Friday  \n",
       "9           dance  Saint-Petersburg  21:20:49  Wednesday  \n",
       "...           ...               ...       ...        ...  \n",
       "61239        film  Saint-Petersburg  21:14:40     Monday  \n",
       "61240  electronic  Saint-Petersburg  21:06:50     Monday  \n",
       "61241       world  Saint-Petersburg  13:56:00     Monday  \n",
       "61242    postrock  Saint-Petersburg  09:22:13     Monday  \n",
       "61249      hiphop  Saint-Petersburg  10:00:00     Monday  \n",
       "\n",
       "[18512 rows x 7 columns]"
      ]
     },
     "execution_count": 29,
     "metadata": {},
     "output_type": "execute_result"
    }
   ],
   "source": [
    "# получение таблицы spb_general из тех строк таблицы df,\n",
    "# для которых значение в столбце 'city' равно 'Saint-Petersburg'\n",
    "spb_general = df[df['city']=='Saint-Petersburg']\n",
    "spb_general"
   ]
  },
  {
   "cell_type": "markdown",
   "metadata": {
    "id": "MEJV-CX2_Zcu"
   },
   "source": [
    "Создаем функцию `genre_weekday()` с четырьмя параметрами:\n",
    "* таблица (датафрейм) с данными,\n",
    "* день недели,\n",
    "* начальная временная метка в формате 'hh:mm', \n",
    "* последняя временная метка в формате 'hh:mm'.\n",
    "\n",
    "Функция должна вернуть информацию о топ-10 жанров тех треков, которые прослушивали в указанный день, в промежутке между двумя отметками времени."
   ]
  },
  {
   "cell_type": "code",
   "execution_count": 30,
   "metadata": {
    "id": "laJT9BYl_Zcu"
   },
   "outputs": [],
   "source": [
    "def genre_weekday (table,day,time1,time2):\n",
    "    genre_df = table[table['day'] == day]\n",
    "    genre_df = genre_df[genre_df['time'] > time1]\n",
    "    genre_df = genre_df[genre_df['time'] < time2]\n",
    "    \n",
    "    genre_df_count = genre_df.groupby('genre')['day'].count()\n",
    "    genre_df_sorted = genre_df_count.sort_values(ascending = False)\n",
    "    return genre_df_sorted.head(10)"
   ]
  },
  {
   "cell_type": "markdown",
   "metadata": {
    "id": "la2s2_PF_Zcu"
   },
   "source": [
    "Cравним результаты функции `genre_weekday()` для Москвы и Санкт-Петербурга в понедельник утром (с 7:00 до 11:00) и в пятницу вечером (с 17:00 до 23:00):"
   ]
  },
  {
   "cell_type": "code",
   "execution_count": 31,
   "metadata": {
    "id": "yz7itPUQ_Zcu"
   },
   "outputs": [
    {
     "data": {
      "text/plain": [
       "genre\n",
       "pop            781\n",
       "dance          549\n",
       "electronic     480\n",
       "rock           474\n",
       "hiphop         286\n",
       "ruspop         186\n",
       "world          181\n",
       "rusrap         175\n",
       "alternative    164\n",
       "unknown        161\n",
       "Name: day, dtype: int64"
      ]
     },
     "execution_count": 31,
     "metadata": {},
     "output_type": "execute_result"
    }
   ],
   "source": [
    "# вызов функции для утра понедельника в Москве\n",
    "genre_weekday(moscow_general, 'Monday', '07:00', '11:00')"
   ]
  },
  {
   "cell_type": "code",
   "execution_count": 32,
   "metadata": {
    "id": "kwUcHPdy_Zcu"
   },
   "outputs": [
    {
     "data": {
      "text/plain": [
       "genre\n",
       "pop            218\n",
       "dance          182\n",
       "rock           162\n",
       "electronic     147\n",
       "hiphop          80\n",
       "ruspop          64\n",
       "alternative     58\n",
       "rusrap          55\n",
       "jazz            44\n",
       "classical       40\n",
       "Name: day, dtype: int64"
      ]
     },
     "execution_count": 32,
     "metadata": {},
     "output_type": "execute_result"
    }
   ],
   "source": [
    "# вызов функции для утра понедельника в Петербурге\n",
    "genre_weekday(spb_general, 'Monday', '07:00', '11:00')"
   ]
  },
  {
   "cell_type": "code",
   "execution_count": 33,
   "metadata": {
    "id": "EzXVRE1o_Zcu"
   },
   "outputs": [
    {
     "data": {
      "text/plain": [
       "genre\n",
       "pop            713\n",
       "rock           517\n",
       "dance          495\n",
       "electronic     482\n",
       "hiphop         273\n",
       "world          208\n",
       "ruspop         170\n",
       "alternative    163\n",
       "classical      163\n",
       "rusrap         142\n",
       "Name: day, dtype: int64"
      ]
     },
     "execution_count": 33,
     "metadata": {},
     "output_type": "execute_result"
    }
   ],
   "source": [
    "# вызов функции для вечера пятницы в Москве\n",
    "genre_weekday(moscow_general, 'Friday', '17:00', '23:00')"
   ]
  },
  {
   "cell_type": "code",
   "execution_count": 34,
   "metadata": {
    "id": "JZaEKu5v_Zcu"
   },
   "outputs": [
    {
     "data": {
      "text/plain": [
       "genre\n",
       "pop            256\n",
       "electronic     216\n",
       "rock           216\n",
       "dance          210\n",
       "hiphop          97\n",
       "alternative     63\n",
       "jazz            61\n",
       "classical       60\n",
       "rusrap          59\n",
       "world           54\n",
       "Name: day, dtype: int64"
      ]
     },
     "execution_count": 34,
     "metadata": {},
     "output_type": "execute_result"
    }
   ],
   "source": [
    "# вызов функции для вечера пятницы в Петербурге\n",
    "genre_weekday(spb_general, 'Friday', '17:00', '23:00')"
   ]
  },
  {
   "cell_type": "markdown",
   "metadata": {
    "id": "wrCe4MNX_Zcu"
   },
   "source": [
    "**Выводы**\n",
    "\n",
    "Если сравнить топ-10 жанров в понедельник утром, можно сделать такие выводы:\n",
    "\n",
    "1. В Москве и Петербурге слушают похожую музыку. Единственное отличие — в московский рейтинг вошёл жанр “world”, а в петербургский — джаз и классика.\n",
    "\n",
    "2. В Москве пропущенных значений оказалось так много, что значение `'unknown'` заняло десятое место среди самых популярных жанров. Значит, пропущенные значения занимают существенную долю в данных и угрожают достоверности исследования.\n",
    "\n",
    "Вечер пятницы не меняет эту картину. Некоторые жанры поднимаются немного выше, другие спускаются, но в целом топ-10 остаётся тем же самым.\n",
    "\n",
    "Таким образом, вторая гипотеза подтвердилась лишь частично:\n",
    "* Пользователи слушают похожую музыку в начале недели и в конце.\n",
    "* Разница между Москвой и Петербургом не слишком выражена. В Москве чаще слушают русскую популярную музыку, в Петербурге — джаз.\n",
    "\n",
    "Однако пропуски в данных ставят под сомнение этот результат. В Москве их так много, что рейтинг топ-10 мог бы выглядеть иначе, если бы не утерянные  данные о жанрах."
   ]
  },
  {
   "cell_type": "markdown",
   "metadata": {
    "id": "JolODAqr_Zcu"
   },
   "source": [
    "### Жанровые предпочтения в Москве и Петербурге\n",
    "\n",
    "Гипотеза: Петербург — столица рэпа, музыку этого жанра там слушают чаще, чем в Москве.  А Москва — город контрастов, в котором, тем не менее, преобладает поп-музыка."
   ]
  },
  {
   "cell_type": "markdown",
   "metadata": {
    "id": "DlegSvaT_Zcu"
   },
   "source": [
    "Сгруппируем таблицу `moscow_general` по жанру и посчитаем прослушивания треков каждого жанра методом `count()`."
   ]
  },
  {
   "cell_type": "code",
   "execution_count": 35,
   "metadata": {
    "id": "r19lIPke_Zcu"
   },
   "outputs": [],
   "source": [
    "count_moscow_genres = moscow_general.groupby('genre')['genre'].count()\n",
    "moscow_genres = count_moscow_genres.sort_values(ascending = False)"
   ]
  },
  {
   "cell_type": "code",
   "execution_count": 36,
   "metadata": {
    "id": "WhCSooF8_Zcv"
   },
   "outputs": [
    {
     "data": {
      "text/plain": [
       "genre\n",
       "pop            5892\n",
       "dance          4435\n",
       "rock           3965\n",
       "electronic     3786\n",
       "hiphop         2096\n",
       "classical      1616\n",
       "world          1432\n",
       "alternative    1379\n",
       "ruspop         1372\n",
       "rusrap         1161\n",
       "Name: genre, dtype: int64"
      ]
     },
     "execution_count": 36,
     "metadata": {},
     "output_type": "execute_result"
    }
   ],
   "source": [
    "# просмотр первых 10 строк moscow_genres\n",
    "moscow_genres.head(10)"
   ]
  },
  {
   "cell_type": "code",
   "execution_count": 37,
   "metadata": {
    "id": "gluLIpE7_Zcv"
   },
   "outputs": [],
   "source": [
    "count_spb_genres = spb_general.groupby('genre')['genre'].count()\n",
    "spb_genres = count_spb_genres.sort_values(ascending = False)"
   ]
  },
  {
   "cell_type": "code",
   "execution_count": 38,
   "metadata": {
    "id": "uaGJHjVU_Zcv"
   },
   "outputs": [
    {
     "data": {
      "text/plain": [
       "genre\n",
       "pop            2431\n",
       "dance          1932\n",
       "rock           1879\n",
       "electronic     1736\n",
       "hiphop          960\n",
       "alternative     649\n",
       "classical       646\n",
       "rusrap          564\n",
       "ruspop          538\n",
       "world           515\n",
       "Name: genre, dtype: int64"
      ]
     },
     "execution_count": 38,
     "metadata": {},
     "output_type": "execute_result"
    }
   ],
   "source": [
    "# просмотр первых 10 строк spb_genres\n",
    "spb_genres.head(10)"
   ]
  },
  {
   "cell_type": "markdown",
   "metadata": {
    "id": "RY51YJYu_Zcv"
   },
   "source": [
    "**Выводы**"
   ]
  },
  {
   "cell_type": "markdown",
   "metadata": {
    "id": "nVhnJEm__Zcv"
   },
   "source": [
    "Гипотеза частично подтвердилась:\n",
    "* Поп-музыка — самый популярный жанр в Москве, как и предполагала гипотеза. Более того, в топ-10 жанров встречается близкий жанр — русская популярная музыка.\n",
    "* Вопреки ожиданиям, рэп одинаково популярен в Москве и Петербурге. \n"
   ]
  },
  {
   "cell_type": "markdown",
   "metadata": {
    "id": "ykKQ0N65_Zcv"
   },
   "source": [
    "## Итоги исследования"
   ]
  },
  {
   "cell_type": "markdown",
   "metadata": {
    "id": "tjUwbHb3_Zcv"
   },
   "source": [
    "Мы проверили три гипотезы и установили:\n",
    "\n",
    "1. День недели по-разному влияет на активность пользователей в Москве и Петербурге. \n",
    "\n",
    "Первая гипотеза полностью подтвердилась.\n",
    "\n",
    "2. Музыкальные предпочтения не сильно меняются в течение недели — будь то Москва или Петербург. Небольшие различия заметны в начале недели, по понедельникам:\n",
    "* в Москве слушают музыку жанра “world”,\n",
    "* в Петербурге — джаз и классику.\n",
    "\n",
    "Таким образом, вторая гипотеза подтвердилась лишь отчасти. Этот результат мог оказаться иным, если бы не пропуски в данных.\n",
    "\n",
    "3. Во вкусах пользователей Москвы и Петербурга больше общего чем различий. Вопреки ожиданиям, предпочтения жанров в Петербурге напоминают московские.\n",
    "\n",
    "Третья гипотеза не подтвердилась. Если различия в предпочтениях и существуют, на основной массе пользователей они незаметны."
   ]
  }
 ],
 "metadata": {
  "ExecuteTimeLog": [
   {
    "duration": 49,
    "start_time": "2022-03-20T06:29:30.610Z"
   },
   {
    "duration": 6,
    "start_time": "2022-03-20T06:29:42.945Z"
   },
   {
    "duration": 6,
    "start_time": "2022-03-20T06:29:52.054Z"
   },
   {
    "duration": 5,
    "start_time": "2022-03-20T06:30:43.786Z"
   },
   {
    "duration": 6,
    "start_time": "2022-03-20T06:30:59.603Z"
   },
   {
    "duration": 429,
    "start_time": "2022-03-20T06:31:06.285Z"
   },
   {
    "duration": 162,
    "start_time": "2022-03-20T06:31:10.800Z"
   },
   {
    "duration": 18,
    "start_time": "2022-03-20T06:31:14.256Z"
   },
   {
    "duration": 31,
    "start_time": "2022-03-20T06:33:29.772Z"
   },
   {
    "duration": 4,
    "start_time": "2022-03-20T07:33:05.437Z"
   },
   {
    "duration": 14,
    "start_time": "2022-03-20T07:36:20.482Z"
   },
   {
    "duration": 5,
    "start_time": "2022-03-20T07:36:45.755Z"
   },
   {
    "duration": 25,
    "start_time": "2022-03-20T08:09:42.796Z"
   },
   {
    "duration": 2,
    "start_time": "2022-03-20T08:17:25.417Z"
   },
   {
    "duration": 3,
    "start_time": "2022-03-20T08:18:01.526Z"
   },
   {
    "duration": 19,
    "start_time": "2022-03-20T08:20:28.038Z"
   },
   {
    "duration": 27,
    "start_time": "2022-03-20T08:20:45.661Z"
   },
   {
    "duration": 27,
    "start_time": "2022-03-20T08:21:24.196Z"
   },
   {
    "duration": 28,
    "start_time": "2022-03-20T08:21:39.800Z"
   },
   {
    "duration": 18,
    "start_time": "2022-03-20T08:21:52.045Z"
   },
   {
    "duration": 62,
    "start_time": "2022-03-20T08:23:18.592Z"
   },
   {
    "duration": 63,
    "start_time": "2022-03-20T08:24:11.263Z"
   },
   {
    "duration": 63,
    "start_time": "2022-03-20T08:24:20.818Z"
   },
   {
    "duration": 63,
    "start_time": "2022-03-20T08:26:36.857Z"
   },
   {
    "duration": 72,
    "start_time": "2022-03-20T08:26:47.295Z"
   },
   {
    "duration": 56,
    "start_time": "2022-03-20T08:26:50.269Z"
   },
   {
    "duration": 7,
    "start_time": "2022-03-20T08:29:05.578Z"
   },
   {
    "duration": 32,
    "start_time": "2022-03-20T08:40:23.772Z"
   },
   {
    "duration": 10,
    "start_time": "2022-03-20T08:40:46.981Z"
   },
   {
    "duration": 8,
    "start_time": "2022-03-20T08:40:51.596Z"
   },
   {
    "duration": 6,
    "start_time": "2022-03-20T08:41:38.838Z"
   },
   {
    "duration": 10,
    "start_time": "2022-03-20T08:42:09.786Z"
   },
   {
    "duration": 7,
    "start_time": "2022-03-20T08:42:31.420Z"
   },
   {
    "duration": 11,
    "start_time": "2022-03-20T08:43:32.537Z"
   },
   {
    "duration": 97,
    "start_time": "2022-03-20T08:44:27.973Z"
   },
   {
    "duration": 10,
    "start_time": "2022-03-20T08:44:43.351Z"
   },
   {
    "duration": 7,
    "start_time": "2022-03-20T08:46:32.225Z"
   },
   {
    "duration": 11,
    "start_time": "2022-03-20T08:48:10.186Z"
   },
   {
    "duration": 7,
    "start_time": "2022-03-20T08:48:25.829Z"
   },
   {
    "duration": 8,
    "start_time": "2022-03-20T08:48:35.284Z"
   },
   {
    "duration": 24,
    "start_time": "2022-03-20T08:55:04.986Z"
   },
   {
    "duration": 26,
    "start_time": "2022-03-20T08:55:14.727Z"
   },
   {
    "duration": 2,
    "start_time": "2022-03-20T08:56:03.152Z"
   },
   {
    "duration": 158,
    "start_time": "2022-03-20T08:56:03.156Z"
   },
   {
    "duration": 11,
    "start_time": "2022-03-20T08:56:03.316Z"
   },
   {
    "duration": 30,
    "start_time": "2022-03-20T08:56:03.328Z"
   },
   {
    "duration": 4,
    "start_time": "2022-03-20T08:56:03.359Z"
   },
   {
    "duration": 10,
    "start_time": "2022-03-20T08:56:03.364Z"
   },
   {
    "duration": 3,
    "start_time": "2022-03-20T08:56:03.376Z"
   },
   {
    "duration": 3,
    "start_time": "2022-03-20T08:56:08.099Z"
   },
   {
    "duration": 156,
    "start_time": "2022-03-20T08:56:08.103Z"
   },
   {
    "duration": 10,
    "start_time": "2022-03-20T08:56:08.261Z"
   },
   {
    "duration": 37,
    "start_time": "2022-03-20T08:56:08.273Z"
   },
   {
    "duration": 4,
    "start_time": "2022-03-20T08:56:08.312Z"
   },
   {
    "duration": 9,
    "start_time": "2022-03-20T08:56:08.318Z"
   },
   {
    "duration": 4,
    "start_time": "2022-03-20T08:56:08.329Z"
   },
   {
    "duration": 27,
    "start_time": "2022-03-20T08:56:13.837Z"
   },
   {
    "duration": 22,
    "start_time": "2022-03-20T08:56:13.866Z"
   },
   {
    "duration": 25,
    "start_time": "2022-03-20T08:56:13.889Z"
   },
   {
    "duration": 62,
    "start_time": "2022-03-20T08:56:13.916Z"
   },
   {
    "duration": 93,
    "start_time": "2022-03-20T08:56:13.980Z"
   },
   {
    "duration": 67,
    "start_time": "2022-03-20T08:56:14.075Z"
   },
   {
    "duration": 7,
    "start_time": "2022-03-20T08:56:14.144Z"
   },
   {
    "duration": 3,
    "start_time": "2022-03-20T08:56:14.153Z"
   },
   {
    "duration": 5,
    "start_time": "2022-03-20T08:56:14.157Z"
   },
   {
    "duration": 5,
    "start_time": "2022-03-20T08:56:14.165Z"
   },
   {
    "duration": 5,
    "start_time": "2022-03-20T08:56:14.172Z"
   },
   {
    "duration": 5,
    "start_time": "2022-03-20T08:56:14.178Z"
   },
   {
    "duration": 5,
    "start_time": "2022-03-20T08:56:14.184Z"
   },
   {
    "duration": 3,
    "start_time": "2022-03-20T08:56:14.209Z"
   },
   {
    "duration": 4,
    "start_time": "2022-03-20T08:56:14.214Z"
   },
   {
    "duration": 7,
    "start_time": "2022-03-20T08:56:14.220Z"
   },
   {
    "duration": 7,
    "start_time": "2022-03-20T08:56:14.229Z"
   },
   {
    "duration": 4,
    "start_time": "2022-03-20T08:56:14.238Z"
   },
   {
    "duration": 4,
    "start_time": "2022-03-20T08:56:14.244Z"
   },
   {
    "duration": 4,
    "start_time": "2022-03-20T08:56:14.250Z"
   },
   {
    "duration": 4,
    "start_time": "2022-03-20T08:56:14.255Z"
   },
   {
    "duration": 3,
    "start_time": "2022-03-20T08:56:14.261Z"
   },
   {
    "duration": 5,
    "start_time": "2022-03-20T08:56:14.266Z"
   },
   {
    "duration": 6,
    "start_time": "2022-03-20T08:56:14.272Z"
   },
   {
    "duration": 6,
    "start_time": "2022-03-20T08:56:14.310Z"
   },
   {
    "duration": 12,
    "start_time": "2022-03-20T08:56:14.318Z"
   },
   {
    "duration": 6,
    "start_time": "2022-03-20T08:56:14.331Z"
   },
   {
    "duration": 5,
    "start_time": "2022-03-20T08:56:14.340Z"
   },
   {
    "duration": 4,
    "start_time": "2022-03-20T08:56:14.347Z"
   },
   {
    "duration": 5,
    "start_time": "2022-03-20T08:56:14.352Z"
   },
   {
    "duration": 3,
    "start_time": "2022-03-20T08:56:14.359Z"
   },
   {
    "duration": 6,
    "start_time": "2022-03-20T08:59:22.624Z"
   },
   {
    "duration": 6,
    "start_time": "2022-03-20T08:59:33.073Z"
   },
   {
    "duration": 11,
    "start_time": "2022-03-20T09:01:17.038Z"
   },
   {
    "duration": 15,
    "start_time": "2022-03-20T09:01:32.264Z"
   },
   {
    "duration": 123,
    "start_time": "2022-03-20T09:05:38.150Z"
   },
   {
    "duration": 156,
    "start_time": "2022-03-20T09:09:17.483Z"
   },
   {
    "duration": 10,
    "start_time": "2022-03-20T09:10:50.731Z"
   },
   {
    "duration": 10,
    "start_time": "2022-03-20T09:11:31.154Z"
   },
   {
    "duration": 10,
    "start_time": "2022-03-20T09:11:52.459Z"
   },
   {
    "duration": 10,
    "start_time": "2022-03-20T09:12:17.629Z"
   },
   {
    "duration": 46,
    "start_time": "2022-03-20T09:12:51.000Z"
   },
   {
    "duration": 51,
    "start_time": "2022-03-20T09:15:49.528Z"
   },
   {
    "duration": 40,
    "start_time": "2022-03-20T09:16:09.964Z"
   },
   {
    "duration": 44,
    "start_time": "2022-03-20T09:16:45.484Z"
   },
   {
    "duration": 42,
    "start_time": "2022-03-20T09:18:18.043Z"
   },
   {
    "duration": 41,
    "start_time": "2022-03-20T09:18:21.717Z"
   },
   {
    "duration": 1659,
    "start_time": "2022-03-20T09:18:44.637Z"
   },
   {
    "duration": 40,
    "start_time": "2022-03-20T09:20:49.763Z"
   },
   {
    "duration": 52,
    "start_time": "2022-03-20T09:20:53.540Z"
   },
   {
    "duration": 40,
    "start_time": "2022-03-20T09:20:55.808Z"
   },
   {
    "duration": 40,
    "start_time": "2022-03-20T09:21:11.896Z"
   },
   {
    "duration": 2,
    "start_time": "2022-03-20T09:23:02.220Z"
   },
   {
    "duration": 156,
    "start_time": "2022-03-20T09:23:02.224Z"
   },
   {
    "duration": 10,
    "start_time": "2022-03-20T09:23:02.382Z"
   },
   {
    "duration": 39,
    "start_time": "2022-03-20T09:23:02.394Z"
   },
   {
    "duration": 3,
    "start_time": "2022-03-20T09:23:02.435Z"
   },
   {
    "duration": 16,
    "start_time": "2022-03-20T09:23:02.440Z"
   },
   {
    "duration": 4,
    "start_time": "2022-03-20T09:23:02.458Z"
   },
   {
    "duration": 46,
    "start_time": "2022-03-20T09:23:02.463Z"
   },
   {
    "duration": 19,
    "start_time": "2022-03-20T09:23:02.510Z"
   },
   {
    "duration": 25,
    "start_time": "2022-03-20T09:23:02.531Z"
   },
   {
    "duration": 83,
    "start_time": "2022-03-20T09:23:02.559Z"
   },
   {
    "duration": 79,
    "start_time": "2022-03-20T09:23:02.644Z"
   },
   {
    "duration": 56,
    "start_time": "2022-03-20T09:23:02.725Z"
   },
   {
    "duration": 55,
    "start_time": "2022-03-20T09:23:02.783Z"
   },
   {
    "duration": 3,
    "start_time": "2022-03-20T09:32:03.534Z"
   },
   {
    "duration": 30,
    "start_time": "2022-03-20T09:37:01.745Z"
   },
   {
    "duration": 28,
    "start_time": "2022-03-20T09:42:15.284Z"
   },
   {
    "duration": 32,
    "start_time": "2022-03-20T09:42:52.981Z"
   },
   {
    "duration": 835,
    "start_time": "2022-03-20T09:44:13.467Z"
   },
   {
    "duration": 844,
    "start_time": "2022-03-20T09:44:40.311Z"
   },
   {
    "duration": 33,
    "start_time": "2022-03-20T09:44:58.638Z"
   },
   {
    "duration": 45,
    "start_time": "2022-03-20T09:45:59.297Z"
   },
   {
    "duration": 35,
    "start_time": "2022-03-20T10:13:33.335Z"
   },
   {
    "duration": 13,
    "start_time": "2022-03-20T10:15:12.163Z"
   },
   {
    "duration": 13,
    "start_time": "2022-03-20T10:17:05.815Z"
   },
   {
    "duration": 12,
    "start_time": "2022-03-20T10:22:03.513Z"
   },
   {
    "duration": 14,
    "start_time": "2022-03-20T17:33:41.636Z"
   },
   {
    "duration": 6,
    "start_time": "2022-03-20T17:33:47.157Z"
   },
   {
    "duration": 508,
    "start_time": "2022-03-20T17:34:03.290Z"
   },
   {
    "duration": 229,
    "start_time": "2022-03-20T17:34:03.801Z"
   },
   {
    "duration": 25,
    "start_time": "2022-03-20T17:34:04.032Z"
   },
   {
    "duration": 45,
    "start_time": "2022-03-20T17:34:04.075Z"
   },
   {
    "duration": 7,
    "start_time": "2022-03-20T17:34:04.122Z"
   },
   {
    "duration": 49,
    "start_time": "2022-03-20T17:34:04.131Z"
   },
   {
    "duration": 6,
    "start_time": "2022-03-20T17:34:04.183Z"
   },
   {
    "duration": 50,
    "start_time": "2022-03-20T17:34:04.191Z"
   },
   {
    "duration": 53,
    "start_time": "2022-03-20T17:34:04.244Z"
   },
   {
    "duration": 37,
    "start_time": "2022-03-20T17:34:04.302Z"
   },
   {
    "duration": 113,
    "start_time": "2022-03-20T17:34:04.342Z"
   },
   {
    "duration": 163,
    "start_time": "2022-03-20T17:34:04.458Z"
   },
   {
    "duration": 107,
    "start_time": "2022-03-20T17:34:04.624Z"
   },
   {
    "duration": 68,
    "start_time": "2022-03-20T17:34:04.734Z"
   },
   {
    "duration": 5,
    "start_time": "2022-03-20T17:34:04.805Z"
   },
   {
    "duration": 66,
    "start_time": "2022-03-20T17:34:04.813Z"
   },
   {
    "duration": 97,
    "start_time": "2022-03-20T17:34:04.882Z"
   },
   {
    "duration": 18,
    "start_time": "2022-03-20T17:34:04.981Z"
   },
   {
    "duration": 18,
    "start_time": "2022-03-20T17:34:05.001Z"
   },
   {
    "duration": 3,
    "start_time": "2022-03-20T17:35:16.134Z"
   },
   {
    "duration": 238,
    "start_time": "2022-03-20T17:35:16.140Z"
   },
   {
    "duration": 19,
    "start_time": "2022-03-20T17:35:16.382Z"
   },
   {
    "duration": 41,
    "start_time": "2022-03-20T17:35:16.404Z"
   },
   {
    "duration": 7,
    "start_time": "2022-03-20T17:35:16.475Z"
   },
   {
    "duration": 18,
    "start_time": "2022-03-20T17:35:16.485Z"
   },
   {
    "duration": 7,
    "start_time": "2022-03-20T17:35:16.506Z"
   },
   {
    "duration": 83,
    "start_time": "2022-03-20T17:35:16.516Z"
   },
   {
    "duration": 25,
    "start_time": "2022-03-20T17:35:16.603Z"
   },
   {
    "duration": 53,
    "start_time": "2022-03-20T17:35:16.631Z"
   },
   {
    "duration": 152,
    "start_time": "2022-03-20T17:35:16.690Z"
   },
   {
    "duration": 169,
    "start_time": "2022-03-20T17:35:16.847Z"
   },
   {
    "duration": 133,
    "start_time": "2022-03-20T17:35:17.019Z"
   },
   {
    "duration": 70,
    "start_time": "2022-03-20T17:35:17.155Z"
   },
   {
    "duration": 4,
    "start_time": "2022-03-20T17:35:17.228Z"
   },
   {
    "duration": 75,
    "start_time": "2022-03-20T17:35:17.235Z"
   },
   {
    "duration": 79,
    "start_time": "2022-03-20T17:35:17.313Z"
   },
   {
    "duration": 20,
    "start_time": "2022-03-20T17:35:17.394Z"
   },
   {
    "duration": 19,
    "start_time": "2022-03-20T17:35:17.416Z"
   },
   {
    "duration": 24,
    "start_time": "2022-03-20T17:36:58.989Z"
   },
   {
    "duration": 21,
    "start_time": "2022-03-20T17:37:42.376Z"
   },
   {
    "duration": 26,
    "start_time": "2022-03-20T17:38:47.591Z"
   },
   {
    "duration": 27,
    "start_time": "2022-03-20T17:39:06.472Z"
   },
   {
    "duration": 24,
    "start_time": "2022-03-20T17:39:43.827Z"
   },
   {
    "duration": 22,
    "start_time": "2022-03-20T17:40:02.801Z"
   },
   {
    "duration": 153,
    "start_time": "2022-03-20T18:11:32.551Z"
   },
   {
    "duration": 8,
    "start_time": "2022-03-20T18:11:44.064Z"
   },
   {
    "duration": 16,
    "start_time": "2022-03-20T18:11:58.698Z"
   },
   {
    "duration": 20,
    "start_time": "2022-03-20T18:14:25.943Z"
   },
   {
    "duration": 41,
    "start_time": "2022-03-20T18:14:41.013Z"
   },
   {
    "duration": 1055,
    "start_time": "2022-03-20T18:15:19.770Z"
   },
   {
    "duration": 46,
    "start_time": "2022-03-20T18:15:35.761Z"
   },
   {
    "duration": 28,
    "start_time": "2022-03-20T18:16:30.149Z"
   },
   {
    "duration": 6,
    "start_time": "2022-03-20T18:33:10.184Z"
   },
   {
    "duration": 6,
    "start_time": "2022-03-20T18:33:15.254Z"
   },
   {
    "duration": 6,
    "start_time": "2022-03-20T18:33:35.493Z"
   },
   {
    "duration": 6,
    "start_time": "2022-03-20T18:33:42.895Z"
   },
   {
    "duration": 26,
    "start_time": "2022-03-20T18:39:40.340Z"
   },
   {
    "duration": 21,
    "start_time": "2022-03-20T18:39:59.372Z"
   },
   {
    "duration": 33,
    "start_time": "2022-03-20T18:40:37.838Z"
   },
   {
    "duration": 23,
    "start_time": "2022-03-20T18:41:04.134Z"
   },
   {
    "duration": 38,
    "start_time": "2022-03-20T18:44:40.494Z"
   },
   {
    "duration": 55,
    "start_time": "2022-03-20T18:48:30.562Z"
   },
   {
    "duration": 11,
    "start_time": "2022-03-20T18:49:22.602Z"
   },
   {
    "duration": 6,
    "start_time": "2022-03-20T18:49:48.354Z"
   },
   {
    "duration": 9,
    "start_time": "2022-03-20T18:50:36.370Z"
   },
   {
    "duration": 8,
    "start_time": "2022-03-20T18:50:52.648Z"
   },
   {
    "duration": 47,
    "start_time": "2022-03-30T20:15:23.132Z"
   },
   {
    "duration": 390,
    "start_time": "2022-03-30T20:16:15.556Z"
   },
   {
    "duration": 148,
    "start_time": "2022-03-30T20:16:15.948Z"
   },
   {
    "duration": 3,
    "start_time": "2022-03-30T20:16:20.090Z"
   },
   {
    "duration": 161,
    "start_time": "2022-03-30T20:16:20.096Z"
   },
   {
    "duration": 2,
    "start_time": "2022-03-30T20:16:26.235Z"
   },
   {
    "duration": 164,
    "start_time": "2022-03-30T20:16:26.241Z"
   },
   {
    "duration": 39,
    "start_time": "2022-03-30T20:16:26.407Z"
   },
   {
    "duration": 29,
    "start_time": "2022-03-30T20:16:26.448Z"
   },
   {
    "duration": 4,
    "start_time": "2022-03-30T20:16:26.479Z"
   },
   {
    "duration": 12,
    "start_time": "2022-03-30T20:16:26.485Z"
   },
   {
    "duration": 7,
    "start_time": "2022-03-30T20:16:26.499Z"
   },
   {
    "duration": 26,
    "start_time": "2022-03-30T20:16:26.533Z"
   },
   {
    "duration": 18,
    "start_time": "2022-03-30T20:16:26.560Z"
   },
   {
    "duration": 23,
    "start_time": "2022-03-30T20:16:26.580Z"
   },
   {
    "duration": 85,
    "start_time": "2022-03-30T20:16:26.606Z"
   },
   {
    "duration": 81,
    "start_time": "2022-03-30T20:16:26.692Z"
   },
   {
    "duration": 62,
    "start_time": "2022-03-30T20:16:26.774Z"
   },
   {
    "duration": 37,
    "start_time": "2022-03-30T20:16:26.838Z"
   },
   {
    "duration": 2,
    "start_time": "2022-03-30T20:16:26.877Z"
   },
   {
    "duration": 54,
    "start_time": "2022-03-30T20:16:26.881Z"
   },
   {
    "duration": 39,
    "start_time": "2022-03-30T20:16:26.937Z"
   },
   {
    "duration": 13,
    "start_time": "2022-03-30T20:16:26.978Z"
   },
   {
    "duration": 11,
    "start_time": "2022-03-30T20:16:26.993Z"
   },
   {
    "duration": 4,
    "start_time": "2022-03-30T20:16:27.033Z"
   },
   {
    "duration": 27,
    "start_time": "2022-03-30T20:16:27.039Z"
   },
   {
    "duration": 15,
    "start_time": "2022-03-30T20:16:27.068Z"
   },
   {
    "duration": 15,
    "start_time": "2022-03-30T20:16:27.085Z"
   },
   {
    "duration": 35,
    "start_time": "2022-03-30T20:16:27.102Z"
   },
   {
    "duration": 16,
    "start_time": "2022-03-30T20:16:27.139Z"
   },
   {
    "duration": 15,
    "start_time": "2022-03-30T20:16:27.156Z"
   },
   {
    "duration": 8,
    "start_time": "2022-03-30T20:16:27.172Z"
   },
   {
    "duration": 52,
    "start_time": "2022-03-30T20:16:27.182Z"
   },
   {
    "duration": 17,
    "start_time": "2022-03-30T20:16:27.237Z"
   },
   {
    "duration": 4,
    "start_time": "2022-03-30T20:16:27.255Z"
   },
   {
    "duration": 22,
    "start_time": "2022-03-30T20:16:27.261Z"
   },
   {
    "duration": 12,
    "start_time": "2022-03-30T20:16:27.285Z"
   },
   {
    "duration": 36,
    "start_time": "2022-03-30T20:16:27.298Z"
   },
   {
    "duration": 11,
    "start_time": "2022-03-30T20:16:27.335Z"
   },
   {
    "duration": 9,
    "start_time": "2022-03-30T20:16:27.348Z"
   },
   {
    "duration": 5,
    "start_time": "2022-03-30T20:16:27.358Z"
   },
   {
    "duration": 8,
    "start_time": "2022-03-30T20:16:27.364Z"
   },
   {
    "duration": 7,
    "start_time": "2022-03-30T20:16:27.374Z"
   },
   {
    "duration": 81,
    "start_time": "2022-03-30T20:29:07.991Z"
   },
   {
    "duration": 6,
    "start_time": "2022-03-30T20:29:27.099Z"
   },
   {
    "duration": 4,
    "start_time": "2022-03-30T20:29:55.272Z"
   },
   {
    "duration": 24,
    "start_time": "2022-03-30T20:31:20.308Z"
   },
   {
    "duration": 24,
    "start_time": "2022-03-30T20:32:39.675Z"
   },
   {
    "duration": 65,
    "start_time": "2022-03-30T20:33:12.830Z"
   },
   {
    "duration": 2,
    "start_time": "2022-03-30T20:33:22.579Z"
   },
   {
    "duration": 165,
    "start_time": "2022-03-30T20:33:22.585Z"
   },
   {
    "duration": 11,
    "start_time": "2022-03-30T20:33:22.752Z"
   },
   {
    "duration": 31,
    "start_time": "2022-03-30T20:33:22.764Z"
   },
   {
    "duration": 6,
    "start_time": "2022-03-30T20:33:22.797Z"
   },
   {
    "duration": 11,
    "start_time": "2022-03-30T20:33:22.805Z"
   },
   {
    "duration": 19,
    "start_time": "2022-03-30T20:33:22.818Z"
   },
   {
    "duration": 29,
    "start_time": "2022-03-30T20:33:22.840Z"
   },
   {
    "duration": 19,
    "start_time": "2022-03-30T20:33:22.871Z"
   },
   {
    "duration": 52,
    "start_time": "2022-03-30T20:33:22.892Z"
   },
   {
    "duration": 3,
    "start_time": "2022-03-30T20:33:28.301Z"
   },
   {
    "duration": 162,
    "start_time": "2022-03-30T20:33:28.307Z"
   },
   {
    "duration": 11,
    "start_time": "2022-03-30T20:33:28.471Z"
   },
   {
    "duration": 53,
    "start_time": "2022-03-30T20:33:28.484Z"
   },
   {
    "duration": 3,
    "start_time": "2022-03-30T20:33:28.540Z"
   },
   {
    "duration": 8,
    "start_time": "2022-03-30T20:33:28.545Z"
   },
   {
    "duration": 4,
    "start_time": "2022-03-30T20:33:28.554Z"
   },
   {
    "duration": 26,
    "start_time": "2022-03-30T20:33:28.560Z"
   },
   {
    "duration": 48,
    "start_time": "2022-03-30T20:33:28.588Z"
   },
   {
    "duration": 25,
    "start_time": "2022-03-30T20:33:28.637Z"
   },
   {
    "duration": 77,
    "start_time": "2022-03-30T20:33:28.667Z"
   },
   {
    "duration": 65,
    "start_time": "2022-03-30T20:33:28.746Z"
   },
   {
    "duration": 69,
    "start_time": "2022-03-30T20:33:28.813Z"
   },
   {
    "duration": 50,
    "start_time": "2022-03-30T20:33:28.884Z"
   },
   {
    "duration": 2,
    "start_time": "2022-03-30T20:33:28.936Z"
   },
   {
    "duration": 33,
    "start_time": "2022-03-30T20:33:28.940Z"
   },
   {
    "duration": 59,
    "start_time": "2022-03-30T20:33:28.975Z"
   },
   {
    "duration": 12,
    "start_time": "2022-03-30T20:33:29.035Z"
   },
   {
    "duration": 12,
    "start_time": "2022-03-30T20:33:29.049Z"
   },
   {
    "duration": 3,
    "start_time": "2022-03-30T20:33:29.063Z"
   },
   {
    "duration": 21,
    "start_time": "2022-03-30T20:33:29.068Z"
   },
   {
    "duration": 44,
    "start_time": "2022-03-30T20:33:29.090Z"
   },
   {
    "duration": 14,
    "start_time": "2022-03-30T20:33:29.135Z"
   },
   {
    "duration": 13,
    "start_time": "2022-03-30T20:33:29.151Z"
   },
   {
    "duration": 15,
    "start_time": "2022-03-30T20:33:29.166Z"
   },
   {
    "duration": 14,
    "start_time": "2022-03-30T20:33:29.183Z"
   },
   {
    "duration": 39,
    "start_time": "2022-03-30T20:33:29.199Z"
   },
   {
    "duration": 23,
    "start_time": "2022-03-30T20:33:29.240Z"
   },
   {
    "duration": 20,
    "start_time": "2022-03-30T20:33:29.266Z"
   },
   {
    "duration": 5,
    "start_time": "2022-03-30T20:33:29.288Z"
   },
   {
    "duration": 50,
    "start_time": "2022-03-30T20:33:29.294Z"
   },
   {
    "duration": 12,
    "start_time": "2022-03-30T20:33:29.346Z"
   },
   {
    "duration": 15,
    "start_time": "2022-03-30T20:33:29.360Z"
   },
   {
    "duration": 10,
    "start_time": "2022-03-30T20:33:29.377Z"
   },
   {
    "duration": 8,
    "start_time": "2022-03-30T20:33:29.389Z"
   },
   {
    "duration": 36,
    "start_time": "2022-03-30T20:33:29.398Z"
   },
   {
    "duration": 15,
    "start_time": "2022-03-30T20:33:29.435Z"
   },
   {
    "duration": 11,
    "start_time": "2022-03-30T20:33:29.451Z"
   },
   {
    "duration": 433,
    "start_time": "2022-03-30T20:33:53.308Z"
   },
   {
    "duration": 146,
    "start_time": "2022-03-30T20:33:53.743Z"
   },
   {
    "duration": 17,
    "start_time": "2022-03-30T20:33:53.890Z"
   },
   {
    "duration": 37,
    "start_time": "2022-03-30T20:33:53.909Z"
   },
   {
    "duration": 5,
    "start_time": "2022-03-30T20:33:53.947Z"
   },
   {
    "duration": 12,
    "start_time": "2022-03-30T20:33:53.954Z"
   },
   {
    "duration": 5,
    "start_time": "2022-03-30T20:33:53.968Z"
   },
   {
    "duration": 25,
    "start_time": "2022-03-30T20:33:53.975Z"
   },
   {
    "duration": 43,
    "start_time": "2022-03-30T20:33:54.002Z"
   },
   {
    "duration": 24,
    "start_time": "2022-03-30T20:33:54.047Z"
   },
   {
    "duration": 84,
    "start_time": "2022-03-30T20:33:54.073Z"
   },
   {
    "duration": 80,
    "start_time": "2022-03-30T20:33:54.159Z"
   },
   {
    "duration": 60,
    "start_time": "2022-03-30T20:33:54.240Z"
   },
   {
    "duration": 52,
    "start_time": "2022-03-30T20:33:54.302Z"
   },
   {
    "duration": 3,
    "start_time": "2022-03-30T20:33:54.356Z"
   },
   {
    "duration": 33,
    "start_time": "2022-03-30T20:33:54.360Z"
   },
   {
    "duration": 59,
    "start_time": "2022-03-30T20:33:54.395Z"
   },
   {
    "duration": 12,
    "start_time": "2022-03-30T20:33:54.456Z"
   },
   {
    "duration": 10,
    "start_time": "2022-03-30T20:33:54.469Z"
   },
   {
    "duration": 4,
    "start_time": "2022-03-30T20:33:54.481Z"
   },
   {
    "duration": 22,
    "start_time": "2022-03-30T20:33:54.487Z"
   },
   {
    "duration": 36,
    "start_time": "2022-03-30T20:33:54.510Z"
   },
   {
    "duration": 16,
    "start_time": "2022-03-30T20:33:54.548Z"
   },
   {
    "duration": 15,
    "start_time": "2022-03-30T20:33:54.565Z"
   },
   {
    "duration": 17,
    "start_time": "2022-03-30T20:33:54.581Z"
   },
   {
    "duration": 43,
    "start_time": "2022-03-30T20:33:54.600Z"
   },
   {
    "duration": 8,
    "start_time": "2022-03-30T20:33:54.645Z"
   },
   {
    "duration": 19,
    "start_time": "2022-03-30T20:33:54.656Z"
   },
   {
    "duration": 17,
    "start_time": "2022-03-30T20:33:54.677Z"
   },
   {
    "duration": 4,
    "start_time": "2022-03-30T20:33:54.695Z"
   },
   {
    "duration": 48,
    "start_time": "2022-03-30T20:33:54.701Z"
   },
   {
    "duration": 12,
    "start_time": "2022-03-30T20:33:54.751Z"
   },
   {
    "duration": 15,
    "start_time": "2022-03-30T20:33:54.765Z"
   },
   {
    "duration": 11,
    "start_time": "2022-03-30T20:33:54.782Z"
   },
   {
    "duration": 42,
    "start_time": "2022-03-30T20:33:54.794Z"
   },
   {
    "duration": 4,
    "start_time": "2022-03-30T20:33:54.838Z"
   },
   {
    "duration": 9,
    "start_time": "2022-03-30T20:33:54.844Z"
   },
   {
    "duration": 11,
    "start_time": "2022-03-30T20:33:54.855Z"
   },
   {
    "duration": 417,
    "start_time": "2022-03-30T20:43:20.099Z"
   },
   {
    "duration": 146,
    "start_time": "2022-03-30T20:43:20.518Z"
   },
   {
    "duration": 17,
    "start_time": "2022-03-30T20:43:20.665Z"
   },
   {
    "duration": 31,
    "start_time": "2022-03-30T20:43:20.684Z"
   },
   {
    "duration": 18,
    "start_time": "2022-03-30T20:43:20.717Z"
   },
   {
    "duration": 16,
    "start_time": "2022-03-30T20:43:20.737Z"
   },
   {
    "duration": 12,
    "start_time": "2022-03-30T20:43:20.754Z"
   },
   {
    "duration": 103,
    "start_time": "2022-03-30T20:43:20.768Z"
   },
   {
    "duration": 25,
    "start_time": "2022-03-30T20:43:20.872Z"
   },
   {
    "duration": 25,
    "start_time": "2022-03-30T20:43:20.899Z"
   },
   {
    "duration": 72,
    "start_time": "2022-03-30T20:43:20.926Z"
   },
   {
    "duration": 86,
    "start_time": "2022-03-30T20:43:21.000Z"
   },
   {
    "duration": 67,
    "start_time": "2022-03-30T20:43:21.088Z"
   },
   {
    "duration": 39,
    "start_time": "2022-03-30T20:43:21.157Z"
   },
   {
    "duration": 3,
    "start_time": "2022-03-30T20:43:21.197Z"
   },
   {
    "duration": 49,
    "start_time": "2022-03-30T20:43:21.201Z"
   },
   {
    "duration": 40,
    "start_time": "2022-03-30T20:43:21.251Z"
   },
   {
    "duration": 12,
    "start_time": "2022-03-30T20:43:21.292Z"
   },
   {
    "duration": 29,
    "start_time": "2022-03-30T20:43:21.305Z"
   },
   {
    "duration": 3,
    "start_time": "2022-03-30T20:43:21.336Z"
   },
   {
    "duration": 23,
    "start_time": "2022-03-30T20:43:21.341Z"
   },
   {
    "duration": 14,
    "start_time": "2022-03-30T20:43:21.366Z"
   },
   {
    "duration": 14,
    "start_time": "2022-03-30T20:43:21.382Z"
   },
   {
    "duration": 39,
    "start_time": "2022-03-30T20:43:21.398Z"
   },
   {
    "duration": 16,
    "start_time": "2022-03-30T20:43:21.439Z"
   },
   {
    "duration": 16,
    "start_time": "2022-03-30T20:43:21.456Z"
   },
   {
    "duration": 9,
    "start_time": "2022-03-30T20:43:21.473Z"
   },
   {
    "duration": 49,
    "start_time": "2022-03-30T20:43:21.485Z"
   },
   {
    "duration": 19,
    "start_time": "2022-03-30T20:43:21.535Z"
   },
   {
    "duration": 5,
    "start_time": "2022-03-30T20:43:21.555Z"
   },
   {
    "duration": 30,
    "start_time": "2022-03-30T20:43:21.561Z"
   },
   {
    "duration": 16,
    "start_time": "2022-03-30T20:43:21.593Z"
   },
   {
    "duration": 34,
    "start_time": "2022-03-30T20:43:21.610Z"
   },
   {
    "duration": 11,
    "start_time": "2022-03-30T20:43:21.645Z"
   },
   {
    "duration": 14,
    "start_time": "2022-03-30T20:43:21.657Z"
   },
   {
    "duration": 8,
    "start_time": "2022-03-30T20:43:21.673Z"
   },
   {
    "duration": 14,
    "start_time": "2022-03-30T20:43:21.682Z"
   },
   {
    "duration": 12,
    "start_time": "2022-03-30T20:43:21.698Z"
   }
  ],
  "colab": {
   "collapsed_sections": [
    "E0vqbgi9ay0H",
    "VUC88oWjTJw2"
   ],
   "name": "yandex_music_project_2021.2.ipynb",
   "provenance": []
  },
  "kernelspec": {
   "display_name": "Python 3 (ipykernel)",
   "language": "python",
   "name": "python3"
  },
  "language_info": {
   "codemirror_mode": {
    "name": "ipython",
    "version": 3
   },
   "file_extension": ".py",
   "mimetype": "text/x-python",
   "name": "python",
   "nbconvert_exporter": "python",
   "pygments_lexer": "ipython3",
   "version": "3.9.7"
  },
  "toc": {
   "base_numbering": 1,
   "nav_menu": {},
   "number_sections": true,
   "sideBar": true,
   "skip_h1_title": true,
   "title_cell": "Table of Contents",
   "title_sidebar": "Contents",
   "toc_cell": false,
   "toc_position": {
    "height": "calc(100% - 180px)",
    "left": "10px",
    "top": "150px",
    "width": "323.722px"
   },
   "toc_section_display": true,
   "toc_window_display": true
  }
 },
 "nbformat": 4,
 "nbformat_minor": 1
}
